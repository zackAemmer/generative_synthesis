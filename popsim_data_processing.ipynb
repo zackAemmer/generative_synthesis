{
 "cells": [
  {
   "cell_type": "code",
   "execution_count": 1,
   "metadata": {},
   "outputs": [],
   "source": [
    "import pandas as pd\n",
    "import numpy as np"
   ]
  },
  {
   "cell_type": "markdown",
   "metadata": {},
   "source": [
    "## Geographic Relationships"
   ]
  },
  {
   "cell_type": "code",
   "execution_count": 2,
   "metadata": {},
   "outputs": [],
   "source": [
    "# Take intersected data from QGIS, recreate geoid\n",
    "geo = pd.read_csv('./populationsim-master/example_wa/data/qgis_geo.csv')\n",
    "geo = geo.drop('Unnamed: 5', axis=1)\n",
    "geo['REGION'] = '1'\n",
    "geo['STATE'] = geo['STATE'].astype(str).str.zfill(2)\n",
    "geo['COUNTY'] = geo['COUNTY'].astype(str).str.zfill(3)\n",
    "geo['TRACT'] = geo['TRACT'].astype(str).str.zfill(6)\n",
    "geo['TRACT'] = geo['STATE'] + geo['COUNTY'] + geo['TRACT']\n",
    "geo.to_csv('./populationsim-master/example_wa/data/geo_cross_walk.csv',index=False)"
   ]
  },
  {
   "cell_type": "markdown",
   "metadata": {},
   "source": [
    "## Seed Samples from PUMS"
   ]
  },
  {
   "cell_type": "markdown",
   "metadata": {},
   "source": [
    "#### Persons"
   ]
  },
  {
   "cell_type": "code",
   "execution_count": 3,
   "metadata": {},
   "outputs": [],
   "source": [
    "p_df = pd.read_csv('./data/PUMS_2017_5YR_WA/psam_p53.csv')"
   ]
  },
  {
   "cell_type": "code",
   "execution_count": 4,
   "metadata": {},
   "outputs": [],
   "source": [
    "pums_data_p = p_df[['SERIALNO','SPORDER','PUMA','PWGTP','AGEP','SEX','COW','SCHL','PINCP']].copy() #JWMNP, MAR\n",
    "pums_data_p.dropna(inplace=True)\n",
    "pums_data_p = pums_data_p[['SERIALNO','SPORDER','PUMA','PWGTP','AGEP','PINCP','SEX','COW','SCHL']]\n",
    "\n",
    "pums_data_p.to_csv('./populationsim-master/example_wa/data/seed_persons.csv', index=False)"
   ]
  },
  {
   "cell_type": "markdown",
   "metadata": {},
   "source": [
    "#### Households"
   ]
  },
  {
   "cell_type": "code",
   "execution_count": 5,
   "metadata": {},
   "outputs": [],
   "source": [
    "h_df = pd.read_csv('./data/PUMS_2017_5YR_WA/psam_h53.csv')"
   ]
  },
  {
   "cell_type": "code",
   "execution_count": 6,
   "metadata": {},
   "outputs": [],
   "source": [
    "pums_data_h = h_df[['SERIALNO','PUMA','WGTP','HINCP','NP','VEH','TYPE']].copy()\n",
    "pums_data_h.dropna(inplace=True)\n",
    "pums_data_h = pums_data_h[['SERIALNO','PUMA','WGTP','HINCP','VEH','NP','TYPE']]\n",
    "\n",
    "# Some PUMS households have no people in them; need to be filtered out of dataset\n",
    "hh_persons = pd.merge(pums_data_h, pums_data_p, how='left', on='SERIALNO')\n",
    "index = hh_persons['SPORDER'].index[hh_persons['SPORDER'].apply(np.isnan)]\n",
    "empty_households = hh_persons.iloc[index,:]['SERIALNO'].values\n",
    "pums_data_h = pums_data_h[~(pums_data_h['SERIALNO'].isin(empty_households))]\n",
    "\n",
    "pums_data_h.to_csv('./populationsim-master/example_wa/data/seed_households.csv', index=False)"
   ]
  },
  {
   "cell_type": "markdown",
   "metadata": {},
   "source": [
    "## Control Totals from ACS"
   ]
  },
  {
   "cell_type": "markdown",
   "metadata": {},
   "source": [
    "#### Tract"
   ]
  },
  {
   "cell_type": "code",
   "execution_count": 7,
   "metadata": {},
   "outputs": [],
   "source": [
    "t3_df = pd.read_csv('./data/ACS_2019_WA/dp03.csv', low_memory=False)\n",
    "t3_data = t3_df[['GEO_ID',\n",
    "                'DP03_0051E',\n",
    "                'DP03_0052E',\n",
    "                'DP03_0053E',\n",
    "                'DP03_0054E',\n",
    "                'DP03_0055E',\n",
    "                'DP03_0056E',\n",
    "                'DP03_0057E',\n",
    "                'DP03_0058E',\n",
    "                'DP03_0059E',\n",
    "                'DP03_0060E',\n",
    "                'DP03_0061E',\n",
    "                'DP03_0047E',\n",
    "                'DP03_0048E',\n",
    "                'DP03_0049E',\n",
    "                'DP03_0050E']].copy()\n",
    "t3_data.columns = ['GEO_ID',\n",
    "                  'NUM_HH',\n",
    "                  'HHINC1',\n",
    "                  'HHINC2',\n",
    "                  'HHINC3',\n",
    "                  'HHINC4',\n",
    "                  'HHINC5',\n",
    "                  'HHINC6',\n",
    "                  'HHINC7',\n",
    "                  'HHINC8',\n",
    "                  'HHINC9',\n",
    "                  'HHINC10',\n",
    "                  'COW1',\n",
    "                  'COW2',\n",
    "                  'COW3',\n",
    "                  'COW4']\n",
    "\n",
    "t5_df = pd.read_csv('./data/ACS_2019_WA/dp05.csv', low_memory=False)\n",
    "t5_data = t5_df[['GEO_ID',\n",
    "                'DP05_0008E',\n",
    "                'DP05_0009E',\n",
    "                'DP05_0010E',\n",
    "                'DP05_0011E',\n",
    "                'DP05_0012E',\n",
    "                'DP05_0013E',\n",
    "                'DP05_0014E',\n",
    "                'DP05_0015E',\n",
    "                'DP05_0016E',\n",
    "                'DP05_0017E']].copy()\n",
    "t5_data.columns = ['GEO_ID',\n",
    "                  'AGE4',  # Start at 20yrs old; there must be people in the seed to meet the controls\n",
    "                  'AGE5',\n",
    "                  'AGE6',\n",
    "                  'AGE7',\n",
    "                  'AGE8',\n",
    "                  'AGE9',\n",
    "                  'AGE10',\n",
    "                  'AGE11',\n",
    "                  'AGE12',\n",
    "                  'AGE13']"
   ]
  },
  {
   "cell_type": "code",
   "execution_count": 8,
   "metadata": {},
   "outputs": [],
   "source": [
    "# Join data from different census tables\n",
    "tract_data = pd.merge(t3_data, t5_data, on='GEO_ID')\n",
    "tract_data.dropna(inplace=True)\n",
    "# Get tract id from the extended geo id, assign region 1\n",
    "tract_data['TRACT'] = tract_data['GEO_ID'].str.slice(-11,)\n",
    "# tract_data['TRACT'] = [string.lstrip('0') for string in tract_data['TRACT']]\n",
    "tract_data['REGION'] = '1'\n",
    "tract_data = tract_data.iloc[1:,:]\n",
    "tract_data.to_csv('./populationsim-master/example_wa/data/control_totals_tract.csv', index=False)"
   ]
  },
  {
   "cell_type": "markdown",
   "metadata": {},
   "source": [
    "#### Region"
   ]
  },
  {
   "cell_type": "code",
   "execution_count": 9,
   "metadata": {},
   "outputs": [],
   "source": [
    "# Sum the values across all census tracts to get region marginals\n",
    "region_data = tract_data.iloc[:,1:-2].apply(pd.to_numeric, errors='ignore')\n",
    "region_data = pd.DataFrame(region_data.sum()).transpose()\n",
    "region_data['REGION'] = '1'\n",
    "region_data.dropna(inplace=True)\n",
    "region_data.to_csv('./populationsim-master/example_wa/data/control_totals_meta.csv', index=False)"
   ]
  }
 ],
 "metadata": {
  "kernelspec": {
   "display_name": "Python 3",
   "language": "python",
   "name": "python3"
  },
  "language_info": {
   "codemirror_mode": {
    "name": "ipython",
    "version": 3
   },
   "file_extension": ".py",
   "mimetype": "text/x-python",
   "name": "python",
   "nbconvert_exporter": "python",
   "pygments_lexer": "ipython3",
   "version": "3.8.3"
  }
 },
 "nbformat": 4,
 "nbformat_minor": 4
}
