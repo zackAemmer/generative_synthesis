{
 "cells": [
  {
   "cell_type": "markdown",
   "metadata": {},
   "source": [
    "## Import Libraries and Datasets"
   ]
  },
  {
   "cell_type": "code",
   "execution_count": 1,
   "metadata": {},
   "outputs": [],
   "source": [
    "import matplotlib.pyplot as plt\n",
    "import numpy as np\n",
    "import pandas as pd\n",
    "import sklearn.preprocessing as skpre\n",
    "import tensorflow as tf\n",
    "from tensorflow import keras\n",
    "from tensorflow.keras import layers"
   ]
  },
  {
   "cell_type": "code",
   "execution_count": 2,
   "metadata": {},
   "outputs": [],
   "source": [
    "# Load in the persons PUMS dataset for WA state\n",
    "p_df = pd.read_csv(\"data/PUMS_2017_5YR_WA/psam_p53.csv\")"
   ]
  },
  {
   "cell_type": "markdown",
   "metadata": {},
   "source": [
    "## Choose PUMS and Preprocess"
   ]
  },
  {
   "cell_type": "code",
   "execution_count": 3,
   "metadata": {},
   "outputs": [
    {
     "name": "stdout",
     "output_type": "stream",
     "text": [
      "Dataset n=359075 pre-cleaning\n",
      "Dataset n=152416 post-cleaning\n"
     ]
    }
   ],
   "source": [
    "# Filter to desired variables (numeric then categorical)\n",
    "pums_data = p_df[['AGEP','JWMNP','SCHL','PINCP','COW','SEX','MAR']]\n",
    "\n",
    "# Remove NA values and check n before/after\n",
    "print(f\"Dataset n={len(pums_data)} pre-cleaning\")\n",
    "pums_data = pums_data.dropna()\n",
    "print(f\"Dataset n={len(pums_data)} post-cleaning\")"
   ]
  },
  {
   "cell_type": "code",
   "execution_count": 4,
   "metadata": {},
   "outputs": [],
   "source": [
    "CAT_IDX = 4\n",
    "VAR_DIM = pums_data.shape[1]\n",
    "VAR_NAMES = pums_data.columns\n",
    "\n",
    "# Split categorical data into OHE vars, save num classes per variable\n",
    "dummies_list = []\n",
    "for x in range(CAT_IDX, VAR_DIM):\n",
    "    dummies = pums_data.iloc[:,x]\n",
    "    dummies = pd.get_dummies(dummies, prefix=f\"{pums_data.columns[x]}_\")\n",
    "    dummies_list.append(dummies)\n",
    "CAT_LENGTHS = [x.shape[1] for x in dummies_list]"
   ]
  },
  {
   "cell_type": "code",
   "execution_count": 5,
   "metadata": {},
   "outputs": [
    {
     "data": {
      "text/html": [
       "<div>\n",
       "<style scoped>\n",
       "    .dataframe tbody tr th:only-of-type {\n",
       "        vertical-align: middle;\n",
       "    }\n",
       "\n",
       "    .dataframe tbody tr th {\n",
       "        vertical-align: top;\n",
       "    }\n",
       "\n",
       "    .dataframe thead th {\n",
       "        text-align: right;\n",
       "    }\n",
       "</style>\n",
       "<table border=\"1\" class=\"dataframe\">\n",
       "  <thead>\n",
       "    <tr style=\"text-align: right;\">\n",
       "      <th></th>\n",
       "      <th>AGEP</th>\n",
       "      <th>JWMNP</th>\n",
       "      <th>SCHL</th>\n",
       "      <th>PINCP</th>\n",
       "      <th>COW__1.0</th>\n",
       "      <th>COW__2.0</th>\n",
       "      <th>COW__3.0</th>\n",
       "      <th>COW__4.0</th>\n",
       "      <th>COW__5.0</th>\n",
       "      <th>COW__6.0</th>\n",
       "      <th>COW__7.0</th>\n",
       "      <th>COW__8.0</th>\n",
       "      <th>SEX__1</th>\n",
       "      <th>SEX__2</th>\n",
       "      <th>MAR__1</th>\n",
       "      <th>MAR__2</th>\n",
       "      <th>MAR__3</th>\n",
       "      <th>MAR__4</th>\n",
       "      <th>MAR__5</th>\n",
       "    </tr>\n",
       "  </thead>\n",
       "  <tbody>\n",
       "    <tr>\n",
       "      <th>4</th>\n",
       "      <td>52</td>\n",
       "      <td>70.0</td>\n",
       "      <td>21.0</td>\n",
       "      <td>160000.0</td>\n",
       "      <td>1</td>\n",
       "      <td>0</td>\n",
       "      <td>0</td>\n",
       "      <td>0</td>\n",
       "      <td>0</td>\n",
       "      <td>0</td>\n",
       "      <td>0</td>\n",
       "      <td>0</td>\n",
       "      <td>1</td>\n",
       "      <td>0</td>\n",
       "      <td>1</td>\n",
       "      <td>0</td>\n",
       "      <td>0</td>\n",
       "      <td>0</td>\n",
       "      <td>0</td>\n",
       "    </tr>\n",
       "    <tr>\n",
       "      <th>5</th>\n",
       "      <td>51</td>\n",
       "      <td>20.0</td>\n",
       "      <td>21.0</td>\n",
       "      <td>50000.0</td>\n",
       "      <td>0</td>\n",
       "      <td>0</td>\n",
       "      <td>1</td>\n",
       "      <td>0</td>\n",
       "      <td>0</td>\n",
       "      <td>0</td>\n",
       "      <td>0</td>\n",
       "      <td>0</td>\n",
       "      <td>0</td>\n",
       "      <td>1</td>\n",
       "      <td>1</td>\n",
       "      <td>0</td>\n",
       "      <td>0</td>\n",
       "      <td>0</td>\n",
       "      <td>0</td>\n",
       "    </tr>\n",
       "    <tr>\n",
       "      <th>7</th>\n",
       "      <td>59</td>\n",
       "      <td>30.0</td>\n",
       "      <td>19.0</td>\n",
       "      <td>26710.0</td>\n",
       "      <td>0</td>\n",
       "      <td>0</td>\n",
       "      <td>1</td>\n",
       "      <td>0</td>\n",
       "      <td>0</td>\n",
       "      <td>0</td>\n",
       "      <td>0</td>\n",
       "      <td>0</td>\n",
       "      <td>1</td>\n",
       "      <td>0</td>\n",
       "      <td>1</td>\n",
       "      <td>0</td>\n",
       "      <td>0</td>\n",
       "      <td>0</td>\n",
       "      <td>0</td>\n",
       "    </tr>\n",
       "    <tr>\n",
       "      <th>8</th>\n",
       "      <td>56</td>\n",
       "      <td>15.0</td>\n",
       "      <td>16.0</td>\n",
       "      <td>23600.0</td>\n",
       "      <td>1</td>\n",
       "      <td>0</td>\n",
       "      <td>0</td>\n",
       "      <td>0</td>\n",
       "      <td>0</td>\n",
       "      <td>0</td>\n",
       "      <td>0</td>\n",
       "      <td>0</td>\n",
       "      <td>0</td>\n",
       "      <td>1</td>\n",
       "      <td>1</td>\n",
       "      <td>0</td>\n",
       "      <td>0</td>\n",
       "      <td>0</td>\n",
       "      <td>0</td>\n",
       "    </tr>\n",
       "    <tr>\n",
       "      <th>9</th>\n",
       "      <td>40</td>\n",
       "      <td>5.0</td>\n",
       "      <td>5.0</td>\n",
       "      <td>10000.0</td>\n",
       "      <td>1</td>\n",
       "      <td>0</td>\n",
       "      <td>0</td>\n",
       "      <td>0</td>\n",
       "      <td>0</td>\n",
       "      <td>0</td>\n",
       "      <td>0</td>\n",
       "      <td>0</td>\n",
       "      <td>1</td>\n",
       "      <td>0</td>\n",
       "      <td>0</td>\n",
       "      <td>0</td>\n",
       "      <td>0</td>\n",
       "      <td>0</td>\n",
       "      <td>1</td>\n",
       "    </tr>\n",
       "    <tr>\n",
       "      <th>...</th>\n",
       "      <td>...</td>\n",
       "      <td>...</td>\n",
       "      <td>...</td>\n",
       "      <td>...</td>\n",
       "      <td>...</td>\n",
       "      <td>...</td>\n",
       "      <td>...</td>\n",
       "      <td>...</td>\n",
       "      <td>...</td>\n",
       "      <td>...</td>\n",
       "      <td>...</td>\n",
       "      <td>...</td>\n",
       "      <td>...</td>\n",
       "      <td>...</td>\n",
       "      <td>...</td>\n",
       "      <td>...</td>\n",
       "      <td>...</td>\n",
       "      <td>...</td>\n",
       "      <td>...</td>\n",
       "    </tr>\n",
       "    <tr>\n",
       "      <th>359058</th>\n",
       "      <td>21</td>\n",
       "      <td>4.0</td>\n",
       "      <td>19.0</td>\n",
       "      <td>2700.0</td>\n",
       "      <td>1</td>\n",
       "      <td>0</td>\n",
       "      <td>0</td>\n",
       "      <td>0</td>\n",
       "      <td>0</td>\n",
       "      <td>0</td>\n",
       "      <td>0</td>\n",
       "      <td>0</td>\n",
       "      <td>1</td>\n",
       "      <td>0</td>\n",
       "      <td>0</td>\n",
       "      <td>0</td>\n",
       "      <td>0</td>\n",
       "      <td>0</td>\n",
       "      <td>1</td>\n",
       "    </tr>\n",
       "    <tr>\n",
       "      <th>359065</th>\n",
       "      <td>21</td>\n",
       "      <td>90.0</td>\n",
       "      <td>14.0</td>\n",
       "      <td>8200.0</td>\n",
       "      <td>1</td>\n",
       "      <td>0</td>\n",
       "      <td>0</td>\n",
       "      <td>0</td>\n",
       "      <td>0</td>\n",
       "      <td>0</td>\n",
       "      <td>0</td>\n",
       "      <td>0</td>\n",
       "      <td>0</td>\n",
       "      <td>1</td>\n",
       "      <td>0</td>\n",
       "      <td>0</td>\n",
       "      <td>0</td>\n",
       "      <td>0</td>\n",
       "      <td>1</td>\n",
       "    </tr>\n",
       "    <tr>\n",
       "      <th>359070</th>\n",
       "      <td>22</td>\n",
       "      <td>35.0</td>\n",
       "      <td>16.0</td>\n",
       "      <td>37200.0</td>\n",
       "      <td>0</td>\n",
       "      <td>0</td>\n",
       "      <td>0</td>\n",
       "      <td>0</td>\n",
       "      <td>1</td>\n",
       "      <td>0</td>\n",
       "      <td>0</td>\n",
       "      <td>0</td>\n",
       "      <td>1</td>\n",
       "      <td>0</td>\n",
       "      <td>0</td>\n",
       "      <td>0</td>\n",
       "      <td>0</td>\n",
       "      <td>0</td>\n",
       "      <td>1</td>\n",
       "    </tr>\n",
       "    <tr>\n",
       "      <th>359071</th>\n",
       "      <td>19</td>\n",
       "      <td>7.0</td>\n",
       "      <td>18.0</td>\n",
       "      <td>5300.0</td>\n",
       "      <td>1</td>\n",
       "      <td>0</td>\n",
       "      <td>0</td>\n",
       "      <td>0</td>\n",
       "      <td>0</td>\n",
       "      <td>0</td>\n",
       "      <td>0</td>\n",
       "      <td>0</td>\n",
       "      <td>0</td>\n",
       "      <td>1</td>\n",
       "      <td>0</td>\n",
       "      <td>0</td>\n",
       "      <td>0</td>\n",
       "      <td>0</td>\n",
       "      <td>1</td>\n",
       "    </tr>\n",
       "    <tr>\n",
       "      <th>359074</th>\n",
       "      <td>40</td>\n",
       "      <td>20.0</td>\n",
       "      <td>16.0</td>\n",
       "      <td>20000.0</td>\n",
       "      <td>1</td>\n",
       "      <td>0</td>\n",
       "      <td>0</td>\n",
       "      <td>0</td>\n",
       "      <td>0</td>\n",
       "      <td>0</td>\n",
       "      <td>0</td>\n",
       "      <td>0</td>\n",
       "      <td>1</td>\n",
       "      <td>0</td>\n",
       "      <td>1</td>\n",
       "      <td>0</td>\n",
       "      <td>0</td>\n",
       "      <td>0</td>\n",
       "      <td>0</td>\n",
       "    </tr>\n",
       "  </tbody>\n",
       "</table>\n",
       "<p>152416 rows × 19 columns</p>\n",
       "</div>"
      ],
      "text/plain": [
       "        AGEP  JWMNP  SCHL     PINCP  COW__1.0  COW__2.0  COW__3.0  COW__4.0  \\\n",
       "4         52   70.0  21.0  160000.0         1         0         0         0   \n",
       "5         51   20.0  21.0   50000.0         0         0         1         0   \n",
       "7         59   30.0  19.0   26710.0         0         0         1         0   \n",
       "8         56   15.0  16.0   23600.0         1         0         0         0   \n",
       "9         40    5.0   5.0   10000.0         1         0         0         0   \n",
       "...      ...    ...   ...       ...       ...       ...       ...       ...   \n",
       "359058    21    4.0  19.0    2700.0         1         0         0         0   \n",
       "359065    21   90.0  14.0    8200.0         1         0         0         0   \n",
       "359070    22   35.0  16.0   37200.0         0         0         0         0   \n",
       "359071    19    7.0  18.0    5300.0         1         0         0         0   \n",
       "359074    40   20.0  16.0   20000.0         1         0         0         0   \n",
       "\n",
       "        COW__5.0  COW__6.0  COW__7.0  COW__8.0  SEX__1  SEX__2  MAR__1  \\\n",
       "4              0         0         0         0       1       0       1   \n",
       "5              0         0         0         0       0       1       1   \n",
       "7              0         0         0         0       1       0       1   \n",
       "8              0         0         0         0       0       1       1   \n",
       "9              0         0         0         0       1       0       0   \n",
       "...          ...       ...       ...       ...     ...     ...     ...   \n",
       "359058         0         0         0         0       1       0       0   \n",
       "359065         0         0         0         0       0       1       0   \n",
       "359070         1         0         0         0       1       0       0   \n",
       "359071         0         0         0         0       0       1       0   \n",
       "359074         0         0         0         0       1       0       1   \n",
       "\n",
       "        MAR__2  MAR__3  MAR__4  MAR__5  \n",
       "4            0       0       0       0  \n",
       "5            0       0       0       0  \n",
       "7            0       0       0       0  \n",
       "8            0       0       0       0  \n",
       "9            0       0       0       1  \n",
       "...        ...     ...     ...     ...  \n",
       "359058       0       0       0       1  \n",
       "359065       0       0       0       1  \n",
       "359070       0       0       0       1  \n",
       "359071       0       0       0       1  \n",
       "359074       0       0       0       0  \n",
       "\n",
       "[152416 rows x 19 columns]"
      ]
     },
     "execution_count": 5,
     "metadata": {},
     "output_type": "execute_result"
    }
   ],
   "source": [
    "# Final data frame after encoding OHE\n",
    "model_data_df = pums_data.iloc[:,:CAT_IDX]\n",
    "for ohe_var in dummies_list:\n",
    "    model_data_df = pd.concat([model_data_df, ohe_var], axis=1)\n",
    "MANIFEST_DIM = model_data_df.shape[1]\n",
    "\n",
    "# Preview data that will be fed into model\n",
    "model_data_df"
   ]
  },
  {
   "cell_type": "code",
   "execution_count": 6,
   "metadata": {},
   "outputs": [],
   "source": [
    "# Standardize the input data from -1 to 1 for numerical variables\n",
    "scaler = skpre.StandardScaler()\n",
    "model_data = model_data_df.values\n",
    "model_data[:,:CAT_IDX] = scaler.fit_transform(model_data[:,:CAT_IDX])\n",
    "\n",
    "# Remove rows with numerical outliers (3 < standard deviations)\n",
    "outlier_row_indices = np.where(np.any(model_data[:,:CAT_IDX] > 3, axis=1))\n",
    "model_data = np.delete(model_data, (outlier_row_indices), axis=0)\n",
    "\n",
    "# Separate into train/test data\n",
    "train_idx = round(len(model_data)*.9)\n",
    "train_data = model_data[0:train_idx,:]\n",
    "test_data = model_data[train_idx:len(model_data),:]"
   ]
  },
  {
   "cell_type": "markdown",
   "metadata": {},
   "source": [
    "## Set Parameters and Define Model"
   ]
  },
  {
   "cell_type": "markdown",
   "metadata": {},
   "source": [
    "### TODO:\n",
    "\n",
    "###### Build up fundamental model:\n",
    "-Test speeds vs traditional methods  \n",
    "-Energy distance test for distributions  \n",
    "\n",
    "###### Differentiate from the GenSynth paper:\n",
    "-Travel diaries/households  \n",
    "-Method/heuristic/rules for checking large number of attributes  \n",
    "-New models; Disentangled VAE/GAN  \n",
    "-Model population changes over time RNN?  \n",
    "-Behavioral variables  \n",
    "\n",
    "###### They suggest:\n",
    "-Incorporate RNN to generate trip chains (time, location, mode, purpose)  \n",
    "-Use GAN/other method to generate less inconsistencies  \n",
    "-Address next stage of re-sampling to get future populations  "
   ]
  },
  {
   "cell_type": "code",
   "execution_count": 7,
   "metadata": {},
   "outputs": [],
   "source": [
    "# Hyperparameters\n",
    "BATCH_SIZE = 64\n",
    "EPOCHS = 100\n",
    "LEARN_RATE = 0.001\n",
    "RHO = 0.9\n",
    "LATENT_DIM = 5\n",
    "HIDDEN_DIM = 100\n",
    "KL_WEIGHT = 0.5"
   ]
  },
  {
   "cell_type": "code",
   "execution_count": 8,
   "metadata": {},
   "outputs": [],
   "source": [
    "# A layer that takes mean/variance as inputs and returns a random sample z\n",
    "class Sampling(layers.Layer):\n",
    "    def call(self, inputs):\n",
    "        z_mean, z_log_var = inputs\n",
    "        batch = tf.shape(z_mean)[0]\n",
    "        dim = tf.shape(z_mean)[1]\n",
    "        epsilon = tf.keras.backend.random_normal(shape=(batch, dim))\n",
    "        return z_mean + tf.exp(z_log_var) * epsilon"
   ]
  },
  {
   "cell_type": "code",
   "execution_count": 9,
   "metadata": {},
   "outputs": [
    {
     "name": "stdout",
     "output_type": "stream",
     "text": [
      "Model: \"encoder\"\n",
      "__________________________________________________________________________________________________\n",
      "Layer (type)                    Output Shape         Param #     Connected to                     \n",
      "==================================================================================================\n",
      "input_1 (InputLayer)            [(None, 19)]         0                                            \n",
      "__________________________________________________________________________________________________\n",
      "dense (Dense)                   (None, 100)          2000        input_1[0][0]                    \n",
      "__________________________________________________________________________________________________\n",
      "dense_1 (Dense)                 (None, 100)          10100       dense[0][0]                      \n",
      "__________________________________________________________________________________________________\n",
      "z_mean (Dense)                  (None, 5)            505         dense_1[0][0]                    \n",
      "__________________________________________________________________________________________________\n",
      "z_log_var (Dense)               (None, 5)            505         dense_1[0][0]                    \n",
      "__________________________________________________________________________________________________\n",
      "sampling (Sampling)             (None, 5)            0           z_mean[0][0]                     \n",
      "                                                                 z_log_var[0][0]                  \n",
      "==================================================================================================\n",
      "Total params: 13,110\n",
      "Trainable params: 13,110\n",
      "Non-trainable params: 0\n",
      "__________________________________________________________________________________________________\n"
     ]
    }
   ],
   "source": [
    "# Encoder\n",
    "encoder_inputs = keras.Input(shape=(MANIFEST_DIM,))\n",
    "encoder_x = layers.Dense(HIDDEN_DIM, activation=\"tanh\")(encoder_inputs)\n",
    "encoder_x = layers.Dense(HIDDEN_DIM, activation=\"tanh\")(encoder_x)\n",
    "z_mean = layers.Dense(LATENT_DIM, name=\"z_mean\")(encoder_x)\n",
    "z_log_var = layers.Dense(LATENT_DIM, name=\"z_log_var\")(encoder_x)\n",
    "z = Sampling()([z_mean, z_log_var])\n",
    "encoder = keras.Model(encoder_inputs, [z_mean, z_log_var, z], name=\"encoder\")\n",
    "encoder.summary()"
   ]
  },
  {
   "cell_type": "code",
   "execution_count": 10,
   "metadata": {},
   "outputs": [
    {
     "name": "stdout",
     "output_type": "stream",
     "text": [
      "Model: \"decoder\"\n",
      "__________________________________________________________________________________________________\n",
      "Layer (type)                    Output Shape         Param #     Connected to                     \n",
      "==================================================================================================\n",
      "input_2 (InputLayer)            [(None, 5)]          0                                            \n",
      "__________________________________________________________________________________________________\n",
      "dense_2 (Dense)                 (None, 100)          600         input_2[0][0]                    \n",
      "__________________________________________________________________________________________________\n",
      "dense_3 (Dense)                 (None, 100)          10100       dense_2[0][0]                    \n",
      "__________________________________________________________________________________________________\n",
      "dense_4 (Dense)                 (None, 4)            404         dense_3[0][0]                    \n",
      "__________________________________________________________________________________________________\n",
      "dense_5 (Dense)                 (None, 8)            808         dense_3[0][0]                    \n",
      "__________________________________________________________________________________________________\n",
      "dense_6 (Dense)                 (None, 2)            202         dense_3[0][0]                    \n",
      "__________________________________________________________________________________________________\n",
      "dense_7 (Dense)                 (None, 5)            505         dense_3[0][0]                    \n",
      "==================================================================================================\n",
      "Total params: 12,619\n",
      "Trainable params: 12,619\n",
      "Non-trainable params: 0\n",
      "__________________________________________________________________________________________________\n"
     ]
    }
   ],
   "source": [
    "# Decoder\n",
    "decoder_inputs = keras.Input(shape=(LATENT_DIM,))\n",
    "decoder_x = layers.Dense(HIDDEN_DIM, activation=\"tanh\")(decoder_inputs)\n",
    "decoder_x = layers.Dense(HIDDEN_DIM, activation=\"tanh\")(decoder_x)\n",
    "decoder_num_outputs = layers.Dense(CAT_IDX, activation=\"linear\")(decoder_x)\n",
    "decoder_cat_outputs = []\n",
    "for var_length in CAT_LENGTHS:\n",
    "    layer = layers.Dense(var_length, activation=\"softmax\")(decoder_x)\n",
    "    decoder_cat_outputs.append(layer)\n",
    "decoder = keras.Model(decoder_inputs, [decoder_num_outputs, decoder_cat_outputs], name=\"decoder\")\n",
    "decoder.summary()"
   ]
  },
  {
   "cell_type": "code",
   "execution_count": 11,
   "metadata": {},
   "outputs": [],
   "source": [
    "# Define custom loss function for combined numerical and categorical data\n",
    "def get_reconstruction_loss(data, reconstruction, CAT_IDX, CAT_LENGTHS):\n",
    "\n",
    "    # Mean squared error for numerical variables\n",
    "    data_num = data[:,:CAT_IDX]\n",
    "    reconstruction_num = reconstruction[0]\n",
    "    loss_num = keras.losses.mean_squared_error(data_num, reconstruction_num)\n",
    "    loss_num = tf.reduce_mean(loss_num)\n",
    "    \n",
    "    # Categorical cross entropy for categorical variables\n",
    "    loss_list = []\n",
    "    current = CAT_IDX\n",
    "    for i, x in enumerate(CAT_LENGTHS):\n",
    "        data_cat = data[:,current:(current + x)]\n",
    "        reconstruction_cat = reconstruction[1][i]\n",
    "        loss = keras.losses.categorical_crossentropy(data_cat, reconstruction_cat, from_logits=False)\n",
    "        loss = tf.reduce_mean(loss)\n",
    "        loss_list.append(loss)\n",
    "        current += x\n",
    "    loss_cat = tf.reduce_sum(loss_list)\n",
    "\n",
    "    # Return both losses; they are combined in the model\n",
    "    return (loss_num, loss_cat)\n",
    "\n",
    "def get_kl_loss(z_mean, z_log_var):\n",
    "    kl_loss = 1 + z_log_var - tf.square(z_mean) - tf.exp(z_log_var)\n",
    "    kl_loss = tf.reduce_mean(kl_loss)\n",
    "    kl_loss = -kl_loss\n",
    "    return kl_loss"
   ]
  },
  {
   "cell_type": "code",
   "execution_count": 12,
   "metadata": {},
   "outputs": [],
   "source": [
    "# Loss metric recorder\n",
    "loss_tracker = keras.metrics.Mean(name=\"loss\")\n",
    "\n",
    "# Variational Autoencoder\n",
    "class VAE(keras.Model):\n",
    "    def __init__(self, encoder, decoder, CAT_IDX, CAT_LENGTHS, **kwargs):\n",
    "        super(VAE, self).__init__(**kwargs)\n",
    "        self.encoder = encoder\n",
    "        self.decoder = decoder\n",
    "        self.CAT_IDX = CAT_IDX\n",
    "        self.CAT_LENGTHS = CAT_LENGTHS\n",
    "\n",
    "    def train_step(self, data):\n",
    "        if isinstance(data, tuple):\n",
    "            data = data[0]\n",
    "        with tf.GradientTape() as tape:\n",
    "            # Get latent vars from the encoder; feed to decoder and get sampled manifest variables\n",
    "            z_mean, z_log_var, z = encoder(data)\n",
    "            reconstruction = decoder(z)\n",
    "\n",
    "            # Get loss between input values and reconstruction\n",
    "            reconstruction_loss_num, reconstruction_loss_cat = get_reconstruction_loss(\n",
    "                data,\n",
    "                reconstruction,\n",
    "                self.CAT_IDX,\n",
    "                self.CAT_LENGTHS\n",
    "            )\n",
    "            reconstruction_loss = tf.add(reconstruction_loss_num, reconstruction_loss_cat)\n",
    "\n",
    "            # Get Kullback Leidler loss between normal distribution and actual for latent variables\n",
    "            kl_loss = get_kl_loss(z_mean, z_log_var)\n",
    "            kl_loss = kl_loss * KL_WEIGHT\n",
    "\n",
    "            # Combine into single loss term\n",
    "            total_loss = reconstruction_loss + kl_loss\n",
    "\n",
    "        # Get new gradients given the loss and take another step (update weights)\n",
    "        grads = tape.gradient(total_loss, self.trainable_weights)\n",
    "        self.optimizer.apply_gradients(zip(grads, self.trainable_weights))\n",
    "\n",
    "        # Record the loss metrics\n",
    "        loss_tracker.update_state(total_loss)\n",
    "\n",
    "        return {\n",
    "            \"total_loss\": loss_tracker.result(),\n",
    "            \"reconstruction_loss\": reconstruction_loss,\n",
    "            \"reconstruction_loss_num\": reconstruction_loss_num,\n",
    "            \"reconstruction_loss_cat\": reconstruction_loss_cat,\n",
    "            \"kl_loss\": kl_loss,\n",
    "        }\n",
    "\n",
    "    def call(self, inputs):\n",
    "        z_mean, z_log_var, z = self.encoder(inputs)\n",
    "        reconstruction = self.decoder(z)\n",
    "        return reconstruction\n",
    "\n",
    "    @property\n",
    "    def metrics(self):\n",
    "        return [loss_tracker]"
   ]
  },
  {
   "cell_type": "markdown",
   "metadata": {},
   "source": [
    "## Training"
   ]
  },
  {
   "cell_type": "code",
   "execution_count": 13,
   "metadata": {
    "scrolled": true
   },
   "outputs": [
    {
     "name": "stdout",
     "output_type": "stream",
     "text": [
      "Epoch 1/100\n",
      "2068/2068 [==============================] - 4s 2ms/step - total_loss: 1.5355 - reconstruction_loss: 0.5995 - reconstruction_loss_num: 0.3631 - reconstruction_loss_cat: 0.2364 - kl_loss: 0.6249\n",
      "Epoch 2/100\n",
      "2068/2068 [==============================] - 4s 2ms/step - total_loss: 1.0147 - reconstruction_loss: 0.3408 - reconstruction_loss_num: 0.2607 - reconstruction_loss_cat: 0.0800 - kl_loss: 0.6570\n",
      "Epoch 3/100\n",
      "2068/2068 [==============================] - 4s 2ms/step - total_loss: 0.9594 - reconstruction_loss: 0.2863 - reconstruction_loss_num: 0.2228 - reconstruction_loss_cat: 0.0635 - kl_loss: 0.6642\n",
      "Epoch 4/100\n",
      "2068/2068 [==============================] - 4s 2ms/step - total_loss: 0.9353 - reconstruction_loss: 0.2629 - reconstruction_loss_num: 0.2055 - reconstruction_loss_cat: 0.0573 - kl_loss: 0.6667\n",
      "Epoch 5/100\n",
      "2068/2068 [==============================] - 4s 2ms/step - total_loss: 0.9172 - reconstruction_loss: 0.2512 - reconstruction_loss_num: 0.1980 - reconstruction_loss_cat: 0.0532 - kl_loss: 0.6629\n",
      "Epoch 6/100\n",
      "2068/2068 [==============================] - 7s 3ms/step - total_loss: 0.9065 - reconstruction_loss: 0.2422 - reconstruction_loss_num: 0.1917 - reconstruction_loss_cat: 0.0505 - kl_loss: 0.6614\n",
      "Epoch 7/100\n",
      "2068/2068 [==============================] - 5s 3ms/step - total_loss: 0.8948 - reconstruction_loss: 0.2346 - reconstruction_loss_num: 0.1871 - reconstruction_loss_cat: 0.0475 - kl_loss: 0.6595\n",
      "Epoch 8/100\n",
      "2068/2068 [==============================] - 5s 2ms/step - total_loss: 0.8878 - reconstruction_loss: 0.2294 - reconstruction_loss_num: 0.1841 - reconstruction_loss_cat: 0.0453 - kl_loss: 0.6573\n",
      "Epoch 9/100\n",
      "2068/2068 [==============================] - 4s 2ms/step - total_loss: 0.8874 - reconstruction_loss: 0.2268 - reconstruction_loss_num: 0.1822 - reconstruction_loss_cat: 0.0446 - kl_loss: 0.6574\n",
      "Epoch 10/100\n",
      "2068/2068 [==============================] - 5s 2ms/step - total_loss: 0.8831 - reconstruction_loss: 0.2255 - reconstruction_loss_num: 0.1810 - reconstruction_loss_cat: 0.0445 - kl_loss: 0.6569\n",
      "Epoch 11/100\n",
      "2068/2068 [==============================] - 5s 2ms/step - total_loss: 0.8830 - reconstruction_loss: 0.2235 - reconstruction_loss_num: 0.1794 - reconstruction_loss_cat: 0.0441 - kl_loss: 0.6568\n",
      "Epoch 12/100\n",
      "2068/2068 [==============================] - 6s 3ms/step - total_loss: 0.8783 - reconstruction_loss: 0.2215 - reconstruction_loss_num: 0.1776 - reconstruction_loss_cat: 0.0440 - kl_loss: 0.6556\n",
      "Epoch 13/100\n",
      "2068/2068 [==============================] - 4s 2ms/step - total_loss: 0.8786 - reconstruction_loss: 0.2203 - reconstruction_loss_num: 0.1775 - reconstruction_loss_cat: 0.0428 - kl_loss: 0.6550\n",
      "Epoch 14/100\n",
      "2068/2068 [==============================] - 5s 2ms/step - total_loss: 0.8716 - reconstruction_loss: 0.2200 - reconstruction_loss_num: 0.1775 - reconstruction_loss_cat: 0.0425 - kl_loss: 0.6513\n",
      "Epoch 15/100\n",
      "2068/2068 [==============================] - 5s 2ms/step - total_loss: 0.8736 - reconstruction_loss: 0.2178 - reconstruction_loss_num: 0.1767 - reconstruction_loss_cat: 0.0410 - kl_loss: 0.6538\n",
      "Epoch 16/100\n",
      "2068/2068 [==============================] - 5s 2ms/step - total_loss: 0.8715 - reconstruction_loss: 0.2173 - reconstruction_loss_num: 0.1765 - reconstruction_loss_cat: 0.0408 - kl_loss: 0.6521\n",
      "Epoch 17/100\n",
      "2068/2068 [==============================] - 6s 3ms/step - total_loss: 0.8681 - reconstruction_loss: 0.2160 - reconstruction_loss_num: 0.1755 - reconstruction_loss_cat: 0.0405 - kl_loss: 0.6523\n",
      "Epoch 18/100\n",
      "2068/2068 [==============================] - 5s 3ms/step - total_loss: 0.8656 - reconstruction_loss: 0.2147 - reconstruction_loss_num: 0.1750 - reconstruction_loss_cat: 0.0397 - kl_loss: 0.6511\n",
      "Epoch 19/100\n",
      "2068/2068 [==============================] - 5s 3ms/step - total_loss: 0.8650 - reconstruction_loss: 0.2129 - reconstruction_loss_num: 0.1741 - reconstruction_loss_cat: 0.0388 - kl_loss: 0.6511\n",
      "Epoch 20/100\n",
      "2068/2068 [==============================] - 5s 2ms/step - total_loss: 0.8622 - reconstruction_loss: 0.2135 - reconstruction_loss_num: 0.1745 - reconstruction_loss_cat: 0.0391 - kl_loss: 0.6495\n",
      "Epoch 21/100\n",
      "2068/2068 [==============================] - 4s 2ms/step - total_loss: 0.8631 - reconstruction_loss: 0.2129 - reconstruction_loss_num: 0.1732 - reconstruction_loss_cat: 0.0397 - kl_loss: 0.6498\n",
      "Epoch 22/100\n",
      "2068/2068 [==============================] - 5s 2ms/step - total_loss: 0.8608 - reconstruction_loss: 0.2110 - reconstruction_loss_num: 0.1730 - reconstruction_loss_cat: 0.0380 - kl_loss: 0.6500\n",
      "Epoch 23/100\n",
      "2068/2068 [==============================] - 5s 2ms/step - total_loss: 0.8607 - reconstruction_loss: 0.2130 - reconstruction_loss_num: 0.1737 - reconstruction_loss_cat: 0.0393 - kl_loss: 0.6494\n",
      "Epoch 24/100\n",
      "2068/2068 [==============================] - 4s 2ms/step - total_loss: 0.8568 - reconstruction_loss: 0.2108 - reconstruction_loss_num: 0.1735 - reconstruction_loss_cat: 0.0373 - kl_loss: 0.6472\n",
      "Epoch 25/100\n",
      "2068/2068 [==============================] - 5s 2ms/step - total_loss: 0.8594 - reconstruction_loss: 0.2125 - reconstruction_loss_num: 0.1750 - reconstruction_loss_cat: 0.0375 - kl_loss: 0.6453\n",
      "Epoch 26/100\n",
      "2068/2068 [==============================] - 5s 2ms/step - total_loss: 0.8580 - reconstruction_loss: 0.2118 - reconstruction_loss_num: 0.1731 - reconstruction_loss_cat: 0.0387 - kl_loss: 0.6457\n",
      "Epoch 27/100\n",
      "2068/2068 [==============================] - 6s 3ms/step - total_loss: 0.8532 - reconstruction_loss: 0.2100 - reconstruction_loss_num: 0.1728 - reconstruction_loss_cat: 0.0372 - kl_loss: 0.6438\n",
      "Epoch 28/100\n",
      "2068/2068 [==============================] - 5s 2ms/step - total_loss: 0.8531 - reconstruction_loss: 0.2098 - reconstruction_loss_num: 0.1720 - reconstruction_loss_cat: 0.0378 - kl_loss: 0.6451\n",
      "Epoch 29/100\n",
      "2068/2068 [==============================] - 5s 2ms/step - total_loss: 0.8555 - reconstruction_loss: 0.2119 - reconstruction_loss_num: 0.1745 - reconstruction_loss_cat: 0.0374 - kl_loss: 0.6432\n",
      "Epoch 30/100\n",
      "2068/2068 [==============================] - 5s 3ms/step - total_loss: 0.8539 - reconstruction_loss: 0.2098 - reconstruction_loss_num: 0.1729 - reconstruction_loss_cat: 0.0370 - kl_loss: 0.6437\n",
      "Epoch 31/100\n",
      "2068/2068 [==============================] - 5s 2ms/step - total_loss: 0.8520 - reconstruction_loss: 0.2094 - reconstruction_loss_num: 0.1726 - reconstruction_loss_cat: 0.0369 - kl_loss: 0.6427\n",
      "Epoch 32/100\n",
      "2068/2068 [==============================] - 4s 2ms/step - total_loss: 0.8525 - reconstruction_loss: 0.2106 - reconstruction_loss_num: 0.1729 - reconstruction_loss_cat: 0.0378 - kl_loss: 0.6409\n",
      "Epoch 33/100\n",
      "2068/2068 [==============================] - 5s 2ms/step - total_loss: 0.8500 - reconstruction_loss: 0.2092 - reconstruction_loss_num: 0.1726 - reconstruction_loss_cat: 0.0366 - kl_loss: 0.6421\n",
      "Epoch 34/100\n",
      "2068/2068 [==============================] - 5s 2ms/step - total_loss: 0.8517 - reconstruction_loss: 0.2091 - reconstruction_loss_num: 0.1729 - reconstruction_loss_cat: 0.0362 - kl_loss: 0.6419\n",
      "Epoch 35/100\n",
      "2068/2068 [==============================] - 4s 2ms/step - total_loss: 0.8521 - reconstruction_loss: 0.2096 - reconstruction_loss_num: 0.1728 - reconstruction_loss_cat: 0.0368 - kl_loss: 0.6424\n",
      "Epoch 36/100\n",
      "2068/2068 [==============================] - 4s 2ms/step - total_loss: 0.8505 - reconstruction_loss: 0.2096 - reconstruction_loss_num: 0.1726 - reconstruction_loss_cat: 0.0370 - kl_loss: 0.6413\n",
      "Epoch 37/100\n",
      "2068/2068 [==============================] - 5s 2ms/step - total_loss: 0.8511 - reconstruction_loss: 0.2101 - reconstruction_loss_num: 0.1732 - reconstruction_loss_cat: 0.0369 - kl_loss: 0.6402\n",
      "Epoch 38/100\n",
      "2068/2068 [==============================] - 5s 2ms/step - total_loss: 0.8513 - reconstruction_loss: 0.2097 - reconstruction_loss_num: 0.1726 - reconstruction_loss_cat: 0.0370 - kl_loss: 0.6404\n",
      "Epoch 39/100\n",
      "2068/2068 [==============================] - 4s 2ms/step - total_loss: 0.8517 - reconstruction_loss: 0.2095 - reconstruction_loss_num: 0.1728 - reconstruction_loss_cat: 0.0367 - kl_loss: 0.6402\n",
      "Epoch 40/100\n"
     ]
    },
    {
     "name": "stdout",
     "output_type": "stream",
     "text": [
      "2068/2068 [==============================] - 4s 2ms/step - total_loss: 0.8477 - reconstruction_loss: 0.2079 - reconstruction_loss_num: 0.1726 - reconstruction_loss_cat: 0.0353 - kl_loss: 0.6390\n",
      "Epoch 41/100\n",
      "2068/2068 [==============================] - 4s 2ms/step - total_loss: 0.8471 - reconstruction_loss: 0.2089 - reconstruction_loss_num: 0.1731 - reconstruction_loss_cat: 0.0358 - kl_loss: 0.6396\n",
      "Epoch 42/100\n",
      "2068/2068 [==============================] - 5s 2ms/step - total_loss: 0.8482 - reconstruction_loss: 0.2081 - reconstruction_loss_num: 0.1721 - reconstruction_loss_cat: 0.0360 - kl_loss: 0.6388\n",
      "Epoch 43/100\n",
      "2068/2068 [==============================] - 4s 2ms/step - total_loss: 0.8471 - reconstruction_loss: 0.2097 - reconstruction_loss_num: 0.1720 - reconstruction_loss_cat: 0.0376 - kl_loss: 0.6381\n",
      "Epoch 44/100\n",
      "2068/2068 [==============================] - 4s 2ms/step - total_loss: 0.8471 - reconstruction_loss: 0.2070 - reconstruction_loss_num: 0.1713 - reconstruction_loss_cat: 0.0356 - kl_loss: 0.6399\n",
      "Epoch 45/100\n",
      "2068/2068 [==============================] - 5s 2ms/step - total_loss: 0.8437 - reconstruction_loss: 0.2076 - reconstruction_loss_num: 0.1716 - reconstruction_loss_cat: 0.0359 - kl_loss: 0.6386\n",
      "Epoch 46/100\n",
      "2068/2068 [==============================] - 4s 2ms/step - total_loss: 0.8483 - reconstruction_loss: 0.2080 - reconstruction_loss_num: 0.1719 - reconstruction_loss_cat: 0.0360 - kl_loss: 0.6393\n",
      "Epoch 47/100\n",
      "2068/2068 [==============================] - 5s 2ms/step - total_loss: 0.8473 - reconstruction_loss: 0.2081 - reconstruction_loss_num: 0.1720 - reconstruction_loss_cat: 0.0362 - kl_loss: 0.6393\n",
      "Epoch 48/100\n",
      "2068/2068 [==============================] - 4s 2ms/step - total_loss: 0.8468 - reconstruction_loss: 0.2079 - reconstruction_loss_num: 0.1731 - reconstruction_loss_cat: 0.0348 - kl_loss: 0.6378\n",
      "Epoch 49/100\n",
      "2068/2068 [==============================] - 4s 2ms/step - total_loss: 0.8465 - reconstruction_loss: 0.2086 - reconstruction_loss_num: 0.1726 - reconstruction_loss_cat: 0.0360 - kl_loss: 0.6392\n",
      "Epoch 50/100\n",
      "2068/2068 [==============================] - 6s 3ms/step - total_loss: 0.8448 - reconstruction_loss: 0.2082 - reconstruction_loss_num: 0.1726 - reconstruction_loss_cat: 0.0356 - kl_loss: 0.6375\n",
      "Epoch 51/100\n",
      "2068/2068 [==============================] - 5s 2ms/step - total_loss: 0.8439 - reconstruction_loss: 0.2086 - reconstruction_loss_num: 0.1720 - reconstruction_loss_cat: 0.0365 - kl_loss: 0.6377\n",
      "Epoch 52/100\n",
      "2068/2068 [==============================] - 5s 2ms/step - total_loss: 0.8460 - reconstruction_loss: 0.2078 - reconstruction_loss_num: 0.1718 - reconstruction_loss_cat: 0.0361 - kl_loss: 0.6393\n",
      "Epoch 53/100\n",
      "2068/2068 [==============================] - 5s 2ms/step - total_loss: 0.8448 - reconstruction_loss: 0.2092 - reconstruction_loss_num: 0.1733 - reconstruction_loss_cat: 0.0359 - kl_loss: 0.6378\n",
      "Epoch 54/100\n",
      "2068/2068 [==============================] - 5s 2ms/step - total_loss: 0.8467 - reconstruction_loss: 0.2089 - reconstruction_loss_num: 0.1724 - reconstruction_loss_cat: 0.0365 - kl_loss: 0.6388\n",
      "Epoch 55/100\n",
      "2068/2068 [==============================] - 5s 2ms/step - total_loss: 0.8430 - reconstruction_loss: 0.2095 - reconstruction_loss_num: 0.1730 - reconstruction_loss_cat: 0.0365 - kl_loss: 0.6354\n",
      "Epoch 56/100\n",
      "2068/2068 [==============================] - 5s 2ms/step - total_loss: 0.8433 - reconstruction_loss: 0.2074 - reconstruction_loss_num: 0.1726 - reconstruction_loss_cat: 0.0349 - kl_loss: 0.6353\n",
      "Epoch 57/100\n",
      "2068/2068 [==============================] - 5s 2ms/step - total_loss: 0.8435 - reconstruction_loss: 0.2070 - reconstruction_loss_num: 0.1716 - reconstruction_loss_cat: 0.0354 - kl_loss: 0.6366\n",
      "Epoch 58/100\n",
      "2068/2068 [==============================] - 5s 2ms/step - total_loss: 0.8458 - reconstruction_loss: 0.2066 - reconstruction_loss_num: 0.1712 - reconstruction_loss_cat: 0.0354 - kl_loss: 0.6376\n",
      "Epoch 59/100\n",
      "2068/2068 [==============================] - 5s 2ms/step - total_loss: 0.8420 - reconstruction_loss: 0.2052 - reconstruction_loss_num: 0.1711 - reconstruction_loss_cat: 0.0341 - kl_loss: 0.6372\n",
      "Epoch 60/100\n",
      "2068/2068 [==============================] - 5s 2ms/step - total_loss: 0.8427 - reconstruction_loss: 0.2066 - reconstruction_loss_num: 0.1719 - reconstruction_loss_cat: 0.0347 - kl_loss: 0.6368\n",
      "Epoch 61/100\n",
      "2068/2068 [==============================] - 5s 3ms/step - total_loss: 0.8419 - reconstruction_loss: 0.2064 - reconstruction_loss_num: 0.1719 - reconstruction_loss_cat: 0.0345 - kl_loss: 0.6359\n",
      "Epoch 62/100\n",
      "2068/2068 [==============================] - 5s 2ms/step - total_loss: 0.8446 - reconstruction_loss: 0.2062 - reconstruction_loss_num: 0.1714 - reconstruction_loss_cat: 0.0347 - kl_loss: 0.6369\n",
      "Epoch 63/100\n",
      "2068/2068 [==============================] - 5s 2ms/step - total_loss: 0.8442 - reconstruction_loss: 0.2085 - reconstruction_loss_num: 0.1723 - reconstruction_loss_cat: 0.0362 - kl_loss: 0.6360\n",
      "Epoch 64/100\n",
      "2068/2068 [==============================] - 5s 2ms/step - total_loss: 0.8420 - reconstruction_loss: 0.2087 - reconstruction_loss_num: 0.1725 - reconstruction_loss_cat: 0.0362 - kl_loss: 0.6353\n",
      "Epoch 65/100\n",
      "2068/2068 [==============================] - 6s 3ms/step - total_loss: 0.8471 - reconstruction_loss: 0.2096 - reconstruction_loss_num: 0.1732 - reconstruction_loss_cat: 0.0364 - kl_loss: 0.6389\n",
      "Epoch 66/100\n",
      "2068/2068 [==============================] - 6s 3ms/step - total_loss: 0.8468 - reconstruction_loss: 0.2110 - reconstruction_loss_num: 0.1756 - reconstruction_loss_cat: 0.0354 - kl_loss: 0.6366\n",
      "Epoch 67/100\n",
      "2068/2068 [==============================] - 5s 2ms/step - total_loss: 0.8488 - reconstruction_loss: 0.2120 - reconstruction_loss_num: 0.1755 - reconstruction_loss_cat: 0.0365 - kl_loss: 0.6381\n",
      "Epoch 68/100\n",
      "2068/2068 [==============================] - 5s 2ms/step - total_loss: 0.8508 - reconstruction_loss: 0.2127 - reconstruction_loss_num: 0.1752 - reconstruction_loss_cat: 0.0375 - kl_loss: 0.6381\n",
      "Epoch 69/100\n",
      "2068/2068 [==============================] - 5s 2ms/step - total_loss: 0.8481 - reconstruction_loss: 0.2125 - reconstruction_loss_num: 0.1763 - reconstruction_loss_cat: 0.0362 - kl_loss: 0.6363\n",
      "Epoch 70/100\n",
      "2068/2068 [==============================] - 5s 2ms/step - total_loss: 0.8440 - reconstruction_loss: 0.2116 - reconstruction_loss_num: 0.1763 - reconstruction_loss_cat: 0.0353 - kl_loss: 0.6339\n",
      "Epoch 71/100\n",
      "2068/2068 [==============================] - 5s 2ms/step - total_loss: 0.8453 - reconstruction_loss: 0.2128 - reconstruction_loss_num: 0.1762 - reconstruction_loss_cat: 0.0366 - kl_loss: 0.6318\n",
      "Epoch 72/100\n",
      "2068/2068 [==============================] - 5s 2ms/step - total_loss: 0.8416 - reconstruction_loss: 0.2118 - reconstruction_loss_num: 0.1748 - reconstruction_loss_cat: 0.0370 - kl_loss: 0.6299\n",
      "Epoch 73/100\n",
      "2068/2068 [==============================] - 5s 2ms/step - total_loss: 0.8400 - reconstruction_loss: 0.2108 - reconstruction_loss_num: 0.1741 - reconstruction_loss_cat: 0.0367 - kl_loss: 0.6293\n",
      "Epoch 74/100\n",
      "2068/2068 [==============================] - 5s 2ms/step - total_loss: 0.8414 - reconstruction_loss: 0.2137 - reconstruction_loss_num: 0.1760 - reconstruction_loss_cat: 0.0377 - kl_loss: 0.6279\n",
      "Epoch 75/100\n",
      "2068/2068 [==============================] - 5s 2ms/step - total_loss: 0.8401 - reconstruction_loss: 0.2107 - reconstruction_loss_num: 0.1733 - reconstruction_loss_cat: 0.0374 - kl_loss: 0.6306\n",
      "Epoch 76/100\n",
      "2068/2068 [==============================] - 5s 2ms/step - total_loss: 0.8402 - reconstruction_loss: 0.2113 - reconstruction_loss_num: 0.1750 - reconstruction_loss_cat: 0.0362 - kl_loss: 0.6281\n",
      "Epoch 77/100\n",
      "2068/2068 [==============================] - 5s 2ms/step - total_loss: 0.8398 - reconstruction_loss: 0.2101 - reconstruction_loss_num: 0.1737 - reconstruction_loss_cat: 0.0364 - kl_loss: 0.6303\n",
      "Epoch 78/100\n",
      "2068/2068 [==============================] - 5s 2ms/step - total_loss: 0.8410 - reconstruction_loss: 0.2125 - reconstruction_loss_num: 0.1760 - reconstruction_loss_cat: 0.0365 - kl_loss: 0.6273\n",
      "Epoch 79/100\n"
     ]
    },
    {
     "name": "stdout",
     "output_type": "stream",
     "text": [
      "2068/2068 [==============================] - 4s 2ms/step - total_loss: 0.8355 - reconstruction_loss: 0.2090 - reconstruction_loss_num: 0.1748 - reconstruction_loss_cat: 0.0342 - kl_loss: 0.6266\n",
      "Epoch 80/100\n",
      "2068/2068 [==============================] - 4s 2ms/step - total_loss: 0.8345 - reconstruction_loss: 0.2098 - reconstruction_loss_num: 0.1745 - reconstruction_loss_cat: 0.0353 - kl_loss: 0.6243\n",
      "Epoch 81/100\n",
      "2068/2068 [==============================] - 4s 2ms/step - total_loss: 0.8350 - reconstruction_loss: 0.2105 - reconstruction_loss_num: 0.1750 - reconstruction_loss_cat: 0.0355 - kl_loss: 0.6228\n",
      "Epoch 82/100\n",
      "2068/2068 [==============================] - 4s 2ms/step - total_loss: 0.8328 - reconstruction_loss: 0.2091 - reconstruction_loss_num: 0.1738 - reconstruction_loss_cat: 0.0353 - kl_loss: 0.6211\n",
      "Epoch 83/100\n",
      "2068/2068 [==============================] - 5s 2ms/step - total_loss: 0.8300 - reconstruction_loss: 0.2081 - reconstruction_loss_num: 0.1733 - reconstruction_loss_cat: 0.0348 - kl_loss: 0.6215\n",
      "Epoch 84/100\n",
      "2068/2068 [==============================] - 7s 3ms/step - total_loss: 0.8269 - reconstruction_loss: 0.2054 - reconstruction_loss_num: 0.1722 - reconstruction_loss_cat: 0.0332 - kl_loss: 0.6226\n",
      "Epoch 85/100\n",
      "2068/2068 [==============================] - 7s 3ms/step - total_loss: 0.8287 - reconstruction_loss: 0.2065 - reconstruction_loss_num: 0.1724 - reconstruction_loss_cat: 0.0341 - kl_loss: 0.6231\n",
      "Epoch 86/100\n",
      "2068/2068 [==============================] - 5s 2ms/step - total_loss: 0.8273 - reconstruction_loss: 0.2065 - reconstruction_loss_num: 0.1727 - reconstruction_loss_cat: 0.0338 - kl_loss: 0.6221\n",
      "Epoch 87/100\n",
      "2068/2068 [==============================] - 4s 2ms/step - total_loss: 0.8316 - reconstruction_loss: 0.2072 - reconstruction_loss_num: 0.1727 - reconstruction_loss_cat: 0.0344 - kl_loss: 0.6242\n",
      "Epoch 88/100\n",
      "2068/2068 [==============================] - 4s 2ms/step - total_loss: 0.8294 - reconstruction_loss: 0.2067 - reconstruction_loss_num: 0.1728 - reconstruction_loss_cat: 0.0340 - kl_loss: 0.6235\n",
      "Epoch 89/100\n",
      "2068/2068 [==============================] - 4s 2ms/step - total_loss: 0.8283 - reconstruction_loss: 0.2065 - reconstruction_loss_num: 0.1725 - reconstruction_loss_cat: 0.0340 - kl_loss: 0.6235\n",
      "Epoch 90/100\n",
      "2068/2068 [==============================] - 4s 2ms/step - total_loss: 0.8338 - reconstruction_loss: 0.2068 - reconstruction_loss_num: 0.1727 - reconstruction_loss_cat: 0.0341 - kl_loss: 0.6241\n",
      "Epoch 91/100\n",
      "2068/2068 [==============================] - 4s 2ms/step - total_loss: 0.8315 - reconstruction_loss: 0.2077 - reconstruction_loss_num: 0.1741 - reconstruction_loss_cat: 0.0337 - kl_loss: 0.6215\n",
      "Epoch 92/100\n",
      "2068/2068 [==============================] - 4s 2ms/step - total_loss: 0.8323 - reconstruction_loss: 0.2082 - reconstruction_loss_num: 0.1736 - reconstruction_loss_cat: 0.0346 - kl_loss: 0.6237\n",
      "Epoch 93/100\n",
      "2068/2068 [==============================] - 4s 2ms/step - total_loss: 0.8310 - reconstruction_loss: 0.2092 - reconstruction_loss_num: 0.1747 - reconstruction_loss_cat: 0.0345 - kl_loss: 0.6223\n",
      "Epoch 94/100\n",
      "2068/2068 [==============================] - 4s 2ms/step - total_loss: 0.8275 - reconstruction_loss: 0.2048 - reconstruction_loss_num: 0.1727 - reconstruction_loss_cat: 0.0321 - kl_loss: 0.6226\n",
      "Epoch 95/100\n",
      "2068/2068 [==============================] - 4s 2ms/step - total_loss: 0.8267 - reconstruction_loss: 0.2083 - reconstruction_loss_num: 0.1735 - reconstruction_loss_cat: 0.0348 - kl_loss: 0.6213\n",
      "Epoch 96/100\n",
      "2068/2068 [==============================] - 4s 2ms/step - total_loss: 0.8331 - reconstruction_loss: 0.2091 - reconstruction_loss_num: 0.1735 - reconstruction_loss_cat: 0.0356 - kl_loss: 0.6231\n",
      "Epoch 97/100\n",
      "2068/2068 [==============================] - 4s 2ms/step - total_loss: 0.8295 - reconstruction_loss: 0.2086 - reconstruction_loss_num: 0.1739 - reconstruction_loss_cat: 0.0347 - kl_loss: 0.6212\n",
      "Epoch 98/100\n",
      "2068/2068 [==============================] - 4s 2ms/step - total_loss: 0.8308 - reconstruction_loss: 0.2079 - reconstruction_loss_num: 0.1732 - reconstruction_loss_cat: 0.0347 - kl_loss: 0.6216\n",
      "Epoch 99/100\n",
      "2068/2068 [==============================] - 4s 2ms/step - total_loss: 0.8304 - reconstruction_loss: 0.2082 - reconstruction_loss_num: 0.1729 - reconstruction_loss_cat: 0.0353 - kl_loss: 0.6215\n",
      "Epoch 100/100\n",
      "2068/2068 [==============================] - 4s 2ms/step - total_loss: 0.8317 - reconstruction_loss: 0.2073 - reconstruction_loss_num: 0.1724 - reconstruction_loss_cat: 0.0349 - kl_loss: 0.6234\n"
     ]
    }
   ],
   "source": [
    "# Train\n",
    "vae = VAE(encoder, decoder, CAT_IDX, CAT_LENGTHS)\n",
    "vae.compile(optimizer=keras.optimizers.RMSprop(learning_rate=LEARN_RATE, rho=RHO))\n",
    "history = vae.fit(train_data, epochs=EPOCHS, batch_size=BATCH_SIZE) #add callbacks=[callback] if needed"
   ]
  },
  {
   "cell_type": "code",
   "execution_count": 14,
   "metadata": {},
   "outputs": [],
   "source": [
    "# # Callback class for debugging\n",
    "# weights_history = []\n",
    "\n",
    "# class MyCallback(keras.callbacks.Callback):\n",
    "#     def on_batch_end(self, batch, logs):\n",
    "#         weights = vae.get_weights()\n",
    "#         weights_history.append(weights)\n",
    "\n",
    "# callback = MyCallback()"
   ]
  },
  {
   "cell_type": "code",
   "execution_count": 15,
   "metadata": {},
   "outputs": [
    {
     "data": {
      "image/png": "[encoded data removed]",
      "text/plain": [
       "<Figure size 432x288 with 1 Axes>"
      ]
     },
     "metadata": {
      "needs_background": "light"
     },
     "output_type": "display_data"
    }
   ],
   "source": [
    "# Plot model loss/training progress\n",
    "plt.plot(history.history['total_loss'])\n",
    "plt.plot(history.history['reconstruction_loss_num'])\n",
    "plt.plot(history.history['reconstruction_loss_cat'])\n",
    "plt.plot(history.history['kl_loss'])\n",
    "plt.title(\"Training History\")\n",
    "plt.ylabel(\"Loss\")\n",
    "plt.xlabel(\"Epoch\")\n",
    "plt.legend([\"total\",\"rec_num\",\"rec_cat\",\"kl\"], loc=\"upper right\")\n",
    "plt.show()"
   ]
  },
  {
   "cell_type": "markdown",
   "metadata": {},
   "source": [
    "## Testing"
   ]
  },
  {
   "cell_type": "code",
   "execution_count": 16,
   "metadata": {},
   "outputs": [
    {
     "name": "stdout",
     "output_type": "stream",
     "text": [
      "Latent Variable: 0\n",
      "Mean: -0.019339069724082947\n",
      "Variance: 0.5202233791351318\n",
      "\n",
      "Latent Variable: 1\n",
      "Mean: -0.04569435119628906\n",
      "Variance: 0.12772680819034576\n",
      "\n",
      "Latent Variable: 2\n",
      "Mean: -0.04068293049931526\n",
      "Variance: 0.2450701892375946\n",
      "\n",
      "Latent Variable: 3\n",
      "Mean: 0.013848424889147282\n",
      "Variance: 0.13184808194637299\n",
      "\n",
      "Latent Variable: 4\n",
      "Mean: 0.021275565028190613\n",
      "Variance: 0.14463366568088531\n",
      "\n"
     ]
    }
   ],
   "source": [
    "# Get latent vars from the encoder; feed to decoder and get sampled manifest variables\n",
    "z_mean, z_logvar, z = encoder.predict(test_data)\n",
    "\n",
    "# Determine the average values for the mean/logvariance of the latent variables\n",
    "for i in range(0, LATENT_DIM):\n",
    "    avg_mean = np.mean(z_mean[:,i])\n",
    "    avg_logvar = np.mean(z_logvar[:,i])\n",
    "    print(f\"Latent Variable: {i}\")\n",
    "    print(f\"Mean: {avg_mean}\")\n",
    "    print(f\"Variance: {np.exp(avg_logvar)}\\n\")"
   ]
  },
  {
   "cell_type": "code",
   "execution_count": 17,
   "metadata": {},
   "outputs": [
    {
     "name": "stdout",
     "output_type": "stream",
     "text": [
      "Numerical Variable Loss: 0.16467835009098053\n",
      "Categorical Variable Loss: 0.024399159476161003\n"
     ]
    }
   ],
   "source": [
    "# Draw predictions from test data\n",
    "results = vae.predict(test_data)\n",
    "loss_num, loss_cat = get_reconstruction_loss(test_data, results, CAT_IDX, CAT_LENGTHS)\n",
    "print(f\"Numerical Variable Loss: {loss_num}\")\n",
    "print(f\"Categorical Variable Loss: {loss_cat}\")"
   ]
  },
  {
   "cell_type": "code",
   "execution_count": 18,
   "metadata": {},
   "outputs": [],
   "source": [
    "# Transform numeric results back to real variable values\n",
    "results_num = scaler.inverse_transform(results[0])\n",
    "results_df = pd.DataFrame(results_num)\n",
    "\n",
    "# Transform categorical results back to real variable values\n",
    "for x in results[1]:\n",
    "    result = np.argmax(x, axis=1) + 1\n",
    "    results_df[f\"{x}\"] = result\n",
    "\n",
    "# Add back original variables names to the results\n",
    "results_df.columns = VAR_NAMES"
   ]
  },
  {
   "cell_type": "code",
   "execution_count": 19,
   "metadata": {},
   "outputs": [],
   "source": [
    "# Transform numeric test data back to real variable values\n",
    "test_data_num = scaler.inverse_transform(test_data[:,:CAT_IDX])\n",
    "test_data_df = pd.DataFrame(test_data_num)\n",
    "\n",
    "# Transform categorical test data back to real variable values\n",
    "current = CAT_IDX\n",
    "for x in CAT_LENGTHS:\n",
    "    test_data_cat = test_data[:,current:(current + x)]\n",
    "    test_data_cat = np.argmax(test_data_cat, axis=1) + 1\n",
    "    test_data_df[f\"{x}\"] = test_data_cat\n",
    "    current += x\n",
    "\n",
    "# Add back original variables names to the test data\n",
    "test_data_df.columns = VAR_NAMES"
   ]
  },
  {
   "cell_type": "code",
   "execution_count": 20,
   "metadata": {},
   "outputs": [
    {
     "data": {
      "image/png": "[encoded data removed]",
      "text/plain": [
       "<Figure size 432x288 with 1 Axes>"
      ]
     },
     "metadata": {
      "needs_background": "light"
     },
     "output_type": "display_data"
    },
    {
     "data": {
      "image/png": "[encoded data removed]",
      "text/plain": [
       "<Figure size 432x288 with 1 Axes>"
      ]
     },
     "metadata": {
      "needs_background": "light"
     },
     "output_type": "display_data"
    },
    {
     "data": {
      "image/png": "[encoded data removed]",
      "text/plain": [
       "<Figure size 432x288 with 1 Axes>"
      ]
     },
     "metadata": {
      "needs_background": "light"
     },
     "output_type": "display_data"
    },
    {
     "data": {
      "image/png": "[encoded data removed]",
      "text/plain": [
       "<Figure size 432x288 with 1 Axes>"
      ]
     },
     "metadata": {
      "needs_background": "light"
     },
     "output_type": "display_data"
    },
    {
     "data": {
      "image/png": "[encoded data removed]",
      "text/plain": [
       "<Figure size 432x288 with 1 Axes>"
      ]
     },
     "metadata": {
      "needs_background": "light"
     },
     "output_type": "display_data"
    },
    {
     "data": {
      "image/png": "[encoded data removed]",
      "text/plain": [
       "<Figure size 432x288 with 1 Axes>"
      ]
     },
     "metadata": {
      "needs_background": "light"
     },
     "output_type": "display_data"
    },
    {
     "data": {
      "image/png": "[encoded data removed]",
      "text/plain": [
       "<Figure size 432x288 with 1 Axes>"
      ]
     },
     "metadata": {
      "needs_background": "light"
     },
     "output_type": "display_data"
    },
    {
     "data": {
      "image/png": "[encoded data removed]",
      "text/plain": [
       "<Figure size 432x288 with 1 Axes>"
      ]
     },
     "metadata": {
      "needs_background": "light"
     },
     "output_type": "display_data"
    }
   ],
   "source": [
    "# Show distributions of the resulting numerical variables\n",
    "for col_idx in range(0, CAT_IDX):\n",
    "    results_data_plt = results_df.iloc[:,col_idx]\n",
    "    test_data_plt = test_data_df.iloc[:,col_idx]\n",
    "\n",
    "    plt.hist(results_data_plt, bins=100)\n",
    "    plt.xlim(min(test_data_plt),max(test_data_plt))\n",
    "    plt.title(f\"var {col_idx} - reconstructed distribution\")\n",
    "    plt.show()\n",
    "\n",
    "    plt.hist(test_data_plt, bins=100)\n",
    "    plt.xlim(min(test_data_plt),max(test_data_plt))\n",
    "    plt.title(f\"var {col_idx} - prior distribution\")\n",
    "    plt.show()"
   ]
  },
  {
   "cell_type": "code",
   "execution_count": 21,
   "metadata": {},
   "outputs": [
    {
     "data": {
      "image/png": "[encoded data removed]",
      "text/plain": [
       "<Figure size 432x288 with 1 Axes>"
      ]
     },
     "metadata": {
      "needs_background": "light"
     },
     "output_type": "display_data"
    },
    {
     "data": {
      "image/png": "[encoded data removed]",
      "text/plain": [
       "<Figure size 432x288 with 1 Axes>"
      ]
     },
     "metadata": {
      "needs_background": "light"
     },
     "output_type": "display_data"
    },
    {
     "data": {
      "image/png": "[encoded data removed]",
      "text/plain": [
       "<Figure size 432x288 with 1 Axes>"
      ]
     },
     "metadata": {
      "needs_background": "light"
     },
     "output_type": "display_data"
    },
    {
     "data": {
      "image/png": "[encoded data removed]",
      "text/plain": [
       "<Figure size 432x288 with 1 Axes>"
      ]
     },
     "metadata": {
      "needs_background": "light"
     },
     "output_type": "display_data"
    },
    {
     "data": {
      "image/png": "[encoded data removed]",
      "text/plain": [
       "<Figure size 432x288 with 1 Axes>"
      ]
     },
     "metadata": {
      "needs_background": "light"
     },
     "output_type": "display_data"
    },
    {
     "data": {
      "image/png": "[encoded data removed]",
      "text/plain": [
       "<Figure size 432x288 with 1 Axes>"
      ]
     },
     "metadata": {
      "needs_background": "light"
     },
     "output_type": "display_data"
    }
   ],
   "source": [
    "# Show distributions of the resulting numerical variables\n",
    "for col_idx in range(CAT_IDX, VAR_DIM):\n",
    "    results_data_plt = results_df.iloc[:,col_idx]\n",
    "    test_data_plt = test_data_df.iloc[:,col_idx]\n",
    "    \n",
    "    plt.hist(results_data_plt)\n",
    "    plt.xlim(min(test_data_plt),max(test_data_plt))\n",
    "    plt.title(f\"var {col_idx} - reconstructed distribution\")\n",
    "    plt.show()\n",
    "    \n",
    "    plt.hist(test_data_plt)\n",
    "    plt.xlim(min(test_data_plt),max(test_data_plt))\n",
    "    plt.title(f\"var {col_idx} - prior distribution\")\n",
    "    plt.show()"
   ]
  }
 ],
 "metadata": {
  "kernelspec": {
   "display_name": "Python 3",
   "language": "python",
   "name": "python3"
  },
  "language_info": {
   "codemirror_mode": {
    "name": "ipython",
    "version": 3
   },
   "file_extension": ".py",
   "mimetype": "text/x-python",
   "name": "python",
   "nbconvert_exporter": "python",
   "pygments_lexer": "ipython3",
   "version": "3.8.3"
  }
 },
 "nbformat": 4,
 "nbformat_minor": 4
}
