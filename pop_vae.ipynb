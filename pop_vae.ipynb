{
 "cells": [
  {
   "cell_type": "markdown",
   "metadata": {},
   "source": [
    "## Import Libraries and Datasets"
   ]
  },
  {
   "cell_type": "code",
   "execution_count": 1,
   "metadata": {},
   "outputs": [],
   "source": [
    "import matplotlib.pyplot as plt\n",
    "import numpy as np\n",
    "import pandas as pd\n",
    "import sklearn.preprocessing as skpre\n",
    "import tensorflow as tf\n",
    "from tensorflow import keras\n",
    "from tensorflow.keras import layers"
   ]
  },
  {
   "cell_type": "code",
   "execution_count": 2,
   "metadata": {},
   "outputs": [],
   "source": [
    "# Load in the persons PUMS dataset for WA state\n",
    "p_df = pd.read_csv(\"data/PUMS_2017_5YR_WA/psam_p53.csv\")"
   ]
  },
  {
   "cell_type": "markdown",
   "metadata": {},
   "source": [
    "## Choose PUMS and Preprocess"
   ]
  },
  {
   "cell_type": "code",
   "execution_count": 3,
   "metadata": {},
   "outputs": [
    {
     "name": "stdout",
     "output_type": "stream",
     "text": [
      "Dataset n=359075 pre-cleaning\n",
      "Dataset n=152416 post-cleaning\n"
     ]
    }
   ],
   "source": [
    "# Filter to desired variables (numeric then categorical)\n",
    "pums_data = p_df[['AGEP','JWMNP','SCHL','PINCP','COW','SEX','MAR']]\n",
    "\n",
    "# Remove NA values and check n before/after\n",
    "print(f\"Dataset n={len(pums_data)} pre-cleaning\")\n",
    "pums_data = pums_data.dropna()\n",
    "print(f\"Dataset n={len(pums_data)} post-cleaning\")"
   ]
  },
  {
   "cell_type": "code",
   "execution_count": 4,
   "metadata": {},
   "outputs": [],
   "source": [
    "CAT_IDX = 4\n",
    "VAR_DIM = pums_data.shape[1]\n",
    "VAR_NAMES = pums_data.columns\n",
    "\n",
    "# Split categorical data into OHE vars, save num classes per variable\n",
    "dummies_list = []\n",
    "for x in range(CAT_IDX, VAR_DIM):\n",
    "    dummies = pums_data.iloc[:,x]\n",
    "    dummies = pd.get_dummies(dummies, prefix=f\"{pums_data.columns[x]}_\")\n",
    "    dummies_list.append(dummies)\n",
    "CAT_LENGTHS = [x.shape[1] for x in dummies_list]"
   ]
  },
  {
   "cell_type": "code",
   "execution_count": 5,
   "metadata": {},
   "outputs": [
    {
     "data": {
      "text/html": [
       "<div>\n",
       "<style scoped>\n",
       "    .dataframe tbody tr th:only-of-type {\n",
       "        vertical-align: middle;\n",
       "    }\n",
       "\n",
       "    .dataframe tbody tr th {\n",
       "        vertical-align: top;\n",
       "    }\n",
       "\n",
       "    .dataframe thead th {\n",
       "        text-align: right;\n",
       "    }\n",
       "</style>\n",
       "<table border=\"1\" class=\"dataframe\">\n",
       "  <thead>\n",
       "    <tr style=\"text-align: right;\">\n",
       "      <th></th>\n",
       "      <th>AGEP</th>\n",
       "      <th>JWMNP</th>\n",
       "      <th>SCHL</th>\n",
       "      <th>PINCP</th>\n",
       "      <th>COW__1.0</th>\n",
       "      <th>COW__2.0</th>\n",
       "      <th>COW__3.0</th>\n",
       "      <th>COW__4.0</th>\n",
       "      <th>COW__5.0</th>\n",
       "      <th>COW__6.0</th>\n",
       "      <th>COW__7.0</th>\n",
       "      <th>COW__8.0</th>\n",
       "      <th>SEX__1</th>\n",
       "      <th>SEX__2</th>\n",
       "      <th>MAR__1</th>\n",
       "      <th>MAR__2</th>\n",
       "      <th>MAR__3</th>\n",
       "      <th>MAR__4</th>\n",
       "      <th>MAR__5</th>\n",
       "    </tr>\n",
       "  </thead>\n",
       "  <tbody>\n",
       "    <tr>\n",
       "      <th>4</th>\n",
       "      <td>52</td>\n",
       "      <td>70.0</td>\n",
       "      <td>21.0</td>\n",
       "      <td>160000.0</td>\n",
       "      <td>1</td>\n",
       "      <td>0</td>\n",
       "      <td>0</td>\n",
       "      <td>0</td>\n",
       "      <td>0</td>\n",
       "      <td>0</td>\n",
       "      <td>0</td>\n",
       "      <td>0</td>\n",
       "      <td>1</td>\n",
       "      <td>0</td>\n",
       "      <td>1</td>\n",
       "      <td>0</td>\n",
       "      <td>0</td>\n",
       "      <td>0</td>\n",
       "      <td>0</td>\n",
       "    </tr>\n",
       "    <tr>\n",
       "      <th>5</th>\n",
       "      <td>51</td>\n",
       "      <td>20.0</td>\n",
       "      <td>21.0</td>\n",
       "      <td>50000.0</td>\n",
       "      <td>0</td>\n",
       "      <td>0</td>\n",
       "      <td>1</td>\n",
       "      <td>0</td>\n",
       "      <td>0</td>\n",
       "      <td>0</td>\n",
       "      <td>0</td>\n",
       "      <td>0</td>\n",
       "      <td>0</td>\n",
       "      <td>1</td>\n",
       "      <td>1</td>\n",
       "      <td>0</td>\n",
       "      <td>0</td>\n",
       "      <td>0</td>\n",
       "      <td>0</td>\n",
       "    </tr>\n",
       "    <tr>\n",
       "      <th>7</th>\n",
       "      <td>59</td>\n",
       "      <td>30.0</td>\n",
       "      <td>19.0</td>\n",
       "      <td>26710.0</td>\n",
       "      <td>0</td>\n",
       "      <td>0</td>\n",
       "      <td>1</td>\n",
       "      <td>0</td>\n",
       "      <td>0</td>\n",
       "      <td>0</td>\n",
       "      <td>0</td>\n",
       "      <td>0</td>\n",
       "      <td>1</td>\n",
       "      <td>0</td>\n",
       "      <td>1</td>\n",
       "      <td>0</td>\n",
       "      <td>0</td>\n",
       "      <td>0</td>\n",
       "      <td>0</td>\n",
       "    </tr>\n",
       "    <tr>\n",
       "      <th>8</th>\n",
       "      <td>56</td>\n",
       "      <td>15.0</td>\n",
       "      <td>16.0</td>\n",
       "      <td>23600.0</td>\n",
       "      <td>1</td>\n",
       "      <td>0</td>\n",
       "      <td>0</td>\n",
       "      <td>0</td>\n",
       "      <td>0</td>\n",
       "      <td>0</td>\n",
       "      <td>0</td>\n",
       "      <td>0</td>\n",
       "      <td>0</td>\n",
       "      <td>1</td>\n",
       "      <td>1</td>\n",
       "      <td>0</td>\n",
       "      <td>0</td>\n",
       "      <td>0</td>\n",
       "      <td>0</td>\n",
       "    </tr>\n",
       "    <tr>\n",
       "      <th>9</th>\n",
       "      <td>40</td>\n",
       "      <td>5.0</td>\n",
       "      <td>5.0</td>\n",
       "      <td>10000.0</td>\n",
       "      <td>1</td>\n",
       "      <td>0</td>\n",
       "      <td>0</td>\n",
       "      <td>0</td>\n",
       "      <td>0</td>\n",
       "      <td>0</td>\n",
       "      <td>0</td>\n",
       "      <td>0</td>\n",
       "      <td>1</td>\n",
       "      <td>0</td>\n",
       "      <td>0</td>\n",
       "      <td>0</td>\n",
       "      <td>0</td>\n",
       "      <td>0</td>\n",
       "      <td>1</td>\n",
       "    </tr>\n",
       "    <tr>\n",
       "      <th>...</th>\n",
       "      <td>...</td>\n",
       "      <td>...</td>\n",
       "      <td>...</td>\n",
       "      <td>...</td>\n",
       "      <td>...</td>\n",
       "      <td>...</td>\n",
       "      <td>...</td>\n",
       "      <td>...</td>\n",
       "      <td>...</td>\n",
       "      <td>...</td>\n",
       "      <td>...</td>\n",
       "      <td>...</td>\n",
       "      <td>...</td>\n",
       "      <td>...</td>\n",
       "      <td>...</td>\n",
       "      <td>...</td>\n",
       "      <td>...</td>\n",
       "      <td>...</td>\n",
       "      <td>...</td>\n",
       "    </tr>\n",
       "    <tr>\n",
       "      <th>359058</th>\n",
       "      <td>21</td>\n",
       "      <td>4.0</td>\n",
       "      <td>19.0</td>\n",
       "      <td>2700.0</td>\n",
       "      <td>1</td>\n",
       "      <td>0</td>\n",
       "      <td>0</td>\n",
       "      <td>0</td>\n",
       "      <td>0</td>\n",
       "      <td>0</td>\n",
       "      <td>0</td>\n",
       "      <td>0</td>\n",
       "      <td>1</td>\n",
       "      <td>0</td>\n",
       "      <td>0</td>\n",
       "      <td>0</td>\n",
       "      <td>0</td>\n",
       "      <td>0</td>\n",
       "      <td>1</td>\n",
       "    </tr>\n",
       "    <tr>\n",
       "      <th>359065</th>\n",
       "      <td>21</td>\n",
       "      <td>90.0</td>\n",
       "      <td>14.0</td>\n",
       "      <td>8200.0</td>\n",
       "      <td>1</td>\n",
       "      <td>0</td>\n",
       "      <td>0</td>\n",
       "      <td>0</td>\n",
       "      <td>0</td>\n",
       "      <td>0</td>\n",
       "      <td>0</td>\n",
       "      <td>0</td>\n",
       "      <td>0</td>\n",
       "      <td>1</td>\n",
       "      <td>0</td>\n",
       "      <td>0</td>\n",
       "      <td>0</td>\n",
       "      <td>0</td>\n",
       "      <td>1</td>\n",
       "    </tr>\n",
       "    <tr>\n",
       "      <th>359070</th>\n",
       "      <td>22</td>\n",
       "      <td>35.0</td>\n",
       "      <td>16.0</td>\n",
       "      <td>37200.0</td>\n",
       "      <td>0</td>\n",
       "      <td>0</td>\n",
       "      <td>0</td>\n",
       "      <td>0</td>\n",
       "      <td>1</td>\n",
       "      <td>0</td>\n",
       "      <td>0</td>\n",
       "      <td>0</td>\n",
       "      <td>1</td>\n",
       "      <td>0</td>\n",
       "      <td>0</td>\n",
       "      <td>0</td>\n",
       "      <td>0</td>\n",
       "      <td>0</td>\n",
       "      <td>1</td>\n",
       "    </tr>\n",
       "    <tr>\n",
       "      <th>359071</th>\n",
       "      <td>19</td>\n",
       "      <td>7.0</td>\n",
       "      <td>18.0</td>\n",
       "      <td>5300.0</td>\n",
       "      <td>1</td>\n",
       "      <td>0</td>\n",
       "      <td>0</td>\n",
       "      <td>0</td>\n",
       "      <td>0</td>\n",
       "      <td>0</td>\n",
       "      <td>0</td>\n",
       "      <td>0</td>\n",
       "      <td>0</td>\n",
       "      <td>1</td>\n",
       "      <td>0</td>\n",
       "      <td>0</td>\n",
       "      <td>0</td>\n",
       "      <td>0</td>\n",
       "      <td>1</td>\n",
       "    </tr>\n",
       "    <tr>\n",
       "      <th>359074</th>\n",
       "      <td>40</td>\n",
       "      <td>20.0</td>\n",
       "      <td>16.0</td>\n",
       "      <td>20000.0</td>\n",
       "      <td>1</td>\n",
       "      <td>0</td>\n",
       "      <td>0</td>\n",
       "      <td>0</td>\n",
       "      <td>0</td>\n",
       "      <td>0</td>\n",
       "      <td>0</td>\n",
       "      <td>0</td>\n",
       "      <td>1</td>\n",
       "      <td>0</td>\n",
       "      <td>1</td>\n",
       "      <td>0</td>\n",
       "      <td>0</td>\n",
       "      <td>0</td>\n",
       "      <td>0</td>\n",
       "    </tr>\n",
       "  </tbody>\n",
       "</table>\n",
       "<p>152416 rows × 19 columns</p>\n",
       "</div>"
      ],
      "text/plain": [
       "        AGEP  JWMNP  SCHL     PINCP  COW__1.0  COW__2.0  COW__3.0  COW__4.0  \\\n",
       "4         52   70.0  21.0  160000.0         1         0         0         0   \n",
       "5         51   20.0  21.0   50000.0         0         0         1         0   \n",
       "7         59   30.0  19.0   26710.0         0         0         1         0   \n",
       "8         56   15.0  16.0   23600.0         1         0         0         0   \n",
       "9         40    5.0   5.0   10000.0         1         0         0         0   \n",
       "...      ...    ...   ...       ...       ...       ...       ...       ...   \n",
       "359058    21    4.0  19.0    2700.0         1         0         0         0   \n",
       "359065    21   90.0  14.0    8200.0         1         0         0         0   \n",
       "359070    22   35.0  16.0   37200.0         0         0         0         0   \n",
       "359071    19    7.0  18.0    5300.0         1         0         0         0   \n",
       "359074    40   20.0  16.0   20000.0         1         0         0         0   \n",
       "\n",
       "        COW__5.0  COW__6.0  COW__7.0  COW__8.0  SEX__1  SEX__2  MAR__1  \\\n",
       "4              0         0         0         0       1       0       1   \n",
       "5              0         0         0         0       0       1       1   \n",
       "7              0         0         0         0       1       0       1   \n",
       "8              0         0         0         0       0       1       1   \n",
       "9              0         0         0         0       1       0       0   \n",
       "...          ...       ...       ...       ...     ...     ...     ...   \n",
       "359058         0         0         0         0       1       0       0   \n",
       "359065         0         0         0         0       0       1       0   \n",
       "359070         1         0         0         0       1       0       0   \n",
       "359071         0         0         0         0       0       1       0   \n",
       "359074         0         0         0         0       1       0       1   \n",
       "\n",
       "        MAR__2  MAR__3  MAR__4  MAR__5  \n",
       "4            0       0       0       0  \n",
       "5            0       0       0       0  \n",
       "7            0       0       0       0  \n",
       "8            0       0       0       0  \n",
       "9            0       0       0       1  \n",
       "...        ...     ...     ...     ...  \n",
       "359058       0       0       0       1  \n",
       "359065       0       0       0       1  \n",
       "359070       0       0       0       1  \n",
       "359071       0       0       0       1  \n",
       "359074       0       0       0       0  \n",
       "\n",
       "[152416 rows x 19 columns]"
      ]
     },
     "execution_count": 5,
     "metadata": {},
     "output_type": "execute_result"
    }
   ],
   "source": [
    "# Final data frame after encoding OHE\n",
    "model_data_df = pums_data.iloc[:,:CAT_IDX]\n",
    "for ohe_var in dummies_list:\n",
    "    model_data_df = pd.concat([model_data_df, ohe_var], axis=1)\n",
    "MANIFEST_DIM = model_data_df.shape[1]\n",
    "\n",
    "# Preview data that will be fed into model\n",
    "model_data_df"
   ]
  },
  {
   "cell_type": "code",
   "execution_count": 6,
   "metadata": {},
   "outputs": [],
   "source": [
    "# Standardize the input data from -1 to 1 for numerical variables\n",
    "scaler = skpre.StandardScaler()\n",
    "model_data = model_data_df.values\n",
    "model_data[:,:CAT_IDX] = scaler.fit_transform(model_data[:,:CAT_IDX])\n",
    "\n",
    "# Remove rows with numerical outliers (3 < standard deviations)\n",
    "outlier_row_indices = np.where(np.any(model_data[:,:CAT_IDX] > 3, axis=1))\n",
    "model_data = np.delete(model_data, (outlier_row_indices), axis=0)\n",
    "\n",
    "# Separate into train/test data\n",
    "train_idx = round(len(model_data)*.9)\n",
    "train_data = model_data[0:train_idx,:]\n",
    "test_data = model_data[train_idx:len(model_data),:]"
   ]
  },
  {
   "cell_type": "markdown",
   "metadata": {},
   "source": [
    "## Set Parameters and Define Model"
   ]
  },
  {
   "cell_type": "markdown",
   "metadata": {},
   "source": [
    "##### TODO:\n",
    "###### Build up fundamental model:\n",
    "-Test speeds vs traditional methods  \n",
    "-Test household/person data combinations  \n",
    "-Tune hyperparameters  \n",
    "-Energy distance test for distributions  \n",
    "###### Differentiate from the GenSynth paper:\n",
    "-New models; Disentangled VAE/GAN  \n",
    "-Model population changes over time RNN?  \n",
    "-Travel diaries  \n",
    "-Behavioral variables  "
   ]
  },
  {
   "cell_type": "code",
   "execution_count": 7,
   "metadata": {},
   "outputs": [],
   "source": [
    "# Hyperparameters\n",
    "BATCH_SIZE = 100\n",
    "EPOCHS = 100\n",
    "LEARN_RATE = 0.0001\n",
    "RHO = 0.9\n",
    "LATENT_DIM = 4\n",
    "HIDDEN_DIM = 50\n",
    "\n",
    "#Test speeds for sampling new people\n",
    "#Test changes in "
   ]
  },
  {
   "cell_type": "code",
   "execution_count": 8,
   "metadata": {},
   "outputs": [],
   "source": [
    "# A layer that takes mean/variance as inputs and returns a random sample z\n",
    "class Sampling(layers.Layer):\n",
    "    def call(self, inputs):\n",
    "        z_mean, z_log_var = inputs\n",
    "        batch = tf.shape(z_mean)[0]\n",
    "        dim = tf.shape(z_mean)[1]\n",
    "        epsilon = tf.keras.backend.random_normal(shape=(batch, dim))\n",
    "        return z_mean + tf.exp(z_log_var) * epsilon"
   ]
  },
  {
   "cell_type": "code",
   "execution_count": 9,
   "metadata": {},
   "outputs": [
    {
     "name": "stdout",
     "output_type": "stream",
     "text": [
      "Model: \"pre_encoder\"\n",
      "_________________________________________________________________\n",
      "Layer (type)                 Output Shape              Param #   \n",
      "=================================================================\n",
      "input_1 (InputLayer)         [(None, 15)]              0         \n",
      "_________________________________________________________________\n",
      "dense (Dense)                (None, 50)                800       \n",
      "_________________________________________________________________\n",
      "dense_1 (Dense)              (None, 3)                 153       \n",
      "=================================================================\n",
      "Total params: 953\n",
      "Trainable params: 953\n",
      "Non-trainable params: 0\n",
      "_________________________________________________________________\n"
     ]
    }
   ],
   "source": [
    "# Pre-Encoder\n",
    "pre_encoder_inputs = keras.Input(shape=(sum(CAT_LENGTHS),))\n",
    "pre_x = layers.Dense(HIDDEN_DIM, activation=\"tanh\")(pre_encoder_inputs)\n",
    "pre_encoder_outputs = layers.Dense(len(CAT_LENGTHS), activation=\"linear\")(pre_x)\n",
    "pre_encoder = keras.Model(pre_encoder_inputs, pre_encoder_outputs, name=\"pre_encoder\")\n",
    "pre_encoder.summary()"
   ]
  },
  {
   "cell_type": "code",
   "execution_count": 10,
   "metadata": {},
   "outputs": [
    {
     "name": "stdout",
     "output_type": "stream",
     "text": [
      "Model: \"encoder\"\n",
      "__________________________________________________________________________________________________\n",
      "Layer (type)                    Output Shape         Param #     Connected to                     \n",
      "==================================================================================================\n",
      "input_2 (InputLayer)            [(None, 7)]          0                                            \n",
      "__________________________________________________________________________________________________\n",
      "dense_2 (Dense)                 (None, 50)           400         input_2[0][0]                    \n",
      "__________________________________________________________________________________________________\n",
      "dense_3 (Dense)                 (None, 50)           2550        dense_2[0][0]                    \n",
      "__________________________________________________________________________________________________\n",
      "z_mean (Dense)                  (None, 4)            204         dense_3[0][0]                    \n",
      "__________________________________________________________________________________________________\n",
      "z_log_var (Dense)               (None, 4)            204         dense_3[0][0]                    \n",
      "__________________________________________________________________________________________________\n",
      "sampling (Sampling)             (None, 4)            0           z_mean[0][0]                     \n",
      "                                                                 z_log_var[0][0]                  \n",
      "==================================================================================================\n",
      "Total params: 3,358\n",
      "Trainable params: 3,358\n",
      "Non-trainable params: 0\n",
      "__________________________________________________________________________________________________\n"
     ]
    }
   ],
   "source": [
    "# Encoder\n",
    "encoder_inputs = keras.Input(shape=(VAR_DIM,))\n",
    "encoder_x = layers.Dense(HIDDEN_DIM, activation=\"tanh\")(encoder_inputs)\n",
    "encoder_x = layers.Dense(HIDDEN_DIM, activation=\"tanh\")(encoder_x)\n",
    "z_mean = layers.Dense(LATENT_DIM, name=\"z_mean\")(encoder_x)\n",
    "z_log_var = layers.Dense(LATENT_DIM, name=\"z_log_var\")(encoder_x)\n",
    "z = Sampling()([z_mean, z_log_var])\n",
    "encoder = keras.Model(encoder_inputs, [z_mean, z_log_var, z], name=\"encoder\")\n",
    "encoder.summary()"
   ]
  },
  {
   "cell_type": "code",
   "execution_count": 11,
   "metadata": {},
   "outputs": [
    {
     "name": "stdout",
     "output_type": "stream",
     "text": [
      "Model: \"decoder\"\n",
      "_________________________________________________________________\n",
      "Layer (type)                 Output Shape              Param #   \n",
      "=================================================================\n",
      "input_3 (InputLayer)         [(None, 4)]               0         \n",
      "_________________________________________________________________\n",
      "dense_4 (Dense)              (None, 50)                250       \n",
      "_________________________________________________________________\n",
      "dense_5 (Dense)              (None, 50)                2550      \n",
      "_________________________________________________________________\n",
      "dense_6 (Dense)              (None, 7)                 357       \n",
      "=================================================================\n",
      "Total params: 3,157\n",
      "Trainable params: 3,157\n",
      "Non-trainable params: 0\n",
      "_________________________________________________________________\n"
     ]
    }
   ],
   "source": [
    "# Decoder\n",
    "decoder_inputs = keras.Input(shape=(LATENT_DIM,))\n",
    "decoder_x = layers.Dense(HIDDEN_DIM, activation=\"tanh\")(decoder_inputs)\n",
    "decoder_x = layers.Dense(HIDDEN_DIM, activation=\"tanh\")(decoder_x)\n",
    "decoder_outputs = layers.Dense(VAR_DIM, activation=\"linear\")(decoder_x)\n",
    "decoder = keras.Model(decoder_inputs, decoder_outputs, name=\"decoder\")\n",
    "decoder.summary()"
   ]
  },
  {
   "cell_type": "code",
   "execution_count": 12,
   "metadata": {},
   "outputs": [
    {
     "name": "stdout",
     "output_type": "stream",
     "text": [
      "Model: \"post_decoder\"\n",
      "_________________________________________________________________\n",
      "Layer (type)                 Output Shape              Param #   \n",
      "=================================================================\n",
      "input_4 (InputLayer)         [(None, 3)]               0         \n",
      "_________________________________________________________________\n",
      "dense_7 (Dense)              (None, 50)                200       \n",
      "_________________________________________________________________\n",
      "dense_8 (Dense)              (None, 15)                765       \n",
      "=================================================================\n",
      "Total params: 965\n",
      "Trainable params: 965\n",
      "Non-trainable params: 0\n",
      "_________________________________________________________________\n"
     ]
    }
   ],
   "source": [
    "# Post-Decoder\n",
    "post_decoder_inputs = keras.Input(shape=(len(CAT_LENGTHS),))\n",
    "post_x = layers.Dense(HIDDEN_DIM, activation=\"tanh\")(post_decoder_inputs)\n",
    "post_decoder_outputs = layers.Dense(sum(CAT_LENGTHS), activation=\"sigmoid\")(post_x)\n",
    "post_decoder = keras.Model(post_decoder_inputs, post_decoder_outputs, name=\"post_decoder\")\n",
    "post_decoder.summary()"
   ]
  },
  {
   "cell_type": "code",
   "execution_count": 13,
   "metadata": {},
   "outputs": [],
   "source": [
    "# Define custom loss function for combined numerical and categorical data\n",
    "def get_reconstruction_loss(data, reconstruction, CAT_IDX, CAT_LENGTHS):\n",
    "\n",
    "    # Mean squared error for numerical variables\n",
    "    data_num = data[:,:CAT_IDX]\n",
    "    reconstruction_num = reconstruction[:,:CAT_IDX]\n",
    "    reconstruction_loss_numerical = keras.losses.mean_squared_error(data_num, reconstruction_num)\n",
    "    reconstruction_loss_numerical = tf.reduce_mean(reconstruction_loss_numerical)\n",
    "    \n",
    "    # Categorical cross entropy for categorical variables\n",
    "    loss_list = []\n",
    "    current = CAT_IDX\n",
    "    for x in CAT_LENGTHS:\n",
    "        data_cat = data[:,current:(current + x)]\n",
    "        reconstruction_cat = reconstruction[:,current:(current + x)]\n",
    "        loss = keras.losses.categorical_crossentropy(data_cat, reconstruction_cat, from_logits=True)\n",
    "        loss = tf.reduce_mean(loss)\n",
    "        loss_list.append(loss)\n",
    "        current += x\n",
    "    reconstruction_loss_categorical = tf.reduce_mean(loss_list)\n",
    "\n",
    "    # Return both losses; they are combined in the model\n",
    "    return (reconstruction_loss_numerical, reconstruction_loss_categorical)\n",
    "\n",
    "def get_kl_loss(z_mean, z_log_var):\n",
    "    kl_loss = 1 + z_log_var - tf.square(z_mean) - tf.exp(z_log_var)\n",
    "    return kl_loss"
   ]
  },
  {
   "cell_type": "code",
   "execution_count": 14,
   "metadata": {},
   "outputs": [],
   "source": [
    "# Loss metric recorder\n",
    "loss_tracker = keras.metrics.Mean(name=\"loss\")\n",
    "\n",
    "# Variational Autoencoder\n",
    "class VAE(keras.Model):\n",
    "    def __init__(self, pre_encoder, encoder, decoder, post_decoder, CAT_IDX, CAT_LENGTHS, **kwargs):\n",
    "        super(VAE, self).__init__(**kwargs)\n",
    "        self.pre_encoder = pre_encoder\n",
    "        self.encoder = encoder\n",
    "        self.decoder = decoder\n",
    "        self.post_decoder = post_decoder\n",
    "        self.CAT_IDX = CAT_IDX\n",
    "        self.CAT_LENGTHS = CAT_LENGTHS\n",
    "\n",
    "    def train_step(self, data):\n",
    "        if isinstance(data, tuple):\n",
    "            data = data[0]\n",
    "\n",
    "        with tf.GradientTape() as tape:\n",
    "            # Pre-encode the categorical variables\n",
    "            pre_encoded = pre_encoder(data[:,CAT_IDX:])\n",
    "            pre_encoded = tf.concat([data[:,:CAT_IDX], pre_encoded], axis=1)\n",
    "\n",
    "            # Get latent vars from the encoder; feed to decoder and get sampled manifest variables\n",
    "            z_mean, z_log_var, z = encoder(pre_encoded)\n",
    "            reconstruction = decoder(z)\n",
    "\n",
    "            # Post-decode the categorical variables\n",
    "            post_decoded = post_decoder(reconstruction[:,CAT_IDX:])\n",
    "            reconstruction = tf.concat([reconstruction[:,:CAT_IDX], post_decoded], axis=1)\n",
    "\n",
    "            # Get loss between input values and reconstruction\n",
    "            reconstruction_loss_num, reconstruction_loss_cat = get_reconstruction_loss(\n",
    "                data,\n",
    "                reconstruction,\n",
    "                self.CAT_IDX,\n",
    "                self.CAT_LENGTHS\n",
    "            )\n",
    "            reconstruction_loss = tf.add(reconstruction_loss_num, reconstruction_loss_cat) / 2\n",
    "            reconstruction_loss *= 4\n",
    "\n",
    "            # Get Kullback Leidler loss between normal distribution and actual for latent variables\n",
    "            kl_loss = get_kl_loss(z_mean, z_log_var)\n",
    "            kl_loss = tf.reduce_mean(kl_loss) * -0.5\n",
    "\n",
    "            # Combine into single loss term\n",
    "            total_loss = reconstruction_loss + kl_loss\n",
    "\n",
    "        # Get new gradients given the loss and take another step (update weights)\n",
    "        grads = tape.gradient(total_loss, self.trainable_weights)\n",
    "        self.optimizer.apply_gradients(zip(grads, self.trainable_weights))\n",
    "\n",
    "        # Record the loss metrics\n",
    "        loss_tracker.update_state(total_loss)\n",
    "\n",
    "        return {\n",
    "            \"total_loss\": loss_tracker.result(),\n",
    "            \"reconstruction_loss\": reconstruction_loss,\n",
    "            \"reconstruction_loss_num\": reconstruction_loss_num,\n",
    "            \"reconstruction_loss_cat\": reconstruction_loss_cat,\n",
    "            \"kl_loss\": kl_loss,\n",
    "        }\n",
    "\n",
    "    def call(self, inputs):\n",
    "        pre_encoded = pre_encoder(inputs[:,CAT_IDX:])\n",
    "        inputs = tf.concat([inputs[:,:CAT_IDX], pre_encoded], axis=1)\n",
    "        z_mean, z_log_var, z = self.encoder(inputs)\n",
    "        reconstruction = self.decoder(z)\n",
    "        post_decoded = post_decoder(reconstruction[:,CAT_IDX:])\n",
    "        reconstruction = tf.concat([reconstruction[:,:CAT_IDX], post_decoded], axis=1)\n",
    "        return reconstruction\n",
    "\n",
    "    @property\n",
    "    def metrics(self):\n",
    "        return [loss_tracker]"
   ]
  },
  {
   "cell_type": "markdown",
   "metadata": {},
   "source": [
    "## Training"
   ]
  },
  {
   "cell_type": "code",
   "execution_count": 15,
   "metadata": {},
   "outputs": [],
   "source": [
    "# Callback class for debugging\n",
    "weights_history = []\n",
    "\n",
    "class MyCallback(keras.callbacks.Callback):\n",
    "    def on_batch_end(self, batch, logs):\n",
    "        weights = vae.get_weights()\n",
    "        weights_history.append(weights)\n",
    "\n",
    "callback = MyCallback()"
   ]
  },
  {
   "cell_type": "code",
   "execution_count": 16,
   "metadata": {
    "scrolled": true
   },
   "outputs": [
    {
     "name": "stdout",
     "output_type": "stream",
     "text": [
      "Epoch 1/100\n",
      "1324/1324 [==============================] - 4s 3ms/step - total_loss: 3.9229 - reconstruction_loss: 3.1607 - reconstruction_loss_num: 0.2753 - reconstruction_loss_cat: 1.3050 - kl_loss: 0.3487\n",
      "Epoch 2/100\n",
      "1324/1324 [==============================] - 4s 3ms/step - total_loss: 3.0860 - reconstruction_loss: 2.6659 - reconstruction_loss_num: 0.1616 - reconstruction_loss_cat: 1.1714 - kl_loss: 0.4034\n",
      "Epoch 3/100\n",
      "1324/1324 [==============================] - 3s 3ms/step - total_loss: 3.0371 - reconstruction_loss: 2.6258 - reconstruction_loss_num: 0.1510 - reconstruction_loss_cat: 1.1619 - kl_loss: 0.4064\n",
      "Epoch 4/100\n",
      "1324/1324 [==============================] - 3s 2ms/step - total_loss: 3.0102 - reconstruction_loss: 2.6002 - reconstruction_loss_num: 0.1412 - reconstruction_loss_cat: 1.1589 - kl_loss: 0.4074\n",
      "Epoch 5/100\n",
      "1324/1324 [==============================] - 3s 2ms/step - total_loss: 2.9968 - reconstruction_loss: 2.5850 - reconstruction_loss_num: 0.1360 - reconstruction_loss_cat: 1.1565 - kl_loss: 0.4067\n",
      "Epoch 6/100\n",
      "1324/1324 [==============================] - 3s 2ms/step - total_loss: 2.9804 - reconstruction_loss: 2.5751 - reconstruction_loss_num: 0.1332 - reconstruction_loss_cat: 1.1543 - kl_loss: 0.4048\n",
      "Epoch 7/100\n",
      "1324/1324 [==============================] - 3s 2ms/step - total_loss: 2.9726 - reconstruction_loss: 2.5659 - reconstruction_loss_num: 0.1315 - reconstruction_loss_cat: 1.1515 - kl_loss: 0.4050\n",
      "Epoch 8/100\n",
      "1324/1324 [==============================] - 3s 2ms/step - total_loss: 2.9648 - reconstruction_loss: 2.5555 - reconstruction_loss_num: 0.1305 - reconstruction_loss_cat: 1.1473 - kl_loss: 0.4070\n",
      "Epoch 9/100\n",
      "1324/1324 [==============================] - 3s 2ms/step - total_loss: 2.9507 - reconstruction_loss: 2.5335 - reconstruction_loss_num: 0.1337 - reconstruction_loss_cat: 1.1331 - kl_loss: 0.4126\n",
      "Epoch 10/100\n",
      "1324/1324 [==============================] - 3s 2ms/step - total_loss: 2.9214 - reconstruction_loss: 2.4776 - reconstruction_loss_num: 0.1436 - reconstruction_loss_cat: 1.0952 - kl_loss: 0.4314\n",
      "Epoch 11/100\n",
      "1324/1324 [==============================] - 3s 2ms/step - total_loss: 2.8854 - reconstruction_loss: 2.4366 - reconstruction_loss_num: 0.1480 - reconstruction_loss_cat: 1.0703 - kl_loss: 0.4457\n",
      "Epoch 12/100\n",
      "1324/1324 [==============================] - 3s 2ms/step - total_loss: 2.8700 - reconstruction_loss: 2.4161 - reconstruction_loss_num: 0.1481 - reconstruction_loss_cat: 1.0600 - kl_loss: 0.4529\n",
      "Epoch 13/100\n",
      "1324/1324 [==============================] - 4s 3ms/step - total_loss: 2.8602 - reconstruction_loss: 2.3736 - reconstruction_loss_num: 0.1416 - reconstruction_loss_cat: 1.0452 - kl_loss: 0.4800\n",
      "Epoch 14/100\n",
      "1324/1324 [==============================] - 5s 4ms/step - total_loss: 2.8328 - reconstruction_loss: 2.3167 - reconstruction_loss_num: 0.1289 - reconstruction_loss_cat: 1.0294 - kl_loss: 0.5104\n",
      "Epoch 15/100\n",
      "1324/1324 [==============================] - 4s 3ms/step - total_loss: 2.8175 - reconstruction_loss: 2.2979 - reconstruction_loss_num: 0.1261 - reconstruction_loss_cat: 1.0228 - kl_loss: 0.5174\n",
      "Epoch 16/100\n",
      "1324/1324 [==============================] - 4s 3ms/step - total_loss: 2.8105 - reconstruction_loss: 2.2819 - reconstruction_loss_num: 0.1244 - reconstruction_loss_cat: 1.0166 - kl_loss: 0.5263\n",
      "Epoch 17/100\n",
      "1324/1324 [==============================] - 4s 3ms/step - total_loss: 2.8025 - reconstruction_loss: 2.2709 - reconstruction_loss_num: 0.1237 - reconstruction_loss_cat: 1.0118 - kl_loss: 0.5296\n",
      "Epoch 18/100\n",
      "1324/1324 [==============================] - 3s 2ms/step - total_loss: 2.7957 - reconstruction_loss: 2.2633 - reconstruction_loss_num: 0.1232 - reconstruction_loss_cat: 1.0085 - kl_loss: 0.5324\n",
      "Epoch 19/100\n",
      "1324/1324 [==============================] - 3s 2ms/step - total_loss: 2.7919 - reconstruction_loss: 2.2590 - reconstruction_loss_num: 0.1229 - reconstruction_loss_cat: 1.0066 - kl_loss: 0.5321\n",
      "Epoch 20/100\n",
      "1324/1324 [==============================] - 3s 2ms/step - total_loss: 2.7897 - reconstruction_loss: 2.2552 - reconstruction_loss_num: 0.1225 - reconstruction_loss_cat: 1.0051 - kl_loss: 0.5328\n",
      "Epoch 21/100\n",
      "1324/1324 [==============================] - 3s 2ms/step - total_loss: 2.7892 - reconstruction_loss: 2.2521 - reconstruction_loss_num: 0.1224 - reconstruction_loss_cat: 1.0036 - kl_loss: 0.5334\n",
      "Epoch 22/100\n",
      "1324/1324 [==============================] - 3s 2ms/step - total_loss: 2.7841 - reconstruction_loss: 2.2504 - reconstruction_loss_num: 0.1221 - reconstruction_loss_cat: 1.0031 - kl_loss: 0.5349\n",
      "Epoch 23/100\n",
      "1324/1324 [==============================] - 3s 2ms/step - total_loss: 2.7838 - reconstruction_loss: 2.2483 - reconstruction_loss_num: 0.1220 - reconstruction_loss_cat: 1.0021 - kl_loss: 0.5349\n",
      "Epoch 24/100\n",
      "1324/1324 [==============================] - 3s 2ms/step - total_loss: 2.7830 - reconstruction_loss: 2.2467 - reconstruction_loss_num: 0.1219 - reconstruction_loss_cat: 1.0015 - kl_loss: 0.5356\n",
      "Epoch 25/100\n",
      "1324/1324 [==============================] - 3s 2ms/step - total_loss: 2.7793 - reconstruction_loss: 2.2456 - reconstruction_loss_num: 0.1215 - reconstruction_loss_cat: 1.0013 - kl_loss: 0.5346\n",
      "Epoch 26/100\n",
      "1324/1324 [==============================] - 3s 2ms/step - total_loss: 2.7796 - reconstruction_loss: 2.2435 - reconstruction_loss_num: 0.1212 - reconstruction_loss_cat: 1.0006 - kl_loss: 0.5362\n",
      "Epoch 27/100\n",
      "1324/1324 [==============================] - 3s 2ms/step - total_loss: 2.7791 - reconstruction_loss: 2.2417 - reconstruction_loss_num: 0.1210 - reconstruction_loss_cat: 0.9999 - kl_loss: 0.5362\n",
      "Epoch 28/100\n",
      "1324/1324 [==============================] - 3s 2ms/step - total_loss: 2.7755 - reconstruction_loss: 2.2416 - reconstruction_loss_num: 0.1210 - reconstruction_loss_cat: 0.9997 - kl_loss: 0.5359\n",
      "Epoch 29/100\n",
      "1324/1324 [==============================] - 3s 2ms/step - total_loss: 2.7757 - reconstruction_loss: 2.2402 - reconstruction_loss_num: 0.1207 - reconstruction_loss_cat: 0.9994 - kl_loss: 0.5355\n",
      "Epoch 30/100\n",
      "1324/1324 [==============================] - 3s 2ms/step - total_loss: 2.7750 - reconstruction_loss: 2.2389 - reconstruction_loss_num: 0.1207 - reconstruction_loss_cat: 0.9988 - kl_loss: 0.5371\n",
      "Epoch 31/100\n",
      "1324/1324 [==============================] - 3s 2ms/step - total_loss: 2.7757 - reconstruction_loss: 2.2376 - reconstruction_loss_num: 0.1203 - reconstruction_loss_cat: 0.9985 - kl_loss: 0.5384\n",
      "Epoch 32/100\n",
      "1324/1324 [==============================] - 3s 2ms/step - total_loss: 2.7755 - reconstruction_loss: 2.2365 - reconstruction_loss_num: 0.1204 - reconstruction_loss_cat: 0.9979 - kl_loss: 0.5388\n",
      "Epoch 33/100\n",
      "1324/1324 [==============================] - 3s 3ms/step - total_loss: 2.7751 - reconstruction_loss: 2.2359 - reconstruction_loss_num: 0.1200 - reconstruction_loss_cat: 0.9979 - kl_loss: 0.5383\n",
      "Epoch 34/100\n",
      "1324/1324 [==============================] - 3s 3ms/step - total_loss: 2.7717 - reconstruction_loss: 2.2344 - reconstruction_loss_num: 0.1200 - reconstruction_loss_cat: 0.9972 - kl_loss: 0.5389\n",
      "Epoch 35/100\n",
      "1324/1324 [==============================] - 3s 3ms/step - total_loss: 2.7745 - reconstruction_loss: 2.2352 - reconstruction_loss_num: 0.1200 - reconstruction_loss_cat: 0.9976 - kl_loss: 0.5386\n",
      "Epoch 36/100\n",
      "1324/1324 [==============================] - 3s 3ms/step - total_loss: 2.7720 - reconstruction_loss: 2.2336 - reconstruction_loss_num: 0.1197 - reconstruction_loss_cat: 0.9971 - kl_loss: 0.5390\n",
      "Epoch 37/100\n",
      "1324/1324 [==============================] - 4s 3ms/step - total_loss: 2.7728 - reconstruction_loss: 2.2335 - reconstruction_loss_num: 0.1196 - reconstruction_loss_cat: 0.9972 - kl_loss: 0.5400\n",
      "Epoch 38/100\n",
      "1324/1324 [==============================] - 3s 3ms/step - total_loss: 2.7729 - reconstruction_loss: 2.2320 - reconstruction_loss_num: 0.1196 - reconstruction_loss_cat: 0.9964 - kl_loss: 0.5398\n",
      "Epoch 39/100\n",
      "1324/1324 [==============================] - 3s 3ms/step - total_loss: 2.7718 - reconstruction_loss: 2.2315 - reconstruction_loss_num: 0.1197 - reconstruction_loss_cat: 0.9961 - kl_loss: 0.5402\n",
      "Epoch 40/100\n"
     ]
    },
    {
     "name": "stdout",
     "output_type": "stream",
     "text": [
      "1324/1324 [==============================] - 3s 3ms/step - total_loss: 2.7718 - reconstruction_loss: 2.2309 - reconstruction_loss_num: 0.1192 - reconstruction_loss_cat: 0.9962 - kl_loss: 0.5410\n",
      "Epoch 41/100\n",
      "1324/1324 [==============================] - 3s 3ms/step - total_loss: 2.7718 - reconstruction_loss: 2.2297 - reconstruction_loss_num: 0.1191 - reconstruction_loss_cat: 0.9957 - kl_loss: 0.5411\n",
      "Epoch 42/100\n",
      "1324/1324 [==============================] - 3s 3ms/step - total_loss: 2.7709 - reconstruction_loss: 2.2305 - reconstruction_loss_num: 0.1193 - reconstruction_loss_cat: 0.9960 - kl_loss: 0.5402\n",
      "Epoch 43/100\n",
      "1324/1324 [==============================] - 4s 3ms/step - total_loss: 2.7678 - reconstruction_loss: 2.2299 - reconstruction_loss_num: 0.1191 - reconstruction_loss_cat: 0.9958 - kl_loss: 0.5397\n",
      "Epoch 44/100\n",
      "1324/1324 [==============================] - 3s 3ms/step - total_loss: 2.7712 - reconstruction_loss: 2.2289 - reconstruction_loss_num: 0.1190 - reconstruction_loss_cat: 0.9954 - kl_loss: 0.5407\n",
      "Epoch 45/100\n",
      "1324/1324 [==============================] - 3s 3ms/step - total_loss: 2.7681 - reconstruction_loss: 2.2288 - reconstruction_loss_num: 0.1192 - reconstruction_loss_cat: 0.9952 - kl_loss: 0.5410\n",
      "Epoch 46/100\n",
      "1324/1324 [==============================] - 3s 3ms/step - total_loss: 2.7701 - reconstruction_loss: 2.2286 - reconstruction_loss_num: 0.1190 - reconstruction_loss_cat: 0.9953 - kl_loss: 0.5411\n",
      "Epoch 47/100\n",
      "1324/1324 [==============================] - 3s 3ms/step - total_loss: 2.7687 - reconstruction_loss: 2.2272 - reconstruction_loss_num: 0.1191 - reconstruction_loss_cat: 0.9945 - kl_loss: 0.5422\n",
      "Epoch 48/100\n",
      "1324/1324 [==============================] - 3s 3ms/step - total_loss: 2.7676 - reconstruction_loss: 2.2259 - reconstruction_loss_num: 0.1188 - reconstruction_loss_cat: 0.9941 - kl_loss: 0.5424\n",
      "Epoch 49/100\n",
      "1324/1324 [==============================] - 3s 3ms/step - total_loss: 2.7684 - reconstruction_loss: 2.2269 - reconstruction_loss_num: 0.1189 - reconstruction_loss_cat: 0.9946 - kl_loss: 0.5418\n",
      "Epoch 50/100\n",
      "1324/1324 [==============================] - 3s 3ms/step - total_loss: 2.7693 - reconstruction_loss: 2.2264 - reconstruction_loss_num: 0.1188 - reconstruction_loss_cat: 0.9944 - kl_loss: 0.5414\n",
      "Epoch 51/100\n",
      "1324/1324 [==============================] - 3s 3ms/step - total_loss: 2.7681 - reconstruction_loss: 2.2263 - reconstruction_loss_num: 0.1186 - reconstruction_loss_cat: 0.9945 - kl_loss: 0.5421\n",
      "Epoch 52/100\n",
      "1324/1324 [==============================] - 5s 3ms/step - total_loss: 2.7693 - reconstruction_loss: 2.2257 - reconstruction_loss_num: 0.1186 - reconstruction_loss_cat: 0.9943 - kl_loss: 0.5418\n",
      "Epoch 53/100\n",
      "1324/1324 [==============================] - 4s 3ms/step - total_loss: 2.7669 - reconstruction_loss: 2.2249 - reconstruction_loss_num: 0.1185 - reconstruction_loss_cat: 0.9939 - kl_loss: 0.5423\n",
      "Epoch 54/100\n",
      "1324/1324 [==============================] - 3s 3ms/step - total_loss: 2.7665 - reconstruction_loss: 2.2247 - reconstruction_loss_num: 0.1186 - reconstruction_loss_cat: 0.9938 - kl_loss: 0.5426\n",
      "Epoch 55/100\n",
      "1324/1324 [==============================] - 4s 3ms/step - total_loss: 2.7684 - reconstruction_loss: 2.2247 - reconstruction_loss_num: 0.1186 - reconstruction_loss_cat: 0.9937 - kl_loss: 0.5428\n",
      "Epoch 56/100\n",
      "1324/1324 [==============================] - 4s 3ms/step - total_loss: 2.7672 - reconstruction_loss: 2.2244 - reconstruction_loss_num: 0.1184 - reconstruction_loss_cat: 0.9938 - kl_loss: 0.5425\n",
      "Epoch 57/100\n",
      "1324/1324 [==============================] - 4s 3ms/step - total_loss: 2.7667 - reconstruction_loss: 2.2237 - reconstruction_loss_num: 0.1184 - reconstruction_loss_cat: 0.9935 - kl_loss: 0.5425\n",
      "Epoch 58/100\n",
      "1324/1324 [==============================] - 3s 3ms/step - total_loss: 2.7658 - reconstruction_loss: 2.2246 - reconstruction_loss_num: 0.1186 - reconstruction_loss_cat: 0.9937 - kl_loss: 0.5423\n",
      "Epoch 59/100\n",
      "1324/1324 [==============================] - 4s 3ms/step - total_loss: 2.7673 - reconstruction_loss: 2.2235 - reconstruction_loss_num: 0.1183 - reconstruction_loss_cat: 0.9934 - kl_loss: 0.5434\n",
      "Epoch 60/100\n",
      "1324/1324 [==============================] - 4s 3ms/step - total_loss: 2.7658 - reconstruction_loss: 2.2222 - reconstruction_loss_num: 0.1180 - reconstruction_loss_cat: 0.9931 - kl_loss: 0.5445\n",
      "Epoch 61/100\n",
      "1324/1324 [==============================] - 4s 3ms/step - total_loss: 2.7638 - reconstruction_loss: 2.2229 - reconstruction_loss_num: 0.1182 - reconstruction_loss_cat: 0.9932 - kl_loss: 0.5430\n",
      "Epoch 62/100\n",
      "1324/1324 [==============================] - 4s 3ms/step - total_loss: 2.7629 - reconstruction_loss: 2.2209 - reconstruction_loss_num: 0.1180 - reconstruction_loss_cat: 0.9925 - kl_loss: 0.5440\n",
      "Epoch 63/100\n",
      "1324/1324 [==============================] - 3s 3ms/step - total_loss: 2.7651 - reconstruction_loss: 2.2213 - reconstruction_loss_num: 0.1184 - reconstruction_loss_cat: 0.9923 - kl_loss: 0.5438\n",
      "Epoch 64/100\n",
      "1324/1324 [==============================] - 5s 3ms/step - total_loss: 2.7650 - reconstruction_loss: 2.2213 - reconstruction_loss_num: 0.1180 - reconstruction_loss_cat: 0.9926 - kl_loss: 0.5434\n",
      "Epoch 65/100\n",
      "1324/1324 [==============================] - 4s 3ms/step - total_loss: 2.7636 - reconstruction_loss: 2.2211 - reconstruction_loss_num: 0.1179 - reconstruction_loss_cat: 0.9926 - kl_loss: 0.5434\n",
      "Epoch 66/100\n",
      "1324/1324 [==============================] - 6s 5ms/step - total_loss: 2.7670 - reconstruction_loss: 2.2187 - reconstruction_loss_num: 0.1181 - reconstruction_loss_cat: 0.9913 - kl_loss: 0.5449\n",
      "Epoch 67/100\n",
      "1324/1324 [==============================] - 4s 3ms/step - total_loss: 2.7645 - reconstruction_loss: 2.2192 - reconstruction_loss_num: 0.1179 - reconstruction_loss_cat: 0.9917 - kl_loss: 0.5456\n",
      "Epoch 68/100\n",
      "1324/1324 [==============================] - 3s 3ms/step - total_loss: 2.7625 - reconstruction_loss: 2.2196 - reconstruction_loss_num: 0.1180 - reconstruction_loss_cat: 0.9918 - kl_loss: 0.5444\n",
      "Epoch 69/100\n",
      "1324/1324 [==============================] - 5s 4ms/step - total_loss: 2.7629 - reconstruction_loss: 2.2184 - reconstruction_loss_num: 0.1178 - reconstruction_loss_cat: 0.9913 - kl_loss: 0.5451\n",
      "Epoch 70/100\n",
      "1324/1324 [==============================] - 3s 3ms/step - total_loss: 2.7640 - reconstruction_loss: 2.2178 - reconstruction_loss_num: 0.1180 - reconstruction_loss_cat: 0.9909 - kl_loss: 0.5450\n",
      "Epoch 71/100\n",
      "1324/1324 [==============================] - 3s 2ms/step - total_loss: 2.7604 - reconstruction_loss: 2.2172 - reconstruction_loss_num: 0.1179 - reconstruction_loss_cat: 0.9907 - kl_loss: 0.5456\n",
      "Epoch 72/100\n",
      "1324/1324 [==============================] - 4s 3ms/step - total_loss: 2.7637 - reconstruction_loss: 2.2162 - reconstruction_loss_num: 0.1177 - reconstruction_loss_cat: 0.9904 - kl_loss: 0.5462\n",
      "Epoch 73/100\n",
      "1324/1324 [==============================] - 4s 3ms/step - total_loss: 2.7623 - reconstruction_loss: 2.2144 - reconstruction_loss_num: 0.1173 - reconstruction_loss_cat: 0.9899 - kl_loss: 0.5475A: 3s - total_loss: 2.7609 - reconstruction_loss: 2.2166 - reconstruction_loss_num: \n",
      "Epoch 74/100\n",
      "1324/1324 [==============================] - 3s 3ms/step - total_loss: 2.7621 - reconstruction_loss: 2.2137 - reconstruction_loss_num: 0.1174 - reconstruction_loss_cat: 0.9894 - kl_loss: 0.5477\n",
      "Epoch 75/100\n",
      "1324/1324 [==============================] - 3s 2ms/step - total_loss: 2.7611 - reconstruction_loss: 2.2128 - reconstruction_loss_num: 0.1175 - reconstruction_loss_cat: 0.9889 - kl_loss: 0.5480\n",
      "Epoch 76/100\n",
      "1324/1324 [==============================] - 4s 3ms/step - total_loss: 2.7604 - reconstruction_loss: 2.2120 - reconstruction_loss_num: 0.1172 - reconstruction_loss_cat: 0.9888 - kl_loss: 0.5484\n",
      "Epoch 77/100\n",
      "1324/1324 [==============================] - 4s 3ms/step - total_loss: 2.7624 - reconstruction_loss: 2.2107 - reconstruction_loss_num: 0.1168 - reconstruction_loss_cat: 0.9885 - kl_loss: 0.5498\n",
      "Epoch 78/100\n",
      "1324/1324 [==============================] - 5s 4ms/step - total_loss: 2.7578 - reconstruction_loss: 2.2100 - reconstruction_loss_num: 0.1170 - reconstruction_loss_cat: 0.9880 - kl_loss: 0.5498\n",
      "Epoch 79/100\n"
     ]
    },
    {
     "name": "stdout",
     "output_type": "stream",
     "text": [
      "1324/1324 [==============================] - 5s 4ms/step - total_loss: 2.7572 - reconstruction_loss: 2.2083 - reconstruction_loss_num: 0.1166 - reconstruction_loss_cat: 0.9875 - kl_loss: 0.5500\n",
      "Epoch 80/100\n",
      "1324/1324 [==============================] - 3s 2ms/step - total_loss: 2.7595 - reconstruction_loss: 2.2081 - reconstruction_loss_num: 0.1166 - reconstruction_loss_cat: 0.9874 - kl_loss: 0.5501\n",
      "Epoch 81/100\n",
      "1324/1324 [==============================] - 3s 2ms/step - total_loss: 2.7564 - reconstruction_loss: 2.2064 - reconstruction_loss_num: 0.1164 - reconstruction_loss_cat: 0.9868 - kl_loss: 0.5519\n",
      "Epoch 82/100\n",
      "1324/1324 [==============================] - 3s 2ms/step - total_loss: 2.7548 - reconstruction_loss: 2.2063 - reconstruction_loss_num: 0.1165 - reconstruction_loss_cat: 0.9866 - kl_loss: 0.5505\n",
      "Epoch 83/100\n",
      "1324/1324 [==============================] - 3s 2ms/step - total_loss: 2.7554 - reconstruction_loss: 2.2051 - reconstruction_loss_num: 0.1163 - reconstruction_loss_cat: 0.9863 - kl_loss: 0.5514\n",
      "Epoch 84/100\n",
      "1324/1324 [==============================] - 3s 2ms/step - total_loss: 2.7554 - reconstruction_loss: 2.2038 - reconstruction_loss_num: 0.1160 - reconstruction_loss_cat: 0.9859 - kl_loss: 0.5534\n",
      "Epoch 85/100\n",
      "1324/1324 [==============================] - 3s 2ms/step - total_loss: 2.7577 - reconstruction_loss: 2.2024 - reconstruction_loss_num: 0.1160 - reconstruction_loss_cat: 0.9852 - kl_loss: 0.5541\n",
      "Epoch 86/100\n",
      "1324/1324 [==============================] - 3s 2ms/step - total_loss: 2.7556 - reconstruction_loss: 2.2008 - reconstruction_loss_num: 0.1158 - reconstruction_loss_cat: 0.9847 - kl_loss: 0.5550\n",
      "Epoch 87/100\n",
      "1324/1324 [==============================] - 5s 4ms/step - total_loss: 2.7556 - reconstruction_loss: 2.2005 - reconstruction_loss_num: 0.1157 - reconstruction_loss_cat: 0.9845 - kl_loss: 0.5555\n",
      "Epoch 88/100\n",
      "1324/1324 [==============================] - 3s 2ms/step - total_loss: 2.7542 - reconstruction_loss: 2.1997 - reconstruction_loss_num: 0.1155 - reconstruction_loss_cat: 0.9843 - kl_loss: 0.5544\n",
      "Epoch 89/100\n",
      "1324/1324 [==============================] - 3s 2ms/step - total_loss: 2.7532 - reconstruction_loss: 2.1994 - reconstruction_loss_num: 0.1156 - reconstruction_loss_cat: 0.9841 - kl_loss: 0.5554\n",
      "Epoch 90/100\n",
      "1324/1324 [==============================] - 4s 3ms/step - total_loss: 2.7514 - reconstruction_loss: 2.1981 - reconstruction_loss_num: 0.1152 - reconstruction_loss_cat: 0.9838 - kl_loss: 0.5553\n",
      "Epoch 91/100\n",
      "1324/1324 [==============================] - 4s 3ms/step - total_loss: 2.7551 - reconstruction_loss: 2.1975 - reconstruction_loss_num: 0.1152 - reconstruction_loss_cat: 0.9835 - kl_loss: 0.5569\n",
      "Epoch 92/100\n",
      "1324/1324 [==============================] - 4s 3ms/step - total_loss: 2.7556 - reconstruction_loss: 2.1969 - reconstruction_loss_num: 0.1151 - reconstruction_loss_cat: 0.9834 - kl_loss: 0.5574\n",
      "Epoch 93/100\n",
      "1324/1324 [==============================] - 3s 3ms/step - total_loss: 2.7516 - reconstruction_loss: 2.1963 - reconstruction_loss_num: 0.1151 - reconstruction_loss_cat: 0.9831 - kl_loss: 0.5564\n",
      "Epoch 94/100\n",
      "1324/1324 [==============================] - 4s 3ms/step - total_loss: 2.7499 - reconstruction_loss: 2.1949 - reconstruction_loss_num: 0.1151 - reconstruction_loss_cat: 0.9824 - kl_loss: 0.5578\n",
      "Epoch 95/100\n",
      "1324/1324 [==============================] - 3s 3ms/step - total_loss: 2.7516 - reconstruction_loss: 2.1936 - reconstruction_loss_num: 0.1148 - reconstruction_loss_cat: 0.9821 - kl_loss: 0.5582\n",
      "Epoch 96/100\n",
      "1324/1324 [==============================] - 3s 3ms/step - total_loss: 2.7525 - reconstruction_loss: 2.1923 - reconstruction_loss_num: 0.1145 - reconstruction_loss_cat: 0.9816 - kl_loss: 0.5594\n",
      "Epoch 97/100\n",
      "1324/1324 [==============================] - 3s 2ms/step - total_loss: 2.7521 - reconstruction_loss: 2.1926 - reconstruction_loss_num: 0.1148 - reconstruction_loss_cat: 0.9815 - kl_loss: 0.5595\n",
      "Epoch 98/100\n",
      "1324/1324 [==============================] - 3s 2ms/step - total_loss: 2.7480 - reconstruction_loss: 2.1904 - reconstruction_loss_num: 0.1146 - reconstruction_loss_cat: 0.9806 - kl_loss: 0.5594\n",
      "Epoch 99/100\n",
      "1324/1324 [==============================] - 3s 2ms/step - total_loss: 2.7497 - reconstruction_loss: 2.1896 - reconstruction_loss_num: 0.1144 - reconstruction_loss_cat: 0.9804 - kl_loss: 0.5612\n",
      "Epoch 100/100\n",
      "1324/1324 [==============================] - 4s 3ms/step - total_loss: 2.7505 - reconstruction_loss: 2.1890 - reconstruction_loss_num: 0.1145 - reconstruction_loss_cat: 0.9800 - kl_loss: 0.5611A: 2s - total_loss: 2.7513 - reconstruction_loss: 2.1887 - reconstruction_loss_num: 0.1141 - r\n"
     ]
    }
   ],
   "source": [
    "# Train\n",
    "vae = VAE(pre_encoder, encoder, decoder, post_decoder, CAT_IDX, CAT_LENGTHS)\n",
    "vae.compile(optimizer=keras.optimizers.RMSprop(learning_rate=LEARN_RATE, rho=RHO))\n",
    "history = vae.fit(train_data, epochs=EPOCHS, batch_size=BATCH_SIZE) #add callbacks=[callback] if needed"
   ]
  },
  {
   "cell_type": "code",
   "execution_count": 17,
   "metadata": {},
   "outputs": [
    {
     "data": {
      "image/png": "[encoded data removed]",
      "text/plain": [
       "<Figure size 432x288 with 1 Axes>"
      ]
     },
     "metadata": {
      "needs_background": "light"
     },
     "output_type": "display_data"
    }
   ],
   "source": [
    "# Plot model loss/training progress\n",
    "plt.plot(history.history['total_loss'])\n",
    "plt.plot(history.history['reconstruction_loss_num'])\n",
    "plt.plot(history.history['reconstruction_loss_cat'])\n",
    "plt.plot(history.history['kl_loss'])\n",
    "plt.title(\"Training History\")\n",
    "plt.ylabel(\"Loss\")\n",
    "plt.xlabel(\"Epoch\")\n",
    "plt.legend([\"total\",\"rec_num\",\"rec_cat\",\"kl\"], loc=\"upper right\")\n",
    "plt.show()"
   ]
  },
  {
   "cell_type": "markdown",
   "metadata": {},
   "source": [
    "## Testing"
   ]
  },
  {
   "cell_type": "code",
   "execution_count": 18,
   "metadata": {},
   "outputs": [
    {
     "name": "stdout",
     "output_type": "stream",
     "text": [
      "Latent Variable: 0\n",
      "Mean: 0.035725899040699005\n",
      "Variance: 0.31226247549057007\n",
      "\n",
      "Latent Variable: 1\n",
      "Mean: 0.0023227559868246317\n",
      "Variance: 0.18845608830451965\n",
      "\n",
      "Latent Variable: 2\n",
      "Mean: -0.03391991928219795\n",
      "Variance: 0.1958838552236557\n",
      "\n",
      "Latent Variable: 3\n",
      "Mean: 0.02627694047987461\n",
      "Variance: 0.22280332446098328\n",
      "\n"
     ]
    }
   ],
   "source": [
    "# Verify that the latent variables follow N[0,1] distribution\n",
    "pre_encoded = pre_encoder(test_data[:,CAT_IDX:])\n",
    "test_data_latent = tf.concat([test_data[:,:CAT_IDX], pre_encoded], axis=1)\n",
    "\n",
    "# Get latent vars from the encoder; feed to decoder and get sampled manifest variables\n",
    "z_mean, z_logvar, z = encoder.predict(test_data_latent)\n",
    "\n",
    "# Determine the average values for the mean/logvariance of the latent variables\n",
    "for i in range(0, LATENT_DIM):\n",
    "    avg_mean = np.mean(z_mean[:,i])\n",
    "    avg_logvar = np.mean(z_logvar[:,i])\n",
    "    print(f\"Latent Variable: {i}\")\n",
    "    print(f\"Mean: {avg_mean}\")\n",
    "    print(f\"Variance: {np.exp(avg_logvar)}\\n\")"
   ]
  },
  {
   "cell_type": "code",
   "execution_count": 19,
   "metadata": {},
   "outputs": [
    {
     "name": "stdout",
     "output_type": "stream",
     "text": [
      "Numerical Variable Loss: 0.11816791445016861\n",
      "Categorical Variable Loss: 0.9787254333496094\n"
     ]
    }
   ],
   "source": [
    "# Draw predictions from test data\n",
    "results = vae.predict(test_data)\n",
    "loss_num, loss_cat = get_reconstruction_loss(test_data, results, CAT_IDX, CAT_LENGTHS)\n",
    "print(f\"Numerical Variable Loss: {loss_num}\")\n",
    "print(f\"Categorical Variable Loss: {loss_cat}\")"
   ]
  },
  {
   "cell_type": "code",
   "execution_count": 20,
   "metadata": {},
   "outputs": [],
   "source": [
    "# Transform numeric results back to real variable values\n",
    "results_num = scaler.inverse_transform(results[:,:CAT_IDX])\n",
    "results_df = pd.DataFrame(results_num)\n",
    "\n",
    "# Transform categorical results back to real variable values\n",
    "current = CAT_IDX\n",
    "for x in CAT_LENGTHS:\n",
    "    result = results[:,current:(current + x)]\n",
    "    result = np.argmax(result, axis=1) + 1\n",
    "    results_df[f\"{x}\"] = result\n",
    "    current += x\n",
    "    \n",
    "results_df.columns = VAR_NAMES"
   ]
  },
  {
   "cell_type": "code",
   "execution_count": 21,
   "metadata": {},
   "outputs": [],
   "source": [
    "# Transform numeric results back to real variable values\n",
    "test_data_num = scaler.inverse_transform(test_data[:,:CAT_IDX])\n",
    "test_data_df = pd.DataFrame(test_data_num)\n",
    "\n",
    "# Transform categorical results back to real variable values\n",
    "current = CAT_IDX\n",
    "for x in CAT_LENGTHS:\n",
    "    test_data_cat = test_data[:,current:(current + x)]\n",
    "    test_data_cat = np.argmax(test_data_cat, axis=1) + 1\n",
    "    test_data_df[f\"{x}\"] = test_data_cat\n",
    "    current += x\n",
    "\n",
    "test_data_df.columns = VAR_NAMES"
   ]
  },
  {
   "cell_type": "code",
   "execution_count": 22,
   "metadata": {},
   "outputs": [
    {
     "data": {
      "image/png": "[encoded data removed]",
      "text/plain": [
       "<Figure size 432x288 with 1 Axes>"
      ]
     },
     "metadata": {
      "needs_background": "light"
     },
     "output_type": "display_data"
    },
    {
     "data": {
      "image/png": "[encoded data removed]",
      "text/plain": [
       "<Figure size 432x288 with 1 Axes>"
      ]
     },
     "metadata": {
      "needs_background": "light"
     },
     "output_type": "display_data"
    },
    {
     "data": {
      "image/png": "[encoded data removed]",
      "text/plain": [
       "<Figure size 432x288 with 1 Axes>"
      ]
     },
     "metadata": {
      "needs_background": "light"
     },
     "output_type": "display_data"
    },
    {
     "data": {
      "image/png": "[encoded data removed]",
      "text/plain": [
       "<Figure size 432x288 with 1 Axes>"
      ]
     },
     "metadata": {
      "needs_background": "light"
     },
     "output_type": "display_data"
    },
    {
     "data": {
      "image/png": "[encoded data removed]",
      "text/plain": [
       "<Figure size 432x288 with 1 Axes>"
      ]
     },
     "metadata": {
      "needs_background": "light"
     },
     "output_type": "display_data"
    },
    {
     "data": {
      "image/png": "[encoded data removed]",
      "text/plain": [
       "<Figure size 432x288 with 1 Axes>"
      ]
     },
     "metadata": {
      "needs_background": "light"
     },
     "output_type": "display_data"
    },
    {
     "data": {
      "image/png": "[encoded data removed]",
      "text/plain": [
       "<Figure size 432x288 with 1 Axes>"
      ]
     },
     "metadata": {
      "needs_background": "light"
     },
     "output_type": "display_data"
    },
    {
     "data": {
      "image/png": "[encoded data removed]",
      "text/plain": [
       "<Figure size 432x288 with 1 Axes>"
      ]
     },
     "metadata": {
      "needs_background": "light"
     },
     "output_type": "display_data"
    }
   ],
   "source": [
    "# Show distributions of the resulting numerical variables\n",
    "for col_idx in range(0, CAT_IDX):\n",
    "    results_data_plt = results_df.iloc[:,col_idx]\n",
    "    test_data_plt = test_data_df.iloc[:,col_idx]\n",
    "\n",
    "    plt.hist(results_data_plt, bins=100)\n",
    "    plt.xlim(min(test_data_plt),max(test_data_plt))\n",
    "    plt.title(f\"var {col_idx} - reconstructed distribution\")\n",
    "    plt.show()\n",
    "\n",
    "    plt.hist(test_data_plt, bins=100)\n",
    "    plt.xlim(min(test_data_plt),max(test_data_plt))\n",
    "    plt.title(f\"var {col_idx} - prior distribution\")\n",
    "    plt.show()"
   ]
  },
  {
   "cell_type": "code",
   "execution_count": 23,
   "metadata": {},
   "outputs": [
    {
     "data": {
      "image/png": "[encoded data removed]",
      "text/plain": [
       "<Figure size 432x288 with 1 Axes>"
      ]
     },
     "metadata": {
      "needs_background": "light"
     },
     "output_type": "display_data"
    },
    {
     "data": {
      "image/png": "[encoded data removed]",
      "text/plain": [
       "<Figure size 432x288 with 1 Axes>"
      ]
     },
     "metadata": {
      "needs_background": "light"
     },
     "output_type": "display_data"
    },
    {
     "data": {
      "image/png": "[encoded data removed]",
      "text/plain": [
       "<Figure size 432x288 with 1 Axes>"
      ]
     },
     "metadata": {
      "needs_background": "light"
     },
     "output_type": "display_data"
    },
    {
     "data": {
      "image/png": "[encoded data removed]",
      "text/plain": [
       "<Figure size 432x288 with 1 Axes>"
      ]
     },
     "metadata": {
      "needs_background": "light"
     },
     "output_type": "display_data"
    },
    {
     "data": {
      "image/png": "[encoded data removed]",
      "text/plain": [
       "<Figure size 432x288 with 1 Axes>"
      ]
     },
     "metadata": {
      "needs_background": "light"
     },
     "output_type": "display_data"
    },
    {
     "data": {
      "image/png": "[encoded data removed]",
      "text/plain": [
       "<Figure size 432x288 with 1 Axes>"
      ]
     },
     "metadata": {
      "needs_background": "light"
     },
     "output_type": "display_data"
    }
   ],
   "source": [
    "# Show distributions of the resulting numerical variables\n",
    "for col_idx in range(CAT_IDX, VAR_DIM):\n",
    "    results_data_plt = results_df.iloc[:,col_idx]\n",
    "    test_data_plt = test_data_df.iloc[:,col_idx]\n",
    "    \n",
    "    plt.hist(results_data_plt)\n",
    "    plt.xlim(min(test_data_plt),max(test_data_plt))\n",
    "    plt.title(f\"var {col_idx} - reconstructed distribution\")\n",
    "    plt.show()\n",
    "    \n",
    "    plt.hist(test_data_plt)\n",
    "    plt.xlim(min(test_data_plt),max(test_data_plt))\n",
    "    plt.title(f\"var {col_idx} - prior distribution\")\n",
    "    plt.show()"
   ]
  }
 ],
 "metadata": {
  "kernelspec": {
   "display_name": "Python 3",
   "language": "python",
   "name": "python3"
  },
  "language_info": {
   "codemirror_mode": {
    "name": "ipython",
    "version": 3
   },
   "file_extension": ".py",
   "mimetype": "text/x-python",
   "name": "python",
   "nbconvert_exporter": "python",
   "pygments_lexer": "ipython3",
   "version": "3.8.3"
  }
 },
 "nbformat": 4,
 "nbformat_minor": 4
}
