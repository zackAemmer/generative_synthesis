{
 "cells": [
  {
   "cell_type": "markdown",
   "metadata": {},
   "source": [
    "## Import Libraries and Datasets"
   ]
  },
  {
   "cell_type": "code",
   "execution_count": 1,
   "metadata": {},
   "outputs": [],
   "source": [
    "import matplotlib.pyplot as plt\n",
    "import numpy as np\n",
    "import pandas as pd\n",
    "import sklearn.preprocessing as skpre\n",
    "import tensorflow as tf\n",
    "from tensorflow import keras\n",
    "from tensorflow.keras import layers"
   ]
  },
  {
   "cell_type": "code",
   "execution_count": 2,
   "metadata": {},
   "outputs": [],
   "source": [
    "# Load in the persons PUMS dataset for WA state\n",
    "p_df = pd.read_csv(\"data/PUMS_2017_5YR_WA/psam_p53.csv\")"
   ]
  },
  {
   "cell_type": "markdown",
   "metadata": {},
   "source": [
    "## Choose PUMS and Preprocess"
   ]
  },
  {
   "cell_type": "code",
   "execution_count": 3,
   "metadata": {},
   "outputs": [
    {
     "name": "stdout",
     "output_type": "stream",
     "text": [
      "Dataset n=359075 pre-cleaning\n",
      "Dataset n=152416 post-cleaning\n"
     ]
    }
   ],
   "source": [
    "# Variables for testing; filter to cols and drop na vars\n",
    "pums_data = p_df[['AGEP','COW','JWMNP','MAR','SCHL','SEX','PINCP']]\n",
    "print(f\"Dataset n={len(pums_data)} pre-cleaning\")\n",
    "pums_data = pums_data.dropna()\n",
    "print(f\"Dataset n={len(pums_data)} post-cleaning\")"
   ]
  },
  {
   "cell_type": "code",
   "execution_count": 4,
   "metadata": {},
   "outputs": [
    {
     "data": {
      "text/html": [
       "<div>\n",
       "<style scoped>\n",
       "    .dataframe tbody tr th:only-of-type {\n",
       "        vertical-align: middle;\n",
       "    }\n",
       "\n",
       "    .dataframe tbody tr th {\n",
       "        vertical-align: top;\n",
       "    }\n",
       "\n",
       "    .dataframe thead th {\n",
       "        text-align: right;\n",
       "    }\n",
       "</style>\n",
       "<table border=\"1\" class=\"dataframe\">\n",
       "  <thead>\n",
       "    <tr style=\"text-align: right;\">\n",
       "      <th></th>\n",
       "      <th>AGEP</th>\n",
       "      <th>JWMNP</th>\n",
       "      <th>SCHL</th>\n",
       "      <th>PINCP</th>\n",
       "      <th>COW_1.0</th>\n",
       "      <th>COW_2.0</th>\n",
       "      <th>COW_3.0</th>\n",
       "      <th>COW_4.0</th>\n",
       "      <th>COW_5.0</th>\n",
       "      <th>COW_6.0</th>\n",
       "      <th>COW_7.0</th>\n",
       "      <th>COW_8.0</th>\n",
       "    </tr>\n",
       "  </thead>\n",
       "  <tbody>\n",
       "    <tr>\n",
       "      <th>4</th>\n",
       "      <td>52</td>\n",
       "      <td>70.0</td>\n",
       "      <td>21.0</td>\n",
       "      <td>160000.0</td>\n",
       "      <td>1</td>\n",
       "      <td>0</td>\n",
       "      <td>0</td>\n",
       "      <td>0</td>\n",
       "      <td>0</td>\n",
       "      <td>0</td>\n",
       "      <td>0</td>\n",
       "      <td>0</td>\n",
       "    </tr>\n",
       "    <tr>\n",
       "      <th>5</th>\n",
       "      <td>51</td>\n",
       "      <td>20.0</td>\n",
       "      <td>21.0</td>\n",
       "      <td>50000.0</td>\n",
       "      <td>0</td>\n",
       "      <td>0</td>\n",
       "      <td>1</td>\n",
       "      <td>0</td>\n",
       "      <td>0</td>\n",
       "      <td>0</td>\n",
       "      <td>0</td>\n",
       "      <td>0</td>\n",
       "    </tr>\n",
       "    <tr>\n",
       "      <th>7</th>\n",
       "      <td>59</td>\n",
       "      <td>30.0</td>\n",
       "      <td>19.0</td>\n",
       "      <td>26710.0</td>\n",
       "      <td>0</td>\n",
       "      <td>0</td>\n",
       "      <td>1</td>\n",
       "      <td>0</td>\n",
       "      <td>0</td>\n",
       "      <td>0</td>\n",
       "      <td>0</td>\n",
       "      <td>0</td>\n",
       "    </tr>\n",
       "    <tr>\n",
       "      <th>8</th>\n",
       "      <td>56</td>\n",
       "      <td>15.0</td>\n",
       "      <td>16.0</td>\n",
       "      <td>23600.0</td>\n",
       "      <td>1</td>\n",
       "      <td>0</td>\n",
       "      <td>0</td>\n",
       "      <td>0</td>\n",
       "      <td>0</td>\n",
       "      <td>0</td>\n",
       "      <td>0</td>\n",
       "      <td>0</td>\n",
       "    </tr>\n",
       "    <tr>\n",
       "      <th>9</th>\n",
       "      <td>40</td>\n",
       "      <td>5.0</td>\n",
       "      <td>5.0</td>\n",
       "      <td>10000.0</td>\n",
       "      <td>1</td>\n",
       "      <td>0</td>\n",
       "      <td>0</td>\n",
       "      <td>0</td>\n",
       "      <td>0</td>\n",
       "      <td>0</td>\n",
       "      <td>0</td>\n",
       "      <td>0</td>\n",
       "    </tr>\n",
       "    <tr>\n",
       "      <th>...</th>\n",
       "      <td>...</td>\n",
       "      <td>...</td>\n",
       "      <td>...</td>\n",
       "      <td>...</td>\n",
       "      <td>...</td>\n",
       "      <td>...</td>\n",
       "      <td>...</td>\n",
       "      <td>...</td>\n",
       "      <td>...</td>\n",
       "      <td>...</td>\n",
       "      <td>...</td>\n",
       "      <td>...</td>\n",
       "    </tr>\n",
       "    <tr>\n",
       "      <th>359058</th>\n",
       "      <td>21</td>\n",
       "      <td>4.0</td>\n",
       "      <td>19.0</td>\n",
       "      <td>2700.0</td>\n",
       "      <td>1</td>\n",
       "      <td>0</td>\n",
       "      <td>0</td>\n",
       "      <td>0</td>\n",
       "      <td>0</td>\n",
       "      <td>0</td>\n",
       "      <td>0</td>\n",
       "      <td>0</td>\n",
       "    </tr>\n",
       "    <tr>\n",
       "      <th>359065</th>\n",
       "      <td>21</td>\n",
       "      <td>90.0</td>\n",
       "      <td>14.0</td>\n",
       "      <td>8200.0</td>\n",
       "      <td>1</td>\n",
       "      <td>0</td>\n",
       "      <td>0</td>\n",
       "      <td>0</td>\n",
       "      <td>0</td>\n",
       "      <td>0</td>\n",
       "      <td>0</td>\n",
       "      <td>0</td>\n",
       "    </tr>\n",
       "    <tr>\n",
       "      <th>359070</th>\n",
       "      <td>22</td>\n",
       "      <td>35.0</td>\n",
       "      <td>16.0</td>\n",
       "      <td>37200.0</td>\n",
       "      <td>0</td>\n",
       "      <td>0</td>\n",
       "      <td>0</td>\n",
       "      <td>0</td>\n",
       "      <td>1</td>\n",
       "      <td>0</td>\n",
       "      <td>0</td>\n",
       "      <td>0</td>\n",
       "    </tr>\n",
       "    <tr>\n",
       "      <th>359071</th>\n",
       "      <td>19</td>\n",
       "      <td>7.0</td>\n",
       "      <td>18.0</td>\n",
       "      <td>5300.0</td>\n",
       "      <td>1</td>\n",
       "      <td>0</td>\n",
       "      <td>0</td>\n",
       "      <td>0</td>\n",
       "      <td>0</td>\n",
       "      <td>0</td>\n",
       "      <td>0</td>\n",
       "      <td>0</td>\n",
       "    </tr>\n",
       "    <tr>\n",
       "      <th>359074</th>\n",
       "      <td>40</td>\n",
       "      <td>20.0</td>\n",
       "      <td>16.0</td>\n",
       "      <td>20000.0</td>\n",
       "      <td>1</td>\n",
       "      <td>0</td>\n",
       "      <td>0</td>\n",
       "      <td>0</td>\n",
       "      <td>0</td>\n",
       "      <td>0</td>\n",
       "      <td>0</td>\n",
       "      <td>0</td>\n",
       "    </tr>\n",
       "  </tbody>\n",
       "</table>\n",
       "<p>152416 rows × 12 columns</p>\n",
       "</div>"
      ],
      "text/plain": [
       "        AGEP  JWMNP  SCHL     PINCP  COW_1.0  COW_2.0  COW_3.0  COW_4.0  \\\n",
       "4         52   70.0  21.0  160000.0        1        0        0        0   \n",
       "5         51   20.0  21.0   50000.0        0        0        1        0   \n",
       "7         59   30.0  19.0   26710.0        0        0        1        0   \n",
       "8         56   15.0  16.0   23600.0        1        0        0        0   \n",
       "9         40    5.0   5.0   10000.0        1        0        0        0   \n",
       "...      ...    ...   ...       ...      ...      ...      ...      ...   \n",
       "359058    21    4.0  19.0    2700.0        1        0        0        0   \n",
       "359065    21   90.0  14.0    8200.0        1        0        0        0   \n",
       "359070    22   35.0  16.0   37200.0        0        0        0        0   \n",
       "359071    19    7.0  18.0    5300.0        1        0        0        0   \n",
       "359074    40   20.0  16.0   20000.0        1        0        0        0   \n",
       "\n",
       "        COW_5.0  COW_6.0  COW_7.0  COW_8.0  \n",
       "4             0        0        0        0  \n",
       "5             0        0        0        0  \n",
       "7             0        0        0        0  \n",
       "8             0        0        0        0  \n",
       "9             0        0        0        0  \n",
       "...         ...      ...      ...      ...  \n",
       "359058        0        0        0        0  \n",
       "359065        0        0        0        0  \n",
       "359070        1        0        0        0  \n",
       "359071        0        0        0        0  \n",
       "359074        0        0        0        0  \n",
       "\n",
       "[152416 rows x 12 columns]"
      ]
     },
     "execution_count": 4,
     "metadata": {},
     "output_type": "execute_result"
    }
   ],
   "source": [
    "# This cell removed; used sparse categorical loss to avoid OHE\n",
    "# Split categorical data into OHE binary vars\n",
    "cow_dummies = pd.get_dummies(pums_data['COW'], prefix='COW')\n",
    "mar_dummies = pd.get_dummies(pums_data['MAR'], prefix='MAR')\n",
    "sex_dummies = pd.get_dummies(pums_data['SEX'], prefix='SEX')\n",
    "pums_data_numeric = pums_data[['AGEP','JWMNP','SCHL','PINCP']]\n",
    "num_var_numeric = len(pums_data_numeric.columns)\n",
    "\n",
    "# Data after encoding\n",
    "model_data_df = pd.concat([pums_data_numeric, cow_dummies, mar_dummies, sex_dummies], axis=1)\n",
    "model_data_df = pd.concat([pums_data_numeric, cow_dummies], axis=1)\n",
    "model_data_df"
   ]
  },
  {
   "cell_type": "code",
   "execution_count": 5,
   "metadata": {},
   "outputs": [],
   "source": [
    "# Standardize the input data from -1 to 1\n",
    "scaler = skpre.StandardScaler()\n",
    "model_data = model_data_df.values\n",
    "model_data[:,:num_var_numeric] = scaler.fit_transform(model_data[:,:num_var_numeric])\n",
    "\n",
    "# Remove rows with outliers (3 < standard deviations)\n",
    "outlier_row_indices = np.where(np.any(model_data[:,:num_var_numeric] > 3, axis=1))\n",
    "model_data = np.delete(model_data, (outlier_row_indices), axis=0)\n",
    "\n",
    "# Separate into train/test data\n",
    "train_idx = round(len(model_data)*.9)\n",
    "train_data = model_data[0:train_idx,:]\n",
    "test_data = model_data[train_idx:len(model_data),:]"
   ]
  },
  {
   "cell_type": "markdown",
   "metadata": {},
   "source": [
    "## Set Model and Parameters"
   ]
  },
  {
   "cell_type": "code",
   "execution_count": 6,
   "metadata": {},
   "outputs": [],
   "source": [
    "# Hyperparameters\n",
    "batch_size = 64\n",
    "epochs = 50\n",
    "learning_rate = 0.0001\n",
    "rho = 0.9\n",
    "latent_dim = 4\n",
    "manifest_dim = model_data.shape[1]\n",
    "hidden_dim = 50\n",
    "\n",
    "#TODO:\n",
    "#Find way to test similarity of joint distributions at end\n",
    "#Test speeds for sampling new people\n",
    "#Adjust code for many categorical variables\n",
    "#Disentangled VAE\n",
    "#Build a GAN\n",
    "#Test household/person combinations\n",
    "#Test new combinations of hyperparameters"
   ]
  },
  {
   "cell_type": "code",
   "execution_count": 7,
   "metadata": {},
   "outputs": [],
   "source": [
    "# A layer that takes mean/variance as inputs and returns a random sample z\n",
    "class Sampling(layers.Layer):\n",
    "    def call(self, inputs):\n",
    "        z_mean, z_log_var = inputs\n",
    "        batch = tf.shape(z_mean)[0]\n",
    "        dim = tf.shape(z_mean)[1]\n",
    "        epsilon = tf.keras.backend.random_normal(shape=(batch, dim))\n",
    "        return z_mean + tf.exp(z_log_var) * epsilon"
   ]
  },
  {
   "cell_type": "code",
   "execution_count": 8,
   "metadata": {},
   "outputs": [
    {
     "name": "stdout",
     "output_type": "stream",
     "text": [
      "Model: \"encoder\"\n",
      "__________________________________________________________________________________________________\n",
      "Layer (type)                    Output Shape         Param #     Connected to                     \n",
      "==================================================================================================\n",
      "inputlayer (InputLayer)         [(None, 12)]         0                                            \n",
      "__________________________________________________________________________________________________\n",
      "denselayer1 (Dense)             (None, 50)           650         inputlayer[0][0]                 \n",
      "__________________________________________________________________________________________________\n",
      "denselayer2 (Dense)             (None, 50)           2550        denselayer1[0][0]                \n",
      "__________________________________________________________________________________________________\n",
      "z_mean (Dense)                  (None, 4)            204         denselayer2[0][0]                \n",
      "__________________________________________________________________________________________________\n",
      "z_log_var (Dense)               (None, 4)            204         denselayer2[0][0]                \n",
      "__________________________________________________________________________________________________\n",
      "sampling (Sampling)             (None, 4)            0           z_mean[0][0]                     \n",
      "                                                                 z_log_var[0][0]                  \n",
      "==================================================================================================\n",
      "Total params: 3,608\n",
      "Trainable params: 3,608\n",
      "Non-trainable params: 0\n",
      "__________________________________________________________________________________________________\n"
     ]
    }
   ],
   "source": [
    "# Encoder\n",
    "encoder_inputs = keras.Input(shape=(manifest_dim,), name=\"inputlayer\")\n",
    "x = layers.Dense(hidden_dim, activation=\"tanh\", name=\"denselayer1\")(encoder_inputs)\n",
    "x = layers.Dense(hidden_dim, activation=\"tanh\", name=\"denselayer2\")(x)\n",
    "z_mean = layers.Dense(latent_dim, name=\"z_mean\")(x)\n",
    "z_log_var = layers.Dense(latent_dim, name=\"z_log_var\")(x)\n",
    "z = Sampling()([z_mean, z_log_var])\n",
    "encoder = keras.Model(encoder_inputs, [z_mean, z_log_var, z], name=\"encoder\")\n",
    "encoder.summary()"
   ]
  },
  {
   "cell_type": "code",
   "execution_count": 9,
   "metadata": {},
   "outputs": [
    {
     "name": "stdout",
     "output_type": "stream",
     "text": [
      "Model: \"decoder\"\n",
      "_________________________________________________________________\n",
      "Layer (type)                 Output Shape              Param #   \n",
      "=================================================================\n",
      "inputlayer (InputLayer)      [(None, 4)]               0         \n",
      "_________________________________________________________________\n",
      "denselayer1 (Dense)          (None, 50)                250       \n",
      "_________________________________________________________________\n",
      "denselayer2 (Dense)          (None, 50)                2550      \n",
      "_________________________________________________________________\n",
      "outputs (Dense)              (None, 12)                612       \n",
      "=================================================================\n",
      "Total params: 3,412\n",
      "Trainable params: 3,412\n",
      "Non-trainable params: 0\n",
      "_________________________________________________________________\n"
     ]
    }
   ],
   "source": [
    "# Decoder\n",
    "latent_inputs = keras.Input(shape=(latent_dim,),name=\"inputlayer\")\n",
    "x = layers.Dense(hidden_dim, activation=\"tanh\", name=\"denselayer1\")(latent_inputs)\n",
    "x = layers.Dense(hidden_dim, activation=\"tanh\", name=\"denselayer2\")(x)\n",
    "decoder_outputs = layers.Dense(manifest_dim, activation=\"linear\", name=\"outputs\")(x)\n",
    "decoder = keras.Model(latent_inputs, decoder_outputs, name=\"decoder\")\n",
    "decoder.summary()"
   ]
  },
  {
   "cell_type": "code",
   "execution_count": 10,
   "metadata": {},
   "outputs": [],
   "source": [
    "# Define custom loss function for combined numerical and categorical data\n",
    "def get_reconstruction_loss(x, reconstruction, num_var_numeric):\n",
    "    data_num = x[:,:num_var_numeric]\n",
    "    data_cat = x[:,num_var_numeric:]\n",
    "    reconstruction_num = reconstruction[:,:num_var_numeric]\n",
    "    reconstruction_cat = reconstruction[:,num_var_numeric:]\n",
    "            \n",
    "    # Mean squared error for numerical variables\n",
    "    reconstruction_loss_numerical = keras.losses.mean_squared_error(data_num, reconstruction_num)\n",
    "    reconstruction_loss_numerical = tf.reduce_mean(reconstruction_loss_numerical)\n",
    "    \n",
    "    # Categorical cross entropy for categorical variables\n",
    "    reconstruction_loss_categorical = keras.losses.categorical_crossentropy(data_cat, reconstruction_cat, from_logits=True)\n",
    "    reconstruction_loss_categorical = tf.reduce_mean(reconstruction_loss_categorical)\n",
    "\n",
    "    return (reconstruction_loss_numerical, reconstruction_loss_categorical)\n",
    "\n",
    "def get_kl_loss(z_mean, z_log_var):\n",
    "    kl_loss = 1 + z_log_var - tf.square(z_mean) - tf.exp(z_log_var)\n",
    "    \n",
    "    return kl_loss"
   ]
  },
  {
   "cell_type": "code",
   "execution_count": 11,
   "metadata": {},
   "outputs": [],
   "source": [
    "# Loss metric recorder\n",
    "loss_tracker = keras.metrics.Mean(name=\"loss\")\n",
    "\n",
    "# Variational Autoencoder\n",
    "class VAE(keras.Model):\n",
    "    def __init__(self, encoder, decoder, num_var_numeric, **kwargs):\n",
    "        super(VAE, self).__init__(**kwargs)\n",
    "        self.encoder = encoder\n",
    "        self.decoder = decoder\n",
    "        self.num_var_numeric = num_var_numeric\n",
    "\n",
    "    def train_step(self, data):\n",
    "        if isinstance(data, tuple):\n",
    "            data = data[0]\n",
    "\n",
    "        with tf.GradientTape() as tape:\n",
    "            # Get latent vars from the encoder; feed to decoder and get sampled manifest variables\n",
    "            z_mean, z_log_var, z = encoder(data)\n",
    "            reconstruction = decoder(z)\n",
    "            \n",
    "            # Get loss between input values and sampled from decoder\n",
    "            reconstruction_loss_num, reconstruction_loss_cat = get_reconstruction_loss(data, reconstruction, self.num_var_numeric)\n",
    "            reconstruction_loss = tf.add(reconstruction_loss_num, reconstruction_loss_cat) / 2\n",
    "            reconstruction_loss *= 4\n",
    "\n",
    "            # Get Kullback Leidler loss between normal distribution and actual for latent variables\n",
    "            kl_loss = get_kl_loss(z_mean, z_log_var)\n",
    "            kl_loss = tf.reduce_mean(kl_loss) * -0.5\n",
    "            \n",
    "            # Combine into single loss term\n",
    "            total_loss = reconstruction_loss + kl_loss\n",
    "        \n",
    "        # Get new gradients given the loss and take another step (update weights)\n",
    "        grads = tape.gradient(total_loss, self.trainable_weights)\n",
    "        self.optimizer.apply_gradients(zip(grads, self.trainable_weights))\n",
    "        \n",
    "        # Record the loss metrics\n",
    "        loss_tracker.update_state(total_loss)\n",
    "        \n",
    "        return {\n",
    "            \"total_loss\": loss_tracker.result(),\n",
    "            \"reconstruction_loss\": reconstruction_loss,\n",
    "            \"reconstruction_loss_num\": reconstruction_loss_num,\n",
    "            \"reconstruction_loss_cat\": reconstruction_loss_cat,\n",
    "            \"kl_loss\": kl_loss,\n",
    "        }\n",
    "    \n",
    "    def call(self, inputs):\n",
    "        z_mean, z_log_var, z = self.encoder(inputs)\n",
    "        reconstructed = self.decoder(z)\n",
    "        return reconstructed\n",
    "    \n",
    "    @property\n",
    "    def metrics(self):\n",
    "        return [loss_tracker]"
   ]
  },
  {
   "cell_type": "markdown",
   "metadata": {},
   "source": [
    "## Training"
   ]
  },
  {
   "cell_type": "code",
   "execution_count": 12,
   "metadata": {
    "scrolled": true
   },
   "outputs": [
    {
     "name": "stdout",
     "output_type": "stream",
     "text": [
      "Epoch 1/50\n",
      "2068/2068 [==============================] - 3s 1ms/step - total_loss: 3.5913 - reconstruction_loss: 2.0206 - reconstruction_loss_num: 0.3766 - reconstruction_loss_cat: 0.6337 - kl_loss: 0.5133\n",
      "Epoch 2/50\n",
      "2068/2068 [==============================] - 3s 1ms/step - total_loss: 1.4230 - reconstruction_loss: 0.7285 - reconstruction_loss_num: 0.2672 - reconstruction_loss_cat: 0.0970 - kl_loss: 0.6100\n",
      "Epoch 3/50\n",
      "2068/2068 [==============================] - 3s 1ms/step - total_loss: 1.1871 - reconstruction_loss: 0.5533 - reconstruction_loss_num: 0.2299 - reconstruction_loss_cat: 0.0468 - kl_loss: 0.6068\n",
      "Epoch 4/50\n",
      "2068/2068 [==============================] - 3s 1ms/step - total_loss: 1.1031 - reconstruction_loss: 0.4924 - reconstruction_loss_num: 0.2124 - reconstruction_loss_cat: 0.0338 - kl_loss: 0.6030\n",
      "Epoch 5/50\n",
      "2068/2068 [==============================] - 3s 1ms/step - total_loss: 1.0679 - reconstruction_loss: 0.4602 - reconstruction_loss_num: 0.2014 - reconstruction_loss_cat: 0.0287 - kl_loss: 0.6018\n",
      "Epoch 6/50\n",
      "2068/2068 [==============================] - 3s 1ms/step - total_loss: 1.0452 - reconstruction_loss: 0.4359 - reconstruction_loss_num: 0.1932 - reconstruction_loss_cat: 0.0247 - kl_loss: 0.6007\n",
      "Epoch 7/50\n",
      "2068/2068 [==============================] - 3s 1ms/step - total_loss: 1.0243 - reconstruction_loss: 0.4184 - reconstruction_loss_num: 0.1862 - reconstruction_loss_cat: 0.0230 - kl_loss: 0.6023\n",
      "Epoch 8/50\n",
      "2068/2068 [==============================] - 3s 1ms/step - total_loss: 1.0098 - reconstruction_loss: 0.4019 - reconstruction_loss_num: 0.1804 - reconstruction_loss_cat: 0.0206 - kl_loss: 0.6021\n",
      "Epoch 9/50\n",
      "2068/2068 [==============================] - 3s 1ms/step - total_loss: 0.9925 - reconstruction_loss: 0.3867 - reconstruction_loss_num: 0.1745 - reconstruction_loss_cat: 0.0188 - kl_loss: 0.6037\n",
      "Epoch 10/50\n",
      "2068/2068 [==============================] - 3s 1ms/step - total_loss: 0.9824 - reconstruction_loss: 0.3732 - reconstruction_loss_num: 0.1691 - reconstruction_loss_cat: 0.0175 - kl_loss: 0.6056\n",
      "Epoch 11/50\n",
      "2068/2068 [==============================] - 3s 1ms/step - total_loss: 0.9734 - reconstruction_loss: 0.3619 - reconstruction_loss_num: 0.1645 - reconstruction_loss_cat: 0.0165 - kl_loss: 0.6081\n",
      "Epoch 12/50\n",
      "2068/2068 [==============================] - 3s 1ms/step - total_loss: 0.9641 - reconstruction_loss: 0.3533 - reconstruction_loss_num: 0.1609 - reconstruction_loss_cat: 0.0157 - kl_loss: 0.6085\n",
      "Epoch 13/50\n",
      "2068/2068 [==============================] - 3s 1ms/step - total_loss: 0.9527 - reconstruction_loss: 0.3435 - reconstruction_loss_num: 0.1569 - reconstruction_loss_cat: 0.0148 - kl_loss: 0.6095\n",
      "Epoch 14/50\n",
      "2068/2068 [==============================] - 3s 1ms/step - total_loss: 0.9510 - reconstruction_loss: 0.3357 - reconstruction_loss_num: 0.1537 - reconstruction_loss_cat: 0.0142 - kl_loss: 0.6124\n",
      "Epoch 15/50\n",
      "2068/2068 [==============================] - 3s 1ms/step - total_loss: 0.9427 - reconstruction_loss: 0.3294 - reconstruction_loss_num: 0.1509 - reconstruction_loss_cat: 0.0138 - kl_loss: 0.6127\n",
      "Epoch 16/50\n",
      "2068/2068 [==============================] - 3s 1ms/step - total_loss: 0.9384 - reconstruction_loss: 0.3222 - reconstruction_loss_num: 0.1481 - reconstruction_loss_cat: 0.0130 - kl_loss: 0.6132\n",
      "Epoch 17/50\n",
      "2068/2068 [==============================] - 3s 1ms/step - total_loss: 0.9347 - reconstruction_loss: 0.3179 - reconstruction_loss_num: 0.1460 - reconstruction_loss_cat: 0.0130 - kl_loss: 0.6136\n",
      "Epoch 18/50\n",
      "2068/2068 [==============================] - 4s 2ms/step - total_loss: 0.9273 - reconstruction_loss: 0.3132 - reconstruction_loss_num: 0.1443 - reconstruction_loss_cat: 0.0123 - kl_loss: 0.6140\n",
      "Epoch 19/50\n",
      "2068/2068 [==============================] - 3s 1ms/step - total_loss: 0.9242 - reconstruction_loss: 0.3101 - reconstruction_loss_num: 0.1428 - reconstruction_loss_cat: 0.0123 - kl_loss: 0.6140\n",
      "Epoch 20/50\n",
      "2068/2068 [==============================] - 3s 1ms/step - total_loss: 0.9208 - reconstruction_loss: 0.3052 - reconstruction_loss_num: 0.1407 - reconstruction_loss_cat: 0.0119 - kl_loss: 0.6152\n",
      "Epoch 21/50\n",
      "2068/2068 [==============================] - 3s 1ms/step - total_loss: 0.9176 - reconstruction_loss: 0.3022 - reconstruction_loss_num: 0.1396 - reconstruction_loss_cat: 0.0115 - kl_loss: 0.6155\n",
      "Epoch 22/50\n",
      "2068/2068 [==============================] - 3s 1ms/step - total_loss: 0.9141 - reconstruction_loss: 0.2987 - reconstruction_loss_num: 0.1382 - reconstruction_loss_cat: 0.0112 - kl_loss: 0.6147\n",
      "Epoch 23/50\n",
      "2068/2068 [==============================] - 3s 1ms/step - total_loss: 0.9112 - reconstruction_loss: 0.2968 - reconstruction_loss_num: 0.1371 - reconstruction_loss_cat: 0.0113 - kl_loss: 0.6151\n",
      "Epoch 24/50\n",
      "2068/2068 [==============================] - 3s 1ms/step - total_loss: 0.9100 - reconstruction_loss: 0.2955 - reconstruction_loss_num: 0.1366 - reconstruction_loss_cat: 0.0112 - kl_loss: 0.6142\n",
      "Epoch 25/50\n",
      "2068/2068 [==============================] - 3s 1ms/step - total_loss: 0.9062 - reconstruction_loss: 0.2936 - reconstruction_loss_num: 0.1356 - reconstruction_loss_cat: 0.0111 - kl_loss: 0.6136\n",
      "Epoch 26/50\n",
      "2068/2068 [==============================] - 3s 1ms/step - total_loss: 0.9076 - reconstruction_loss: 0.2912 - reconstruction_loss_num: 0.1348 - reconstruction_loss_cat: 0.0108 - kl_loss: 0.6157\n",
      "Epoch 27/50\n",
      "2068/2068 [==============================] - 3s 1ms/step - total_loss: 0.9041 - reconstruction_loss: 0.2892 - reconstruction_loss_num: 0.1341 - reconstruction_loss_cat: 0.0105 - kl_loss: 0.6141\n",
      "Epoch 28/50\n",
      "2068/2068 [==============================] - 3s 1ms/step - total_loss: 0.9023 - reconstruction_loss: 0.2880 - reconstruction_loss_num: 0.1330 - reconstruction_loss_cat: 0.0110 - kl_loss: 0.6141\n",
      "Epoch 29/50\n",
      "2068/2068 [==============================] - 3s 1ms/step - total_loss: 0.9002 - reconstruction_loss: 0.2852 - reconstruction_loss_num: 0.1327 - reconstruction_loss_cat: 0.0099 - kl_loss: 0.6146\n",
      "Epoch 30/50\n",
      "2068/2068 [==============================] - 3s 1ms/step - total_loss: 0.8954 - reconstruction_loss: 0.2848 - reconstruction_loss_num: 0.1324 - reconstruction_loss_cat: 0.0100 - kl_loss: 0.6126\n",
      "Epoch 31/50\n",
      "2068/2068 [==============================] - 3s 1ms/step - total_loss: 0.8982 - reconstruction_loss: 0.2826 - reconstruction_loss_num: 0.1316 - reconstruction_loss_cat: 0.0097 - kl_loss: 0.6126\n",
      "Epoch 32/50\n",
      "2068/2068 [==============================] - 3s 1ms/step - total_loss: 0.8971 - reconstruction_loss: 0.2818 - reconstruction_loss_num: 0.1312 - reconstruction_loss_cat: 0.0097 - kl_loss: 0.6134\n",
      "Epoch 33/50\n",
      "2068/2068 [==============================] - 3s 1ms/step - total_loss: 0.8946 - reconstruction_loss: 0.2814 - reconstruction_loss_num: 0.1309 - reconstruction_loss_cat: 0.0098 - kl_loss: 0.6141\n",
      "Epoch 34/50\n",
      "2068/2068 [==============================] - 3s 1ms/step - total_loss: 0.8973 - reconstruction_loss: 0.2804 - reconstruction_loss_num: 0.1303 - reconstruction_loss_cat: 0.0099 - kl_loss: 0.6139\n",
      "Epoch 35/50\n",
      "2068/2068 [==============================] - 3s 1ms/step - total_loss: 0.8928 - reconstruction_loss: 0.2809 - reconstruction_loss_num: 0.1302 - reconstruction_loss_cat: 0.0102 - kl_loss: 0.6117\n",
      "Epoch 36/50\n",
      "2068/2068 [==============================] - 3s 1ms/step - total_loss: 0.8916 - reconstruction_loss: 0.2786 - reconstruction_loss_num: 0.1298 - reconstruction_loss_cat: 0.0096 - kl_loss: 0.6123\n",
      "Epoch 37/50\n",
      "2068/2068 [==============================] - 3s 1ms/step - total_loss: 0.8882 - reconstruction_loss: 0.2770 - reconstruction_loss_num: 0.1289 - reconstruction_loss_cat: 0.0096 - kl_loss: 0.6132\n",
      "Epoch 38/50\n",
      "2068/2068 [==============================] - 3s 2ms/step - total_loss: 0.8887 - reconstruction_loss: 0.2770 - reconstruction_loss_num: 0.1289 - reconstruction_loss_cat: 0.0096 - kl_loss: 0.6129\n",
      "Epoch 39/50\n",
      "2068/2068 [==============================] - 3s 1ms/step - total_loss: 0.8843 - reconstruction_loss: 0.2754 - reconstruction_loss_num: 0.1286 - reconstruction_loss_cat: 0.0091 - kl_loss: 0.6117\n",
      "Epoch 40/50\n"
     ]
    },
    {
     "name": "stdout",
     "output_type": "stream",
     "text": [
      "2068/2068 [==============================] - 3s 1ms/step - total_loss: 0.8854 - reconstruction_loss: 0.2748 - reconstruction_loss_num: 0.1283 - reconstruction_loss_cat: 0.0091 - kl_loss: 0.6109\n",
      "Epoch 41/50\n",
      "2068/2068 [==============================] - 3s 1ms/step - total_loss: 0.8876 - reconstruction_loss: 0.2751 - reconstruction_loss_num: 0.1279 - reconstruction_loss_cat: 0.0096 - kl_loss: 0.6113\n",
      "Epoch 42/50\n",
      "2068/2068 [==============================] - 3s 1ms/step - total_loss: 0.8860 - reconstruction_loss: 0.2739 - reconstruction_loss_num: 0.1276 - reconstruction_loss_cat: 0.0094 - kl_loss: 0.6115\n",
      "Epoch 43/50\n",
      "2068/2068 [==============================] - 3s 2ms/step - total_loss: 0.8860 - reconstruction_loss: 0.2744 - reconstruction_loss_num: 0.1277 - reconstruction_loss_cat: 0.0095 - kl_loss: 0.6103\n",
      "Epoch 44/50\n",
      "2068/2068 [==============================] - 3s 1ms/step - total_loss: 0.8809 - reconstruction_loss: 0.2737 - reconstruction_loss_num: 0.1275 - reconstruction_loss_cat: 0.0094 - kl_loss: 0.6092\n",
      "Epoch 45/50\n",
      "2068/2068 [==============================] - 3s 1ms/step - total_loss: 0.8830 - reconstruction_loss: 0.2729 - reconstruction_loss_num: 0.1273 - reconstruction_loss_cat: 0.0091 - kl_loss: 0.6101\n",
      "Epoch 46/50\n",
      "2068/2068 [==============================] - 3s 1ms/step - total_loss: 0.8837 - reconstruction_loss: 0.2744 - reconstruction_loss_num: 0.1278 - reconstruction_loss_cat: 0.0094 - kl_loss: 0.6097\n",
      "Epoch 47/50\n",
      "2068/2068 [==============================] - 3s 1ms/step - total_loss: 0.8835 - reconstruction_loss: 0.2733 - reconstruction_loss_num: 0.1269 - reconstruction_loss_cat: 0.0098 - kl_loss: 0.6108\n",
      "Epoch 48/50\n",
      "2068/2068 [==============================] - 3s 1ms/step - total_loss: 0.8834 - reconstruction_loss: 0.2723 - reconstruction_loss_num: 0.1271 - reconstruction_loss_cat: 0.0091 - kl_loss: 0.6086\n",
      "Epoch 49/50\n",
      "2068/2068 [==============================] - 3s 1ms/step - total_loss: 0.8793 - reconstruction_loss: 0.2731 - reconstruction_loss_num: 0.1277 - reconstruction_loss_cat: 0.0089 - kl_loss: 0.6059\n",
      "Epoch 50/50\n",
      "2068/2068 [==============================] - 3s 1ms/step - total_loss: 0.8755 - reconstruction_loss: 0.2718 - reconstruction_loss_num: 0.1272 - reconstruction_loss_cat: 0.0087 - kl_loss: 0.6058\n"
     ]
    }
   ],
   "source": [
    "# Train\n",
    "vae = VAE(encoder, decoder, num_var_numeric)\n",
    "vae.compile(optimizer=keras.optimizers.RMSprop(learning_rate=learning_rate, rho=rho))\n",
    "history = vae.fit(train_data, epochs=epochs, batch_size=batch_size)"
   ]
  },
  {
   "cell_type": "code",
   "execution_count": 13,
   "metadata": {},
   "outputs": [
    {
     "data": {
      "image/png": "[encoded data removed]",
      "text/plain": [
       "<Figure size 432x288 with 1 Axes>"
      ]
     },
     "metadata": {
      "needs_background": "light"
     },
     "output_type": "display_data"
    }
   ],
   "source": [
    "plt.plot(history.history['total_loss'])\n",
    "plt.plot(history.history['reconstruction_loss'])\n",
    "plt.plot(history.history['kl_loss'])\n",
    "plt.title(\"Training History\")\n",
    "plt.ylabel(\"Loss\")\n",
    "plt.xlabel(\"Epoch\")\n",
    "plt.legend([\"total\",\"reconstruction\",\"kl\"], loc=\"upper right\")\n",
    "plt.show()"
   ]
  },
  {
   "cell_type": "markdown",
   "metadata": {},
   "source": [
    "## Testing"
   ]
  },
  {
   "cell_type": "code",
   "execution_count": 14,
   "metadata": {},
   "outputs": [
    {
     "name": "stdout",
     "output_type": "stream",
     "text": [
      "Latent Variable: 0\n",
      "Mean: 0.046644341200590134\n",
      "Variance: 0.12707476317882538\n",
      "\n",
      "Latent Variable: 1\n",
      "Mean: -0.006400286685675383\n",
      "Variance: 0.20719993114471436\n",
      "\n",
      "Latent Variable: 2\n",
      "Mean: -0.010860586538910866\n",
      "Variance: 0.32774674892425537\n",
      "\n",
      "Latent Variable: 3\n",
      "Mean: -0.02105669304728508\n",
      "Variance: 0.1940477043390274\n",
      "\n"
     ]
    }
   ],
   "source": [
    "# Verify that the latent variables follow N[0,1] distribution\n",
    "z_mean, z_logvar, z = encoder.predict(test_data)\n",
    "\n",
    "# Determine the average values for the mean/logvariance of the latent variables\n",
    "for i in range(0, latent_dim):\n",
    "    avg_mean = np.mean(z_mean[:,i])\n",
    "    avg_logvar = np.mean(z_logvar[:,i])\n",
    "    print(f\"Latent Variable: {i}\")\n",
    "    print(f\"Mean: {avg_mean}\")\n",
    "    print(f\"Variance: {np.exp(avg_logvar)}\\n\")"
   ]
  },
  {
   "cell_type": "code",
   "execution_count": 15,
   "metadata": {},
   "outputs": [
    {
     "name": "stdout",
     "output_type": "stream",
     "text": [
      "Numerical Variable Loss: 0.129708930850029\n",
      "Categorical Variable Loss: 0.008359785191714764\n"
     ]
    }
   ],
   "source": [
    "results = vae.predict(test_data)\n",
    "loss_num, loss_cat = get_reconstruction_loss(test_data, results, num_var_numeric)\n",
    "print(f\"Numerical Variable Loss: {loss_num}\")\n",
    "print(f\"Categorical Variable Loss: {loss_cat}\")"
   ]
  },
  {
   "cell_type": "code",
   "execution_count": 16,
   "metadata": {},
   "outputs": [],
   "source": [
    "# Draw predictions from test data\n",
    "results = vae.predict(test_data)\n",
    "\n",
    "# Transform results back to real variable values\n",
    "results[:,:num_var_numeric] = scaler.inverse_transform(results[:,:num_var_numeric])\n",
    "results_df = pd.DataFrame(results)\n",
    "results_df.columns = model_data_df.columns\n",
    "\n",
    "# Scale test data numerical values\n",
    "test_data_results = test_data\n",
    "test_data_results[:,:num_var_numeric] = scaler.inverse_transform(test_data_results[:,:num_var_numeric])\n",
    "test_data_df = pd.DataFrame(test_data_results)\n",
    "test_data_df.columns = model_data_df.columns\n",
    "\n",
    "# Reconstruct the categorical variables from their one hot encoding\n",
    "results_df['COW'] = results_df.iloc[:,4:11].apply(np.argmax, axis=1)\n",
    "test_data_df['COW'] = test_data_df.iloc[:,4:11].apply(np.argmax, axis=1)"
   ]
  },
  {
   "cell_type": "code",
   "execution_count": 17,
   "metadata": {},
   "outputs": [
    {
     "data": {
      "image/png": "[encoded data removed]",
      "text/plain": [
       "<Figure size 432x288 with 1 Axes>"
      ]
     },
     "metadata": {
      "needs_background": "light"
     },
     "output_type": "display_data"
    },
    {
     "data": {
      "image/png": "[encoded data removed]",
      "text/plain": [
       "<Figure size 432x288 with 1 Axes>"
      ]
     },
     "metadata": {
      "needs_background": "light"
     },
     "output_type": "display_data"
    },
    {
     "data": {
      "image/png": "[encoded data removed]",
      "text/plain": [
       "<Figure size 432x288 with 1 Axes>"
      ]
     },
     "metadata": {
      "needs_background": "light"
     },
     "output_type": "display_data"
    },
    {
     "data": {
      "image/png": "[encoded data removed]",
      "text/plain": [
       "<Figure size 432x288 with 1 Axes>"
      ]
     },
     "metadata": {
      "needs_background": "light"
     },
     "output_type": "display_data"
    },
    {
     "data": {
      "image/png": "[encoded data removed]",
      "text/plain": [
       "<Figure size 432x288 with 1 Axes>"
      ]
     },
     "metadata": {
      "needs_background": "light"
     },
     "output_type": "display_data"
    },
    {
     "data": {
      "image/png": "[encoded data removed]",
      "text/plain": [
       "<Figure size 432x288 with 1 Axes>"
      ]
     },
     "metadata": {
      "needs_background": "light"
     },
     "output_type": "display_data"
    },
    {
     "data": {
      "image/png": "[encoded data removed]",
      "text/plain": [
       "<Figure size 432x288 with 1 Axes>"
      ]
     },
     "metadata": {
      "needs_background": "light"
     },
     "output_type": "display_data"
    },
    {
     "data": {
      "image/png": "[encoded data removed]",
      "text/plain": [
       "<Figure size 432x288 with 1 Axes>"
      ]
     },
     "metadata": {
      "needs_background": "light"
     },
     "output_type": "display_data"
    }
   ],
   "source": [
    "# Show distributions of the resulting variables\n",
    "for col_idx in range(0, num_var_numeric):\n",
    "    plt.hist(results[:,col_idx], bins=100)\n",
    "    plt.xlim(min(test_data_results[:,col_idx]),max(test_data_results[:,col_idx]))\n",
    "    plt.title(f\"var {col_idx} - reconstructed distribution\")\n",
    "    plt.show()\n",
    "    plt.hist(test_data_results[:,col_idx], bins=100)\n",
    "    plt.xlim(min(test_data_results[:,col_idx]),max(test_data_results[:,col_idx]))\n",
    "    plt.title(f\"var {col_idx} - prior distribution\")\n",
    "    plt.show()"
   ]
  }
 ],
 "metadata": {
  "kernelspec": {
   "display_name": "Python 3",
   "language": "python",
   "name": "python3"
  },
  "language_info": {
   "codemirror_mode": {
    "name": "ipython",
    "version": 3
   },
   "file_extension": ".py",
   "mimetype": "text/x-python",
   "name": "python",
   "nbconvert_exporter": "python",
   "pygments_lexer": "ipython3",
   "version": "3.8.3"
  }
 },
 "nbformat": 4,
 "nbformat_minor": 4
}
