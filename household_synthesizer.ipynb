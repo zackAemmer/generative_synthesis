{
 "cells": [
  {
   "cell_type": "markdown",
   "metadata": {},
   "source": [
    "## Import Libraries and Datasets"
   ]
  },
  {
   "cell_type": "code",
   "execution_count": 1,
   "metadata": {},
   "outputs": [],
   "source": [
    "import matplotlib.pyplot as plt\n",
    "import numpy as np\n",
    "import pandas as pd\n",
    "import sklearn.preprocessing as skpre\n",
    "import tensorflow as tf\n",
    "from tensorflow import keras\n",
    "from tensorflow.keras import layers\n",
    "import time"
   ]
  },
  {
   "cell_type": "code",
   "execution_count": 2,
   "metadata": {},
   "outputs": [],
   "source": [
    "# Load in the persons PUMS dataset for WA state\n",
    "h_df = pd.read_csv(\"data/PUMS_2017_5YR_WA/psam_h53.csv\")"
   ]
  },
  {
   "cell_type": "markdown",
   "metadata": {},
   "source": [
    "## Choose PUMS and Preprocess"
   ]
  },
  {
   "cell_type": "code",
   "execution_count": 3,
   "metadata": {},
   "outputs": [
    {
     "name": "stdout",
     "output_type": "stream",
     "text": [
      "Dataset n=164836 pre-cleaning\n",
      "Dataset n=140586 post-cleaning\n"
     ]
    }
   ],
   "source": [
    "# Filter to desired variables (numeric then categorical)\n",
    "pums_data = h_df[['HINCP','NP','VEH']]\n",
    "\n",
    "# Remove NA values and check n before/after\n",
    "print(f\"Dataset n={len(pums_data)} pre-cleaning\")\n",
    "pums_data = pums_data.dropna()\n",
    "print(f\"Dataset n={len(pums_data)} post-cleaning\")"
   ]
  },
  {
   "cell_type": "code",
   "execution_count": 4,
   "metadata": {},
   "outputs": [],
   "source": [
    "CAT_IDX = 1\n",
    "VAR_DIM = pums_data.shape[1]\n",
    "VAR_NAMES = pums_data.columns\n",
    "\n",
    "# Split categorical data into OHE vars, save num classes per variable\n",
    "dummies_list = []\n",
    "for x in range(CAT_IDX, VAR_DIM):\n",
    "    dummies = pums_data.iloc[:,x]\n",
    "    dummies = pd.get_dummies(dummies, prefix=f\"{pums_data.columns[x]}_\")\n",
    "    dummies_list.append(dummies)\n",
    "CAT_LENGTHS = [x.shape[1] for x in dummies_list]"
   ]
  },
  {
   "cell_type": "code",
   "execution_count": 5,
   "metadata": {},
   "outputs": [
    {
     "data": {
      "text/html": [
       "<div>\n",
       "<style scoped>\n",
       "    .dataframe tbody tr th:only-of-type {\n",
       "        vertical-align: middle;\n",
       "    }\n",
       "\n",
       "    .dataframe tbody tr th {\n",
       "        vertical-align: top;\n",
       "    }\n",
       "\n",
       "    .dataframe thead th {\n",
       "        text-align: right;\n",
       "    }\n",
       "</style>\n",
       "<table border=\"1\" class=\"dataframe\">\n",
       "  <thead>\n",
       "    <tr style=\"text-align: right;\">\n",
       "      <th></th>\n",
       "      <th>HINCP</th>\n",
       "      <th>NP__1</th>\n",
       "      <th>NP__2</th>\n",
       "      <th>NP__3</th>\n",
       "      <th>NP__4</th>\n",
       "      <th>NP__5</th>\n",
       "      <th>NP__6</th>\n",
       "      <th>NP__7</th>\n",
       "      <th>NP__8</th>\n",
       "      <th>NP__9</th>\n",
       "      <th>...</th>\n",
       "      <th>NP__16</th>\n",
       "      <th>NP__19</th>\n",
       "      <th>NP__20</th>\n",
       "      <th>VEH__0.0</th>\n",
       "      <th>VEH__1.0</th>\n",
       "      <th>VEH__2.0</th>\n",
       "      <th>VEH__3.0</th>\n",
       "      <th>VEH__4.0</th>\n",
       "      <th>VEH__5.0</th>\n",
       "      <th>VEH__6.0</th>\n",
       "    </tr>\n",
       "  </thead>\n",
       "  <tbody>\n",
       "    <tr>\n",
       "      <th>0</th>\n",
       "      <td>102200.0</td>\n",
       "      <td>0</td>\n",
       "      <td>1</td>\n",
       "      <td>0</td>\n",
       "      <td>0</td>\n",
       "      <td>0</td>\n",
       "      <td>0</td>\n",
       "      <td>0</td>\n",
       "      <td>0</td>\n",
       "      <td>0</td>\n",
       "      <td>...</td>\n",
       "      <td>0</td>\n",
       "      <td>0</td>\n",
       "      <td>0</td>\n",
       "      <td>0</td>\n",
       "      <td>0</td>\n",
       "      <td>1</td>\n",
       "      <td>0</td>\n",
       "      <td>0</td>\n",
       "      <td>0</td>\n",
       "      <td>0</td>\n",
       "    </tr>\n",
       "    <tr>\n",
       "      <th>1</th>\n",
       "      <td>69360.0</td>\n",
       "      <td>0</td>\n",
       "      <td>1</td>\n",
       "      <td>0</td>\n",
       "      <td>0</td>\n",
       "      <td>0</td>\n",
       "      <td>0</td>\n",
       "      <td>0</td>\n",
       "      <td>0</td>\n",
       "      <td>0</td>\n",
       "      <td>...</td>\n",
       "      <td>0</td>\n",
       "      <td>0</td>\n",
       "      <td>0</td>\n",
       "      <td>0</td>\n",
       "      <td>0</td>\n",
       "      <td>1</td>\n",
       "      <td>0</td>\n",
       "      <td>0</td>\n",
       "      <td>0</td>\n",
       "      <td>0</td>\n",
       "    </tr>\n",
       "    <tr>\n",
       "      <th>2</th>\n",
       "      <td>210500.0</td>\n",
       "      <td>0</td>\n",
       "      <td>0</td>\n",
       "      <td>1</td>\n",
       "      <td>0</td>\n",
       "      <td>0</td>\n",
       "      <td>0</td>\n",
       "      <td>0</td>\n",
       "      <td>0</td>\n",
       "      <td>0</td>\n",
       "      <td>...</td>\n",
       "      <td>0</td>\n",
       "      <td>0</td>\n",
       "      <td>0</td>\n",
       "      <td>0</td>\n",
       "      <td>0</td>\n",
       "      <td>0</td>\n",
       "      <td>1</td>\n",
       "      <td>0</td>\n",
       "      <td>0</td>\n",
       "      <td>0</td>\n",
       "    </tr>\n",
       "    <tr>\n",
       "      <th>3</th>\n",
       "      <td>50310.0</td>\n",
       "      <td>0</td>\n",
       "      <td>1</td>\n",
       "      <td>0</td>\n",
       "      <td>0</td>\n",
       "      <td>0</td>\n",
       "      <td>0</td>\n",
       "      <td>0</td>\n",
       "      <td>0</td>\n",
       "      <td>0</td>\n",
       "      <td>...</td>\n",
       "      <td>0</td>\n",
       "      <td>0</td>\n",
       "      <td>0</td>\n",
       "      <td>0</td>\n",
       "      <td>0</td>\n",
       "      <td>0</td>\n",
       "      <td>1</td>\n",
       "      <td>0</td>\n",
       "      <td>0</td>\n",
       "      <td>0</td>\n",
       "    </tr>\n",
       "    <tr>\n",
       "      <th>4</th>\n",
       "      <td>31200.0</td>\n",
       "      <td>0</td>\n",
       "      <td>0</td>\n",
       "      <td>0</td>\n",
       "      <td>0</td>\n",
       "      <td>1</td>\n",
       "      <td>0</td>\n",
       "      <td>0</td>\n",
       "      <td>0</td>\n",
       "      <td>0</td>\n",
       "      <td>...</td>\n",
       "      <td>0</td>\n",
       "      <td>0</td>\n",
       "      <td>0</td>\n",
       "      <td>1</td>\n",
       "      <td>0</td>\n",
       "      <td>0</td>\n",
       "      <td>0</td>\n",
       "      <td>0</td>\n",
       "      <td>0</td>\n",
       "      <td>0</td>\n",
       "    </tr>\n",
       "    <tr>\n",
       "      <th>...</th>\n",
       "      <td>...</td>\n",
       "      <td>...</td>\n",
       "      <td>...</td>\n",
       "      <td>...</td>\n",
       "      <td>...</td>\n",
       "      <td>...</td>\n",
       "      <td>...</td>\n",
       "      <td>...</td>\n",
       "      <td>...</td>\n",
       "      <td>...</td>\n",
       "      <td>...</td>\n",
       "      <td>...</td>\n",
       "      <td>...</td>\n",
       "      <td>...</td>\n",
       "      <td>...</td>\n",
       "      <td>...</td>\n",
       "      <td>...</td>\n",
       "      <td>...</td>\n",
       "      <td>...</td>\n",
       "      <td>...</td>\n",
       "      <td>...</td>\n",
       "    </tr>\n",
       "    <tr>\n",
       "      <th>161771</th>\n",
       "      <td>141370.0</td>\n",
       "      <td>0</td>\n",
       "      <td>0</td>\n",
       "      <td>0</td>\n",
       "      <td>1</td>\n",
       "      <td>0</td>\n",
       "      <td>0</td>\n",
       "      <td>0</td>\n",
       "      <td>0</td>\n",
       "      <td>0</td>\n",
       "      <td>...</td>\n",
       "      <td>0</td>\n",
       "      <td>0</td>\n",
       "      <td>0</td>\n",
       "      <td>0</td>\n",
       "      <td>0</td>\n",
       "      <td>1</td>\n",
       "      <td>0</td>\n",
       "      <td>0</td>\n",
       "      <td>0</td>\n",
       "      <td>0</td>\n",
       "    </tr>\n",
       "    <tr>\n",
       "      <th>161772</th>\n",
       "      <td>60000.0</td>\n",
       "      <td>0</td>\n",
       "      <td>1</td>\n",
       "      <td>0</td>\n",
       "      <td>0</td>\n",
       "      <td>0</td>\n",
       "      <td>0</td>\n",
       "      <td>0</td>\n",
       "      <td>0</td>\n",
       "      <td>0</td>\n",
       "      <td>...</td>\n",
       "      <td>0</td>\n",
       "      <td>0</td>\n",
       "      <td>0</td>\n",
       "      <td>0</td>\n",
       "      <td>0</td>\n",
       "      <td>1</td>\n",
       "      <td>0</td>\n",
       "      <td>0</td>\n",
       "      <td>0</td>\n",
       "      <td>0</td>\n",
       "    </tr>\n",
       "    <tr>\n",
       "      <th>161774</th>\n",
       "      <td>55000.0</td>\n",
       "      <td>0</td>\n",
       "      <td>0</td>\n",
       "      <td>1</td>\n",
       "      <td>0</td>\n",
       "      <td>0</td>\n",
       "      <td>0</td>\n",
       "      <td>0</td>\n",
       "      <td>0</td>\n",
       "      <td>0</td>\n",
       "      <td>...</td>\n",
       "      <td>0</td>\n",
       "      <td>0</td>\n",
       "      <td>0</td>\n",
       "      <td>0</td>\n",
       "      <td>0</td>\n",
       "      <td>1</td>\n",
       "      <td>0</td>\n",
       "      <td>0</td>\n",
       "      <td>0</td>\n",
       "      <td>0</td>\n",
       "    </tr>\n",
       "    <tr>\n",
       "      <th>161775</th>\n",
       "      <td>102000.0</td>\n",
       "      <td>0</td>\n",
       "      <td>0</td>\n",
       "      <td>0</td>\n",
       "      <td>1</td>\n",
       "      <td>0</td>\n",
       "      <td>0</td>\n",
       "      <td>0</td>\n",
       "      <td>0</td>\n",
       "      <td>0</td>\n",
       "      <td>...</td>\n",
       "      <td>0</td>\n",
       "      <td>0</td>\n",
       "      <td>0</td>\n",
       "      <td>0</td>\n",
       "      <td>0</td>\n",
       "      <td>1</td>\n",
       "      <td>0</td>\n",
       "      <td>0</td>\n",
       "      <td>0</td>\n",
       "      <td>0</td>\n",
       "    </tr>\n",
       "    <tr>\n",
       "      <th>161776</th>\n",
       "      <td>106400.0</td>\n",
       "      <td>0</td>\n",
       "      <td>0</td>\n",
       "      <td>1</td>\n",
       "      <td>0</td>\n",
       "      <td>0</td>\n",
       "      <td>0</td>\n",
       "      <td>0</td>\n",
       "      <td>0</td>\n",
       "      <td>0</td>\n",
       "      <td>...</td>\n",
       "      <td>0</td>\n",
       "      <td>0</td>\n",
       "      <td>0</td>\n",
       "      <td>0</td>\n",
       "      <td>0</td>\n",
       "      <td>0</td>\n",
       "      <td>0</td>\n",
       "      <td>1</td>\n",
       "      <td>0</td>\n",
       "      <td>0</td>\n",
       "    </tr>\n",
       "  </tbody>\n",
       "</table>\n",
       "<p>140586 rows × 26 columns</p>\n",
       "</div>"
      ],
      "text/plain": [
       "           HINCP  NP__1  NP__2  NP__3  NP__4  NP__5  NP__6  NP__7  NP__8  \\\n",
       "0       102200.0      0      1      0      0      0      0      0      0   \n",
       "1        69360.0      0      1      0      0      0      0      0      0   \n",
       "2       210500.0      0      0      1      0      0      0      0      0   \n",
       "3        50310.0      0      1      0      0      0      0      0      0   \n",
       "4        31200.0      0      0      0      0      1      0      0      0   \n",
       "...          ...    ...    ...    ...    ...    ...    ...    ...    ...   \n",
       "161771  141370.0      0      0      0      1      0      0      0      0   \n",
       "161772   60000.0      0      1      0      0      0      0      0      0   \n",
       "161774   55000.0      0      0      1      0      0      0      0      0   \n",
       "161775  102000.0      0      0      0      1      0      0      0      0   \n",
       "161776  106400.0      0      0      1      0      0      0      0      0   \n",
       "\n",
       "        NP__9  ...  NP__16  NP__19  NP__20  VEH__0.0  VEH__1.0  VEH__2.0  \\\n",
       "0           0  ...       0       0       0         0         0         1   \n",
       "1           0  ...       0       0       0         0         0         1   \n",
       "2           0  ...       0       0       0         0         0         0   \n",
       "3           0  ...       0       0       0         0         0         0   \n",
       "4           0  ...       0       0       0         1         0         0   \n",
       "...       ...  ...     ...     ...     ...       ...       ...       ...   \n",
       "161771      0  ...       0       0       0         0         0         1   \n",
       "161772      0  ...       0       0       0         0         0         1   \n",
       "161774      0  ...       0       0       0         0         0         1   \n",
       "161775      0  ...       0       0       0         0         0         1   \n",
       "161776      0  ...       0       0       0         0         0         0   \n",
       "\n",
       "        VEH__3.0  VEH__4.0  VEH__5.0  VEH__6.0  \n",
       "0              0         0         0         0  \n",
       "1              0         0         0         0  \n",
       "2              1         0         0         0  \n",
       "3              1         0         0         0  \n",
       "4              0         0         0         0  \n",
       "...          ...       ...       ...       ...  \n",
       "161771         0         0         0         0  \n",
       "161772         0         0         0         0  \n",
       "161774         0         0         0         0  \n",
       "161775         0         0         0         0  \n",
       "161776         0         1         0         0  \n",
       "\n",
       "[140586 rows x 26 columns]"
      ]
     },
     "execution_count": 5,
     "metadata": {},
     "output_type": "execute_result"
    }
   ],
   "source": [
    "# Final data frame after encoding OHE\n",
    "model_data_df = pums_data.iloc[:,:CAT_IDX]\n",
    "for ohe_var in dummies_list:\n",
    "    model_data_df = pd.concat([model_data_df, ohe_var], axis=1)\n",
    "MANIFEST_DIM = model_data_df.shape[1]\n",
    "\n",
    "# Preview data that will be fed into model\n",
    "model_data_df"
   ]
  },
  {
   "cell_type": "code",
   "execution_count": 6,
   "metadata": {},
   "outputs": [],
   "source": [
    "# Standardize the input data from -1 to 1 for numerical variables\n",
    "scaler = skpre.StandardScaler()\n",
    "model_data = model_data_df.values\n",
    "model_data[:,:CAT_IDX] = scaler.fit_transform(model_data[:,:CAT_IDX])\n",
    "\n",
    "# Remove rows with numerical outliers (3 < standard deviations)\n",
    "outlier_row_indices = np.where(np.any(model_data[:,:CAT_IDX] > 3, axis=1))\n",
    "model_data = np.delete(model_data, (outlier_row_indices), axis=0)\n",
    "\n",
    "# Separate into train/test data\n",
    "train_idx = round(len(model_data)*.9)\n",
    "train_data = model_data[0:train_idx,:]\n",
    "test_data = model_data[train_idx:len(model_data),:]"
   ]
  },
  {
   "cell_type": "markdown",
   "metadata": {},
   "source": [
    "## Set Parameters and Define Model"
   ]
  },
  {
   "cell_type": "code",
   "execution_count": 7,
   "metadata": {},
   "outputs": [],
   "source": [
    "# Hyperparameters\n",
    "BATCH_SIZE = 64\n",
    "EPOCHS = 100\n",
    "LEARN_RATE = 0.001\n",
    "RHO = 0.9\n",
    "LATENT_DIM = 2\n",
    "HIDDEN_DIM = 100\n",
    "KL_WEIGHT = 0.5"
   ]
  },
  {
   "cell_type": "code",
   "execution_count": 8,
   "metadata": {},
   "outputs": [],
   "source": [
    "# A layer that takes mean/variance as inputs and returns a random sample z\n",
    "class Sampling(layers.Layer):\n",
    "    def call(self, inputs):\n",
    "        z_mean, z_log_var = inputs\n",
    "        batch = tf.shape(z_mean)[0]\n",
    "        dim = tf.shape(z_mean)[1]\n",
    "        epsilon = tf.keras.backend.random_normal(shape=(batch, dim))\n",
    "        return z_mean + tf.exp(z_log_var) * epsilon"
   ]
  },
  {
   "cell_type": "code",
   "execution_count": 9,
   "metadata": {},
   "outputs": [
    {
     "name": "stdout",
     "output_type": "stream",
     "text": [
      "Model: \"encoder\"\n",
      "__________________________________________________________________________________________________\n",
      "Layer (type)                    Output Shape         Param #     Connected to                     \n",
      "==================================================================================================\n",
      "input_1 (InputLayer)            [(None, 26)]         0                                            \n",
      "__________________________________________________________________________________________________\n",
      "dense (Dense)                   (None, 100)          2700        input_1[0][0]                    \n",
      "__________________________________________________________________________________________________\n",
      "dense_1 (Dense)                 (None, 100)          10100       dense[0][0]                      \n",
      "__________________________________________________________________________________________________\n",
      "z_mean (Dense)                  (None, 2)            202         dense_1[0][0]                    \n",
      "__________________________________________________________________________________________________\n",
      "z_log_var (Dense)               (None, 2)            202         dense_1[0][0]                    \n",
      "__________________________________________________________________________________________________\n",
      "sampling (Sampling)             (None, 2)            0           z_mean[0][0]                     \n",
      "                                                                 z_log_var[0][0]                  \n",
      "==================================================================================================\n",
      "Total params: 13,204\n",
      "Trainable params: 13,204\n",
      "Non-trainable params: 0\n",
      "__________________________________________________________________________________________________\n"
     ]
    }
   ],
   "source": [
    "# Encoder\n",
    "encoder_inputs = keras.Input(shape=(MANIFEST_DIM,))\n",
    "encoder_x = layers.Dense(HIDDEN_DIM, activation=\"tanh\")(encoder_inputs)\n",
    "encoder_x = layers.Dense(HIDDEN_DIM, activation=\"tanh\")(encoder_x)\n",
    "z_mean = layers.Dense(LATENT_DIM, name=\"z_mean\")(encoder_x)\n",
    "z_log_var = layers.Dense(LATENT_DIM, name=\"z_log_var\")(encoder_x)\n",
    "z = Sampling()([z_mean, z_log_var])\n",
    "encoder = keras.Model(encoder_inputs, [z_mean, z_log_var, z], name=\"encoder\")\n",
    "encoder.summary()"
   ]
  },
  {
   "cell_type": "code",
   "execution_count": 10,
   "metadata": {},
   "outputs": [
    {
     "name": "stdout",
     "output_type": "stream",
     "text": [
      "Model: \"decoder\"\n",
      "__________________________________________________________________________________________________\n",
      "Layer (type)                    Output Shape         Param #     Connected to                     \n",
      "==================================================================================================\n",
      "input_2 (InputLayer)            [(None, 2)]          0                                            \n",
      "__________________________________________________________________________________________________\n",
      "dense_2 (Dense)                 (None, 100)          300         input_2[0][0]                    \n",
      "__________________________________________________________________________________________________\n",
      "dense_3 (Dense)                 (None, 100)          10100       dense_2[0][0]                    \n",
      "__________________________________________________________________________________________________\n",
      "dense_4 (Dense)                 (None, 1)            101         dense_3[0][0]                    \n",
      "__________________________________________________________________________________________________\n",
      "dense_5 (Dense)                 (None, 18)           1818        dense_3[0][0]                    \n",
      "__________________________________________________________________________________________________\n",
      "dense_6 (Dense)                 (None, 7)            707         dense_3[0][0]                    \n",
      "==================================================================================================\n",
      "Total params: 13,026\n",
      "Trainable params: 13,026\n",
      "Non-trainable params: 0\n",
      "__________________________________________________________________________________________________\n"
     ]
    }
   ],
   "source": [
    "# Decoder\n",
    "decoder_inputs = keras.Input(shape=(LATENT_DIM,))\n",
    "decoder_x = layers.Dense(HIDDEN_DIM, activation=\"tanh\")(decoder_inputs)\n",
    "decoder_x = layers.Dense(HIDDEN_DIM, activation=\"tanh\")(decoder_x)\n",
    "decoder_num_outputs = layers.Dense(CAT_IDX, activation=\"linear\")(decoder_x)\n",
    "decoder_cat_outputs = []\n",
    "for var_length in CAT_LENGTHS:\n",
    "    layer = layers.Dense(var_length, activation=\"softmax\")(decoder_x)\n",
    "    decoder_cat_outputs.append(layer)\n",
    "decoder = keras.Model(decoder_inputs, [decoder_num_outputs, decoder_cat_outputs], name=\"decoder\")\n",
    "decoder.summary()"
   ]
  },
  {
   "cell_type": "code",
   "execution_count": 11,
   "metadata": {},
   "outputs": [],
   "source": [
    "# Define custom loss function for combined numerical and categorical data\n",
    "def get_reconstruction_loss(data, reconstruction, CAT_IDX, CAT_LENGTHS):\n",
    "    # Handle case with no categorical variables\n",
    "    if len(CAT_LENGTHS) > 0:\n",
    "        reconstruction_num = reconstruction[0]\n",
    "    else:\n",
    "        reconstruction_num = reconstruction\n",
    "\n",
    "    # Mean squared error for numerical variables\n",
    "    data_num = data[:,:CAT_IDX]\n",
    "    loss_num = keras.losses.mean_squared_error(data_num, reconstruction_num)\n",
    "    loss_num = tf.reduce_mean(loss_num)\n",
    "    \n",
    "    # Categorical cross entropy for categorical variables\n",
    "    loss_list = []\n",
    "    current = CAT_IDX\n",
    "    for i, x in enumerate(CAT_LENGTHS):\n",
    "        data_cat = data[:,current:(current + x)]\n",
    "        reconstruction_cat = reconstruction[1][i]\n",
    "        loss = keras.losses.categorical_crossentropy(data_cat, reconstruction_cat, from_logits=False)\n",
    "        loss = tf.reduce_mean(loss)\n",
    "        loss_list.append(loss)\n",
    "        current += x\n",
    "    loss_cat = tf.reduce_sum(loss_list)\n",
    "\n",
    "    # Return both losses; they are combined in the model\n",
    "    return (loss_num, loss_cat)\n",
    "\n",
    "def get_kl_loss(z_mean, z_log_var):\n",
    "    kl_loss = 1 + z_log_var - tf.square(z_mean) - tf.exp(z_log_var)\n",
    "    kl_loss = tf.reduce_mean(kl_loss)\n",
    "    kl_loss = -kl_loss\n",
    "    return kl_loss"
   ]
  },
  {
   "cell_type": "code",
   "execution_count": 12,
   "metadata": {},
   "outputs": [],
   "source": [
    "# Loss metric recorder\n",
    "loss_tracker = keras.metrics.Mean(name=\"loss\")\n",
    "\n",
    "# Variational Autoencoder\n",
    "class VAE(keras.Model):\n",
    "    def __init__(self, encoder, decoder, CAT_IDX, CAT_LENGTHS, **kwargs):\n",
    "        super(VAE, self).__init__(**kwargs)\n",
    "        self.encoder = encoder\n",
    "        self.decoder = decoder\n",
    "        self.CAT_IDX = CAT_IDX\n",
    "        self.CAT_LENGTHS = CAT_LENGTHS\n",
    "\n",
    "    def train_step(self, data):\n",
    "        if isinstance(data, tuple):\n",
    "            data = data[0]\n",
    "        with tf.GradientTape() as tape:\n",
    "            # Get latent vars from the encoder; feed to decoder and get sampled manifest variables\n",
    "            z_mean, z_log_var, z = encoder(data)\n",
    "            reconstruction = decoder(z)\n",
    "\n",
    "            # Get loss between input values and reconstruction\n",
    "            reconstruction_loss_num, reconstruction_loss_cat = get_reconstruction_loss(\n",
    "                data,\n",
    "                reconstruction,\n",
    "                self.CAT_IDX,\n",
    "                self.CAT_LENGTHS\n",
    "            )\n",
    "            reconstruction_loss = tf.add(reconstruction_loss_num, reconstruction_loss_cat)\n",
    "\n",
    "            # Get Kullback Leidler loss between normal distribution and actual for latent variables\n",
    "            kl_loss = get_kl_loss(z_mean, z_log_var)\n",
    "            kl_loss = kl_loss * KL_WEIGHT\n",
    "\n",
    "            # Combine into single loss term\n",
    "            total_loss = reconstruction_loss + kl_loss\n",
    "\n",
    "        # Get new gradients given the loss and take another step (update weights)\n",
    "        grads = tape.gradient(total_loss, self.trainable_weights)\n",
    "        self.optimizer.apply_gradients(zip(grads, self.trainable_weights))\n",
    "\n",
    "        # Record the loss metrics\n",
    "        loss_tracker.update_state(total_loss)\n",
    "\n",
    "        return {\n",
    "            \"total_loss\": loss_tracker.result(),\n",
    "            \"reconstruction_loss\": reconstruction_loss,\n",
    "            \"reconstruction_loss_num\": reconstruction_loss_num,\n",
    "            \"reconstruction_loss_cat\": reconstruction_loss_cat,\n",
    "            \"kl_loss\": kl_loss,\n",
    "        }\n",
    "\n",
    "    def call(self, inputs):\n",
    "        z_mean, z_log_var, z = self.encoder(inputs)\n",
    "        reconstruction = self.decoder(z)\n",
    "        return reconstruction\n",
    "\n",
    "    @property\n",
    "    def metrics(self):\n",
    "        return [loss_tracker]"
   ]
  },
  {
   "cell_type": "markdown",
   "metadata": {},
   "source": [
    "## Training"
   ]
  },
  {
   "cell_type": "code",
   "execution_count": 13,
   "metadata": {
    "scrolled": true
   },
   "outputs": [
    {
     "name": "stdout",
     "output_type": "stream",
     "text": [
      "Epoch 1/100\n",
      "1935/1935 [==============================] - 5s 2ms/step - total_loss: 2.3236 - reconstruction_loss: 1.1224 - reconstruction_loss_num: 0.3537 - reconstruction_loss_cat: 0.7687 - kl_loss: 0.7559\n",
      "Epoch 2/100\n",
      "1935/1935 [==============================] - 5s 3ms/step - total_loss: 1.4283 - reconstruction_loss: 0.4841 - reconstruction_loss_num: 0.2712 - reconstruction_loss_cat: 0.2129 - kl_loss: 0.9084\n",
      "Epoch 3/100\n",
      "1935/1935 [==============================] - 4s 2ms/step - total_loss: 1.3255 - reconstruction_loss: 0.3822 - reconstruction_loss_num: 0.2157 - reconstruction_loss_cat: 0.1666 - kl_loss: 0.9327\n",
      "Epoch 4/100\n",
      "1935/1935 [==============================] - 5s 2ms/step - total_loss: 1.2900 - reconstruction_loss: 0.3367 - reconstruction_loss_num: 0.1935 - reconstruction_loss_cat: 0.1432 - kl_loss: 0.9414\n",
      "Epoch 5/100\n",
      "1935/1935 [==============================] - 4s 2ms/step - total_loss: 1.2567 - reconstruction_loss: 0.3062 - reconstruction_loss_num: 0.1775 - reconstruction_loss_cat: 0.1287 - kl_loss: 0.9471\n",
      "Epoch 6/100\n",
      "1935/1935 [==============================] - 4s 2ms/step - total_loss: 1.2437 - reconstruction_loss: 0.2860 - reconstruction_loss_num: 0.1659 - reconstruction_loss_cat: 0.1201 - kl_loss: 0.9527\n",
      "Epoch 7/100\n",
      "1935/1935 [==============================] - 5s 3ms/step - total_loss: 1.2263 - reconstruction_loss: 0.2750 - reconstruction_loss_num: 0.1603 - reconstruction_loss_cat: 0.1148 - kl_loss: 0.9518\n",
      "Epoch 8/100\n",
      "1935/1935 [==============================] - 4s 2ms/step - total_loss: 1.2204 - reconstruction_loss: 0.2642 - reconstruction_loss_num: 0.1533 - reconstruction_loss_cat: 0.1110 - kl_loss: 0.9542\n",
      "Epoch 9/100\n",
      "1935/1935 [==============================] - 4s 2ms/step - total_loss: 1.2135 - reconstruction_loss: 0.2576 - reconstruction_loss_num: 0.1501 - reconstruction_loss_cat: 0.1076 - kl_loss: 0.9520\n",
      "Epoch 10/100\n",
      "1935/1935 [==============================] - 4s 2ms/step - total_loss: 1.2074 - reconstruction_loss: 0.2513 - reconstruction_loss_num: 0.1469 - reconstruction_loss_cat: 0.1044 - kl_loss: 0.9552\n",
      "Epoch 11/100\n",
      "1935/1935 [==============================] - 5s 3ms/step - total_loss: 1.2055 - reconstruction_loss: 0.2465 - reconstruction_loss_num: 0.1419 - reconstruction_loss_cat: 0.1045 - kl_loss: 0.9557\n",
      "Epoch 12/100\n",
      "1935/1935 [==============================] - 5s 2ms/step - total_loss: 1.2032 - reconstruction_loss: 0.2428 - reconstruction_loss_num: 0.1411 - reconstruction_loss_cat: 0.1017 - kl_loss: 0.9561\n",
      "Epoch 13/100\n",
      "1935/1935 [==============================] - 4s 2ms/step - total_loss: 1.1941 - reconstruction_loss: 0.2389 - reconstruction_loss_num: 0.1394 - reconstruction_loss_cat: 0.0995 - kl_loss: 0.9562\n",
      "Epoch 14/100\n",
      "1935/1935 [==============================] - 4s 2ms/step - total_loss: 1.1898 - reconstruction_loss: 0.2342 - reconstruction_loss_num: 0.1364 - reconstruction_loss_cat: 0.0978 - kl_loss: 0.9561\n",
      "Epoch 15/100\n",
      "1935/1935 [==============================] - 4s 2ms/step - total_loss: 1.1866 - reconstruction_loss: 0.2313 - reconstruction_loss_num: 0.1353 - reconstruction_loss_cat: 0.0960 - kl_loss: 0.9547\n",
      "Epoch 16/100\n",
      "1935/1935 [==============================] - 4s 2ms/step - total_loss: 1.1836 - reconstruction_loss: 0.2285 - reconstruction_loss_num: 0.1329 - reconstruction_loss_cat: 0.0956 - kl_loss: 0.9526\n",
      "Epoch 17/100\n",
      "1935/1935 [==============================] - 4s 2ms/step - total_loss: 1.1788 - reconstruction_loss: 0.2238 - reconstruction_loss_num: 0.1291 - reconstruction_loss_cat: 0.0948 - kl_loss: 0.9545\n",
      "Epoch 18/100\n",
      "1935/1935 [==============================] - 4s 2ms/step - total_loss: 1.1776 - reconstruction_loss: 0.2227 - reconstruction_loss_num: 0.1282 - reconstruction_loss_cat: 0.0945 - kl_loss: 0.9529\n",
      "Epoch 19/100\n",
      "1935/1935 [==============================] - 4s 2ms/step - total_loss: 1.1754 - reconstruction_loss: 0.2186 - reconstruction_loss_num: 0.1265 - reconstruction_loss_cat: 0.0921 - kl_loss: 0.9535\n",
      "Epoch 20/100\n",
      "1935/1935 [==============================] - 4s 2ms/step - total_loss: 1.1708 - reconstruction_loss: 0.2159 - reconstruction_loss_num: 0.1245 - reconstruction_loss_cat: 0.0914 - kl_loss: 0.9551\n",
      "Epoch 21/100\n",
      "1935/1935 [==============================] - 4s 2ms/step - total_loss: 1.1674 - reconstruction_loss: 0.2139 - reconstruction_loss_num: 0.1238 - reconstruction_loss_cat: 0.0901 - kl_loss: 0.9529\n",
      "Epoch 22/100\n",
      "1935/1935 [==============================] - 4s 2ms/step - total_loss: 1.1623 - reconstruction_loss: 0.2124 - reconstruction_loss_num: 0.1230 - reconstruction_loss_cat: 0.0894 - kl_loss: 0.9522\n",
      "Epoch 23/100\n",
      "1935/1935 [==============================] - 4s 2ms/step - total_loss: 1.1649 - reconstruction_loss: 0.2130 - reconstruction_loss_num: 0.1226 - reconstruction_loss_cat: 0.0904 - kl_loss: 0.9528\n",
      "Epoch 24/100\n",
      "1935/1935 [==============================] - 4s 2ms/step - total_loss: 1.1664 - reconstruction_loss: 0.2126 - reconstruction_loss_num: 0.1232 - reconstruction_loss_cat: 0.0894 - kl_loss: 0.9518\n",
      "Epoch 25/100\n",
      "1935/1935 [==============================] - 4s 2ms/step - total_loss: 1.1679 - reconstruction_loss: 0.2151 - reconstruction_loss_num: 0.1233 - reconstruction_loss_cat: 0.0918 - kl_loss: 0.9533\n",
      "Epoch 26/100\n",
      "1935/1935 [==============================] - 4s 2ms/step - total_loss: 1.1633 - reconstruction_loss: 0.2116 - reconstruction_loss_num: 0.1226 - reconstruction_loss_cat: 0.0890 - kl_loss: 0.9515\n",
      "Epoch 27/100\n",
      "1935/1935 [==============================] - 4s 2ms/step - total_loss: 1.1634 - reconstruction_loss: 0.2104 - reconstruction_loss_num: 0.1208 - reconstruction_loss_cat: 0.0895 - kl_loss: 0.9531\n",
      "Epoch 28/100\n",
      "1935/1935 [==============================] - 4s 2ms/step - total_loss: 1.1601 - reconstruction_loss: 0.2099 - reconstruction_loss_num: 0.1207 - reconstruction_loss_cat: 0.0892 - kl_loss: 0.9524\n",
      "Epoch 29/100\n",
      "1935/1935 [==============================] - 4s 2ms/step - total_loss: 1.1635 - reconstruction_loss: 0.2109 - reconstruction_loss_num: 0.1205 - reconstruction_loss_cat: 0.0903 - kl_loss: 0.9528\n",
      "Epoch 30/100\n",
      "1935/1935 [==============================] - 4s 2ms/step - total_loss: 1.1598 - reconstruction_loss: 0.2074 - reconstruction_loss_num: 0.1192 - reconstruction_loss_cat: 0.0882 - kl_loss: 0.9526\n",
      "Epoch 31/100\n",
      "1935/1935 [==============================] - 4s 2ms/step - total_loss: 1.1676 - reconstruction_loss: 0.2096 - reconstruction_loss_num: 0.1191 - reconstruction_loss_cat: 0.0905 - kl_loss: 0.9549\n",
      "Epoch 32/100\n",
      "1935/1935 [==============================] - 4s 2ms/step - total_loss: 1.1676 - reconstruction_loss: 0.2078 - reconstruction_loss_num: 0.1187 - reconstruction_loss_cat: 0.0891 - kl_loss: 0.9555\n",
      "Epoch 33/100\n",
      "1935/1935 [==============================] - 4s 2ms/step - total_loss: 1.1607 - reconstruction_loss: 0.2073 - reconstruction_loss_num: 0.1177 - reconstruction_loss_cat: 0.0896 - kl_loss: 0.9548\n",
      "Epoch 34/100\n",
      "1935/1935 [==============================] - 4s 2ms/step - total_loss: 1.1669 - reconstruction_loss: 0.2082 - reconstruction_loss_num: 0.1192 - reconstruction_loss_cat: 0.0889 - kl_loss: 0.9551\n",
      "Epoch 35/100\n",
      "1935/1935 [==============================] - 4s 2ms/step - total_loss: 1.1634 - reconstruction_loss: 0.2071 - reconstruction_loss_num: 0.1180 - reconstruction_loss_cat: 0.0891 - kl_loss: 0.9567\n",
      "Epoch 36/100\n",
      "1935/1935 [==============================] - 4s 2ms/step - total_loss: 1.1631 - reconstruction_loss: 0.2056 - reconstruction_loss_num: 0.1179 - reconstruction_loss_cat: 0.0876 - kl_loss: 0.9553\n",
      "Epoch 37/100\n",
      "1935/1935 [==============================] - 4s 2ms/step - total_loss: 1.1634 - reconstruction_loss: 0.2083 - reconstruction_loss_num: 0.1194 - reconstruction_loss_cat: 0.0890 - kl_loss: 0.9523\n",
      "Epoch 38/100\n",
      "1935/1935 [==============================] - 4s 2ms/step - total_loss: 1.1625 - reconstruction_loss: 0.2076 - reconstruction_loss_num: 0.1180 - reconstruction_loss_cat: 0.0895 - kl_loss: 0.9541\n",
      "Epoch 39/100\n",
      "1935/1935 [==============================] - 4s 2ms/step - total_loss: 1.1680 - reconstruction_loss: 0.2082 - reconstruction_loss_num: 0.1191 - reconstruction_loss_cat: 0.0891 - kl_loss: 0.9562\n",
      "Epoch 40/100\n",
      "1935/1935 [==============================] - 4s 2ms/step - total_loss: 1.1595 - reconstruction_loss: 0.2070 - reconstruction_loss_num: 0.1184 - reconstruction_loss_cat: 0.0885 - kl_loss: 0.9533\n",
      "Epoch 41/100\n",
      "1935/1935 [==============================] - 4s 2ms/step - total_loss: 1.1609 - reconstruction_loss: 0.2074 - reconstruction_loss_num: 0.1185 - reconstruction_loss_cat: 0.0889 - kl_loss: 0.9548\n",
      "Epoch 42/100\n",
      "1935/1935 [==============================] - 4s 2ms/step - total_loss: 1.1603 - reconstruction_loss: 0.2063 - reconstruction_loss_num: 0.1183 - reconstruction_loss_cat: 0.0880 - kl_loss: 0.9529\n",
      "Epoch 43/100\n",
      "1935/1935 [==============================] - 4s 2ms/step - total_loss: 1.1640 - reconstruction_loss: 0.2085 - reconstruction_loss_num: 0.1193 - reconstruction_loss_cat: 0.0892 - kl_loss: 0.9543\n",
      "Epoch 44/100\n",
      "1935/1935 [==============================] - 4s 2ms/step - total_loss: 1.1608 - reconstruction_loss: 0.2077 - reconstruction_loss_num: 0.1188 - reconstruction_loss_cat: 0.0889 - kl_loss: 0.9544\n",
      "Epoch 45/100\n",
      "1935/1935 [==============================] - 4s 2ms/step - total_loss: 1.1632 - reconstruction_loss: 0.2047 - reconstruction_loss_num: 0.1175 - reconstruction_loss_cat: 0.0872 - kl_loss: 0.9555\n",
      "Epoch 46/100\n",
      "1935/1935 [==============================] - 4s 2ms/step - total_loss: 1.1584 - reconstruction_loss: 0.2056 - reconstruction_loss_num: 0.1177 - reconstruction_loss_cat: 0.0879 - kl_loss: 0.9544\n",
      "Epoch 47/100\n",
      "1935/1935 [==============================] - 4s 2ms/step - total_loss: 1.1599 - reconstruction_loss: 0.2066 - reconstruction_loss_num: 0.1182 - reconstruction_loss_cat: 0.0884 - kl_loss: 0.9540\n",
      "Epoch 48/100\n",
      "1935/1935 [==============================] - 4s 2ms/step - total_loss: 1.1595 - reconstruction_loss: 0.2088 - reconstruction_loss_num: 0.1180 - reconstruction_loss_cat: 0.0908 - kl_loss: 0.9527\n",
      "Epoch 49/100\n",
      "1935/1935 [==============================] - 4s 2ms/step - total_loss: 1.1549 - reconstruction_loss: 0.2042 - reconstruction_loss_num: 0.1173 - reconstruction_loss_cat: 0.0869 - kl_loss: 0.9530\n",
      "Epoch 50/100\n",
      "1935/1935 [==============================] - 4s 2ms/step - total_loss: 1.1564 - reconstruction_loss: 0.2045 - reconstruction_loss_num: 0.1170 - reconstruction_loss_cat: 0.0875 - kl_loss: 0.9531\n",
      "Epoch 51/100\n",
      "1935/1935 [==============================] - 4s 2ms/step - total_loss: 1.1571 - reconstruction_loss: 0.2023 - reconstruction_loss_num: 0.1165 - reconstruction_loss_cat: 0.0858 - kl_loss: 0.9542\n",
      "Epoch 52/100\n",
      "1935/1935 [==============================] - 4s 2ms/step - total_loss: 1.1543 - reconstruction_loss: 0.2023 - reconstruction_loss_num: 0.1170 - reconstruction_loss_cat: 0.0853 - kl_loss: 0.9540\n",
      "Epoch 53/100\n",
      "1935/1935 [==============================] - 4s 2ms/step - total_loss: 1.1545 - reconstruction_loss: 0.2029 - reconstruction_loss_num: 0.1171 - reconstruction_loss_cat: 0.0858 - kl_loss: 0.9522\n",
      "Epoch 54/100\n",
      "1935/1935 [==============================] - 5s 3ms/step - total_loss: 1.1580 - reconstruction_loss: 0.2025 - reconstruction_loss_num: 0.1169 - reconstruction_loss_cat: 0.0856 - kl_loss: 0.9534\n",
      "Epoch 55/100\n",
      "1935/1935 [==============================] - 5s 3ms/step - total_loss: 1.1586 - reconstruction_loss: 0.2027 - reconstruction_loss_num: 0.1159 - reconstruction_loss_cat: 0.0868 - kl_loss: 0.9554\n",
      "Epoch 56/100\n",
      "1935/1935 [==============================] - 5s 3ms/step - total_loss: 1.1580 - reconstruction_loss: 0.2024 - reconstruction_loss_num: 0.1158 - reconstruction_loss_cat: 0.0867 - kl_loss: 0.9546\n",
      "Epoch 57/100\n",
      "1935/1935 [==============================] - 4s 2ms/step - total_loss: 1.1600 - reconstruction_loss: 0.2018 - reconstruction_loss_num: 0.1158 - reconstruction_loss_cat: 0.0860 - kl_loss: 0.9571\n",
      "Epoch 58/100\n",
      "1935/1935 [==============================] - 4s 2ms/step - total_loss: 1.1579 - reconstruction_loss: 0.2063 - reconstruction_loss_num: 0.1171 - reconstruction_loss_cat: 0.0891 - kl_loss: 0.9521\n",
      "Epoch 59/100\n",
      "1935/1935 [==============================] - 4s 2ms/step - total_loss: 1.1568 - reconstruction_loss: 0.2021 - reconstruction_loss_num: 0.1159 - reconstruction_loss_cat: 0.0862 - kl_loss: 0.9545\n",
      "Epoch 60/100\n",
      "1935/1935 [==============================] - 4s 2ms/step - total_loss: 1.1566 - reconstruction_loss: 0.2028 - reconstruction_loss_num: 0.1160 - reconstruction_loss_cat: 0.0868 - kl_loss: 0.9534\n",
      "Epoch 61/100\n",
      "1935/1935 [==============================] - 4s 2ms/step - total_loss: 1.1551 - reconstruction_loss: 0.2023 - reconstruction_loss_num: 0.1161 - reconstruction_loss_cat: 0.0862 - kl_loss: 0.9543\n",
      "Epoch 62/100\n",
      "1935/1935 [==============================] - 4s 2ms/step - total_loss: 1.1537 - reconstruction_loss: 0.2026 - reconstruction_loss_num: 0.1167 - reconstruction_loss_cat: 0.0859 - kl_loss: 0.9518\n",
      "Epoch 63/100\n",
      "1935/1935 [==============================] - 4s 2ms/step - total_loss: 1.1587 - reconstruction_loss: 0.2020 - reconstruction_loss_num: 0.1164 - reconstruction_loss_cat: 0.0856 - kl_loss: 0.9547\n",
      "Epoch 64/100\n",
      "1935/1935 [==============================] - 4s 2ms/step - total_loss: 1.1549 - reconstruction_loss: 0.2051 - reconstruction_loss_num: 0.1165 - reconstruction_loss_cat: 0.0886 - kl_loss: 0.9513\n",
      "Epoch 65/100\n",
      "1935/1935 [==============================] - 5s 2ms/step - total_loss: 1.1572 - reconstruction_loss: 0.2036 - reconstruction_loss_num: 0.1162 - reconstruction_loss_cat: 0.0873 - kl_loss: 0.9528\n",
      "Epoch 66/100\n",
      "1935/1935 [==============================] - 5s 3ms/step - total_loss: 1.1538 - reconstruction_loss: 0.2013 - reconstruction_loss_num: 0.1151 - reconstruction_loss_cat: 0.0862 - kl_loss: 0.9543\n",
      "Epoch 67/100\n",
      "1935/1935 [==============================] - 4s 2ms/step - total_loss: 1.1558 - reconstruction_loss: 0.2037 - reconstruction_loss_num: 0.1171 - reconstruction_loss_cat: 0.0866 - kl_loss: 0.9516\n",
      "Epoch 68/100\n",
      "1935/1935 [==============================] - 4s 2ms/step - total_loss: 1.1525 - reconstruction_loss: 0.2037 - reconstruction_loss_num: 0.1169 - reconstruction_loss_cat: 0.0869 - kl_loss: 0.9516\n",
      "Epoch 69/100\n",
      "1935/1935 [==============================] - 4s 2ms/step - total_loss: 1.1558 - reconstruction_loss: 0.2022 - reconstruction_loss_num: 0.1163 - reconstruction_loss_cat: 0.0859 - kl_loss: 0.9531\n",
      "Epoch 70/100\n",
      "1935/1935 [==============================] - 4s 2ms/step - total_loss: 1.1549 - reconstruction_loss: 0.2023 - reconstruction_loss_num: 0.1156 - reconstruction_loss_cat: 0.0867 - kl_loss: 0.9520\n",
      "Epoch 71/100\n",
      "1935/1935 [==============================] - 4s 2ms/step - total_loss: 1.1572 - reconstruction_loss: 0.2029 - reconstruction_loss_num: 0.1154 - reconstruction_loss_cat: 0.0875 - kl_loss: 0.9540\n",
      "Epoch 72/100\n",
      "1935/1935 [==============================] - 4s 2ms/step - total_loss: 1.1582 - reconstruction_loss: 0.2039 - reconstruction_loss_num: 0.1174 - reconstruction_loss_cat: 0.0865 - kl_loss: 0.9528\n",
      "Epoch 73/100\n",
      "1935/1935 [==============================] - 4s 2ms/step - total_loss: 1.1546 - reconstruction_loss: 0.2037 - reconstruction_loss_num: 0.1167 - reconstruction_loss_cat: 0.0870 - kl_loss: 0.9520\n",
      "Epoch 74/100\n",
      "1935/1935 [==============================] - 5s 2ms/step - total_loss: 1.1587 - reconstruction_loss: 0.2064 - reconstruction_loss_num: 0.1172 - reconstruction_loss_cat: 0.0892 - kl_loss: 0.9519\n",
      "Epoch 75/100\n",
      "1935/1935 [==============================] - 5s 2ms/step - total_loss: 1.1542 - reconstruction_loss: 0.2033 - reconstruction_loss_num: 0.1156 - reconstruction_loss_cat: 0.0876 - kl_loss: 0.9550\n",
      "Epoch 76/100\n",
      "1935/1935 [==============================] - 5s 3ms/step - total_loss: 1.1569 - reconstruction_loss: 0.2035 - reconstruction_loss_num: 0.1158 - reconstruction_loss_cat: 0.0876 - kl_loss: 0.9526\n",
      "Epoch 77/100\n",
      "1935/1935 [==============================] - 5s 3ms/step - total_loss: 1.1612 - reconstruction_loss: 0.2060 - reconstruction_loss_num: 0.1154 - reconstruction_loss_cat: 0.0906 - kl_loss: 0.9534\n",
      "Epoch 78/100\n",
      "1935/1935 [==============================] - 5s 2ms/step - total_loss: 1.1574 - reconstruction_loss: 0.2038 - reconstruction_loss_num: 0.1142 - reconstruction_loss_cat: 0.0897 - kl_loss: 0.9541\n",
      "Epoch 79/100\n"
     ]
    },
    {
     "name": "stdout",
     "output_type": "stream",
     "text": [
      "1935/1935 [==============================] - 4s 2ms/step - total_loss: 1.1553 - reconstruction_loss: 0.2040 - reconstruction_loss_num: 0.1139 - reconstruction_loss_cat: 0.0901 - kl_loss: 0.9546\n",
      "Epoch 80/100\n",
      "1935/1935 [==============================] - 5s 2ms/step - total_loss: 1.1548 - reconstruction_loss: 0.2029 - reconstruction_loss_num: 0.1139 - reconstruction_loss_cat: 0.0889 - kl_loss: 0.9546\n",
      "Epoch 81/100\n",
      "1935/1935 [==============================] - 5s 2ms/step - total_loss: 1.1597 - reconstruction_loss: 0.2024 - reconstruction_loss_num: 0.1145 - reconstruction_loss_cat: 0.0878 - kl_loss: 0.9549\n",
      "Epoch 82/100\n",
      "1935/1935 [==============================] - 4s 2ms/step - total_loss: 1.1575 - reconstruction_loss: 0.2024 - reconstruction_loss_num: 0.1138 - reconstruction_loss_cat: 0.0887 - kl_loss: 0.9540\n",
      "Epoch 83/100\n",
      "1935/1935 [==============================] - 4s 2ms/step - total_loss: 1.1565 - reconstruction_loss: 0.2040 - reconstruction_loss_num: 0.1145 - reconstruction_loss_cat: 0.0895 - kl_loss: 0.9535\n",
      "Epoch 84/100\n",
      "1935/1935 [==============================] - 5s 2ms/step - total_loss: 1.1601 - reconstruction_loss: 0.2038 - reconstruction_loss_num: 0.1149 - reconstruction_loss_cat: 0.0889 - kl_loss: 0.9550\n",
      "Epoch 85/100\n",
      "1935/1935 [==============================] - 4s 2ms/step - total_loss: 1.1578 - reconstruction_loss: 0.2036 - reconstruction_loss_num: 0.1157 - reconstruction_loss_cat: 0.0878 - kl_loss: 0.9548\n",
      "Epoch 86/100\n",
      "1935/1935 [==============================] - 5s 2ms/step - total_loss: 1.1598 - reconstruction_loss: 0.2004 - reconstruction_loss_num: 0.1134 - reconstruction_loss_cat: 0.0870 - kl_loss: 0.9561\n",
      "Epoch 87/100\n",
      "1935/1935 [==============================] - 4s 2ms/step - total_loss: 1.1565 - reconstruction_loss: 0.2023 - reconstruction_loss_num: 0.1146 - reconstruction_loss_cat: 0.0876 - kl_loss: 0.9551\n",
      "Epoch 88/100\n",
      "1935/1935 [==============================] - 4s 2ms/step - total_loss: 1.1565 - reconstruction_loss: 0.2026 - reconstruction_loss_num: 0.1137 - reconstruction_loss_cat: 0.0888 - kl_loss: 0.9535\n",
      "Epoch 89/100\n",
      "1935/1935 [==============================] - 4s 2ms/step - total_loss: 1.1570 - reconstruction_loss: 0.2021 - reconstruction_loss_num: 0.1153 - reconstruction_loss_cat: 0.0868 - kl_loss: 0.9553\n",
      "Epoch 90/100\n",
      "1935/1935 [==============================] - 4s 2ms/step - total_loss: 1.1603 - reconstruction_loss: 0.2028 - reconstruction_loss_num: 0.1138 - reconstruction_loss_cat: 0.0889 - kl_loss: 0.9561\n",
      "Epoch 91/100\n",
      "1935/1935 [==============================] - 4s 2ms/step - total_loss: 1.1576 - reconstruction_loss: 0.2026 - reconstruction_loss_num: 0.1142 - reconstruction_loss_cat: 0.0885 - kl_loss: 0.9553\n",
      "Epoch 92/100\n",
      "1935/1935 [==============================] - 4s 2ms/step - total_loss: 1.1592 - reconstruction_loss: 0.2036 - reconstruction_loss_num: 0.1149 - reconstruction_loss_cat: 0.0888 - kl_loss: 0.9551\n",
      "Epoch 93/100\n",
      "1935/1935 [==============================] - 4s 2ms/step - total_loss: 1.1556 - reconstruction_loss: 0.2026 - reconstruction_loss_num: 0.1142 - reconstruction_loss_cat: 0.0884 - kl_loss: 0.9527\n",
      "Epoch 94/100\n",
      "1935/1935 [==============================] - 5s 2ms/step - total_loss: 1.1596 - reconstruction_loss: 0.2033 - reconstruction_loss_num: 0.1145 - reconstruction_loss_cat: 0.0889 - kl_loss: 0.9537\n",
      "Epoch 95/100\n",
      "1935/1935 [==============================] - 5s 3ms/step - total_loss: 1.1562 - reconstruction_loss: 0.2026 - reconstruction_loss_num: 0.1156 - reconstruction_loss_cat: 0.0870 - kl_loss: 0.9538\n",
      "Epoch 96/100\n",
      "1935/1935 [==============================] - 5s 2ms/step - total_loss: 1.1566 - reconstruction_loss: 0.2041 - reconstruction_loss_num: 0.1157 - reconstruction_loss_cat: 0.0884 - kl_loss: 0.9533\n",
      "Epoch 97/100\n",
      "1935/1935 [==============================] - 4s 2ms/step - total_loss: 1.1541 - reconstruction_loss: 0.2018 - reconstruction_loss_num: 0.1142 - reconstruction_loss_cat: 0.0876 - kl_loss: 0.9525\n",
      "Epoch 98/100\n",
      "1935/1935 [==============================] - 4s 2ms/step - total_loss: 1.1565 - reconstruction_loss: 0.2031 - reconstruction_loss_num: 0.1137 - reconstruction_loss_cat: 0.0894 - kl_loss: 0.9525\n",
      "Epoch 99/100\n",
      "1935/1935 [==============================] - 4s 2ms/step - total_loss: 1.1556 - reconstruction_loss: 0.2016 - reconstruction_loss_num: 0.1134 - reconstruction_loss_cat: 0.0882 - kl_loss: 0.9539\n",
      "Epoch 100/100\n",
      "1935/1935 [==============================] - 4s 2ms/step - total_loss: 1.1586 - reconstruction_loss: 0.2014 - reconstruction_loss_num: 0.1131 - reconstruction_loss_cat: 0.0883 - kl_loss: 0.9554\n"
     ]
    }
   ],
   "source": [
    "# Train\n",
    "vae = VAE(encoder, decoder, CAT_IDX, CAT_LENGTHS)\n",
    "vae.compile(optimizer=keras.optimizers.RMSprop(learning_rate=LEARN_RATE, rho=RHO))\n",
    "history = vae.fit(train_data, epochs=EPOCHS, batch_size=BATCH_SIZE)"
   ]
  },
  {
   "cell_type": "code",
   "execution_count": 14,
   "metadata": {},
   "outputs": [
    {
     "data": {
      "image/png": "[encoded data removed]",
      "text/plain": [
       "<Figure size 432x288 with 1 Axes>"
      ]
     },
     "metadata": {
      "needs_background": "light"
     },
     "output_type": "display_data"
    }
   ],
   "source": [
    "# Plot model loss/training progress\n",
    "plt.plot(history.history['total_loss'])\n",
    "plt.plot(history.history['reconstruction_loss_num'])\n",
    "plt.plot(history.history['reconstruction_loss_cat'])\n",
    "plt.plot(history.history['kl_loss'])\n",
    "plt.title(\"Training History\")\n",
    "plt.ylabel(\"Loss\")\n",
    "plt.xlabel(\"Epoch\")\n",
    "plt.legend([\"total\",\"rec_num\",\"rec_cat\",\"kl\"], loc=\"upper right\")\n",
    "plt.show()"
   ]
  },
  {
   "cell_type": "markdown",
   "metadata": {},
   "source": [
    "## Testing"
   ]
  },
  {
   "cell_type": "code",
   "execution_count": 15,
   "metadata": {},
   "outputs": [
    {
     "name": "stdout",
     "output_type": "stream",
     "text": [
      "Latent Variable: 0\n",
      "Mean: 0.01914486661553383\n",
      "Variance: 1.1081804037094116\n",
      "\n"
     ]
    },
    {
     "data": {
      "image/png": "[encoded data removed]",
      "text/plain": [
       "<Figure size 432x288 with 1 Axes>"
      ]
     },
     "metadata": {
      "needs_background": "light"
     },
     "output_type": "display_data"
    },
    {
     "name": "stdout",
     "output_type": "stream",
     "text": [
      "Latent Variable: 1\n",
      "Mean: 0.035873495042324066\n",
      "Variance: 1.103913426399231\n",
      "\n"
     ]
    },
    {
     "data": {
      "image/png": "[encoded data removed]",
      "text/plain": [
       "<Figure size 432x288 with 1 Axes>"
      ]
     },
     "metadata": {
      "needs_background": "light"
     },
     "output_type": "display_data"
    }
   ],
   "source": [
    "# Get latent vars from the encoder; feed to decoder and get sampled manifest variables\n",
    "z_mean, z_logvar, z = vae.encoder.predict(test_data[:,:MANIFEST_DIM])\n",
    "\n",
    "# Record the posterior trained distributions for z\n",
    "latent_means = []\n",
    "latent_vars = []\n",
    "\n",
    "# Determine the average values for the mean/logvariance of the latent variables\n",
    "for i in range(0, LATENT_DIM):\n",
    "    epsilon = np.random.normal(loc=0, scale=1, size=1000)\n",
    "    avg_mean = np.mean(z_mean[:,i])\n",
    "    latent_means.append(avg_mean)\n",
    "    avg_var = np.exp(np.mean(z_logvar[:,i]))\n",
    "    latent_vars.append(avg_var)\n",
    "    print(f\"Latent Variable: {i}\")\n",
    "    print(f\"Mean: {avg_mean}\")\n",
    "    print(f\"Variance: {np.exp(avg_var)}\\n\")\n",
    "    samples = avg_mean + (avg_var * epsilon)\n",
    "    plt.hist(samples, bins=50)\n",
    "    plt.show()"
   ]
  },
  {
   "cell_type": "code",
   "execution_count": 16,
   "metadata": {},
   "outputs": [
    {
     "name": "stdout",
     "output_type": "stream",
     "text": [
      "Numerical Variable Loss: 0.13294243812561035\n",
      "Categorical Variable Loss: 0.13338696956634521\n"
     ]
    }
   ],
   "source": [
    "# Draw predictions from test data\n",
    "results = vae.predict(test_data)\n",
    "loss_num, loss_cat = get_reconstruction_loss(test_data, results, CAT_IDX, CAT_LENGTHS)\n",
    "print(f\"Numerical Variable Loss: {loss_num}\")\n",
    "print(f\"Categorical Variable Loss: {loss_cat}\")"
   ]
  },
  {
   "cell_type": "code",
   "execution_count": 17,
   "metadata": {},
   "outputs": [],
   "source": [
    "# Handle case where no categorical variables\n",
    "if len(CAT_LENGTHS) > 0:\n",
    "    # Transform numeric results back to real variable values\n",
    "    results_num = scaler.inverse_transform(results[0])\n",
    "    results_df = pd.DataFrame(results_num)\n",
    "\n",
    "    # Transform categorical results back to real variable values\n",
    "    for x in results[1]:\n",
    "        result = np.argmax(x, axis=1) + 1\n",
    "        results_df[f\"{x}\"] = result\n",
    "else:\n",
    "    results_num = scaler.inverse_transform(results)\n",
    "    results_df = pd.DataFrame(results_num)\n",
    "\n",
    "# Add back original variables names to the results\n",
    "results_df.columns = VAR_NAMES"
   ]
  },
  {
   "cell_type": "code",
   "execution_count": 19,
   "metadata": {},
   "outputs": [],
   "source": [
    "# Transform numeric test data back to real variable values\n",
    "test_data_num = scaler.inverse_transform(test_data[:,:CAT_IDX])\n",
    "test_data_df = pd.DataFrame(test_data_num)\n",
    "\n",
    "# Handle case where no categorical variables\n",
    "if len(CAT_LENGTHS) > 0:\n",
    "    # Transform categorical test data back to real variable values\n",
    "    current = CAT_IDX\n",
    "    for x in CAT_LENGTHS:\n",
    "        test_data_cat = test_data[:,current:(current + x)]\n",
    "        test_data_cat = np.argmax(test_data_cat, axis=1) + 1\n",
    "        test_data_df[f\"{x}\"] = test_data_cat\n",
    "        current += x\n",
    "\n",
    "# Add back original variables names to the test data\n",
    "test_data_df.columns = VAR_NAMES"
   ]
  },
  {
   "cell_type": "code",
   "execution_count": 20,
   "metadata": {},
   "outputs": [
    {
     "data": {
      "image/png": "[encoded data removed]",
      "text/plain": [
       "<Figure size 432x288 with 1 Axes>"
      ]
     },
     "metadata": {
      "needs_background": "light"
     },
     "output_type": "display_data"
    },
    {
     "data": {
      "image/png": "[encoded data removed]",
      "text/plain": [
       "<Figure size 432x288 with 1 Axes>"
      ]
     },
     "metadata": {
      "needs_background": "light"
     },
     "output_type": "display_data"
    }
   ],
   "source": [
    "# Show distributions of the resulting numerical variables\n",
    "for col_idx in range(0, CAT_IDX):\n",
    "    results_data_plt = results_df.iloc[:,col_idx]\n",
    "    test_data_plt = test_data_df.iloc[:,col_idx]\n",
    "\n",
    "    plt.hist(results_data_plt, bins=100)\n",
    "    plt.xlim(min(test_data_plt),max(test_data_plt))\n",
    "    plt.title(f\"var {col_idx} - reconstructed distribution\")\n",
    "    plt.show()\n",
    "\n",
    "    plt.hist(test_data_plt, bins=100)\n",
    "    plt.xlim(min(test_data_plt),max(test_data_plt))\n",
    "    plt.title(f\"var {col_idx} - prior distribution\")\n",
    "    plt.show()"
   ]
  },
  {
   "cell_type": "code",
   "execution_count": 21,
   "metadata": {},
   "outputs": [
    {
     "data": {
      "image/png": "[encoded data removed]",
      "text/plain": [
       "<Figure size 432x288 with 1 Axes>"
      ]
     },
     "metadata": {
      "needs_background": "light"
     },
     "output_type": "display_data"
    },
    {
     "data": {
      "image/png": "[encoded data removed]",
      "text/plain": [
       "<Figure size 432x288 with 1 Axes>"
      ]
     },
     "metadata": {
      "needs_background": "light"
     },
     "output_type": "display_data"
    },
    {
     "data": {
      "image/png": "[encoded data removed]",
      "text/plain": [
       "<Figure size 432x288 with 1 Axes>"
      ]
     },
     "metadata": {
      "needs_background": "light"
     },
     "output_type": "display_data"
    },
    {
     "data": {
      "image/png": "[encoded data removed]",
      "text/plain": [
       "<Figure size 432x288 with 1 Axes>"
      ]
     },
     "metadata": {
      "needs_background": "light"
     },
     "output_type": "display_data"
    }
   ],
   "source": [
    "# Show distributions of the resulting categorical variables\n",
    "for col_idx in range(CAT_IDX, VAR_DIM):\n",
    "    results_data_plt = results_df.iloc[:,col_idx]\n",
    "    test_data_plt = test_data_df.iloc[:,col_idx]\n",
    "    \n",
    "    plt.hist(results_data_plt)\n",
    "    plt.xlim(min(test_data_plt),max(test_data_plt))\n",
    "    plt.title(f\"var {col_idx} - reconstructed distribution\")\n",
    "    plt.show()\n",
    "    \n",
    "    plt.hist(test_data_plt)\n",
    "    plt.xlim(min(test_data_plt),max(test_data_plt))\n",
    "    plt.title(f\"var {col_idx} - prior distribution\")\n",
    "    plt.show()"
   ]
  },
  {
   "cell_type": "markdown",
   "metadata": {},
   "source": [
    "## Generating Synthetic Population"
   ]
  },
  {
   "cell_type": "code",
   "execution_count": 22,
   "metadata": {},
   "outputs": [],
   "source": [
    "start_time = time.time()"
   ]
  },
  {
   "cell_type": "code",
   "execution_count": 23,
   "metadata": {},
   "outputs": [],
   "source": [
    "# How many synthetic households to generate\n",
    "POP_SIZE = 750000\n",
    "\n",
    "# Generate random normal sample to represent each latent variable, for each row (different hh per row)\n",
    "inputs = np.random.normal(loc=0, scale=1, size=(POP_SIZE, LATENT_DIM))\n",
    "\n",
    "# Generate persons; each person has unique latent input, plus shared hh inputs with their household\n",
    "results = vae.decoder.predict(inputs)"
   ]
  },
  {
   "cell_type": "code",
   "execution_count": 24,
   "metadata": {},
   "outputs": [
    {
     "name": "stdout",
     "output_type": "stream",
     "text": [
      "--- 17.739540576934814 seconds ---\n"
     ]
    }
   ],
   "source": [
    "print(f\"--- {time.time() - start_time} seconds ---\")"
   ]
  },
  {
   "cell_type": "code",
   "execution_count": 25,
   "metadata": {},
   "outputs": [],
   "source": [
    "# Transform numeric results back to real variable values\n",
    "results_num = scaler.inverse_transform(results[0])\n",
    "results_df = pd.DataFrame(results_num)\n",
    "\n",
    "# Transform categorical results back to real variable values\n",
    "for x in results[1]:\n",
    "    result = np.argmax(x, axis=1) + 1\n",
    "    results_df[f\"{x}\"] = result\n",
    "\n",
    "# Add back original variables names to the results\n",
    "results_df.columns = VAR_NAMES"
   ]
  },
  {
   "cell_type": "code",
   "execution_count": 26,
   "metadata": {},
   "outputs": [
    {
     "data": {
      "image/png": "[encoded data removed]",
      "text/plain": [
       "<Figure size 432x288 with 1 Axes>"
      ]
     },
     "metadata": {
      "needs_background": "light"
     },
     "output_type": "display_data"
    },
    {
     "data": {
      "image/png": "[encoded data removed]",
      "text/plain": [
       "<Figure size 432x288 with 1 Axes>"
      ]
     },
     "metadata": {
      "needs_background": "light"
     },
     "output_type": "display_data"
    }
   ],
   "source": [
    "# Show distributions of the resulting numerical variables\n",
    "for col_idx in range(0, CAT_IDX):\n",
    "    results_data_plt = results_df.iloc[:,col_idx]\n",
    "    test_data_plt = test_data_df.iloc[:,col_idx]\n",
    "\n",
    "    plt.hist(results_data_plt, bins=100)\n",
    "    plt.xlim(min(test_data_plt),max(test_data_plt))\n",
    "    plt.title(f\"var {col_idx} - reconstructed distribution\")\n",
    "    plt.show()\n",
    "\n",
    "    plt.hist(test_data_plt, bins=100)\n",
    "    plt.xlim(min(test_data_plt),max(test_data_plt))\n",
    "    plt.title(f\"var {col_idx} - prior distribution\")\n",
    "    plt.show()"
   ]
  },
  {
   "cell_type": "code",
   "execution_count": 27,
   "metadata": {
    "scrolled": true
   },
   "outputs": [
    {
     "data": {
      "image/png": "[encoded data removed]",
      "text/plain": [
       "<Figure size 432x288 with 1 Axes>"
      ]
     },
     "metadata": {
      "needs_background": "light"
     },
     "output_type": "display_data"
    },
    {
     "data": {
      "image/png": "[encoded data removed]",
      "text/plain": [
       "<Figure size 432x288 with 1 Axes>"
      ]
     },
     "metadata": {
      "needs_background": "light"
     },
     "output_type": "display_data"
    },
    {
     "data": {
      "image/png": "[encoded data removed]",
      "text/plain": [
       "<Figure size 432x288 with 1 Axes>"
      ]
     },
     "metadata": {
      "needs_background": "light"
     },
     "output_type": "display_data"
    },
    {
     "data": {
      "image/png": "[encoded data removed]",
      "text/plain": [
       "<Figure size 432x288 with 1 Axes>"
      ]
     },
     "metadata": {
      "needs_background": "light"
     },
     "output_type": "display_data"
    }
   ],
   "source": [
    "# Show distributions of the resulting categorical variables\n",
    "for col_idx in range(CAT_IDX, VAR_DIM):\n",
    "    results_data_plt = results_df.iloc[:,col_idx]\n",
    "    test_data_plt = test_data_df.iloc[:,col_idx]\n",
    "    \n",
    "    plt.hist(results_data_plt)\n",
    "    plt.xlim(min(test_data_plt),max(test_data_plt))\n",
    "    plt.title(f\"var {col_idx} - reconstructed distribution\")\n",
    "    plt.show()\n",
    "    \n",
    "    plt.hist(test_data_plt)\n",
    "    plt.xlim(min(test_data_plt),max(test_data_plt))\n",
    "    plt.title(f\"var {col_idx} - prior distribution\")\n",
    "    plt.show()"
   ]
  },
  {
   "cell_type": "code",
   "execution_count": 28,
   "metadata": {},
   "outputs": [
    {
     "data": {
      "text/html": [
       "<div>\n",
       "<style scoped>\n",
       "    .dataframe tbody tr th:only-of-type {\n",
       "        vertical-align: middle;\n",
       "    }\n",
       "\n",
       "    .dataframe tbody tr th {\n",
       "        vertical-align: top;\n",
       "    }\n",
       "\n",
       "    .dataframe thead th {\n",
       "        text-align: right;\n",
       "    }\n",
       "</style>\n",
       "<table border=\"1\" class=\"dataframe\">\n",
       "  <thead>\n",
       "    <tr style=\"text-align: right;\">\n",
       "      <th></th>\n",
       "      <th>HINCP</th>\n",
       "      <th>NP</th>\n",
       "      <th>VEH</th>\n",
       "    </tr>\n",
       "  </thead>\n",
       "  <tbody>\n",
       "    <tr>\n",
       "      <th>0</th>\n",
       "      <td>118592.328125</td>\n",
       "      <td>5</td>\n",
       "      <td>2</td>\n",
       "    </tr>\n",
       "    <tr>\n",
       "      <th>1</th>\n",
       "      <td>21326.982422</td>\n",
       "      <td>1</td>\n",
       "      <td>1</td>\n",
       "    </tr>\n",
       "    <tr>\n",
       "      <th>2</th>\n",
       "      <td>99697.726562</td>\n",
       "      <td>1</td>\n",
       "      <td>2</td>\n",
       "    </tr>\n",
       "    <tr>\n",
       "      <th>3</th>\n",
       "      <td>66527.679688</td>\n",
       "      <td>5</td>\n",
       "      <td>2</td>\n",
       "    </tr>\n",
       "    <tr>\n",
       "      <th>4</th>\n",
       "      <td>60233.859375</td>\n",
       "      <td>2</td>\n",
       "      <td>6</td>\n",
       "    </tr>\n",
       "    <tr>\n",
       "      <th>...</th>\n",
       "      <td>...</td>\n",
       "      <td>...</td>\n",
       "      <td>...</td>\n",
       "    </tr>\n",
       "    <tr>\n",
       "      <th>749995</th>\n",
       "      <td>168711.562500</td>\n",
       "      <td>2</td>\n",
       "      <td>2</td>\n",
       "    </tr>\n",
       "    <tr>\n",
       "      <th>749996</th>\n",
       "      <td>30963.396484</td>\n",
       "      <td>1</td>\n",
       "      <td>2</td>\n",
       "    </tr>\n",
       "    <tr>\n",
       "      <th>749997</th>\n",
       "      <td>228661.843750</td>\n",
       "      <td>1</td>\n",
       "      <td>3</td>\n",
       "    </tr>\n",
       "    <tr>\n",
       "      <th>749998</th>\n",
       "      <td>34632.007812</td>\n",
       "      <td>1</td>\n",
       "      <td>3</td>\n",
       "    </tr>\n",
       "    <tr>\n",
       "      <th>749999</th>\n",
       "      <td>297748.531250</td>\n",
       "      <td>2</td>\n",
       "      <td>3</td>\n",
       "    </tr>\n",
       "  </tbody>\n",
       "</table>\n",
       "<p>750000 rows × 3 columns</p>\n",
       "</div>"
      ],
      "text/plain": [
       "                HINCP  NP  VEH\n",
       "0       118592.328125   5    2\n",
       "1        21326.982422   1    1\n",
       "2        99697.726562   1    2\n",
       "3        66527.679688   5    2\n",
       "4        60233.859375   2    6\n",
       "...               ...  ..  ...\n",
       "749995  168711.562500   2    2\n",
       "749996   30963.396484   1    2\n",
       "749997  228661.843750   1    3\n",
       "749998   34632.007812   1    3\n",
       "749999  297748.531250   2    3\n",
       "\n",
       "[750000 rows x 3 columns]"
      ]
     },
     "execution_count": 28,
     "metadata": {},
     "output_type": "execute_result"
    }
   ],
   "source": [
    "# Save the synthesized households\n",
    "results_df.to_csv('data/synthetic_populations/wa_households.csv', index=False)\n",
    "results_df"
   ]
  }
 ],
 "metadata": {
  "kernelspec": {
   "display_name": "Python 3",
   "language": "python",
   "name": "python3"
  },
  "language_info": {
   "codemirror_mode": {
    "name": "ipython",
    "version": 3
   },
   "file_extension": ".py",
   "mimetype": "text/x-python",
   "name": "python",
   "nbconvert_exporter": "python",
   "pygments_lexer": "ipython3",
   "version": "3.8.3"
  }
 },
 "nbformat": 4,
 "nbformat_minor": 4
}
