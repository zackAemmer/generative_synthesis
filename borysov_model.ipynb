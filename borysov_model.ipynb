{
 "cells": [
  {
   "cell_type": "code",
   "execution_count": 1,
   "metadata": {},
   "outputs": [],
   "source": [
    "# https://arxiv.org/pdf/1808.06910.pdf"
   ]
  },
  {
   "cell_type": "markdown",
   "metadata": {},
   "source": [
    "## Import Libraries and Datasets"
   ]
  },
  {
   "cell_type": "code",
   "execution_count": 2,
   "metadata": {},
   "outputs": [],
   "source": [
    "import matplotlib.pyplot as plt\n",
    "import numpy as np\n",
    "import pandas as pd\n",
    "import sklearn.preprocessing as skpre\n",
    "import tensorflow as tf\n",
    "from tensorflow import keras\n",
    "from tensorflow.keras import layers"
   ]
  },
  {
   "cell_type": "code",
   "execution_count": 3,
   "metadata": {},
   "outputs": [],
   "source": [
    "# Load in the persons PUMS dataset for WA state\n",
    "p_df = pd.read_csv(\"data/PUMS_2017_5YR_WA/psam_p53.csv\")"
   ]
  },
  {
   "cell_type": "markdown",
   "metadata": {},
   "source": [
    "## Choose PUMS and Preprocess"
   ]
  },
  {
   "cell_type": "code",
   "execution_count": 4,
   "metadata": {},
   "outputs": [
    {
     "name": "stdout",
     "output_type": "stream",
     "text": [
      "Dataset n=359075 pre-cleaning\n",
      "Dataset n=152416 post-cleaning\n"
     ]
    }
   ],
   "source": [
    "# Filter to desired variables (numeric then categorical)\n",
    "pums_data = p_df[['AGEP','JWMNP','SCHL','PINCP','COW','SEX','MAR']]\n",
    "\n",
    "# Remove NA values and check n before/after\n",
    "print(f\"Dataset n={len(pums_data)} pre-cleaning\")\n",
    "pums_data = pums_data.dropna()\n",
    "print(f\"Dataset n={len(pums_data)} post-cleaning\")"
   ]
  },
  {
   "cell_type": "code",
   "execution_count": 5,
   "metadata": {},
   "outputs": [],
   "source": [
    "CAT_IDX = 4\n",
    "VAR_DIM = pums_data.shape[1]\n",
    "VAR_NAMES = pums_data.columns\n",
    "\n",
    "# Split categorical data into OHE vars, save num classes per variable\n",
    "dummies_list = []\n",
    "for x in range(CAT_IDX, VAR_DIM):\n",
    "    dummies = pums_data.iloc[:,x]\n",
    "    dummies = pd.get_dummies(dummies, prefix=f\"{pums_data.columns[x]}_\")\n",
    "    dummies_list.append(dummies)\n",
    "CAT_LENGTHS = [x.shape[1] for x in dummies_list]"
   ]
  },
  {
   "cell_type": "code",
   "execution_count": 6,
   "metadata": {},
   "outputs": [
    {
     "data": {
      "text/html": [
       "<div>\n",
       "<style scoped>\n",
       "    .dataframe tbody tr th:only-of-type {\n",
       "        vertical-align: middle;\n",
       "    }\n",
       "\n",
       "    .dataframe tbody tr th {\n",
       "        vertical-align: top;\n",
       "    }\n",
       "\n",
       "    .dataframe thead th {\n",
       "        text-align: right;\n",
       "    }\n",
       "</style>\n",
       "<table border=\"1\" class=\"dataframe\">\n",
       "  <thead>\n",
       "    <tr style=\"text-align: right;\">\n",
       "      <th></th>\n",
       "      <th>AGEP</th>\n",
       "      <th>JWMNP</th>\n",
       "      <th>SCHL</th>\n",
       "      <th>PINCP</th>\n",
       "      <th>COW__1.0</th>\n",
       "      <th>COW__2.0</th>\n",
       "      <th>COW__3.0</th>\n",
       "      <th>COW__4.0</th>\n",
       "      <th>COW__5.0</th>\n",
       "      <th>COW__6.0</th>\n",
       "      <th>COW__7.0</th>\n",
       "      <th>COW__8.0</th>\n",
       "      <th>SEX__1</th>\n",
       "      <th>SEX__2</th>\n",
       "      <th>MAR__1</th>\n",
       "      <th>MAR__2</th>\n",
       "      <th>MAR__3</th>\n",
       "      <th>MAR__4</th>\n",
       "      <th>MAR__5</th>\n",
       "    </tr>\n",
       "  </thead>\n",
       "  <tbody>\n",
       "    <tr>\n",
       "      <th>4</th>\n",
       "      <td>52</td>\n",
       "      <td>70.0</td>\n",
       "      <td>21.0</td>\n",
       "      <td>160000.0</td>\n",
       "      <td>1</td>\n",
       "      <td>0</td>\n",
       "      <td>0</td>\n",
       "      <td>0</td>\n",
       "      <td>0</td>\n",
       "      <td>0</td>\n",
       "      <td>0</td>\n",
       "      <td>0</td>\n",
       "      <td>1</td>\n",
       "      <td>0</td>\n",
       "      <td>1</td>\n",
       "      <td>0</td>\n",
       "      <td>0</td>\n",
       "      <td>0</td>\n",
       "      <td>0</td>\n",
       "    </tr>\n",
       "    <tr>\n",
       "      <th>5</th>\n",
       "      <td>51</td>\n",
       "      <td>20.0</td>\n",
       "      <td>21.0</td>\n",
       "      <td>50000.0</td>\n",
       "      <td>0</td>\n",
       "      <td>0</td>\n",
       "      <td>1</td>\n",
       "      <td>0</td>\n",
       "      <td>0</td>\n",
       "      <td>0</td>\n",
       "      <td>0</td>\n",
       "      <td>0</td>\n",
       "      <td>0</td>\n",
       "      <td>1</td>\n",
       "      <td>1</td>\n",
       "      <td>0</td>\n",
       "      <td>0</td>\n",
       "      <td>0</td>\n",
       "      <td>0</td>\n",
       "    </tr>\n",
       "    <tr>\n",
       "      <th>7</th>\n",
       "      <td>59</td>\n",
       "      <td>30.0</td>\n",
       "      <td>19.0</td>\n",
       "      <td>26710.0</td>\n",
       "      <td>0</td>\n",
       "      <td>0</td>\n",
       "      <td>1</td>\n",
       "      <td>0</td>\n",
       "      <td>0</td>\n",
       "      <td>0</td>\n",
       "      <td>0</td>\n",
       "      <td>0</td>\n",
       "      <td>1</td>\n",
       "      <td>0</td>\n",
       "      <td>1</td>\n",
       "      <td>0</td>\n",
       "      <td>0</td>\n",
       "      <td>0</td>\n",
       "      <td>0</td>\n",
       "    </tr>\n",
       "    <tr>\n",
       "      <th>8</th>\n",
       "      <td>56</td>\n",
       "      <td>15.0</td>\n",
       "      <td>16.0</td>\n",
       "      <td>23600.0</td>\n",
       "      <td>1</td>\n",
       "      <td>0</td>\n",
       "      <td>0</td>\n",
       "      <td>0</td>\n",
       "      <td>0</td>\n",
       "      <td>0</td>\n",
       "      <td>0</td>\n",
       "      <td>0</td>\n",
       "      <td>0</td>\n",
       "      <td>1</td>\n",
       "      <td>1</td>\n",
       "      <td>0</td>\n",
       "      <td>0</td>\n",
       "      <td>0</td>\n",
       "      <td>0</td>\n",
       "    </tr>\n",
       "    <tr>\n",
       "      <th>9</th>\n",
       "      <td>40</td>\n",
       "      <td>5.0</td>\n",
       "      <td>5.0</td>\n",
       "      <td>10000.0</td>\n",
       "      <td>1</td>\n",
       "      <td>0</td>\n",
       "      <td>0</td>\n",
       "      <td>0</td>\n",
       "      <td>0</td>\n",
       "      <td>0</td>\n",
       "      <td>0</td>\n",
       "      <td>0</td>\n",
       "      <td>1</td>\n",
       "      <td>0</td>\n",
       "      <td>0</td>\n",
       "      <td>0</td>\n",
       "      <td>0</td>\n",
       "      <td>0</td>\n",
       "      <td>1</td>\n",
       "    </tr>\n",
       "    <tr>\n",
       "      <th>...</th>\n",
       "      <td>...</td>\n",
       "      <td>...</td>\n",
       "      <td>...</td>\n",
       "      <td>...</td>\n",
       "      <td>...</td>\n",
       "      <td>...</td>\n",
       "      <td>...</td>\n",
       "      <td>...</td>\n",
       "      <td>...</td>\n",
       "      <td>...</td>\n",
       "      <td>...</td>\n",
       "      <td>...</td>\n",
       "      <td>...</td>\n",
       "      <td>...</td>\n",
       "      <td>...</td>\n",
       "      <td>...</td>\n",
       "      <td>...</td>\n",
       "      <td>...</td>\n",
       "      <td>...</td>\n",
       "    </tr>\n",
       "    <tr>\n",
       "      <th>359058</th>\n",
       "      <td>21</td>\n",
       "      <td>4.0</td>\n",
       "      <td>19.0</td>\n",
       "      <td>2700.0</td>\n",
       "      <td>1</td>\n",
       "      <td>0</td>\n",
       "      <td>0</td>\n",
       "      <td>0</td>\n",
       "      <td>0</td>\n",
       "      <td>0</td>\n",
       "      <td>0</td>\n",
       "      <td>0</td>\n",
       "      <td>1</td>\n",
       "      <td>0</td>\n",
       "      <td>0</td>\n",
       "      <td>0</td>\n",
       "      <td>0</td>\n",
       "      <td>0</td>\n",
       "      <td>1</td>\n",
       "    </tr>\n",
       "    <tr>\n",
       "      <th>359065</th>\n",
       "      <td>21</td>\n",
       "      <td>90.0</td>\n",
       "      <td>14.0</td>\n",
       "      <td>8200.0</td>\n",
       "      <td>1</td>\n",
       "      <td>0</td>\n",
       "      <td>0</td>\n",
       "      <td>0</td>\n",
       "      <td>0</td>\n",
       "      <td>0</td>\n",
       "      <td>0</td>\n",
       "      <td>0</td>\n",
       "      <td>0</td>\n",
       "      <td>1</td>\n",
       "      <td>0</td>\n",
       "      <td>0</td>\n",
       "      <td>0</td>\n",
       "      <td>0</td>\n",
       "      <td>1</td>\n",
       "    </tr>\n",
       "    <tr>\n",
       "      <th>359070</th>\n",
       "      <td>22</td>\n",
       "      <td>35.0</td>\n",
       "      <td>16.0</td>\n",
       "      <td>37200.0</td>\n",
       "      <td>0</td>\n",
       "      <td>0</td>\n",
       "      <td>0</td>\n",
       "      <td>0</td>\n",
       "      <td>1</td>\n",
       "      <td>0</td>\n",
       "      <td>0</td>\n",
       "      <td>0</td>\n",
       "      <td>1</td>\n",
       "      <td>0</td>\n",
       "      <td>0</td>\n",
       "      <td>0</td>\n",
       "      <td>0</td>\n",
       "      <td>0</td>\n",
       "      <td>1</td>\n",
       "    </tr>\n",
       "    <tr>\n",
       "      <th>359071</th>\n",
       "      <td>19</td>\n",
       "      <td>7.0</td>\n",
       "      <td>18.0</td>\n",
       "      <td>5300.0</td>\n",
       "      <td>1</td>\n",
       "      <td>0</td>\n",
       "      <td>0</td>\n",
       "      <td>0</td>\n",
       "      <td>0</td>\n",
       "      <td>0</td>\n",
       "      <td>0</td>\n",
       "      <td>0</td>\n",
       "      <td>0</td>\n",
       "      <td>1</td>\n",
       "      <td>0</td>\n",
       "      <td>0</td>\n",
       "      <td>0</td>\n",
       "      <td>0</td>\n",
       "      <td>1</td>\n",
       "    </tr>\n",
       "    <tr>\n",
       "      <th>359074</th>\n",
       "      <td>40</td>\n",
       "      <td>20.0</td>\n",
       "      <td>16.0</td>\n",
       "      <td>20000.0</td>\n",
       "      <td>1</td>\n",
       "      <td>0</td>\n",
       "      <td>0</td>\n",
       "      <td>0</td>\n",
       "      <td>0</td>\n",
       "      <td>0</td>\n",
       "      <td>0</td>\n",
       "      <td>0</td>\n",
       "      <td>1</td>\n",
       "      <td>0</td>\n",
       "      <td>1</td>\n",
       "      <td>0</td>\n",
       "      <td>0</td>\n",
       "      <td>0</td>\n",
       "      <td>0</td>\n",
       "    </tr>\n",
       "  </tbody>\n",
       "</table>\n",
       "<p>152416 rows × 19 columns</p>\n",
       "</div>"
      ],
      "text/plain": [
       "        AGEP  JWMNP  SCHL     PINCP  COW__1.0  COW__2.0  COW__3.0  COW__4.0  \\\n",
       "4         52   70.0  21.0  160000.0         1         0         0         0   \n",
       "5         51   20.0  21.0   50000.0         0         0         1         0   \n",
       "7         59   30.0  19.0   26710.0         0         0         1         0   \n",
       "8         56   15.0  16.0   23600.0         1         0         0         0   \n",
       "9         40    5.0   5.0   10000.0         1         0         0         0   \n",
       "...      ...    ...   ...       ...       ...       ...       ...       ...   \n",
       "359058    21    4.0  19.0    2700.0         1         0         0         0   \n",
       "359065    21   90.0  14.0    8200.0         1         0         0         0   \n",
       "359070    22   35.0  16.0   37200.0         0         0         0         0   \n",
       "359071    19    7.0  18.0    5300.0         1         0         0         0   \n",
       "359074    40   20.0  16.0   20000.0         1         0         0         0   \n",
       "\n",
       "        COW__5.0  COW__6.0  COW__7.0  COW__8.0  SEX__1  SEX__2  MAR__1  \\\n",
       "4              0         0         0         0       1       0       1   \n",
       "5              0         0         0         0       0       1       1   \n",
       "7              0         0         0         0       1       0       1   \n",
       "8              0         0         0         0       0       1       1   \n",
       "9              0         0         0         0       1       0       0   \n",
       "...          ...       ...       ...       ...     ...     ...     ...   \n",
       "359058         0         0         0         0       1       0       0   \n",
       "359065         0         0         0         0       0       1       0   \n",
       "359070         1         0         0         0       1       0       0   \n",
       "359071         0         0         0         0       0       1       0   \n",
       "359074         0         0         0         0       1       0       1   \n",
       "\n",
       "        MAR__2  MAR__3  MAR__4  MAR__5  \n",
       "4            0       0       0       0  \n",
       "5            0       0       0       0  \n",
       "7            0       0       0       0  \n",
       "8            0       0       0       0  \n",
       "9            0       0       0       1  \n",
       "...        ...     ...     ...     ...  \n",
       "359058       0       0       0       1  \n",
       "359065       0       0       0       1  \n",
       "359070       0       0       0       1  \n",
       "359071       0       0       0       1  \n",
       "359074       0       0       0       0  \n",
       "\n",
       "[152416 rows x 19 columns]"
      ]
     },
     "execution_count": 6,
     "metadata": {},
     "output_type": "execute_result"
    }
   ],
   "source": [
    "# Final data frame after encoding OHE\n",
    "model_data_df = pums_data.iloc[:,:CAT_IDX]\n",
    "for ohe_var in dummies_list:\n",
    "    model_data_df = pd.concat([model_data_df, ohe_var], axis=1)\n",
    "MANIFEST_DIM = model_data_df.shape[1]\n",
    "\n",
    "# Preview data that will be fed into model\n",
    "model_data_df"
   ]
  },
  {
   "cell_type": "code",
   "execution_count": 7,
   "metadata": {},
   "outputs": [],
   "source": [
    "# Separate into train/test data\n",
    "model_data = model_data_df.values\n",
    "train_idx = round(len(model_data)*.9)\n",
    "train_data = model_data[0:train_idx,:]\n",
    "test_data = model_data[train_idx:len(model_data),:]\n",
    "\n",
    "# Standardize the input data from -1 to 1 for numerical variables\n",
    "scaler_train = skpre.StandardScaler()\n",
    "scaler_test = skpre.StandardScaler()\n",
    "\n",
    "# Separate the scaling for train/test so that no overall mean/std info is carried\n",
    "train_data[:,:CAT_IDX] = scaler_train.fit_transform(train_data[:,:CAT_IDX])\n",
    "test_data[:,:CAT_IDX] = scaler_test.fit_transform(test_data[:,:CAT_IDX])\n",
    "\n",
    "# Remove rows with numerical outliers (3 < standard deviations)\n",
    "outlier_row_indices = np.where(np.any(train_data[:,:CAT_IDX] > 3, axis=1))\n",
    "train_data = np.delete(train_data, (outlier_row_indices), axis=0)\n",
    "outlier_row_indices = np.where(np.any(test_data[:,:CAT_IDX] > 3, axis=1))\n",
    "test_data = np.delete(test_data, (outlier_row_indices), axis=0)"
   ]
  },
  {
   "cell_type": "markdown",
   "metadata": {},
   "source": [
    "## Set Parameters and Define Model"
   ]
  },
  {
   "cell_type": "code",
   "execution_count": 8,
   "metadata": {},
   "outputs": [],
   "source": [
    "# Hyperparameters\n",
    "BATCH_SIZE = 64\n",
    "EPOCHS = 100\n",
    "LEARN_RATE = 0.001\n",
    "RHO = 0.9\n",
    "LATENT_DIM = 5\n",
    "HIDDEN_DIM = 100\n",
    "KL_WEIGHT = 0.5"
   ]
  },
  {
   "cell_type": "code",
   "execution_count": 9,
   "metadata": {},
   "outputs": [],
   "source": [
    "# A layer that takes mean/variance as inputs and returns a random sample z\n",
    "class Sampling(layers.Layer):\n",
    "    def call(self, inputs):\n",
    "        z_mean, z_log_var = inputs\n",
    "        batch = tf.shape(z_mean)[0]\n",
    "        dim = tf.shape(z_mean)[1]\n",
    "        epsilon = tf.keras.backend.random_normal(shape=(batch, dim))\n",
    "        return z_mean + tf.exp(z_log_var) * epsilon"
   ]
  },
  {
   "cell_type": "code",
   "execution_count": 10,
   "metadata": {},
   "outputs": [
    {
     "name": "stdout",
     "output_type": "stream",
     "text": [
      "Model: \"encoder\"\n",
      "__________________________________________________________________________________________________\n",
      "Layer (type)                    Output Shape         Param #     Connected to                     \n",
      "==================================================================================================\n",
      "input_1 (InputLayer)            [(None, 19)]         0                                            \n",
      "__________________________________________________________________________________________________\n",
      "dense (Dense)                   (None, 100)          2000        input_1[0][0]                    \n",
      "__________________________________________________________________________________________________\n",
      "dense_1 (Dense)                 (None, 100)          10100       dense[0][0]                      \n",
      "__________________________________________________________________________________________________\n",
      "z_mean (Dense)                  (None, 5)            505         dense_1[0][0]                    \n",
      "__________________________________________________________________________________________________\n",
      "z_log_var (Dense)               (None, 5)            505         dense_1[0][0]                    \n",
      "__________________________________________________________________________________________________\n",
      "sampling (Sampling)             (None, 5)            0           z_mean[0][0]                     \n",
      "                                                                 z_log_var[0][0]                  \n",
      "==================================================================================================\n",
      "Total params: 13,110\n",
      "Trainable params: 13,110\n",
      "Non-trainable params: 0\n",
      "__________________________________________________________________________________________________\n"
     ]
    }
   ],
   "source": [
    "# Encoder\n",
    "encoder_inputs = keras.Input(shape=(MANIFEST_DIM,))\n",
    "encoder_x = layers.Dense(HIDDEN_DIM, activation=\"tanh\")(encoder_inputs)\n",
    "encoder_x = layers.Dense(HIDDEN_DIM, activation=\"tanh\")(encoder_x)\n",
    "z_mean = layers.Dense(LATENT_DIM, name=\"z_mean\")(encoder_x)\n",
    "z_log_var = layers.Dense(LATENT_DIM, name=\"z_log_var\")(encoder_x)\n",
    "z = Sampling()([z_mean, z_log_var])\n",
    "encoder = keras.Model(encoder_inputs, [z_mean, z_log_var, z], name=\"encoder\")\n",
    "encoder.summary()"
   ]
  },
  {
   "cell_type": "code",
   "execution_count": 11,
   "metadata": {},
   "outputs": [
    {
     "name": "stdout",
     "output_type": "stream",
     "text": [
      "Model: \"decoder\"\n",
      "__________________________________________________________________________________________________\n",
      "Layer (type)                    Output Shape         Param #     Connected to                     \n",
      "==================================================================================================\n",
      "input_2 (InputLayer)            [(None, 5)]          0                                            \n",
      "__________________________________________________________________________________________________\n",
      "dense_2 (Dense)                 (None, 100)          600         input_2[0][0]                    \n",
      "__________________________________________________________________________________________________\n",
      "dense_3 (Dense)                 (None, 100)          10100       dense_2[0][0]                    \n",
      "__________________________________________________________________________________________________\n",
      "dense_4 (Dense)                 (None, 4)            404         dense_3[0][0]                    \n",
      "__________________________________________________________________________________________________\n",
      "dense_5 (Dense)                 (None, 8)            808         dense_3[0][0]                    \n",
      "__________________________________________________________________________________________________\n",
      "dense_6 (Dense)                 (None, 2)            202         dense_3[0][0]                    \n",
      "__________________________________________________________________________________________________\n",
      "dense_7 (Dense)                 (None, 5)            505         dense_3[0][0]                    \n",
      "==================================================================================================\n",
      "Total params: 12,619\n",
      "Trainable params: 12,619\n",
      "Non-trainable params: 0\n",
      "__________________________________________________________________________________________________\n"
     ]
    }
   ],
   "source": [
    "# Decoder\n",
    "decoder_inputs = keras.Input(shape=(LATENT_DIM,))\n",
    "decoder_x = layers.Dense(HIDDEN_DIM, activation=\"tanh\")(decoder_inputs)\n",
    "decoder_x = layers.Dense(HIDDEN_DIM, activation=\"tanh\")(decoder_x)\n",
    "decoder_num_outputs = layers.Dense(CAT_IDX, activation=\"linear\")(decoder_x)\n",
    "decoder_cat_outputs = []\n",
    "for var_length in CAT_LENGTHS:\n",
    "    layer = layers.Dense(var_length, activation=\"softmax\")(decoder_x)\n",
    "    decoder_cat_outputs.append(layer)\n",
    "decoder = keras.Model(decoder_inputs, [decoder_num_outputs, decoder_cat_outputs], name=\"decoder\")\n",
    "decoder.summary()"
   ]
  },
  {
   "cell_type": "code",
   "execution_count": 12,
   "metadata": {},
   "outputs": [],
   "source": [
    "# Define custom loss function for combined numerical and categorical data\n",
    "def get_reconstruction_loss(data, reconstruction, CAT_IDX, CAT_LENGTHS):\n",
    "\n",
    "    # Mean squared error for numerical variables\n",
    "    data_num = data[:,:CAT_IDX]\n",
    "    reconstruction_num = reconstruction[0]\n",
    "    loss_num = keras.losses.mean_squared_error(data_num, reconstruction_num)\n",
    "    loss_num = tf.reduce_mean(loss_num)\n",
    "    \n",
    "    # Categorical cross entropy for categorical variables\n",
    "    loss_list = []\n",
    "    current = CAT_IDX\n",
    "    for i, x in enumerate(CAT_LENGTHS):\n",
    "        data_cat = data[:,current:(current + x)]\n",
    "        reconstruction_cat = reconstruction[1][i]\n",
    "        loss = keras.losses.categorical_crossentropy(data_cat, reconstruction_cat, from_logits=False)\n",
    "        loss = tf.reduce_mean(loss)\n",
    "        loss_list.append(loss)\n",
    "        current += x\n",
    "    loss_cat = tf.reduce_sum(loss_list)\n",
    "\n",
    "    # Return both losses; they are combined in the model\n",
    "    return (loss_num, loss_cat)\n",
    "\n",
    "def get_kl_loss(z_mean, z_log_var):\n",
    "    kl_loss = 1 + z_log_var - tf.square(z_mean) - tf.exp(z_log_var)\n",
    "    kl_loss = tf.reduce_mean(kl_loss)\n",
    "    kl_loss = -kl_loss\n",
    "    return kl_loss"
   ]
  },
  {
   "cell_type": "code",
   "execution_count": 13,
   "metadata": {},
   "outputs": [],
   "source": [
    "# Loss metric recorder\n",
    "loss_tracker = keras.metrics.Mean(name=\"loss\")\n",
    "\n",
    "# Variational Autoencoder\n",
    "class VAE(keras.Model):\n",
    "    def __init__(self, encoder, decoder, CAT_IDX, CAT_LENGTHS, **kwargs):\n",
    "        super(VAE, self).__init__(**kwargs)\n",
    "        self.encoder = encoder\n",
    "        self.decoder = decoder\n",
    "        self.CAT_IDX = CAT_IDX\n",
    "        self.CAT_LENGTHS = CAT_LENGTHS\n",
    "\n",
    "    def train_step(self, data):\n",
    "        if isinstance(data, tuple):\n",
    "            data = data[0]\n",
    "        with tf.GradientTape() as tape:\n",
    "            # Get latent vars from the encoder; feed to decoder and get sampled manifest variables\n",
    "            z_mean, z_log_var, z = encoder(data)\n",
    "            reconstruction = decoder(z)\n",
    "\n",
    "            # Get loss between input values and reconstruction\n",
    "            reconstruction_loss_num, reconstruction_loss_cat = get_reconstruction_loss(\n",
    "                data,\n",
    "                reconstruction,\n",
    "                self.CAT_IDX,\n",
    "                self.CAT_LENGTHS\n",
    "            )\n",
    "            reconstruction_loss = tf.add(reconstruction_loss_num, reconstruction_loss_cat)\n",
    "\n",
    "            # Get Kullback Leidler loss between normal distribution and actual for latent variables\n",
    "            kl_loss = get_kl_loss(z_mean, z_log_var)\n",
    "            kl_loss = kl_loss * KL_WEIGHT\n",
    "\n",
    "            # Combine into single loss term\n",
    "            total_loss = reconstruction_loss + kl_loss\n",
    "\n",
    "        # Get new gradients given the loss and take another step (update weights)\n",
    "        grads = tape.gradient(total_loss, self.trainable_weights)\n",
    "        self.optimizer.apply_gradients(zip(grads, self.trainable_weights))\n",
    "\n",
    "        # Record the loss metrics\n",
    "        loss_tracker.update_state(total_loss)\n",
    "\n",
    "        return {\n",
    "            \"total_loss\": loss_tracker.result(),\n",
    "            \"reconstruction_loss\": reconstruction_loss,\n",
    "            \"reconstruction_loss_num\": reconstruction_loss_num,\n",
    "            \"reconstruction_loss_cat\": reconstruction_loss_cat,\n",
    "            \"kl_loss\": kl_loss,\n",
    "        }\n",
    "\n",
    "    def call(self, inputs):\n",
    "        z_mean, z_log_var, z = self.encoder(inputs)\n",
    "        reconstruction = self.decoder(z)\n",
    "        return reconstruction\n",
    "\n",
    "    @property\n",
    "    def metrics(self):\n",
    "        return [loss_tracker]"
   ]
  },
  {
   "cell_type": "markdown",
   "metadata": {},
   "source": [
    "## Training"
   ]
  },
  {
   "cell_type": "code",
   "execution_count": 14,
   "metadata": {
    "scrolled": true
   },
   "outputs": [
    {
     "name": "stdout",
     "output_type": "stream",
     "text": [
      "Epoch 1/100\n",
      "2068/2068 [==============================] - 4s 2ms/step - total_loss: 1.5311 - reconstruction_loss: 0.6088 - reconstruction_loss_num: 0.3680 - reconstruction_loss_cat: 0.2408 - kl_loss: 0.6169\n",
      "Epoch 2/100\n",
      "2068/2068 [==============================] - 4s 2ms/step - total_loss: 1.0071 - reconstruction_loss: 0.3497 - reconstruction_loss_num: 0.2746 - reconstruction_loss_cat: 0.0752 - kl_loss: 0.6374\n",
      "Epoch 3/100\n",
      "2068/2068 [==============================] - 4s 2ms/step - total_loss: 0.9515 - reconstruction_loss: 0.3004 - reconstruction_loss_num: 0.2433 - reconstruction_loss_cat: 0.0572 - kl_loss: 0.6424\n",
      "Epoch 4/100\n",
      "2068/2068 [==============================] - 4s 2ms/step - total_loss: 0.9195 - reconstruction_loss: 0.2766 - reconstruction_loss_num: 0.2272 - reconstruction_loss_cat: 0.0494 - kl_loss: 0.6409\n",
      "Epoch 5/100\n",
      "2068/2068 [==============================] - 4s 2ms/step - total_loss: 0.9088 - reconstruction_loss: 0.2650 - reconstruction_loss_num: 0.2179 - reconstruction_loss_cat: 0.0470 - kl_loss: 0.6411\n",
      "Epoch 6/100\n",
      "2068/2068 [==============================] - 4s 2ms/step - total_loss: 0.8981 - reconstruction_loss: 0.2583 - reconstruction_loss_num: 0.2148 - reconstruction_loss_cat: 0.0435 - kl_loss: 0.6390\n",
      "Epoch 7/100\n",
      "2068/2068 [==============================] - 4s 2ms/step - total_loss: 0.8896 - reconstruction_loss: 0.2537 - reconstruction_loss_num: 0.2111 - reconstruction_loss_cat: 0.0425 - kl_loss: 0.6364\n",
      "Epoch 8/100\n",
      "2068/2068 [==============================] - 4s 2ms/step - total_loss: 0.8844 - reconstruction_loss: 0.2512 - reconstruction_loss_num: 0.2101 - reconstruction_loss_cat: 0.0410 - kl_loss: 0.6331\n",
      "Epoch 9/100\n",
      "2068/2068 [==============================] - 4s 2ms/step - total_loss: 0.8810 - reconstruction_loss: 0.2484 - reconstruction_loss_num: 0.2076 - reconstruction_loss_cat: 0.0408 - kl_loss: 0.6329\n",
      "Epoch 10/100\n",
      "2068/2068 [==============================] - 4s 2ms/step - total_loss: 0.8787 - reconstruction_loss: 0.2455 - reconstruction_loss_num: 0.2060 - reconstruction_loss_cat: 0.0395 - kl_loss: 0.6316\n",
      "Epoch 11/100\n",
      "2068/2068 [==============================] - 4s 2ms/step - total_loss: 0.8745 - reconstruction_loss: 0.2421 - reconstruction_loss_num: 0.2026 - reconstruction_loss_cat: 0.0395 - kl_loss: 0.6330\n",
      "Epoch 12/100\n",
      "2068/2068 [==============================] - 4s 2ms/step - total_loss: 0.8735 - reconstruction_loss: 0.2386 - reconstruction_loss_num: 0.2006 - reconstruction_loss_cat: 0.0381 - kl_loss: 0.6321\n",
      "Epoch 13/100\n",
      "2068/2068 [==============================] - 4s 2ms/step - total_loss: 0.8690 - reconstruction_loss: 0.2358 - reconstruction_loss_num: 0.1981 - reconstruction_loss_cat: 0.0377 - kl_loss: 0.6325\n",
      "Epoch 14/100\n",
      "2068/2068 [==============================] - 4s 2ms/step - total_loss: 0.8657 - reconstruction_loss: 0.2331 - reconstruction_loss_num: 0.1955 - reconstruction_loss_cat: 0.0376 - kl_loss: 0.6339\n",
      "Epoch 15/100\n",
      "2068/2068 [==============================] - 4s 2ms/step - total_loss: 0.8599 - reconstruction_loss: 0.2317 - reconstruction_loss_num: 0.1952 - reconstruction_loss_cat: 0.0365 - kl_loss: 0.6299\n",
      "Epoch 16/100\n",
      "2068/2068 [==============================] - 4s 2ms/step - total_loss: 0.8608 - reconstruction_loss: 0.2302 - reconstruction_loss_num: 0.1939 - reconstruction_loss_cat: 0.0363 - kl_loss: 0.6302\n",
      "Epoch 17/100\n",
      "2068/2068 [==============================] - 4s 2ms/step - total_loss: 0.8595 - reconstruction_loss: 0.2297 - reconstruction_loss_num: 0.1930 - reconstruction_loss_cat: 0.0366 - kl_loss: 0.6296\n",
      "Epoch 18/100\n",
      "2068/2068 [==============================] - 4s 2ms/step - total_loss: 0.8571 - reconstruction_loss: 0.2274 - reconstruction_loss_num: 0.1916 - reconstruction_loss_cat: 0.0358 - kl_loss: 0.6301\n",
      "Epoch 19/100\n",
      "2068/2068 [==============================] - 5s 3ms/step - total_loss: 0.8586 - reconstruction_loss: 0.2265 - reconstruction_loss_num: 0.1911 - reconstruction_loss_cat: 0.0354 - kl_loss: 0.6293\n",
      "Epoch 20/100\n",
      "2068/2068 [==============================] - 5s 3ms/step - total_loss: 0.8548 - reconstruction_loss: 0.2263 - reconstruction_loss_num: 0.1909 - reconstruction_loss_cat: 0.0354 - kl_loss: 0.6274\n",
      "Epoch 21/100\n",
      "2068/2068 [==============================] - 4s 2ms/step - total_loss: 0.8504 - reconstruction_loss: 0.2237 - reconstruction_loss_num: 0.1892 - reconstruction_loss_cat: 0.0345 - kl_loss: 0.6270\n",
      "Epoch 22/100\n",
      "2068/2068 [==============================] - 4s 2ms/step - total_loss: 0.8508 - reconstruction_loss: 0.2231 - reconstruction_loss_num: 0.1887 - reconstruction_loss_cat: 0.0344 - kl_loss: 0.6257\n",
      "Epoch 23/100\n",
      "2068/2068 [==============================] - 4s 2ms/step - total_loss: 0.8480 - reconstruction_loss: 0.2222 - reconstruction_loss_num: 0.1873 - reconstruction_loss_cat: 0.0348 - kl_loss: 0.6254\n",
      "Epoch 24/100\n",
      "2068/2068 [==============================] - 4s 2ms/step - total_loss: 0.8487 - reconstruction_loss: 0.2207 - reconstruction_loss_num: 0.1858 - reconstruction_loss_cat: 0.0348 - kl_loss: 0.6272\n",
      "Epoch 25/100\n",
      "2068/2068 [==============================] - 4s 2ms/step - total_loss: 0.8463 - reconstruction_loss: 0.2197 - reconstruction_loss_num: 0.1849 - reconstruction_loss_cat: 0.0347 - kl_loss: 0.6274\n",
      "Epoch 26/100\n",
      "2068/2068 [==============================] - 4s 2ms/step - total_loss: 0.8459 - reconstruction_loss: 0.2196 - reconstruction_loss_num: 0.1852 - reconstruction_loss_cat: 0.0344 - kl_loss: 0.6272\n",
      "Epoch 27/100\n",
      "2068/2068 [==============================] - 4s 2ms/step - total_loss: 0.8504 - reconstruction_loss: 0.2201 - reconstruction_loss_num: 0.1845 - reconstruction_loss_cat: 0.0355 - kl_loss: 0.6283\n",
      "Epoch 28/100\n",
      "2068/2068 [==============================] - 4s 2ms/step - total_loss: 0.8482 - reconstruction_loss: 0.2199 - reconstruction_loss_num: 0.1846 - reconstruction_loss_cat: 0.0354 - kl_loss: 0.6287\n",
      "Epoch 29/100\n",
      "2068/2068 [==============================] - 4s 2ms/step - total_loss: 0.8475 - reconstruction_loss: 0.2203 - reconstruction_loss_num: 0.1847 - reconstruction_loss_cat: 0.0356 - kl_loss: 0.6286\n",
      "Epoch 30/100\n",
      "2068/2068 [==============================] - 4s 2ms/step - total_loss: 0.8500 - reconstruction_loss: 0.2185 - reconstruction_loss_num: 0.1842 - reconstruction_loss_cat: 0.0343 - kl_loss: 0.6294\n",
      "Epoch 31/100\n",
      "2068/2068 [==============================] - 4s 2ms/step - total_loss: 0.8469 - reconstruction_loss: 0.2181 - reconstruction_loss_num: 0.1840 - reconstruction_loss_cat: 0.0341 - kl_loss: 0.6300\n",
      "Epoch 32/100\n",
      "2068/2068 [==============================] - 4s 2ms/step - total_loss: 0.8469 - reconstruction_loss: 0.2180 - reconstruction_loss_num: 0.1840 - reconstruction_loss_cat: 0.0340 - kl_loss: 0.6282\n",
      "Epoch 33/100\n",
      "2068/2068 [==============================] - 4s 2ms/step - total_loss: 0.8454 - reconstruction_loss: 0.2163 - reconstruction_loss_num: 0.1832 - reconstruction_loss_cat: 0.0332 - kl_loss: 0.6271\n",
      "Epoch 34/100\n",
      "2068/2068 [==============================] - 4s 2ms/step - total_loss: 0.8416 - reconstruction_loss: 0.2159 - reconstruction_loss_num: 0.1826 - reconstruction_loss_cat: 0.0333 - kl_loss: 0.6265\n",
      "Epoch 35/100\n",
      "2068/2068 [==============================] - 4s 2ms/step - total_loss: 0.8402 - reconstruction_loss: 0.2168 - reconstruction_loss_num: 0.1829 - reconstruction_loss_cat: 0.0339 - kl_loss: 0.6247\n",
      "Epoch 36/100\n",
      "2068/2068 [==============================] - 4s 2ms/step - total_loss: 0.8424 - reconstruction_loss: 0.2145 - reconstruction_loss_num: 0.1807 - reconstruction_loss_cat: 0.0338 - kl_loss: 0.6268\n",
      "Epoch 37/100\n",
      "2068/2068 [==============================] - 4s 2ms/step - total_loss: 0.8411 - reconstruction_loss: 0.2143 - reconstruction_loss_num: 0.1805 - reconstruction_loss_cat: 0.0339 - kl_loss: 0.6265\n",
      "Epoch 38/100\n",
      "2068/2068 [==============================] - 4s 2ms/step - total_loss: 0.8392 - reconstruction_loss: 0.2126 - reconstruction_loss_num: 0.1787 - reconstruction_loss_cat: 0.0340 - kl_loss: 0.6266\n",
      "Epoch 39/100\n",
      "2068/2068 [==============================] - 4s 2ms/step - total_loss: 0.8314 - reconstruction_loss: 0.2111 - reconstruction_loss_num: 0.1791 - reconstruction_loss_cat: 0.0320 - kl_loss: 0.6246\n",
      "Epoch 40/100\n"
     ]
    },
    {
     "name": "stdout",
     "output_type": "stream",
     "text": [
      "2068/2068 [==============================] - 4s 2ms/step - total_loss: 0.8377 - reconstruction_loss: 0.2108 - reconstruction_loss_num: 0.1778 - reconstruction_loss_cat: 0.0330 - kl_loss: 0.6267\n",
      "Epoch 41/100\n",
      "2068/2068 [==============================] - 4s 2ms/step - total_loss: 0.8368 - reconstruction_loss: 0.2107 - reconstruction_loss_num: 0.1783 - reconstruction_loss_cat: 0.0324 - kl_loss: 0.6247\n",
      "Epoch 42/100\n",
      "2068/2068 [==============================] - 4s 2ms/step - total_loss: 0.8354 - reconstruction_loss: 0.2095 - reconstruction_loss_num: 0.1763 - reconstruction_loss_cat: 0.0331 - kl_loss: 0.6265\n",
      "Epoch 43/100\n",
      "2068/2068 [==============================] - 4s 2ms/step - total_loss: 0.8391 - reconstruction_loss: 0.2096 - reconstruction_loss_num: 0.1769 - reconstruction_loss_cat: 0.0327 - kl_loss: 0.6272\n",
      "Epoch 44/100\n",
      "2068/2068 [==============================] - 4s 2ms/step - total_loss: 0.8379 - reconstruction_loss: 0.2088 - reconstruction_loss_num: 0.1763 - reconstruction_loss_cat: 0.0325 - kl_loss: 0.6277\n",
      "Epoch 45/100\n",
      "2068/2068 [==============================] - 4s 2ms/step - total_loss: 0.8394 - reconstruction_loss: 0.2113 - reconstruction_loss_num: 0.1774 - reconstruction_loss_cat: 0.0339 - kl_loss: 0.6265\n",
      "Epoch 46/100\n",
      "2068/2068 [==============================] - 4s 2ms/step - total_loss: 0.8364 - reconstruction_loss: 0.2117 - reconstruction_loss_num: 0.1775 - reconstruction_loss_cat: 0.0341 - kl_loss: 0.6253\n",
      "Epoch 47/100\n",
      "2068/2068 [==============================] - 4s 2ms/step - total_loss: 0.8381 - reconstruction_loss: 0.2103 - reconstruction_loss_num: 0.1774 - reconstruction_loss_cat: 0.0329 - kl_loss: 0.6276\n",
      "Epoch 48/100\n",
      "2068/2068 [==============================] - 4s 2ms/step - total_loss: 0.8360 - reconstruction_loss: 0.2095 - reconstruction_loss_num: 0.1772 - reconstruction_loss_cat: 0.0323 - kl_loss: 0.6274\n",
      "Epoch 49/100\n",
      "2068/2068 [==============================] - 5s 2ms/step - total_loss: 0.8401 - reconstruction_loss: 0.2111 - reconstruction_loss_num: 0.1773 - reconstruction_loss_cat: 0.0337 - kl_loss: 0.6264\n",
      "Epoch 50/100\n",
      "2068/2068 [==============================] - 4s 2ms/step - total_loss: 0.8354 - reconstruction_loss: 0.2097 - reconstruction_loss_num: 0.1771 - reconstruction_loss_cat: 0.0327 - kl_loss: 0.6271\n",
      "Epoch 51/100\n",
      "2068/2068 [==============================] - 4s 2ms/step - total_loss: 0.8378 - reconstruction_loss: 0.2096 - reconstruction_loss_num: 0.1769 - reconstruction_loss_cat: 0.0326 - kl_loss: 0.6279\n",
      "Epoch 52/100\n",
      "2068/2068 [==============================] - 4s 2ms/step - total_loss: 0.8351 - reconstruction_loss: 0.2108 - reconstruction_loss_num: 0.1773 - reconstruction_loss_cat: 0.0335 - kl_loss: 0.6250\n",
      "Epoch 53/100\n",
      "2068/2068 [==============================] - 4s 2ms/step - total_loss: 0.8371 - reconstruction_loss: 0.2084 - reconstruction_loss_num: 0.1762 - reconstruction_loss_cat: 0.0322 - kl_loss: 0.6261\n",
      "Epoch 54/100\n",
      "2068/2068 [==============================] - 4s 2ms/step - total_loss: 0.8358 - reconstruction_loss: 0.2095 - reconstruction_loss_num: 0.1766 - reconstruction_loss_cat: 0.0329 - kl_loss: 0.6257\n",
      "Epoch 55/100\n",
      "2068/2068 [==============================] - 4s 2ms/step - total_loss: 0.8364 - reconstruction_loss: 0.2090 - reconstruction_loss_num: 0.1766 - reconstruction_loss_cat: 0.0324 - kl_loss: 0.6272\n",
      "Epoch 56/100\n",
      "2068/2068 [==============================] - 5s 2ms/step - total_loss: 0.8345 - reconstruction_loss: 0.2087 - reconstruction_loss_num: 0.1760 - reconstruction_loss_cat: 0.0327 - kl_loss: 0.6264\n",
      "Epoch 57/100\n",
      "2068/2068 [==============================] - 5s 2ms/step - total_loss: 0.8354 - reconstruction_loss: 0.2088 - reconstruction_loss_num: 0.1760 - reconstruction_loss_cat: 0.0328 - kl_loss: 0.6262\n",
      "Epoch 58/100\n",
      "2068/2068 [==============================] - 4s 2ms/step - total_loss: 0.8331 - reconstruction_loss: 0.2100 - reconstruction_loss_num: 0.1772 - reconstruction_loss_cat: 0.0327 - kl_loss: 0.6242\n",
      "Epoch 59/100\n",
      "2068/2068 [==============================] - 4s 2ms/step - total_loss: 0.8333 - reconstruction_loss: 0.2088 - reconstruction_loss_num: 0.1770 - reconstruction_loss_cat: 0.0318 - kl_loss: 0.6249\n",
      "Epoch 60/100\n",
      "2068/2068 [==============================] - 4s 2ms/step - total_loss: 0.8376 - reconstruction_loss: 0.2097 - reconstruction_loss_num: 0.1771 - reconstruction_loss_cat: 0.0327 - kl_loss: 0.6262\n",
      "Epoch 61/100\n",
      "2068/2068 [==============================] - 4s 2ms/step - total_loss: 0.8349 - reconstruction_loss: 0.2090 - reconstruction_loss_num: 0.1770 - reconstruction_loss_cat: 0.0320 - kl_loss: 0.6258\n",
      "Epoch 62/100\n",
      "2068/2068 [==============================] - 4s 2ms/step - total_loss: 0.8341 - reconstruction_loss: 0.2095 - reconstruction_loss_num: 0.1773 - reconstruction_loss_cat: 0.0321 - kl_loss: 0.6259\n",
      "Epoch 63/100\n",
      "2068/2068 [==============================] - 4s 2ms/step - total_loss: 0.8348 - reconstruction_loss: 0.2104 - reconstruction_loss_num: 0.1778 - reconstruction_loss_cat: 0.0326 - kl_loss: 0.6257\n",
      "Epoch 64/100\n",
      "2068/2068 [==============================] - 4s 2ms/step - total_loss: 0.8342 - reconstruction_loss: 0.2119 - reconstruction_loss_num: 0.1787 - reconstruction_loss_cat: 0.0332 - kl_loss: 0.6233\n",
      "Epoch 65/100\n",
      "2068/2068 [==============================] - 4s 2ms/step - total_loss: 0.8380 - reconstruction_loss: 0.2111 - reconstruction_loss_num: 0.1778 - reconstruction_loss_cat: 0.0333 - kl_loss: 0.6262\n",
      "Epoch 66/100\n",
      "2068/2068 [==============================] - 4s 2ms/step - total_loss: 0.8379 - reconstruction_loss: 0.2118 - reconstruction_loss_num: 0.1771 - reconstruction_loss_cat: 0.0347 - kl_loss: 0.6274\n",
      "Epoch 67/100\n",
      "2068/2068 [==============================] - 4s 2ms/step - total_loss: 0.8359 - reconstruction_loss: 0.2105 - reconstruction_loss_num: 0.1777 - reconstruction_loss_cat: 0.0328 - kl_loss: 0.6268\n",
      "Epoch 68/100\n",
      "2068/2068 [==============================] - 4s 2ms/step - total_loss: 0.8381 - reconstruction_loss: 0.2106 - reconstruction_loss_num: 0.1779 - reconstruction_loss_cat: 0.0327 - kl_loss: 0.6283\n",
      "Epoch 69/100\n",
      "2068/2068 [==============================] - 4s 2ms/step - total_loss: 0.8367 - reconstruction_loss: 0.2108 - reconstruction_loss_num: 0.1779 - reconstruction_loss_cat: 0.0329 - kl_loss: 0.6271\n",
      "Epoch 70/100\n",
      "2068/2068 [==============================] - 5s 2ms/step - total_loss: 0.8411 - reconstruction_loss: 0.2118 - reconstruction_loss_num: 0.1781 - reconstruction_loss_cat: 0.0337 - kl_loss: 0.6281\n",
      "Epoch 71/100\n",
      "2068/2068 [==============================] - 5s 3ms/step - total_loss: 0.8391 - reconstruction_loss: 0.2101 - reconstruction_loss_num: 0.1779 - reconstruction_loss_cat: 0.0322 - kl_loss: 0.6272\n",
      "Epoch 72/100\n",
      "2068/2068 [==============================] - 5s 2ms/step - total_loss: 0.8395 - reconstruction_loss: 0.2115 - reconstruction_loss_num: 0.1784 - reconstruction_loss_cat: 0.0331 - kl_loss: 0.6272\n",
      "Epoch 73/100\n",
      "2068/2068 [==============================] - 5s 2ms/step - total_loss: 0.8397 - reconstruction_loss: 0.2124 - reconstruction_loss_num: 0.1786 - reconstruction_loss_cat: 0.0338 - kl_loss: 0.6265\n",
      "Epoch 74/100\n",
      "2068/2068 [==============================] - 5s 2ms/step - total_loss: 0.8359 - reconstruction_loss: 0.2095 - reconstruction_loss_num: 0.1777 - reconstruction_loss_cat: 0.0317 - kl_loss: 0.6281\n",
      "Epoch 75/100\n",
      "2068/2068 [==============================] - 5s 2ms/step - total_loss: 0.8414 - reconstruction_loss: 0.2122 - reconstruction_loss_num: 0.1786 - reconstruction_loss_cat: 0.0336 - kl_loss: 0.6276\n",
      "Epoch 76/100\n",
      "2068/2068 [==============================] - 5s 3ms/step - total_loss: 0.8384 - reconstruction_loss: 0.2113 - reconstruction_loss_num: 0.1776 - reconstruction_loss_cat: 0.0337 - kl_loss: 0.6264\n",
      "Epoch 77/100\n",
      "2068/2068 [==============================] - 6s 3ms/step - total_loss: 0.8357 - reconstruction_loss: 0.2097 - reconstruction_loss_num: 0.1778 - reconstruction_loss_cat: 0.0319 - kl_loss: 0.6254\n",
      "Epoch 78/100\n",
      "2068/2068 [==============================] - 4s 2ms/step - total_loss: 0.8371 - reconstruction_loss: 0.2117 - reconstruction_loss_num: 0.1783 - reconstruction_loss_cat: 0.0335 - kl_loss: 0.6250\n",
      "Epoch 79/100\n"
     ]
    },
    {
     "name": "stdout",
     "output_type": "stream",
     "text": [
      "2068/2068 [==============================] - 5s 3ms/step - total_loss: 0.8369 - reconstruction_loss: 0.2094 - reconstruction_loss_num: 0.1772 - reconstruction_loss_cat: 0.0322 - kl_loss: 0.6260\n",
      "Epoch 80/100\n",
      "2068/2068 [==============================] - 4s 2ms/step - total_loss: 0.8363 - reconstruction_loss: 0.2079 - reconstruction_loss_num: 0.1766 - reconstruction_loss_cat: 0.0313 - kl_loss: 0.6259\n",
      "Epoch 81/100\n",
      "2068/2068 [==============================] - 4s 2ms/step - total_loss: 0.8359 - reconstruction_loss: 0.2106 - reconstruction_loss_num: 0.1773 - reconstruction_loss_cat: 0.0333 - kl_loss: 0.6260\n",
      "Epoch 82/100\n",
      "2068/2068 [==============================] - 4s 2ms/step - total_loss: 0.8358 - reconstruction_loss: 0.2101 - reconstruction_loss_num: 0.1768 - reconstruction_loss_cat: 0.0332 - kl_loss: 0.6268\n",
      "Epoch 83/100\n",
      "2068/2068 [==============================] - 4s 2ms/step - total_loss: 0.8366 - reconstruction_loss: 0.2106 - reconstruction_loss_num: 0.1774 - reconstruction_loss_cat: 0.0332 - kl_loss: 0.6260\n",
      "Epoch 84/100\n",
      "2068/2068 [==============================] - 4s 2ms/step - total_loss: 0.8369 - reconstruction_loss: 0.2101 - reconstruction_loss_num: 0.1771 - reconstruction_loss_cat: 0.0330 - kl_loss: 0.6265\n",
      "Epoch 85/100\n",
      "2068/2068 [==============================] - 4s 2ms/step - total_loss: 0.8338 - reconstruction_loss: 0.2107 - reconstruction_loss_num: 0.1773 - reconstruction_loss_cat: 0.0334 - kl_loss: 0.6252\n",
      "Epoch 86/100\n",
      "2068/2068 [==============================] - 4s 2ms/step - total_loss: 0.8360 - reconstruction_loss: 0.2112 - reconstruction_loss_num: 0.1782 - reconstruction_loss_cat: 0.0331 - kl_loss: 0.6246\n",
      "Epoch 87/100\n",
      "2068/2068 [==============================] - 4s 2ms/step - total_loss: 0.8347 - reconstruction_loss: 0.2103 - reconstruction_loss_num: 0.1776 - reconstruction_loss_cat: 0.0327 - kl_loss: 0.6251\n",
      "Epoch 88/100\n",
      "2068/2068 [==============================] - 4s 2ms/step - total_loss: 0.8364 - reconstruction_loss: 0.2100 - reconstruction_loss_num: 0.1772 - reconstruction_loss_cat: 0.0327 - kl_loss: 0.6259\n",
      "Epoch 89/100\n",
      "2068/2068 [==============================] - 4s 2ms/step - total_loss: 0.8373 - reconstruction_loss: 0.2121 - reconstruction_loss_num: 0.1782 - reconstruction_loss_cat: 0.0339 - kl_loss: 0.6246\n",
      "Epoch 90/100\n",
      "2068/2068 [==============================] - 4s 2ms/step - total_loss: 0.8346 - reconstruction_loss: 0.2106 - reconstruction_loss_num: 0.1781 - reconstruction_loss_cat: 0.0325 - kl_loss: 0.6253\n",
      "Epoch 91/100\n",
      "2068/2068 [==============================] - 5s 2ms/step - total_loss: 0.8337 - reconstruction_loss: 0.2115 - reconstruction_loss_num: 0.1777 - reconstruction_loss_cat: 0.0338 - kl_loss: 0.6234\n",
      "Epoch 92/100\n",
      "2068/2068 [==============================] - 5s 2ms/step - total_loss: 0.8348 - reconstruction_loss: 0.2105 - reconstruction_loss_num: 0.1774 - reconstruction_loss_cat: 0.0331 - kl_loss: 0.6250\n",
      "Epoch 93/100\n",
      "2068/2068 [==============================] - 6s 3ms/step - total_loss: 0.8357 - reconstruction_loss: 0.2107 - reconstruction_loss_num: 0.1783 - reconstruction_loss_cat: 0.0324 - kl_loss: 0.6250\n",
      "Epoch 94/100\n",
      "2068/2068 [==============================] - 5s 2ms/step - total_loss: 0.8386 - reconstruction_loss: 0.2102 - reconstruction_loss_num: 0.1779 - reconstruction_loss_cat: 0.0323 - kl_loss: 0.6254\n",
      "Epoch 95/100\n",
      "2068/2068 [==============================] - 5s 2ms/step - total_loss: 0.8369 - reconstruction_loss: 0.2117 - reconstruction_loss_num: 0.1789 - reconstruction_loss_cat: 0.0328 - kl_loss: 0.6238\n",
      "Epoch 96/100\n",
      "2068/2068 [==============================] - 5s 2ms/step - total_loss: 0.8349 - reconstruction_loss: 0.2085 - reconstruction_loss_num: 0.1764 - reconstruction_loss_cat: 0.0321 - kl_loss: 0.6281\n",
      "Epoch 97/100\n",
      "2068/2068 [==============================] - 5s 2ms/step - total_loss: 0.8327 - reconstruction_loss: 0.2089 - reconstruction_loss_num: 0.1774 - reconstruction_loss_cat: 0.0315 - kl_loss: 0.6246\n",
      "Epoch 98/100\n",
      "2068/2068 [==============================] - 4s 2ms/step - total_loss: 0.8337 - reconstruction_loss: 0.2099 - reconstruction_loss_num: 0.1781 - reconstruction_loss_cat: 0.0318 - kl_loss: 0.6244\n",
      "Epoch 99/100\n",
      "2068/2068 [==============================] - 4s 2ms/step - total_loss: 0.8362 - reconstruction_loss: 0.2100 - reconstruction_loss_num: 0.1774 - reconstruction_loss_cat: 0.0325 - kl_loss: 0.6250\n",
      "Epoch 100/100\n",
      "2068/2068 [==============================] - 4s 2ms/step - total_loss: 0.8395 - reconstruction_loss: 0.2126 - reconstruction_loss_num: 0.1781 - reconstruction_loss_cat: 0.0345 - kl_loss: 0.6259\n"
     ]
    }
   ],
   "source": [
    "# Train\n",
    "vae = VAE(encoder, decoder, CAT_IDX, CAT_LENGTHS)\n",
    "vae.compile(optimizer=keras.optimizers.RMSprop(learning_rate=LEARN_RATE, rho=RHO))\n",
    "history = vae.fit(train_data, epochs=EPOCHS, batch_size=BATCH_SIZE) #add callbacks=[callback] if needed"
   ]
  },
  {
   "cell_type": "code",
   "execution_count": 15,
   "metadata": {},
   "outputs": [],
   "source": [
    "# # Callback class for debugging\n",
    "# weights_history = []\n",
    "\n",
    "# class MyCallback(keras.callbacks.Callback):\n",
    "#     def on_batch_end(self, batch, logs):\n",
    "#         weights = vae.get_weights()\n",
    "#         weights_history.append(weights)\n",
    "\n",
    "# callback = MyCallback()"
   ]
  },
  {
   "cell_type": "code",
   "execution_count": 16,
   "metadata": {},
   "outputs": [
    {
     "data": {
      "image/png": "[encoded data removed]",
      "text/plain": [
       "<Figure size 432x288 with 1 Axes>"
      ]
     },
     "metadata": {
      "needs_background": "light"
     },
     "output_type": "display_data"
    }
   ],
   "source": [
    "# Plot model loss/training progress\n",
    "plt.plot(history.history['total_loss'])\n",
    "plt.plot(history.history['reconstruction_loss_num'])\n",
    "plt.plot(history.history['reconstruction_loss_cat'])\n",
    "plt.plot(history.history['kl_loss'])\n",
    "plt.title(\"Training History\")\n",
    "plt.ylabel(\"Loss\")\n",
    "plt.xlabel(\"Epoch\")\n",
    "plt.legend([\"total\",\"rec_num\",\"rec_cat\",\"kl\"], loc=\"upper right\")\n",
    "plt.show()"
   ]
  },
  {
   "cell_type": "markdown",
   "metadata": {},
   "source": [
    "## Testing"
   ]
  },
  {
   "cell_type": "code",
   "execution_count": 17,
   "metadata": {},
   "outputs": [
    {
     "name": "stdout",
     "output_type": "stream",
     "text": [
      "Latent Variable: 0\n",
      "Mean: 0.07164976000785828\n",
      "Variance: 0.14533233642578125\n",
      "\n",
      "Latent Variable: 1\n",
      "Mean: -0.037371378391981125\n",
      "Variance: 0.37923139333724976\n",
      "\n",
      "Latent Variable: 2\n",
      "Mean: 0.01334515679627657\n",
      "Variance: 0.1584818959236145\n",
      "\n",
      "Latent Variable: 3\n",
      "Mean: 0.00858768355101347\n",
      "Variance: 0.1219080314040184\n",
      "\n",
      "Latent Variable: 4\n",
      "Mean: -0.024075990542769432\n",
      "Variance: 0.2940439283847809\n",
      "\n"
     ]
    }
   ],
   "source": [
    "# Get latent vars from the encoder; feed to decoder and get sampled manifest variables\n",
    "z_mean, z_logvar, z = encoder.predict(test_data)\n",
    "\n",
    "# Determine the average values for the mean/logvariance of the latent variables\n",
    "for i in range(0, LATENT_DIM):\n",
    "    avg_mean = np.mean(z_mean[:,i])\n",
    "    avg_logvar = np.mean(z_logvar[:,i])\n",
    "    print(f\"Latent Variable: {i}\")\n",
    "    print(f\"Mean: {avg_mean}\")\n",
    "    print(f\"Variance: {np.exp(avg_logvar)}\\n\")"
   ]
  },
  {
   "cell_type": "code",
   "execution_count": 18,
   "metadata": {},
   "outputs": [
    {
     "name": "stdout",
     "output_type": "stream",
     "text": [
      "Numerical Variable Loss: 0.1708613783121109\n",
      "Categorical Variable Loss: 0.026371706277132034\n"
     ]
    }
   ],
   "source": [
    "# Draw predictions from test data\n",
    "results = vae.predict(test_data)\n",
    "loss_num, loss_cat = get_reconstruction_loss(test_data, results, CAT_IDX, CAT_LENGTHS)\n",
    "print(f\"Numerical Variable Loss: {loss_num}\")\n",
    "print(f\"Categorical Variable Loss: {loss_cat}\")"
   ]
  },
  {
   "cell_type": "code",
   "execution_count": 19,
   "metadata": {},
   "outputs": [],
   "source": [
    "# Transform numeric results back to real variable values\n",
    "results_num = scaler_test.inverse_transform(results[0])\n",
    "results_df = pd.DataFrame(results_num)\n",
    "\n",
    "# Transform categorical results back to real variable values\n",
    "for x in results[1]:\n",
    "    result = np.argmax(x, axis=1) + 1\n",
    "    results_df[f\"{x}\"] = result\n",
    "\n",
    "# Add back original variables names to the results\n",
    "results_df.columns = VAR_NAMES"
   ]
  },
  {
   "cell_type": "code",
   "execution_count": 20,
   "metadata": {},
   "outputs": [],
   "source": [
    "# Transform numeric test data back to real variable values\n",
    "test_data_num = scaler_test.inverse_transform(test_data[:,:CAT_IDX])\n",
    "test_data_df = pd.DataFrame(test_data_num)\n",
    "\n",
    "# Transform categorical test data back to real variable values\n",
    "current = CAT_IDX\n",
    "for x in CAT_LENGTHS:\n",
    "    test_data_cat = test_data[:,current:(current + x)]\n",
    "    test_data_cat = np.argmax(test_data_cat, axis=1) + 1\n",
    "    test_data_df[f\"{x}\"] = test_data_cat\n",
    "    current += x\n",
    "\n",
    "# Add back original variables names to the test data\n",
    "test_data_df.columns = VAR_NAMES"
   ]
  },
  {
   "cell_type": "code",
   "execution_count": 21,
   "metadata": {},
   "outputs": [
    {
     "data": {
      "image/png": "[encoded data removed]",
      "text/plain": [
       "<Figure size 432x288 with 1 Axes>"
      ]
     },
     "metadata": {
      "needs_background": "light"
     },
     "output_type": "display_data"
    },
    {
     "data": {
      "image/png": "[encoded data removed]",
      "text/plain": [
       "<Figure size 432x288 with 1 Axes>"
      ]
     },
     "metadata": {
      "needs_background": "light"
     },
     "output_type": "display_data"
    },
    {
     "data": {
      "image/png": "[encoded data removed]",
      "text/plain": [
       "<Figure size 432x288 with 1 Axes>"
      ]
     },
     "metadata": {
      "needs_background": "light"
     },
     "output_type": "display_data"
    },
    {
     "data": {
      "image/png": "[encoded data removed]",
      "text/plain": [
       "<Figure size 432x288 with 1 Axes>"
      ]
     },
     "metadata": {
      "needs_background": "light"
     },
     "output_type": "display_data"
    },
    {
     "data": {
      "image/png": "[encoded data removed]",
      "text/plain": [
       "<Figure size 432x288 with 1 Axes>"
      ]
     },
     "metadata": {
      "needs_background": "light"
     },
     "output_type": "display_data"
    },
    {
     "data": {
      "image/png": "[encoded data removed]",
      "text/plain": [
       "<Figure size 432x288 with 1 Axes>"
      ]
     },
     "metadata": {
      "needs_background": "light"
     },
     "output_type": "display_data"
    },
    {
     "data": {
      "image/png": "[encoded data removed]",
      "text/plain": [
       "<Figure size 432x288 with 1 Axes>"
      ]
     },
     "metadata": {
      "needs_background": "light"
     },
     "output_type": "display_data"
    },
    {
     "data": {
      "image/png": "[encoded data removed]",
      "text/plain": [
       "<Figure size 432x288 with 1 Axes>"
      ]
     },
     "metadata": {
      "needs_background": "light"
     },
     "output_type": "display_data"
    }
   ],
   "source": [
    "# Show distributions of the resulting numerical variables\n",
    "for col_idx in range(0, CAT_IDX):\n",
    "    results_data_plt = results_df.iloc[:,col_idx]\n",
    "    test_data_plt = test_data_df.iloc[:,col_idx]\n",
    "\n",
    "    plt.hist(results_data_plt, bins=100)\n",
    "    plt.xlim(min(test_data_plt),max(test_data_plt))\n",
    "    plt.title(f\"var {col_idx} - reconstructed distribution\")\n",
    "    plt.show()\n",
    "\n",
    "    plt.hist(test_data_plt, bins=100)\n",
    "    plt.xlim(min(test_data_plt),max(test_data_plt))\n",
    "    plt.title(f\"var {col_idx} - prior distribution\")\n",
    "    plt.show()"
   ]
  },
  {
   "cell_type": "code",
   "execution_count": 22,
   "metadata": {},
   "outputs": [
    {
     "data": {
      "image/png": "[encoded data removed]",
      "text/plain": [
       "<Figure size 432x288 with 1 Axes>"
      ]
     },
     "metadata": {
      "needs_background": "light"
     },
     "output_type": "display_data"
    },
    {
     "data": {
      "image/png": "[encoded data removed]",
      "text/plain": [
       "<Figure size 432x288 with 1 Axes>"
      ]
     },
     "metadata": {
      "needs_background": "light"
     },
     "output_type": "display_data"
    },
    {
     "data": {
      "image/png": "[encoded data removed]",
      "text/plain": [
       "<Figure size 432x288 with 1 Axes>"
      ]
     },
     "metadata": {
      "needs_background": "light"
     },
     "output_type": "display_data"
    },
    {
     "data": {
      "image/png": "[encoded data removed]",
      "text/plain": [
       "<Figure size 432x288 with 1 Axes>"
      ]
     },
     "metadata": {
      "needs_background": "light"
     },
     "output_type": "display_data"
    },
    {
     "data": {
      "image/png": "[encoded data removed]",
      "text/plain": [
       "<Figure size 432x288 with 1 Axes>"
      ]
     },
     "metadata": {
      "needs_background": "light"
     },
     "output_type": "display_data"
    },
    {
     "data": {
      "image/png": "[encoded data removed]",
      "text/plain": [
       "<Figure size 432x288 with 1 Axes>"
      ]
     },
     "metadata": {
      "needs_background": "light"
     },
     "output_type": "display_data"
    }
   ],
   "source": [
    "# Show distributions of the resulting numerical variables\n",
    "for col_idx in range(CAT_IDX, VAR_DIM):\n",
    "    results_data_plt = results_df.iloc[:,col_idx]\n",
    "    test_data_plt = test_data_df.iloc[:,col_idx]\n",
    "    \n",
    "    plt.hist(results_data_plt)\n",
    "    plt.xlim(min(test_data_plt),max(test_data_plt))\n",
    "    plt.title(f\"var {col_idx} - reconstructed distribution\")\n",
    "    plt.show()\n",
    "    \n",
    "    plt.hist(test_data_plt)\n",
    "    plt.xlim(min(test_data_plt),max(test_data_plt))\n",
    "    plt.title(f\"var {col_idx} - prior distribution\")\n",
    "    plt.show()"
   ]
  }
 ],
 "metadata": {
  "kernelspec": {
   "display_name": "Python 3",
   "language": "python",
   "name": "python3"
  },
  "language_info": {
   "codemirror_mode": {
    "name": "ipython",
    "version": 3
   },
   "file_extension": ".py",
   "mimetype": "text/x-python",
   "name": "python",
   "nbconvert_exporter": "python",
   "pygments_lexer": "ipython3",
   "version": "3.8.3"
  }
 },
 "nbformat": 4,
 "nbformat_minor": 4
}
