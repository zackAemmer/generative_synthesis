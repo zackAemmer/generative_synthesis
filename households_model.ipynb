{
 "cells": [
  {
   "cell_type": "markdown",
   "metadata": {},
   "source": [
    "## Import Libraries and Datasets"
   ]
  },
  {
   "cell_type": "code",
   "execution_count": 1,
   "metadata": {},
   "outputs": [],
   "source": [
    "import matplotlib.pyplot as plt\n",
    "import numpy as np\n",
    "import pandas as pd\n",
    "import sklearn.preprocessing as skpre\n",
    "import tensorflow as tf\n",
    "from tensorflow import keras\n",
    "from tensorflow.keras import layers"
   ]
  },
  {
   "cell_type": "code",
   "execution_count": 2,
   "metadata": {},
   "outputs": [],
   "source": [
    "# Load in the persons PUMS dataset for WA state\n",
    "p_df = pd.read_csv(\"data/PUMS_2017_5YR_WA/psam_p53.csv\")\n",
    "h_df = pd.read_csv(\"data/PUMS_2017_5YR_WA/psam_h53.csv\")"
   ]
  },
  {
   "cell_type": "markdown",
   "metadata": {},
   "source": [
    "## Choose Variables and Preprocess"
   ]
  },
  {
   "cell_type": "code",
   "execution_count": 3,
   "metadata": {},
   "outputs": [
    {
     "name": "stdout",
     "output_type": "stream",
     "text": [
      "Dataset n=359075 pre-cleaning\n",
      "Dataset n=150203 post-cleaning\n"
     ]
    }
   ],
   "source": [
    "# Filter to desired variables (numeric then categorical)\n",
    "pums_data_p = p_df[['SERIALNO','AGEP','JWMNP','SCHL','PINCP','COW','SEX','MAR']]\n",
    "pums_data_h = h_df[['SERIALNO','NP','VEH','HINCP']]\n",
    "pums_data = pd.merge(pums_data_p, pums_data_h, on='SERIALNO')\n",
    "pums_data = pums_data.drop(labels=['SERIALNO'], axis=1)\n",
    "pums_data = pums_data[['AGEP','JWMNP','SCHL','PINCP','HINCP','COW','SEX','MAR','NP','VEH']]\n",
    "\n",
    "# Remove NA values and check n before/after\n",
    "print(f\"Dataset n={len(pums_data)} pre-cleaning\")\n",
    "pums_data = pums_data.dropna()\n",
    "print(f\"Dataset n={len(pums_data)} post-cleaning\")"
   ]
  },
  {
   "cell_type": "code",
   "execution_count": 4,
   "metadata": {},
   "outputs": [
    {
     "name": "stdout",
     "output_type": "stream",
     "text": [
      "Categorical variable class lengths: [8, 2, 5, 18, 7]\n"
     ]
    }
   ],
   "source": [
    "CAT_IDX = 5\n",
    "HH_IDX = [4,8,9]\n",
    "LEN_PERS = pums_data_p.shape[1] - 1\n",
    "LEN_HH = pums_data_h.shape[1] - 1\n",
    "VAR_DIM = pums_data.shape[1] #Length of all variables before OHE\n",
    "VAR_NAMES = pums_data.columns #Names of all variables before OHE\n",
    "\n",
    "# Split categorical data into OHE vars, save num classes per variable\n",
    "dummies_list = []\n",
    "for x in range(CAT_IDX, VAR_DIM):\n",
    "    dummies = pums_data.iloc[:,x]\n",
    "    dummies = pd.get_dummies(dummies, prefix=f\"{pums_data.columns[x]}_\")\n",
    "    dummies_list.append(dummies)\n",
    "CAT_LENGTHS = [x.shape[1] for x in dummies_list]\n",
    "print(f\"Categorical variable class lengths: {CAT_LENGTHS}\")"
   ]
  },
  {
   "cell_type": "code",
   "execution_count": 5,
   "metadata": {},
   "outputs": [
    {
     "data": {
      "text/html": [
       "<div>\n",
       "<style scoped>\n",
       "    .dataframe tbody tr th:only-of-type {\n",
       "        vertical-align: middle;\n",
       "    }\n",
       "\n",
       "    .dataframe tbody tr th {\n",
       "        vertical-align: top;\n",
       "    }\n",
       "\n",
       "    .dataframe thead th {\n",
       "        text-align: right;\n",
       "    }\n",
       "</style>\n",
       "<table border=\"1\" class=\"dataframe\">\n",
       "  <thead>\n",
       "    <tr style=\"text-align: right;\">\n",
       "      <th></th>\n",
       "      <th>AGEP</th>\n",
       "      <th>JWMNP</th>\n",
       "      <th>SCHL</th>\n",
       "      <th>PINCP</th>\n",
       "      <th>HINCP</th>\n",
       "      <th>COW__1.0</th>\n",
       "      <th>COW__2.0</th>\n",
       "      <th>COW__3.0</th>\n",
       "      <th>COW__4.0</th>\n",
       "      <th>COW__5.0</th>\n",
       "      <th>...</th>\n",
       "      <th>VEH__0.0</th>\n",
       "      <th>VEH__1.0</th>\n",
       "      <th>VEH__2.0</th>\n",
       "      <th>VEH__3.0</th>\n",
       "      <th>VEH__4.0</th>\n",
       "      <th>VEH__5.0</th>\n",
       "      <th>VEH__6.0</th>\n",
       "      <th>HINCP</th>\n",
       "      <th>NP</th>\n",
       "      <th>VEH</th>\n",
       "    </tr>\n",
       "  </thead>\n",
       "  <tbody>\n",
       "    <tr>\n",
       "      <th>4</th>\n",
       "      <td>52</td>\n",
       "      <td>70.0</td>\n",
       "      <td>21.0</td>\n",
       "      <td>160000.0</td>\n",
       "      <td>210500.0</td>\n",
       "      <td>1</td>\n",
       "      <td>0</td>\n",
       "      <td>0</td>\n",
       "      <td>0</td>\n",
       "      <td>0</td>\n",
       "      <td>...</td>\n",
       "      <td>0</td>\n",
       "      <td>0</td>\n",
       "      <td>0</td>\n",
       "      <td>1</td>\n",
       "      <td>0</td>\n",
       "      <td>0</td>\n",
       "      <td>0</td>\n",
       "      <td>210500.0</td>\n",
       "      <td>3</td>\n",
       "      <td>3.0</td>\n",
       "    </tr>\n",
       "    <tr>\n",
       "      <th>5</th>\n",
       "      <td>51</td>\n",
       "      <td>20.0</td>\n",
       "      <td>21.0</td>\n",
       "      <td>50000.0</td>\n",
       "      <td>210500.0</td>\n",
       "      <td>0</td>\n",
       "      <td>0</td>\n",
       "      <td>1</td>\n",
       "      <td>0</td>\n",
       "      <td>0</td>\n",
       "      <td>...</td>\n",
       "      <td>0</td>\n",
       "      <td>0</td>\n",
       "      <td>0</td>\n",
       "      <td>1</td>\n",
       "      <td>0</td>\n",
       "      <td>0</td>\n",
       "      <td>0</td>\n",
       "      <td>210500.0</td>\n",
       "      <td>3</td>\n",
       "      <td>3.0</td>\n",
       "    </tr>\n",
       "    <tr>\n",
       "      <th>7</th>\n",
       "      <td>59</td>\n",
       "      <td>30.0</td>\n",
       "      <td>19.0</td>\n",
       "      <td>26710.0</td>\n",
       "      <td>50310.0</td>\n",
       "      <td>0</td>\n",
       "      <td>0</td>\n",
       "      <td>1</td>\n",
       "      <td>0</td>\n",
       "      <td>0</td>\n",
       "      <td>...</td>\n",
       "      <td>0</td>\n",
       "      <td>0</td>\n",
       "      <td>0</td>\n",
       "      <td>1</td>\n",
       "      <td>0</td>\n",
       "      <td>0</td>\n",
       "      <td>0</td>\n",
       "      <td>50310.0</td>\n",
       "      <td>2</td>\n",
       "      <td>3.0</td>\n",
       "    </tr>\n",
       "    <tr>\n",
       "      <th>8</th>\n",
       "      <td>56</td>\n",
       "      <td>15.0</td>\n",
       "      <td>16.0</td>\n",
       "      <td>23600.0</td>\n",
       "      <td>50310.0</td>\n",
       "      <td>1</td>\n",
       "      <td>0</td>\n",
       "      <td>0</td>\n",
       "      <td>0</td>\n",
       "      <td>0</td>\n",
       "      <td>...</td>\n",
       "      <td>0</td>\n",
       "      <td>0</td>\n",
       "      <td>0</td>\n",
       "      <td>1</td>\n",
       "      <td>0</td>\n",
       "      <td>0</td>\n",
       "      <td>0</td>\n",
       "      <td>50310.0</td>\n",
       "      <td>2</td>\n",
       "      <td>3.0</td>\n",
       "    </tr>\n",
       "    <tr>\n",
       "      <th>9</th>\n",
       "      <td>40</td>\n",
       "      <td>5.0</td>\n",
       "      <td>5.0</td>\n",
       "      <td>10000.0</td>\n",
       "      <td>31200.0</td>\n",
       "      <td>1</td>\n",
       "      <td>0</td>\n",
       "      <td>0</td>\n",
       "      <td>0</td>\n",
       "      <td>0</td>\n",
       "      <td>...</td>\n",
       "      <td>1</td>\n",
       "      <td>0</td>\n",
       "      <td>0</td>\n",
       "      <td>0</td>\n",
       "      <td>0</td>\n",
       "      <td>0</td>\n",
       "      <td>0</td>\n",
       "      <td>31200.0</td>\n",
       "      <td>5</td>\n",
       "      <td>0.0</td>\n",
       "    </tr>\n",
       "    <tr>\n",
       "      <th>...</th>\n",
       "      <td>...</td>\n",
       "      <td>...</td>\n",
       "      <td>...</td>\n",
       "      <td>...</td>\n",
       "      <td>...</td>\n",
       "      <td>...</td>\n",
       "      <td>...</td>\n",
       "      <td>...</td>\n",
       "      <td>...</td>\n",
       "      <td>...</td>\n",
       "      <td>...</td>\n",
       "      <td>...</td>\n",
       "      <td>...</td>\n",
       "      <td>...</td>\n",
       "      <td>...</td>\n",
       "      <td>...</td>\n",
       "      <td>...</td>\n",
       "      <td>...</td>\n",
       "      <td>...</td>\n",
       "      <td>...</td>\n",
       "      <td>...</td>\n",
       "    </tr>\n",
       "    <tr>\n",
       "      <th>356007</th>\n",
       "      <td>37</td>\n",
       "      <td>50.0</td>\n",
       "      <td>21.0</td>\n",
       "      <td>55000.0</td>\n",
       "      <td>55000.0</td>\n",
       "      <td>1</td>\n",
       "      <td>0</td>\n",
       "      <td>0</td>\n",
       "      <td>0</td>\n",
       "      <td>0</td>\n",
       "      <td>...</td>\n",
       "      <td>0</td>\n",
       "      <td>0</td>\n",
       "      <td>1</td>\n",
       "      <td>0</td>\n",
       "      <td>0</td>\n",
       "      <td>0</td>\n",
       "      <td>0</td>\n",
       "      <td>55000.0</td>\n",
       "      <td>3</td>\n",
       "      <td>2.0</td>\n",
       "    </tr>\n",
       "    <tr>\n",
       "      <th>356010</th>\n",
       "      <td>33</td>\n",
       "      <td>65.0</td>\n",
       "      <td>18.0</td>\n",
       "      <td>90000.0</td>\n",
       "      <td>102000.0</td>\n",
       "      <td>1</td>\n",
       "      <td>0</td>\n",
       "      <td>0</td>\n",
       "      <td>0</td>\n",
       "      <td>0</td>\n",
       "      <td>...</td>\n",
       "      <td>0</td>\n",
       "      <td>0</td>\n",
       "      <td>1</td>\n",
       "      <td>0</td>\n",
       "      <td>0</td>\n",
       "      <td>0</td>\n",
       "      <td>0</td>\n",
       "      <td>102000.0</td>\n",
       "      <td>4</td>\n",
       "      <td>2.0</td>\n",
       "    </tr>\n",
       "    <tr>\n",
       "      <th>356013</th>\n",
       "      <td>48</td>\n",
       "      <td>60.0</td>\n",
       "      <td>18.0</td>\n",
       "      <td>48400.0</td>\n",
       "      <td>106400.0</td>\n",
       "      <td>1</td>\n",
       "      <td>0</td>\n",
       "      <td>0</td>\n",
       "      <td>0</td>\n",
       "      <td>0</td>\n",
       "      <td>...</td>\n",
       "      <td>0</td>\n",
       "      <td>0</td>\n",
       "      <td>0</td>\n",
       "      <td>0</td>\n",
       "      <td>1</td>\n",
       "      <td>0</td>\n",
       "      <td>0</td>\n",
       "      <td>106400.0</td>\n",
       "      <td>3</td>\n",
       "      <td>4.0</td>\n",
       "    </tr>\n",
       "    <tr>\n",
       "      <th>356014</th>\n",
       "      <td>49</td>\n",
       "      <td>30.0</td>\n",
       "      <td>19.0</td>\n",
       "      <td>49000.0</td>\n",
       "      <td>106400.0</td>\n",
       "      <td>1</td>\n",
       "      <td>0</td>\n",
       "      <td>0</td>\n",
       "      <td>0</td>\n",
       "      <td>0</td>\n",
       "      <td>...</td>\n",
       "      <td>0</td>\n",
       "      <td>0</td>\n",
       "      <td>0</td>\n",
       "      <td>0</td>\n",
       "      <td>1</td>\n",
       "      <td>0</td>\n",
       "      <td>0</td>\n",
       "      <td>106400.0</td>\n",
       "      <td>3</td>\n",
       "      <td>4.0</td>\n",
       "    </tr>\n",
       "    <tr>\n",
       "      <th>356015</th>\n",
       "      <td>17</td>\n",
       "      <td>20.0</td>\n",
       "      <td>14.0</td>\n",
       "      <td>9000.0</td>\n",
       "      <td>106400.0</td>\n",
       "      <td>1</td>\n",
       "      <td>0</td>\n",
       "      <td>0</td>\n",
       "      <td>0</td>\n",
       "      <td>0</td>\n",
       "      <td>...</td>\n",
       "      <td>0</td>\n",
       "      <td>0</td>\n",
       "      <td>0</td>\n",
       "      <td>0</td>\n",
       "      <td>1</td>\n",
       "      <td>0</td>\n",
       "      <td>0</td>\n",
       "      <td>106400.0</td>\n",
       "      <td>3</td>\n",
       "      <td>4.0</td>\n",
       "    </tr>\n",
       "  </tbody>\n",
       "</table>\n",
       "<p>150203 rows × 48 columns</p>\n",
       "</div>"
      ],
      "text/plain": [
       "        AGEP  JWMNP  SCHL     PINCP     HINCP  COW__1.0  COW__2.0  COW__3.0  \\\n",
       "4         52   70.0  21.0  160000.0  210500.0         1         0         0   \n",
       "5         51   20.0  21.0   50000.0  210500.0         0         0         1   \n",
       "7         59   30.0  19.0   26710.0   50310.0         0         0         1   \n",
       "8         56   15.0  16.0   23600.0   50310.0         1         0         0   \n",
       "9         40    5.0   5.0   10000.0   31200.0         1         0         0   \n",
       "...      ...    ...   ...       ...       ...       ...       ...       ...   \n",
       "356007    37   50.0  21.0   55000.0   55000.0         1         0         0   \n",
       "356010    33   65.0  18.0   90000.0  102000.0         1         0         0   \n",
       "356013    48   60.0  18.0   48400.0  106400.0         1         0         0   \n",
       "356014    49   30.0  19.0   49000.0  106400.0         1         0         0   \n",
       "356015    17   20.0  14.0    9000.0  106400.0         1         0         0   \n",
       "\n",
       "        COW__4.0  COW__5.0  ...  VEH__0.0  VEH__1.0  VEH__2.0  VEH__3.0  \\\n",
       "4              0         0  ...         0         0         0         1   \n",
       "5              0         0  ...         0         0         0         1   \n",
       "7              0         0  ...         0         0         0         1   \n",
       "8              0         0  ...         0         0         0         1   \n",
       "9              0         0  ...         1         0         0         0   \n",
       "...          ...       ...  ...       ...       ...       ...       ...   \n",
       "356007         0         0  ...         0         0         1         0   \n",
       "356010         0         0  ...         0         0         1         0   \n",
       "356013         0         0  ...         0         0         0         0   \n",
       "356014         0         0  ...         0         0         0         0   \n",
       "356015         0         0  ...         0         0         0         0   \n",
       "\n",
       "        VEH__4.0  VEH__5.0  VEH__6.0     HINCP  NP  VEH  \n",
       "4              0         0         0  210500.0   3  3.0  \n",
       "5              0         0         0  210500.0   3  3.0  \n",
       "7              0         0         0   50310.0   2  3.0  \n",
       "8              0         0         0   50310.0   2  3.0  \n",
       "9              0         0         0   31200.0   5  0.0  \n",
       "...          ...       ...       ...       ...  ..  ...  \n",
       "356007         0         0         0   55000.0   3  2.0  \n",
       "356010         0         0         0  102000.0   4  2.0  \n",
       "356013         1         0         0  106400.0   3  4.0  \n",
       "356014         1         0         0  106400.0   3  4.0  \n",
       "356015         1         0         0  106400.0   3  4.0  \n",
       "\n",
       "[150203 rows x 48 columns]"
      ]
     },
     "execution_count": 5,
     "metadata": {},
     "output_type": "execute_result"
    }
   ],
   "source": [
    "# Final data frame after encoding OHE\n",
    "model_data_df = pums_data.iloc[:,:CAT_IDX]\n",
    "for ohe_var in dummies_list:\n",
    "    model_data_df = pd.concat([model_data_df, ohe_var], axis=1)\n",
    "MANIFEST_DIM = model_data_df.shape[1]\n",
    "\n",
    "# Add columns for original household variables; these will be fed to decoder but not encoder\n",
    "model_data_df = pd.concat([model_data_df, pums_data.iloc[:,HH_IDX]], axis=1)\n",
    "\n",
    "# Preview data that will be fed into model\n",
    "model_data_df"
   ]
  },
  {
   "cell_type": "code",
   "execution_count": 6,
   "metadata": {},
   "outputs": [
    {
     "name": "stdout",
     "output_type": "stream",
     "text": [
      "Dataset n=150203 pre-numerical-outliers\n",
      "Dataset n=143451 post-numerical-outliers\n"
     ]
    }
   ],
   "source": [
    "# Standardize the input data from -1 to 1 for numerical variables\n",
    "scaler_pers = skpre.StandardScaler()\n",
    "scaler_hh = skpre.StandardScaler()\n",
    "model_data = model_data_df.values\n",
    "model_data[:,:CAT_IDX] = scaler_pers.fit_transform(model_data[:,:CAT_IDX])\n",
    "model_data[:,MANIFEST_DIM:] = scaler_hh.fit_transform(model_data[:,MANIFEST_DIM:])\n",
    "\n",
    "# Remove rows with numerical outliers (3 < standard deviations)\n",
    "print(f\"Dataset n={len(model_data)} pre-numerical-outliers\")\n",
    "outlier_row_indices = np.where(np.any(model_data[:,:CAT_IDX] > 3, axis=1))\n",
    "model_data = np.delete(model_data, (outlier_row_indices), axis=0)\n",
    "print(f\"Dataset n={len(model_data)} post-numerical-outliers\")\n",
    "\n",
    "# Separate into train/test data\n",
    "train_idx = round(len(model_data)*.9)\n",
    "train_data = model_data[0:train_idx,:]\n",
    "test_data = model_data[train_idx:len(model_data),:]"
   ]
  },
  {
   "cell_type": "markdown",
   "metadata": {},
   "source": [
    "## Set Parameters and Define Model"
   ]
  },
  {
   "cell_type": "markdown",
   "metadata": {},
   "source": [
    "### TODO:\n",
    "\n",
    "###### Build up fundamental model:\n",
    "-Generate a synthetic hh/pers tables for WA  \n",
    "-Test speeds vs traditional methods  \n",
    "-Energy distance test for distributions  \n",
    "\n",
    "###### Differentiate from the GenSynth paper:\n",
    "-Travel diaries  \n",
    "-Method/heuristic/rules for checking large number of attributes  \n",
    "-New models; Disentangled VAE/GAN  \n",
    "-Model population changes over time RNN?  \n",
    "-Behavioral variables  \n",
    "\n",
    "###### They suggest:\n",
    "-Incorporate RNN to generate trip chains (time, location, mode, purpose)  \n",
    "-Use GAN/other method to generate less inconsistencies  \n",
    "-Address next stage of re-sampling to get future populations  "
   ]
  },
  {
   "cell_type": "code",
   "execution_count": 7,
   "metadata": {},
   "outputs": [],
   "source": [
    "# Hyperparameters\n",
    "BATCH_SIZE = 64\n",
    "EPOCHS = 100\n",
    "LEARN_RATE = 0.001\n",
    "RHO = 0.9\n",
    "LATENT_DIM = 5\n",
    "HIDDEN_DIM = 100\n",
    "KL_WEIGHT = 0.5"
   ]
  },
  {
   "cell_type": "code",
   "execution_count": 8,
   "metadata": {},
   "outputs": [],
   "source": [
    "# A layer that takes mean/variance as inputs and returns a random sample z\n",
    "class Sampling(layers.Layer):\n",
    "    def call(self, inputs):\n",
    "        z_mean, z_log_var = inputs\n",
    "        batch = tf.shape(z_mean)[0]\n",
    "        dim = tf.shape(z_mean)[1]\n",
    "        epsilon = tf.keras.backend.random_normal(shape=(batch, dim))\n",
    "        return z_mean + tf.exp(z_log_var) * epsilon"
   ]
  },
  {
   "cell_type": "code",
   "execution_count": 9,
   "metadata": {},
   "outputs": [
    {
     "name": "stdout",
     "output_type": "stream",
     "text": [
      "Model: \"encoder\"\n",
      "__________________________________________________________________________________________________\n",
      "Layer (type)                    Output Shape         Param #     Connected to                     \n",
      "==================================================================================================\n",
      "input_1 (InputLayer)            [(None, 45)]         0                                            \n",
      "__________________________________________________________________________________________________\n",
      "dense (Dense)                   (None, 100)          4600        input_1[0][0]                    \n",
      "__________________________________________________________________________________________________\n",
      "dense_1 (Dense)                 (None, 100)          10100       dense[0][0]                      \n",
      "__________________________________________________________________________________________________\n",
      "z_mean (Dense)                  (None, 5)            505         dense_1[0][0]                    \n",
      "__________________________________________________________________________________________________\n",
      "z_log_var (Dense)               (None, 5)            505         dense_1[0][0]                    \n",
      "__________________________________________________________________________________________________\n",
      "sampling (Sampling)             (None, 5)            0           z_mean[0][0]                     \n",
      "                                                                 z_log_var[0][0]                  \n",
      "==================================================================================================\n",
      "Total params: 15,710\n",
      "Trainable params: 15,710\n",
      "Non-trainable params: 0\n",
      "__________________________________________________________________________________________________\n"
     ]
    }
   ],
   "source": [
    "# Encoder\n",
    "encoder_inputs = keras.Input(shape=(MANIFEST_DIM,))\n",
    "encoder_x = layers.Dense(HIDDEN_DIM, activation=\"tanh\")(encoder_inputs)\n",
    "encoder_x = layers.Dense(HIDDEN_DIM, activation=\"tanh\")(encoder_x)\n",
    "z_mean = layers.Dense(LATENT_DIM, name=\"z_mean\")(encoder_x)\n",
    "z_log_var = layers.Dense(LATENT_DIM, name=\"z_log_var\")(encoder_x)\n",
    "z = Sampling()([z_mean, z_log_var])\n",
    "encoder = keras.Model(encoder_inputs, [z_mean, z_log_var, z], name=\"encoder\")\n",
    "encoder.summary()"
   ]
  },
  {
   "cell_type": "code",
   "execution_count": 10,
   "metadata": {},
   "outputs": [
    {
     "name": "stdout",
     "output_type": "stream",
     "text": [
      "Model: \"decoder\"\n",
      "__________________________________________________________________________________________________\n",
      "Layer (type)                    Output Shape         Param #     Connected to                     \n",
      "==================================================================================================\n",
      "input_2 (InputLayer)            [(None, 8)]          0                                            \n",
      "__________________________________________________________________________________________________\n",
      "dense_2 (Dense)                 (None, 100)          900         input_2[0][0]                    \n",
      "__________________________________________________________________________________________________\n",
      "dense_3 (Dense)                 (None, 100)          10100       dense_2[0][0]                    \n",
      "__________________________________________________________________________________________________\n",
      "dense_4 (Dense)                 (None, 5)            505         dense_3[0][0]                    \n",
      "__________________________________________________________________________________________________\n",
      "dense_5 (Dense)                 (None, 8)            808         dense_3[0][0]                    \n",
      "__________________________________________________________________________________________________\n",
      "dense_6 (Dense)                 (None, 2)            202         dense_3[0][0]                    \n",
      "__________________________________________________________________________________________________\n",
      "dense_7 (Dense)                 (None, 5)            505         dense_3[0][0]                    \n",
      "__________________________________________________________________________________________________\n",
      "dense_8 (Dense)                 (None, 18)           1818        dense_3[0][0]                    \n",
      "__________________________________________________________________________________________________\n",
      "dense_9 (Dense)                 (None, 7)            707         dense_3[0][0]                    \n",
      "==================================================================================================\n",
      "Total params: 15,545\n",
      "Trainable params: 15,545\n",
      "Non-trainable params: 0\n",
      "__________________________________________________________________________________________________\n"
     ]
    }
   ],
   "source": [
    "# Decoder\n",
    "decoder_inputs = keras.Input(shape=(LATENT_DIM + LEN_HH,))\n",
    "decoder_x = layers.Dense(HIDDEN_DIM, activation=\"tanh\")(decoder_inputs)\n",
    "decoder_x = layers.Dense(HIDDEN_DIM, activation=\"tanh\")(decoder_x)\n",
    "decoder_num_outputs = layers.Dense(CAT_IDX, activation=\"linear\")(decoder_x)\n",
    "decoder_cat_outputs = []\n",
    "for var_length in CAT_LENGTHS:\n",
    "    layer = layers.Dense(var_length, activation=\"softmax\")(decoder_x)\n",
    "    decoder_cat_outputs.append(layer)\n",
    "decoder = keras.Model(decoder_inputs, [decoder_num_outputs, decoder_cat_outputs], name=\"decoder\")\n",
    "decoder.summary()"
   ]
  },
  {
   "cell_type": "code",
   "execution_count": 11,
   "metadata": {},
   "outputs": [],
   "source": [
    "# Define custom loss function for combined numerical and categorical data\n",
    "def get_reconstruction_loss(data, reconstruction, CAT_IDX, CAT_LENGTHS):\n",
    "\n",
    "    # Mean squared error for numerical variables\n",
    "    data_num = data[:,:CAT_IDX]\n",
    "    reconstruction_num = reconstruction[0]\n",
    "    loss_num = keras.losses.mean_squared_error(data_num, reconstruction_num)\n",
    "    loss_num = tf.reduce_mean(loss_num)\n",
    "    \n",
    "    # Categorical cross entropy for categorical variables\n",
    "    loss_list = []\n",
    "    current = CAT_IDX\n",
    "    for i, x in enumerate(CAT_LENGTHS):\n",
    "        data_cat = data[:,current:(current + x)]\n",
    "        reconstruction_cat = reconstruction[1][i]\n",
    "        loss = keras.losses.categorical_crossentropy(data_cat, reconstruction_cat, from_logits=False)\n",
    "        loss = tf.reduce_mean(loss)\n",
    "        loss_list.append(loss)\n",
    "        current += x\n",
    "    loss_cat = tf.reduce_sum(loss_list)\n",
    "\n",
    "    # Return both losses; they are combined in the model\n",
    "    return (loss_num, loss_cat)\n",
    "\n",
    "def get_kl_loss(z_mean, z_log_var):\n",
    "    kl_loss = 1 + z_log_var - tf.square(z_mean) - tf.exp(z_log_var)\n",
    "    kl_loss = tf.reduce_mean(kl_loss)\n",
    "    kl_loss = -kl_loss\n",
    "    return kl_loss"
   ]
  },
  {
   "cell_type": "code",
   "execution_count": 12,
   "metadata": {},
   "outputs": [],
   "source": [
    "# Loss metric recorder\n",
    "loss_tracker = keras.metrics.Mean(name=\"loss\")\n",
    "\n",
    "# Variational Autoencoder\n",
    "class VAE(keras.Model):\n",
    "    def __init__(self, encoder, decoder, CAT_IDX, CAT_LENGTHS, **kwargs):\n",
    "        super(VAE, self).__init__(**kwargs)\n",
    "        self.encoder = encoder\n",
    "        self.decoder = decoder\n",
    "        self.CAT_IDX = CAT_IDX\n",
    "        self.CAT_LENGTHS = CAT_LENGTHS\n",
    "\n",
    "    def train_step(self, data):\n",
    "        if isinstance(data, tuple):\n",
    "            data = data[0]\n",
    "        with tf.GradientTape() as tape:\n",
    "            # Get latent vars from the encoder; feed to decoder and get sampled manifest variables\n",
    "            z_mean, z_log_var, z = encoder(data[:,:MANIFEST_DIM])\n",
    "            decoder_input = tf.concat([z, data[:,MANIFEST_DIM:]], axis=1)\n",
    "            reconstruction = decoder(decoder_input)\n",
    "\n",
    "            # Get loss between input values and reconstruction\n",
    "            reconstruction_loss_num, reconstruction_loss_cat = get_reconstruction_loss(\n",
    "                data,\n",
    "                reconstruction,\n",
    "                self.CAT_IDX,\n",
    "                self.CAT_LENGTHS\n",
    "            )\n",
    "            reconstruction_loss = tf.add(reconstruction_loss_num, reconstruction_loss_cat)\n",
    "\n",
    "            # Get Kullback Leidler loss between normal distribution and actual for latent variables\n",
    "            kl_loss = get_kl_loss(z_mean, z_log_var)\n",
    "            kl_loss = kl_loss * KL_WEIGHT\n",
    "\n",
    "            # Combine into single loss term\n",
    "            total_loss = reconstruction_loss + kl_loss\n",
    "\n",
    "        # Get new gradients given the loss and take another step (update weights)\n",
    "        grads = tape.gradient(total_loss, self.trainable_weights)\n",
    "        self.optimizer.apply_gradients(zip(grads, self.trainable_weights))\n",
    "\n",
    "        # Record the loss metrics\n",
    "        loss_tracker.update_state(total_loss)\n",
    "\n",
    "        return {\n",
    "            \"total_loss\": loss_tracker.result(),\n",
    "            \"reconstruction_loss\": reconstruction_loss,\n",
    "            \"reconstruction_loss_num\": reconstruction_loss_num,\n",
    "            \"reconstruction_loss_cat\": reconstruction_loss_cat,\n",
    "            \"kl_loss\": kl_loss,\n",
    "        }\n",
    "\n",
    "    def call(self, inputs):\n",
    "        z_mean, z_log_var, z = self.encoder(inputs[:,:MANIFEST_DIM])\n",
    "        decoder_input = tf.concat([z, inputs[:,MANIFEST_DIM:]], axis=1)\n",
    "        reconstruction = self.decoder(decoder_input)\n",
    "        return reconstruction\n",
    "\n",
    "    @property\n",
    "    def metrics(self):\n",
    "        return [loss_tracker]"
   ]
  },
  {
   "cell_type": "markdown",
   "metadata": {},
   "source": [
    "## Training"
   ]
  },
  {
   "cell_type": "code",
   "execution_count": 13,
   "metadata": {
    "scrolled": true
   },
   "outputs": [
    {
     "name": "stdout",
     "output_type": "stream",
     "text": [
      "Epoch 1/100\n",
      "2018/2018 [==============================] - 9s 4ms/step - total_loss: 2.7447 - reconstruction_loss: 1.1963 - reconstruction_loss_num: 0.4161 - reconstruction_loss_cat: 0.7803 - kl_loss: 0.6379\n",
      "Epoch 2/100\n",
      "2018/2018 [==============================] - 7s 4ms/step - total_loss: 1.1091 - reconstruction_loss: 0.4527 - reconstruction_loss_num: 0.2972 - reconstruction_loss_cat: 0.1555 - kl_loss: 0.5940\n",
      "Epoch 3/100\n",
      "2018/2018 [==============================] - 8s 4ms/step - total_loss: 0.9314 - reconstruction_loss: 0.3270 - reconstruction_loss_num: 0.2326 - reconstruction_loss_cat: 0.0943 - kl_loss: 0.5855\n",
      "Epoch 4/100\n",
      "2018/2018 [==============================] - 9s 5ms/step - total_loss: 0.8794 - reconstruction_loss: 0.2931 - reconstruction_loss_num: 0.2162 - reconstruction_loss_cat: 0.0769 - kl_loss: 0.5799\n",
      "Epoch 5/100\n",
      "2018/2018 [==============================] - 11s 6ms/step - total_loss: 0.8531 - reconstruction_loss: 0.2749 - reconstruction_loss_num: 0.2075 - reconstruction_loss_cat: 0.0674 - kl_loss: 0.5760\n",
      "Epoch 6/100\n",
      "2018/2018 [==============================] - 10s 5ms/step - total_loss: 0.8425 - reconstruction_loss: 0.2639 - reconstruction_loss_num: 0.2015 - reconstruction_loss_cat: 0.0624 - kl_loss: 0.5763\n",
      "Epoch 7/100\n",
      "2018/2018 [==============================] - 11s 5ms/step - total_loss: 0.8308 - reconstruction_loss: 0.2584 - reconstruction_loss_num: 0.1991 - reconstruction_loss_cat: 0.0593 - kl_loss: 0.5734\n",
      "Epoch 8/100\n",
      "2018/2018 [==============================] - 8s 4ms/step - total_loss: 0.8221 - reconstruction_loss: 0.2530 - reconstruction_loss_num: 0.1974 - reconstruction_loss_cat: 0.0556 - kl_loss: 0.5692\n",
      "Epoch 9/100\n",
      "2018/2018 [==============================] - 9s 4ms/step - total_loss: 0.8154 - reconstruction_loss: 0.2487 - reconstruction_loss_num: 0.1957 - reconstruction_loss_cat: 0.0530 - kl_loss: 0.5654\n",
      "Epoch 10/100\n",
      "2018/2018 [==============================] - 8s 4ms/step - total_loss: 0.8070 - reconstruction_loss: 0.2452 - reconstruction_loss_num: 0.1935 - reconstruction_loss_cat: 0.0517 - kl_loss: 0.5606\n",
      "Epoch 11/100\n",
      "2018/2018 [==============================] - 8s 4ms/step - total_loss: 0.8035 - reconstruction_loss: 0.2424 - reconstruction_loss_num: 0.1912 - reconstruction_loss_cat: 0.0512 - kl_loss: 0.5588\n",
      "Epoch 12/100\n",
      "2018/2018 [==============================] - 7s 3ms/step - total_loss: 0.7948 - reconstruction_loss: 0.2380 - reconstruction_loss_num: 0.1884 - reconstruction_loss_cat: 0.0496 - kl_loss: 0.5553\n",
      "Epoch 13/100\n",
      "2018/2018 [==============================] - 8s 4ms/step - total_loss: 0.7923 - reconstruction_loss: 0.2336 - reconstruction_loss_num: 0.1853 - reconstruction_loss_cat: 0.0483 - kl_loss: 0.5561\n",
      "Epoch 14/100\n",
      "2018/2018 [==============================] - 7s 4ms/step - total_loss: 0.7877 - reconstruction_loss: 0.2329 - reconstruction_loss_num: 0.1841 - reconstruction_loss_cat: 0.0487 - kl_loss: 0.5548\n",
      "Epoch 15/100\n",
      "2018/2018 [==============================] - 7s 4ms/step - total_loss: 0.7848 - reconstruction_loss: 0.2281 - reconstruction_loss_num: 0.1804 - reconstruction_loss_cat: 0.0477 - kl_loss: 0.5557\n",
      "Epoch 16/100\n",
      "2018/2018 [==============================] - 7s 4ms/step - total_loss: 0.7843 - reconstruction_loss: 0.2249 - reconstruction_loss_num: 0.1773 - reconstruction_loss_cat: 0.0476 - kl_loss: 0.5574\n",
      "Epoch 17/100\n",
      "2018/2018 [==============================] - 8s 4ms/step - total_loss: 0.7774 - reconstruction_loss: 0.2226 - reconstruction_loss_num: 0.1746 - reconstruction_loss_cat: 0.0480 - kl_loss: 0.5541\n",
      "Epoch 18/100\n",
      "2018/2018 [==============================] - 8s 4ms/step - total_loss: 0.7738 - reconstruction_loss: 0.2181 - reconstruction_loss_num: 0.1718 - reconstruction_loss_cat: 0.0463 - kl_loss: 0.5565\n",
      "Epoch 19/100\n",
      "2018/2018 [==============================] - 9s 4ms/step - total_loss: 0.7689 - reconstruction_loss: 0.2143 - reconstruction_loss_num: 0.1701 - reconstruction_loss_cat: 0.0442 - kl_loss: 0.5567\n",
      "Epoch 20/100\n",
      "2018/2018 [==============================] - 8s 4ms/step - total_loss: 0.7679 - reconstruction_loss: 0.2144 - reconstruction_loss_num: 0.1692 - reconstruction_loss_cat: 0.0452 - kl_loss: 0.5556\n",
      "Epoch 21/100\n",
      "2018/2018 [==============================] - 7s 4ms/step - total_loss: 0.7682 - reconstruction_loss: 0.2113 - reconstruction_loss_num: 0.1678 - reconstruction_loss_cat: 0.0435 - kl_loss: 0.5549\n",
      "Epoch 22/100\n",
      "2018/2018 [==============================] - 8s 4ms/step - total_loss: 0.7659 - reconstruction_loss: 0.2105 - reconstruction_loss_num: 0.1663 - reconstruction_loss_cat: 0.0443 - kl_loss: 0.5547\n",
      "Epoch 23/100\n",
      "2018/2018 [==============================] - 9s 4ms/step - total_loss: 0.7607 - reconstruction_loss: 0.2075 - reconstruction_loss_num: 0.1654 - reconstruction_loss_cat: 0.0421 - kl_loss: 0.5531\n",
      "Epoch 24/100\n",
      "2018/2018 [==============================] - 8s 4ms/step - total_loss: 0.7618 - reconstruction_loss: 0.2072 - reconstruction_loss_num: 0.1644 - reconstruction_loss_cat: 0.0428 - kl_loss: 0.5547\n",
      "Epoch 25/100\n",
      "2018/2018 [==============================] - 8s 4ms/step - total_loss: 0.7582 - reconstruction_loss: 0.2073 - reconstruction_loss_num: 0.1645 - reconstruction_loss_cat: 0.0428 - kl_loss: 0.5523\n",
      "Epoch 26/100\n",
      "2018/2018 [==============================] - 9s 4ms/step - total_loss: 0.7584 - reconstruction_loss: 0.2047 - reconstruction_loss_num: 0.1630 - reconstruction_loss_cat: 0.0417 - kl_loss: 0.5554\n",
      "Epoch 27/100\n",
      "2018/2018 [==============================] - 11s 6ms/step - total_loss: 0.7610 - reconstruction_loss: 0.2057 - reconstruction_loss_num: 0.1629 - reconstruction_loss_cat: 0.0428 - kl_loss: 0.5551\n",
      "Epoch 28/100\n",
      "2018/2018 [==============================] - 13s 7ms/step - total_loss: 0.7586 - reconstruction_loss: 0.2074 - reconstruction_loss_num: 0.1646 - reconstruction_loss_cat: 0.0428 - kl_loss: 0.5517\n",
      "Epoch 29/100\n",
      "2018/2018 [==============================] - 7s 4ms/step - total_loss: 0.7580 - reconstruction_loss: 0.2061 - reconstruction_loss_num: 0.1641 - reconstruction_loss_cat: 0.0420 - kl_loss: 0.5510\n",
      "Epoch 30/100\n",
      "2018/2018 [==============================] - 7s 4ms/step - total_loss: 0.7587 - reconstruction_loss: 0.2067 - reconstruction_loss_num: 0.1648 - reconstruction_loss_cat: 0.0419 - kl_loss: 0.5510\n",
      "Epoch 31/100\n",
      "2018/2018 [==============================] - 7s 3ms/step - total_loss: 0.7586 - reconstruction_loss: 0.2054 - reconstruction_loss_num: 0.1631 - reconstruction_loss_cat: 0.0423 - kl_loss: 0.5522\n",
      "Epoch 32/100\n",
      "2018/2018 [==============================] - 7s 3ms/step - total_loss: 0.7591 - reconstruction_loss: 0.2060 - reconstruction_loss_num: 0.1637 - reconstruction_loss_cat: 0.0423 - kl_loss: 0.5544\n",
      "Epoch 33/100\n",
      "2018/2018 [==============================] - 7s 3ms/step - total_loss: 0.7572 - reconstruction_loss: 0.2039 - reconstruction_loss_num: 0.1628 - reconstruction_loss_cat: 0.0412 - kl_loss: 0.5534\n",
      "Epoch 34/100\n",
      "2018/2018 [==============================] - 6s 3ms/step - total_loss: 0.7560 - reconstruction_loss: 0.2039 - reconstruction_loss_num: 0.1624 - reconstruction_loss_cat: 0.0415 - kl_loss: 0.5522\n",
      "Epoch 35/100\n",
      "2018/2018 [==============================] - 7s 4ms/step - total_loss: 0.7599 - reconstruction_loss: 0.2059 - reconstruction_loss_num: 0.1627 - reconstruction_loss_cat: 0.0432 - kl_loss: 0.5531\n",
      "Epoch 36/100\n",
      "2018/2018 [==============================] - 11s 5ms/step - total_loss: 0.7585 - reconstruction_loss: 0.2049 - reconstruction_loss_num: 0.1627 - reconstruction_loss_cat: 0.0422 - kl_loss: 0.5524\n",
      "Epoch 37/100\n",
      "2018/2018 [==============================] - 10s 5ms/step - total_loss: 0.7578 - reconstruction_loss: 0.2032 - reconstruction_loss_num: 0.1617 - reconstruction_loss_cat: 0.0415 - kl_loss: 0.5541\n",
      "Epoch 38/100\n",
      "2018/2018 [==============================] - 10s 5ms/step - total_loss: 0.7584 - reconstruction_loss: 0.2019 - reconstruction_loss_num: 0.1603 - reconstruction_loss_cat: 0.0416 - kl_loss: 0.5563\n",
      "Epoch 39/100\n",
      "2018/2018 [==============================] - 8s 4ms/step - total_loss: 0.7569 - reconstruction_loss: 0.2024 - reconstruction_loss_num: 0.1614 - reconstruction_loss_cat: 0.0410 - kl_loss: 0.5543\n",
      "Epoch 40/100\n"
     ]
    },
    {
     "name": "stdout",
     "output_type": "stream",
     "text": [
      "2018/2018 [==============================] - 6s 3ms/step - total_loss: 0.7541 - reconstruction_loss: 0.1997 - reconstruction_loss_num: 0.1603 - reconstruction_loss_cat: 0.0394 - kl_loss: 0.5549\n",
      "Epoch 41/100\n",
      "2018/2018 [==============================] - 6s 3ms/step - total_loss: 0.7552 - reconstruction_loss: 0.2026 - reconstruction_loss_num: 0.1617 - reconstruction_loss_cat: 0.0409 - kl_loss: 0.5533\n",
      "Epoch 42/100\n",
      "2018/2018 [==============================] - 6s 3ms/step - total_loss: 0.7539 - reconstruction_loss: 0.2033 - reconstruction_loss_num: 0.1622 - reconstruction_loss_cat: 0.0411 - kl_loss: 0.5509\n",
      "Epoch 43/100\n",
      "2018/2018 [==============================] - 9s 4ms/step - total_loss: 0.7517 - reconstruction_loss: 0.2021 - reconstruction_loss_num: 0.1624 - reconstruction_loss_cat: 0.0397 - kl_loss: 0.5500\n",
      "Epoch 44/100\n",
      "2018/2018 [==============================] - 9s 5ms/step - total_loss: 0.7488 - reconstruction_loss: 0.2003 - reconstruction_loss_num: 0.1617 - reconstruction_loss_cat: 0.0387 - kl_loss: 0.5500\n",
      "Epoch 45/100\n",
      "2018/2018 [==============================] - 7s 3ms/step - total_loss: 0.7460 - reconstruction_loss: 0.1998 - reconstruction_loss_num: 0.1610 - reconstruction_loss_cat: 0.0388 - kl_loss: 0.5477\n",
      "Epoch 46/100\n",
      "2018/2018 [==============================] - 5s 3ms/step - total_loss: 0.7458 - reconstruction_loss: 0.2000 - reconstruction_loss_num: 0.1614 - reconstruction_loss_cat: 0.0386 - kl_loss: 0.5461\n",
      "Epoch 47/100\n",
      "2018/2018 [==============================] - 5s 3ms/step - total_loss: 0.7444 - reconstruction_loss: 0.1985 - reconstruction_loss_num: 0.1598 - reconstruction_loss_cat: 0.0387 - kl_loss: 0.5454\n",
      "Epoch 48/100\n",
      "2018/2018 [==============================] - 6s 3ms/step - total_loss: 0.7424 - reconstruction_loss: 0.1957 - reconstruction_loss_num: 0.1576 - reconstruction_loss_cat: 0.0380 - kl_loss: 0.5451\n",
      "Epoch 49/100\n",
      "2018/2018 [==============================] - 6s 3ms/step - total_loss: 0.7410 - reconstruction_loss: 0.1949 - reconstruction_loss_num: 0.1570 - reconstruction_loss_cat: 0.0379 - kl_loss: 0.5462\n",
      "Epoch 50/100\n",
      "2018/2018 [==============================] - 9s 4ms/step - total_loss: 0.7401 - reconstruction_loss: 0.1945 - reconstruction_loss_num: 0.1563 - reconstruction_loss_cat: 0.0382 - kl_loss: 0.5449\n",
      "Epoch 51/100\n",
      "2018/2018 [==============================] - 6s 3ms/step - total_loss: 0.7362 - reconstruction_loss: 0.1944 - reconstruction_loss_num: 0.1565 - reconstruction_loss_cat: 0.0379 - kl_loss: 0.5421\n",
      "Epoch 52/100\n",
      "2018/2018 [==============================] - 5s 3ms/step - total_loss: 0.7355 - reconstruction_loss: 0.1933 - reconstruction_loss_num: 0.1551 - reconstruction_loss_cat: 0.0382 - kl_loss: 0.5425\n",
      "Epoch 53/100\n",
      "2018/2018 [==============================] - 5s 3ms/step - total_loss: 0.7359 - reconstruction_loss: 0.1934 - reconstruction_loss_num: 0.1548 - reconstruction_loss_cat: 0.0386 - kl_loss: 0.5436\n",
      "Epoch 54/100\n",
      "2018/2018 [==============================] - 5s 3ms/step - total_loss: 0.7351 - reconstruction_loss: 0.1930 - reconstruction_loss_num: 0.1544 - reconstruction_loss_cat: 0.0385 - kl_loss: 0.5432\n",
      "Epoch 55/100\n",
      "2018/2018 [==============================] - 5s 3ms/step - total_loss: 0.7357 - reconstruction_loss: 0.1919 - reconstruction_loss_num: 0.1536 - reconstruction_loss_cat: 0.0383 - kl_loss: 0.5434\n",
      "Epoch 56/100\n",
      "2018/2018 [==============================] - 5s 3ms/step - total_loss: 0.7341 - reconstruction_loss: 0.1929 - reconstruction_loss_num: 0.1541 - reconstruction_loss_cat: 0.0387 - kl_loss: 0.5425\n",
      "Epoch 57/100\n",
      "2018/2018 [==============================] - 5s 3ms/step - total_loss: 0.7382 - reconstruction_loss: 0.1921 - reconstruction_loss_num: 0.1542 - reconstruction_loss_cat: 0.0379 - kl_loss: 0.5429\n",
      "Epoch 58/100\n",
      "2018/2018 [==============================] - 5s 3ms/step - total_loss: 0.7340 - reconstruction_loss: 0.1923 - reconstruction_loss_num: 0.1535 - reconstruction_loss_cat: 0.0388 - kl_loss: 0.5430\n",
      "Epoch 59/100\n",
      "2018/2018 [==============================] - 7s 4ms/step - total_loss: 0.7369 - reconstruction_loss: 0.1928 - reconstruction_loss_num: 0.1535 - reconstruction_loss_cat: 0.0393 - kl_loss: 0.5443\n",
      "Epoch 60/100\n",
      "2018/2018 [==============================] - 7s 3ms/step - total_loss: 0.7354 - reconstruction_loss: 0.1918 - reconstruction_loss_num: 0.1533 - reconstruction_loss_cat: 0.0385 - kl_loss: 0.5453\n",
      "Epoch 61/100\n",
      "2018/2018 [==============================] - 7s 4ms/step - total_loss: 0.7392 - reconstruction_loss: 0.1924 - reconstruction_loss_num: 0.1536 - reconstruction_loss_cat: 0.0387 - kl_loss: 0.5459\n",
      "Epoch 62/100\n",
      "2018/2018 [==============================] - 7s 4ms/step - total_loss: 0.7328 - reconstruction_loss: 0.1916 - reconstruction_loss_num: 0.1529 - reconstruction_loss_cat: 0.0387 - kl_loss: 0.5434\n",
      "Epoch 63/100\n",
      "2018/2018 [==============================] - 5s 3ms/step - total_loss: 0.7353 - reconstruction_loss: 0.1918 - reconstruction_loss_num: 0.1516 - reconstruction_loss_cat: 0.0402 - kl_loss: 0.5448\n",
      "Epoch 64/100\n",
      "2018/2018 [==============================] - 6s 3ms/step - total_loss: 0.7341 - reconstruction_loss: 0.1903 - reconstruction_loss_num: 0.1525 - reconstruction_loss_cat: 0.0378 - kl_loss: 0.5432\n",
      "Epoch 65/100\n",
      "2018/2018 [==============================] - 5s 3ms/step - total_loss: 0.7343 - reconstruction_loss: 0.1898 - reconstruction_loss_num: 0.1516 - reconstruction_loss_cat: 0.0382 - kl_loss: 0.5437\n",
      "Epoch 66/100\n",
      "2018/2018 [==============================] - 6s 3ms/step - total_loss: 0.7348 - reconstruction_loss: 0.1910 - reconstruction_loss_num: 0.1516 - reconstruction_loss_cat: 0.0394 - kl_loss: 0.5435\n",
      "Epoch 67/100\n",
      "2018/2018 [==============================] - 10s 5ms/step - total_loss: 0.7345 - reconstruction_loss: 0.1900 - reconstruction_loss_num: 0.1517 - reconstruction_loss_cat: 0.0383 - kl_loss: 0.5440\n",
      "Epoch 68/100\n",
      "2018/2018 [==============================] - 6s 3ms/step - total_loss: 0.7324 - reconstruction_loss: 0.1889 - reconstruction_loss_num: 0.1515 - reconstruction_loss_cat: 0.0374 - kl_loss: 0.5439\n",
      "Epoch 69/100\n",
      "2018/2018 [==============================] - 5s 3ms/step - total_loss: 0.7318 - reconstruction_loss: 0.1903 - reconstruction_loss_num: 0.1516 - reconstruction_loss_cat: 0.0387 - kl_loss: 0.5407\n",
      "Epoch 70/100\n",
      "2018/2018 [==============================] - 5s 3ms/step - total_loss: 0.7318 - reconstruction_loss: 0.1883 - reconstruction_loss_num: 0.1490 - reconstruction_loss_cat: 0.0393 - kl_loss: 0.5441\n",
      "Epoch 71/100\n",
      "2018/2018 [==============================] - 7s 3ms/step - total_loss: 0.7295 - reconstruction_loss: 0.1877 - reconstruction_loss_num: 0.1500 - reconstruction_loss_cat: 0.0377 - kl_loss: 0.5418\n",
      "Epoch 72/100\n",
      "2018/2018 [==============================] - 5s 3ms/step - total_loss: 0.7289 - reconstruction_loss: 0.1890 - reconstruction_loss_num: 0.1506 - reconstruction_loss_cat: 0.0384 - kl_loss: 0.5409\n",
      "Epoch 73/100\n",
      "2018/2018 [==============================] - 5s 3ms/step - total_loss: 0.7330 - reconstruction_loss: 0.1920 - reconstruction_loss_num: 0.1515 - reconstruction_loss_cat: 0.0405 - kl_loss: 0.5393\n",
      "Epoch 74/100\n",
      "2018/2018 [==============================] - 5s 3ms/step - total_loss: 0.7278 - reconstruction_loss: 0.1871 - reconstruction_loss_num: 0.1500 - reconstruction_loss_cat: 0.0371 - kl_loss: 0.5405\n",
      "Epoch 75/100\n",
      "2018/2018 [==============================] - 5s 3ms/step - total_loss: 0.7279 - reconstruction_loss: 0.1894 - reconstruction_loss_num: 0.1504 - reconstruction_loss_cat: 0.0390 - kl_loss: 0.5398\n",
      "Epoch 76/100\n",
      "2018/2018 [==============================] - 5s 3ms/step - total_loss: 0.7273 - reconstruction_loss: 0.1875 - reconstruction_loss_num: 0.1494 - reconstruction_loss_cat: 0.0382 - kl_loss: 0.5422\n",
      "Epoch 77/100\n",
      "2018/2018 [==============================] - 5s 3ms/step - total_loss: 0.7273 - reconstruction_loss: 0.1877 - reconstruction_loss_num: 0.1498 - reconstruction_loss_cat: 0.0379 - kl_loss: 0.5402\n",
      "Epoch 78/100\n",
      "2018/2018 [==============================] - 5s 3ms/step - total_loss: 0.7272 - reconstruction_loss: 0.1877 - reconstruction_loss_num: 0.1501 - reconstruction_loss_cat: 0.0375 - kl_loss: 0.5411\n",
      "Epoch 79/100\n"
     ]
    },
    {
     "name": "stdout",
     "output_type": "stream",
     "text": [
      "2018/2018 [==============================] - 6s 3ms/step - total_loss: 0.7310 - reconstruction_loss: 0.1887 - reconstruction_loss_num: 0.1503 - reconstruction_loss_cat: 0.0384 - kl_loss: 0.5406\n",
      "Epoch 80/100\n",
      "2018/2018 [==============================] - 5s 3ms/step - total_loss: 0.7292 - reconstruction_loss: 0.1894 - reconstruction_loss_num: 0.1504 - reconstruction_loss_cat: 0.0390 - kl_loss: 0.5405\n",
      "Epoch 81/100\n",
      "2018/2018 [==============================] - 5s 3ms/step - total_loss: 0.7295 - reconstruction_loss: 0.1875 - reconstruction_loss_num: 0.1500 - reconstruction_loss_cat: 0.0376 - kl_loss: 0.5404\n",
      "Epoch 82/100\n",
      "2018/2018 [==============================] - 5s 3ms/step - total_loss: 0.7311 - reconstruction_loss: 0.1894 - reconstruction_loss_num: 0.1503 - reconstruction_loss_cat: 0.0391 - kl_loss: 0.5423\n",
      "Epoch 83/100\n",
      "2018/2018 [==============================] - 5s 3ms/step - total_loss: 0.7271 - reconstruction_loss: 0.1883 - reconstruction_loss_num: 0.1501 - reconstruction_loss_cat: 0.0382 - kl_loss: 0.5404\n",
      "Epoch 84/100\n",
      "2018/2018 [==============================] - 5s 3ms/step - total_loss: 0.7294 - reconstruction_loss: 0.1879 - reconstruction_loss_num: 0.1500 - reconstruction_loss_cat: 0.0379 - kl_loss: 0.5415\n",
      "Epoch 85/100\n",
      "2018/2018 [==============================] - 5s 3ms/step - total_loss: 0.7320 - reconstruction_loss: 0.1893 - reconstruction_loss_num: 0.1498 - reconstruction_loss_cat: 0.0395 - kl_loss: 0.5413\n",
      "Epoch 86/100\n",
      "2018/2018 [==============================] - 5s 3ms/step - total_loss: 0.7253 - reconstruction_loss: 0.1874 - reconstruction_loss_num: 0.1495 - reconstruction_loss_cat: 0.0379 - kl_loss: 0.5402\n",
      "Epoch 87/100\n",
      "2018/2018 [==============================] - 5s 3ms/step - total_loss: 0.7282 - reconstruction_loss: 0.1879 - reconstruction_loss_num: 0.1488 - reconstruction_loss_cat: 0.0391 - kl_loss: 0.5423\n",
      "Epoch 88/100\n",
      "2018/2018 [==============================] - 5s 3ms/step - total_loss: 0.7312 - reconstruction_loss: 0.1892 - reconstruction_loss_num: 0.1509 - reconstruction_loss_cat: 0.0382 - kl_loss: 0.5416\n",
      "Epoch 89/100\n",
      "2018/2018 [==============================] - 5s 3ms/step - total_loss: 0.7278 - reconstruction_loss: 0.1890 - reconstruction_loss_num: 0.1508 - reconstruction_loss_cat: 0.0383 - kl_loss: 0.5387\n",
      "Epoch 90/100\n",
      "2018/2018 [==============================] - 5s 3ms/step - total_loss: 0.7301 - reconstruction_loss: 0.1892 - reconstruction_loss_num: 0.1498 - reconstruction_loss_cat: 0.0394 - kl_loss: 0.5398\n",
      "Epoch 91/100\n",
      "2018/2018 [==============================] - 5s 3ms/step - total_loss: 0.7300 - reconstruction_loss: 0.1898 - reconstruction_loss_num: 0.1504 - reconstruction_loss_cat: 0.0394 - kl_loss: 0.5390\n",
      "Epoch 92/100\n",
      "2018/2018 [==============================] - 5s 3ms/step - total_loss: 0.7300 - reconstruction_loss: 0.1882 - reconstruction_loss_num: 0.1493 - reconstruction_loss_cat: 0.0388 - kl_loss: 0.5404\n",
      "Epoch 93/100\n",
      "2018/2018 [==============================] - 5s 3ms/step - total_loss: 0.7276 - reconstruction_loss: 0.1877 - reconstruction_loss_num: 0.1493 - reconstruction_loss_cat: 0.0384 - kl_loss: 0.5408\n",
      "Epoch 94/100\n",
      "2018/2018 [==============================] - 5s 3ms/step - total_loss: 0.7289 - reconstruction_loss: 0.1895 - reconstruction_loss_num: 0.1493 - reconstruction_loss_cat: 0.0402 - kl_loss: 0.5394\n",
      "Epoch 95/100\n",
      "2018/2018 [==============================] - 5s 3ms/step - total_loss: 0.7277 - reconstruction_loss: 0.1882 - reconstruction_loss_num: 0.1490 - reconstruction_loss_cat: 0.0392 - kl_loss: 0.5399\n",
      "Epoch 96/100\n",
      "2018/2018 [==============================] - 5s 3ms/step - total_loss: 0.7240 - reconstruction_loss: 0.1879 - reconstruction_loss_num: 0.1502 - reconstruction_loss_cat: 0.0378 - kl_loss: 0.5383\n",
      "Epoch 97/100\n",
      "2018/2018 [==============================] - 5s 3ms/step - total_loss: 0.7287 - reconstruction_loss: 0.1889 - reconstruction_loss_num: 0.1485 - reconstruction_loss_cat: 0.0404 - kl_loss: 0.5407\n",
      "Epoch 98/100\n",
      "2018/2018 [==============================] - 5s 3ms/step - total_loss: 0.7254 - reconstruction_loss: 0.1879 - reconstruction_loss_num: 0.1492 - reconstruction_loss_cat: 0.0387 - kl_loss: 0.5395\n",
      "Epoch 99/100\n",
      "2018/2018 [==============================] - 5s 3ms/step - total_loss: 0.7247 - reconstruction_loss: 0.1867 - reconstruction_loss_num: 0.1483 - reconstruction_loss_cat: 0.0384 - kl_loss: 0.5402\n",
      "Epoch 100/100\n",
      "2018/2018 [==============================] - 5s 3ms/step - total_loss: 0.7268 - reconstruction_loss: 0.1880 - reconstruction_loss_num: 0.1484 - reconstruction_loss_cat: 0.0396 - kl_loss: 0.5404\n"
     ]
    }
   ],
   "source": [
    "# Train\n",
    "vae = VAE(encoder, decoder, CAT_IDX, CAT_LENGTHS)\n",
    "vae.compile(optimizer=keras.optimizers.RMSprop(learning_rate=LEARN_RATE, rho=RHO))\n",
    "history = vae.fit(train_data, epochs=EPOCHS, batch_size=BATCH_SIZE) #add callbacks=[callback] if debugging needed"
   ]
  },
  {
   "cell_type": "code",
   "execution_count": 14,
   "metadata": {},
   "outputs": [
    {
     "data": {
      "image/png": "[encoded data removed]",
      "text/plain": [
       "<Figure size 432x288 with 1 Axes>"
      ]
     },
     "metadata": {
      "needs_background": "light"
     },
     "output_type": "display_data"
    }
   ],
   "source": [
    "# Plot model loss/training progress\n",
    "plt.plot(history.history['total_loss'])\n",
    "plt.plot(history.history['reconstruction_loss_num'])\n",
    "plt.plot(history.history['reconstruction_loss_cat'])\n",
    "plt.plot(history.history['kl_loss'])\n",
    "plt.title(\"Training History\")\n",
    "plt.ylabel(\"Loss\")\n",
    "plt.xlabel(\"Epoch\")\n",
    "plt.legend([\"total\",\"rec_num\",\"rec_cat\",\"kl\"], loc=\"upper right\")\n",
    "plt.show()"
   ]
  },
  {
   "cell_type": "markdown",
   "metadata": {},
   "source": [
    "## Testing"
   ]
  },
  {
   "cell_type": "code",
   "execution_count": 37,
   "metadata": {},
   "outputs": [
    {
     "name": "stdout",
     "output_type": "stream",
     "text": [
      "Latent Variable: 0\n",
      "Mean: 0.04835601896047592\n",
      "Variance: 1.1677987575531006\n",
      "\n"
     ]
    },
    {
     "data": {
      "image/png": "[encoded data removed]",
      "text/plain": [
       "<Figure size 432x288 with 1 Axes>"
      ]
     },
     "metadata": {
      "needs_background": "light"
     },
     "output_type": "display_data"
    },
    {
     "name": "stdout",
     "output_type": "stream",
     "text": [
      "Latent Variable: 1\n",
      "Mean: -0.034213971346616745\n",
      "Variance: 1.1677987575531006\n",
      "\n"
     ]
    },
    {
     "data": {
      "image/png": "[encoded data removed]",
      "text/plain": [
       "<Figure size 432x288 with 1 Axes>"
      ]
     },
     "metadata": {
      "needs_background": "light"
     },
     "output_type": "display_data"
    },
    {
     "name": "stdout",
     "output_type": "stream",
     "text": [
      "Latent Variable: 2\n",
      "Mean: 0.07937712967395782\n",
      "Variance: 1.1677987575531006\n",
      "\n"
     ]
    },
    {
     "data": {
      "image/png": "[encoded data removed]",
      "text/plain": [
       "<Figure size 432x288 with 1 Axes>"
      ]
     },
     "metadata": {
      "needs_background": "light"
     },
     "output_type": "display_data"
    },
    {
     "name": "stdout",
     "output_type": "stream",
     "text": [
      "Latent Variable: 3\n",
      "Mean: -0.029138265177607536\n",
      "Variance: 1.1677987575531006\n",
      "\n"
     ]
    },
    {
     "data": {
      "image/png": "[encoded data removed]",
      "text/plain": [
       "<Figure size 432x288 with 1 Axes>"
      ]
     },
     "metadata": {
      "needs_background": "light"
     },
     "output_type": "display_data"
    },
    {
     "name": "stdout",
     "output_type": "stream",
     "text": [
      "Latent Variable: 4\n",
      "Mean: 0.018337134271860123\n",
      "Variance: 1.1677987575531006\n",
      "\n"
     ]
    },
    {
     "data": {
      "image/png": "[encoded data removed]",
      "text/plain": [
       "<Figure size 432x288 with 1 Axes>"
      ]
     },
     "metadata": {
      "needs_background": "light"
     },
     "output_type": "display_data"
    }
   ],
   "source": [
    "# Get latent vars from the encoder; feed to decoder and get sampled manifest variables\n",
    "z_mean, z_logvar, z = vae.encoder.predict(test_data[:,:MANIFEST_DIM])\n",
    "\n",
    "# Determine the average values for the mean/logvariance of the latent variables\n",
    "for i in range(0, LATENT_DIM):\n",
    "    epsilon = np.random.normal(loc=0, scale=1, size=1000)\n",
    "    avg_mean = np.mean(z_mean[:,i])\n",
    "    avg_var = np.exp(np.mean(z_logvar[:,i]))\n",
    "    print(f\"Latent Variable: {i}\")\n",
    "    print(f\"Mean: {avg_mean}\")\n",
    "    print(f\"Variance: {np.exp(avg_logvar)}\\n\")\n",
    "    samples = avg_mean + (avg_var * epsilon)\n",
    "    plt.hist(samples, bins=50)\n",
    "    plt.show()"
   ]
  },
  {
   "cell_type": "code",
   "execution_count": 16,
   "metadata": {},
   "outputs": [
    {
     "name": "stdout",
     "output_type": "stream",
     "text": [
      "Numerical Variable Loss: 0.1441044956445694\n",
      "Categorical Variable Loss: 0.03415510803461075\n"
     ]
    }
   ],
   "source": [
    "# Draw predictions from test data\n",
    "results = vae.predict(test_data)\n",
    "loss_num, loss_cat = get_reconstruction_loss(test_data, results, CAT_IDX, CAT_LENGTHS)\n",
    "print(f\"Numerical Variable Loss: {loss_num}\")\n",
    "print(f\"Categorical Variable Loss: {loss_cat}\")"
   ]
  },
  {
   "cell_type": "code",
   "execution_count": 17,
   "metadata": {},
   "outputs": [],
   "source": [
    "# Transform numeric results back to real variable values\n",
    "results_num = scaler_pers.inverse_transform(results[0])\n",
    "results_df = pd.DataFrame(results_num)\n",
    "\n",
    "# Transform categorical results back to real variable values\n",
    "for x in results[1]:\n",
    "    result = np.argmax(x, axis=1) + 1\n",
    "    results_df[f\"{x}\"] = result\n",
    "\n",
    "# Add back original variables names to the results\n",
    "results_df.columns = VAR_NAMES"
   ]
  },
  {
   "cell_type": "code",
   "execution_count": 18,
   "metadata": {},
   "outputs": [],
   "source": [
    "# Transform numeric test data back to real variable values\n",
    "test_data_num = scaler_pers.inverse_transform(test_data[:,:CAT_IDX])\n",
    "test_data_df = pd.DataFrame(test_data_num)\n",
    "\n",
    "# Transform categorical test data back to real variable values\n",
    "current = CAT_IDX\n",
    "for x in CAT_LENGTHS:\n",
    "    test_data_cat = test_data[:,current:(current + x)]\n",
    "    test_data_cat = np.argmax(test_data_cat, axis=1) + 1\n",
    "    test_data_df[f\"{x}\"] = test_data_cat\n",
    "    current += x\n",
    "\n",
    "# Add back original variables names to the test data\n",
    "test_data_df.columns = VAR_NAMES"
   ]
  },
  {
   "cell_type": "code",
   "execution_count": 19,
   "metadata": {},
   "outputs": [
    {
     "data": {
      "image/png": "[encoded data removed]",
      "text/plain": [
       "<Figure size 432x288 with 1 Axes>"
      ]
     },
     "metadata": {
      "needs_background": "light"
     },
     "output_type": "display_data"
    },
    {
     "data": {
      "image/png": "[encoded data removed]",
      "text/plain": [
       "<Figure size 432x288 with 1 Axes>"
      ]
     },
     "metadata": {
      "needs_background": "light"
     },
     "output_type": "display_data"
    },
    {
     "data": {
      "image/png": "[encoded data removed]",
      "text/plain": [
       "<Figure size 432x288 with 1 Axes>"
      ]
     },
     "metadata": {
      "needs_background": "light"
     },
     "output_type": "display_data"
    },
    {
     "data": {
      "image/png": "[encoded data removed]",
      "text/plain": [
       "<Figure size 432x288 with 1 Axes>"
      ]
     },
     "metadata": {
      "needs_background": "light"
     },
     "output_type": "display_data"
    },
    {
     "data": {
      "image/png": "[encoded data removed]",
      "text/plain": [
       "<Figure size 432x288 with 1 Axes>"
      ]
     },
     "metadata": {
      "needs_background": "light"
     },
     "output_type": "display_data"
    },
    {
     "data": {
      "image/png": "[encoded data removed]",
      "text/plain": [
       "<Figure size 432x288 with 1 Axes>"
      ]
     },
     "metadata": {
      "needs_background": "light"
     },
     "output_type": "display_data"
    },
    {
     "data": {
      "image/png": "[encoded data removed]",
      "text/plain": [
       "<Figure size 432x288 with 1 Axes>"
      ]
     },
     "metadata": {
      "needs_background": "light"
     },
     "output_type": "display_data"
    },
    {
     "data": {
      "image/png": "[encoded data removed]",
      "text/plain": [
       "<Figure size 432x288 with 1 Axes>"
      ]
     },
     "metadata": {
      "needs_background": "light"
     },
     "output_type": "display_data"
    },
    {
     "data": {
      "image/png": "[encoded data removed]",
      "text/plain": [
       "<Figure size 432x288 with 1 Axes>"
      ]
     },
     "metadata": {
      "needs_background": "light"
     },
     "output_type": "display_data"
    },
    {
     "data": {
      "image/png": "[encoded data removed]",
      "text/plain": [
       "<Figure size 432x288 with 1 Axes>"
      ]
     },
     "metadata": {
      "needs_background": "light"
     },
     "output_type": "display_data"
    }
   ],
   "source": [
    "# Show distributions of the resulting numerical variables\n",
    "for col_idx in range(0, CAT_IDX):\n",
    "    results_data_plt = results_df.iloc[:,col_idx]\n",
    "    test_data_plt = test_data_df.iloc[:,col_idx]\n",
    "\n",
    "    plt.hist(results_data_plt, bins=100)\n",
    "    plt.xlim(min(test_data_plt),max(test_data_plt))\n",
    "    plt.title(f\"var {col_idx} - reconstructed distribution\")\n",
    "    plt.show()\n",
    "\n",
    "    plt.hist(test_data_plt, bins=100)\n",
    "    plt.xlim(min(test_data_plt),max(test_data_plt))\n",
    "    plt.title(f\"var {col_idx} - prior distribution\")\n",
    "    plt.show()"
   ]
  },
  {
   "cell_type": "code",
   "execution_count": 20,
   "metadata": {},
   "outputs": [
    {
     "data": {
      "image/png": "[encoded data removed]",
      "text/plain": [
       "<Figure size 432x288 with 1 Axes>"
      ]
     },
     "metadata": {
      "needs_background": "light"
     },
     "output_type": "display_data"
    },
    {
     "data": {
      "image/png": "[encoded data removed]",
      "text/plain": [
       "<Figure size 432x288 with 1 Axes>"
      ]
     },
     "metadata": {
      "needs_background": "light"
     },
     "output_type": "display_data"
    },
    {
     "data": {
      "image/png": "[encoded data removed]",
      "text/plain": [
       "<Figure size 432x288 with 1 Axes>"
      ]
     },
     "metadata": {
      "needs_background": "light"
     },
     "output_type": "display_data"
    },
    {
     "data": {
      "image/png": "[encoded data removed]",
      "text/plain": [
       "<Figure size 432x288 with 1 Axes>"
      ]
     },
     "metadata": {
      "needs_background": "light"
     },
     "output_type": "display_data"
    },
    {
     "data": {
      "image/png": "[encoded data removed]",
      "text/plain": [
       "<Figure size 432x288 with 1 Axes>"
      ]
     },
     "metadata": {
      "needs_background": "light"
     },
     "output_type": "display_data"
    },
    {
     "data": {
      "image/png": "[encoded data removed]",
      "text/plain": [
       "<Figure size 432x288 with 1 Axes>"
      ]
     },
     "metadata": {
      "needs_background": "light"
     },
     "output_type": "display_data"
    },
    {
     "data": {
      "image/png": "[encoded data removed]",
      "text/plain": [
       "<Figure size 432x288 with 1 Axes>"
      ]
     },
     "metadata": {
      "needs_background": "light"
     },
     "output_type": "display_data"
    },
    {
     "data": {
      "image/png": "[encoded data removed]",
      "text/plain": [
       "<Figure size 432x288 with 1 Axes>"
      ]
     },
     "metadata": {
      "needs_background": "light"
     },
     "output_type": "display_data"
    },
    {
     "data": {
      "image/png": "[encoded data removed]",
      "text/plain": [
       "<Figure size 432x288 with 1 Axes>"
      ]
     },
     "metadata": {
      "needs_background": "light"
     },
     "output_type": "display_data"
    },
    {
     "data": {
      "image/png": "[encoded data removed]",
      "text/plain": [
       "<Figure size 432x288 with 1 Axes>"
      ]
     },
     "metadata": {
      "needs_background": "light"
     },
     "output_type": "display_data"
    }
   ],
   "source": [
    "# Show distributions of the resulting numerical variables\n",
    "for col_idx in range(CAT_IDX, VAR_DIM):\n",
    "    results_data_plt = results_df.iloc[:,col_idx]\n",
    "    test_data_plt = test_data_df.iloc[:,col_idx]\n",
    "    \n",
    "    plt.hist(results_data_plt)\n",
    "    plt.xlim(min(test_data_plt),max(test_data_plt))\n",
    "    plt.title(f\"var {col_idx} - reconstructed distribution\")\n",
    "    plt.show()\n",
    "    \n",
    "    plt.hist(test_data_plt)\n",
    "    plt.xlim(min(test_data_plt),max(test_data_plt))\n",
    "    plt.title(f\"var {col_idx} - prior distribution\")\n",
    "    plt.show()"
   ]
  },
  {
   "cell_type": "markdown",
   "metadata": {},
   "source": [
    "## Generating Synthetic Population"
   ]
  },
  {
   "cell_type": "code",
   "execution_count": null,
   "metadata": {},
   "outputs": [],
   "source": []
  },
  {
   "cell_type": "code",
   "execution_count": null,
   "metadata": {},
   "outputs": [],
   "source": []
  },
  {
   "cell_type": "code",
   "execution_count": null,
   "metadata": {},
   "outputs": [],
   "source": []
  },
  {
   "cell_type": "code",
   "execution_count": null,
   "metadata": {},
   "outputs": [],
   "source": []
  }
 ],
 "metadata": {
  "kernelspec": {
   "display_name": "Python 3",
   "language": "python",
   "name": "python3"
  },
  "language_info": {
   "codemirror_mode": {
    "name": "ipython",
    "version": 3
   },
   "file_extension": ".py",
   "mimetype": "text/x-python",
   "name": "python",
   "nbconvert_exporter": "python",
   "pygments_lexer": "ipython3",
   "version": "3.8.3"
  }
 },
 "nbformat": 4,
 "nbformat_minor": 4
}
