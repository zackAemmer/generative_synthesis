{
 "cells": [
  {
   "cell_type": "markdown",
   "metadata": {},
   "source": [
    "### TODO:\n",
    "\n",
    "###### Build up fundamental model:\n",
    "-Test speeds vs traditional methods  \n",
    "-Energy distance test for distributions  \n",
    "-Check distributions of variables within households, compare to naive method w/borysov model somehow  \n",
    "-Test making epsilon the same distribution as the actual posteriors in the model\n",
    "\n",
    "###### Differentiate from the GenSynth paper:\n",
    "-Travel diaries  \n",
    "-Method/heuristic/rules for checking large number of attributes  \n",
    "-New models; Disentangled VAE/GAN  \n",
    "-Model population changes over time RNN?  \n",
    "-Behavioral variables  \n",
    "\n",
    "###### They suggest:\n",
    "-Incorporate RNN to generate trip chains (time, location, mode, purpose)  \n",
    "-Use GAN/other method to generate less inconsistencies  \n",
    "-Address next stage of re-sampling to get future populations  "
   ]
  },
  {
   "cell_type": "code",
   "execution_count": 1,
   "metadata": {},
   "outputs": [],
   "source": [
    "# Each input to training the model is a person's daily trip diary\n",
    "# Inputs; day of week, characteristics of person/hh\n",
    "# Outputs; trip purpose, mode, duration, distance\n",
    "# How to include Time of Day?\n",
    "# Timesteps could either be hours in the day, or trips in a chain?\n",
    "    # If a timestep is a trip, add the time of departure to the output variables\n",
    "    \n",
    "# Timestep is a trip\n",
    "# Output of each timestep is departure time, duration, distance, mode, and purpose (y)\n",
    "# Input of each timestep is person/hh variables, day of week, and previous timestep info (x)"
   ]
  },
  {
   "cell_type": "markdown",
   "metadata": {},
   "source": [
    "## Import Libraries and Datasets"
   ]
  },
  {
   "cell_type": "code",
   "execution_count": 2,
   "metadata": {},
   "outputs": [],
   "source": [
    "import matplotlib.pyplot as plt\n",
    "import numpy as np\n",
    "import pandas as pd\n",
    "import sklearn.preprocessing as skpre\n",
    "import tensorflow as tf\n",
    "from tensorflow import keras\n",
    "from tensorflow.keras import layers"
   ]
  },
  {
   "cell_type": "code",
   "execution_count": 3,
   "metadata": {},
   "outputs": [],
   "source": [
    "# Load in the persons PUMS dataset for WA state\n",
    "t_df = pd.read_csv('data/NHTS/nhts_survey/trippub.csv')\n",
    "p_df = pd.read_csv('data/NHTS/nhts_survey/perpub.csv')\n",
    "h_df = pd.read_csv('data/NHTS/nhts_survey/hhpub.csv')"
   ]
  },
  {
   "cell_type": "markdown",
   "metadata": {},
   "source": [
    "## Choose Variables and Preprocess"
   ]
  },
  {
   "cell_type": "code",
   "execution_count": 4,
   "metadata": {},
   "outputs": [
    {
     "name": "stdout",
     "output_type": "stream",
     "text": [
      "Dataset n=923572 pre-cleaning\n",
      "Dataset n=405590 post-cleaning\n"
     ]
    }
   ],
   "source": [
    "# Filter to desired variables (numeric then categorical)\n",
    "#TRIPPURP = simplified why/from\n",
    "nhts_data_t = t_df[['TDCASEID','HOUSEID','PERSONID','TDAYDATE','TRAVDAY','TDTRPNUM','STRTTIME','TRVLCMIN','TRPMILES','TRPTRANS','WHYFROM','WHYTO']]\n",
    "nhts_data_p = p_df[['HOUSEID','PERSONID','R_AGE','TIMETOWK','EDUC','R_SEX','OCCAT']]\n",
    "nhts_data_h = h_df[['HOUSEID','HHSIZE','HHFAMINC','HHVEHCNT']]\n",
    "del t_df\n",
    "del p_df\n",
    "del h_df\n",
    "nhts_data = pd.merge(nhts_data_t, nhts_data_h, on='HOUSEID', how='left')\n",
    "nhts_data = pd.merge(nhts_data, nhts_data_p, on=['HOUSEID', 'PERSONID'], how='left')\n",
    "\n",
    "# Give each set of daily trips a unique chain id (each will be an input to model)\n",
    "nhts_data['CHAINID'] = nhts_data.groupby(['TDAYDATE','HOUSEID','PERSONID']).ngroup().values\n",
    "nhts_data = nhts_data.drop(labels=['TDAYDATE','TDCASEID','HOUSEID','PERSONID'], axis=1)\n",
    "\n",
    "# Remove NA values and check n before/after\n",
    "print(f\"Dataset n={len(nhts_data)} pre-cleaning\")\n",
    "nan_indices = list((nhts_data < 0).any(axis=1))\n",
    "nan_ids = nhts_data[nan_indices][['CHAINID']].values.flatten()\n",
    "nhts_data = nhts_data[~(nhts_data['CHAINID'].isin(nan_ids))]\n",
    "print(f\"Dataset n={len(nhts_data)} post-cleaning\")"
   ]
  },
  {
   "cell_type": "code",
   "execution_count": 5,
   "metadata": {},
   "outputs": [],
   "source": [
    "# Only numeric variables, only dynamic variables\n",
    "nhts_data = nhts_data[['TRAVDAY','TDTRPNUM','STRTTIME','TRVLCMIN','TRPMILES','TRPTRANS','CHAINID']].copy()"
   ]
  },
  {
   "cell_type": "code",
   "execution_count": 6,
   "metadata": {
    "scrolled": false
   },
   "outputs": [
    {
     "data": {
      "text/html": [
       "<div>\n",
       "<style scoped>\n",
       "    .dataframe tbody tr th:only-of-type {\n",
       "        vertical-align: middle;\n",
       "    }\n",
       "\n",
       "    .dataframe tbody tr th {\n",
       "        vertical-align: top;\n",
       "    }\n",
       "\n",
       "    .dataframe thead th {\n",
       "        text-align: right;\n",
       "    }\n",
       "</style>\n",
       "<table border=\"1\" class=\"dataframe\">\n",
       "  <thead>\n",
       "    <tr style=\"text-align: right;\">\n",
       "      <th></th>\n",
       "      <th>TRAVDAY</th>\n",
       "      <th>TDTRPNUM</th>\n",
       "      <th>STRTTIME</th>\n",
       "      <th>TRVLCMIN</th>\n",
       "      <th>TRPMILES</th>\n",
       "      <th>TRPTRANS</th>\n",
       "      <th>CHAINID</th>\n",
       "    </tr>\n",
       "  </thead>\n",
       "  <tbody>\n",
       "    <tr>\n",
       "      <th>2</th>\n",
       "      <td>2</td>\n",
       "      <td>1</td>\n",
       "      <td>700</td>\n",
       "      <td>120</td>\n",
       "      <td>84.004</td>\n",
       "      <td>6</td>\n",
       "      <td>46938</td>\n",
       "    </tr>\n",
       "    <tr>\n",
       "      <th>3</th>\n",
       "      <td>2</td>\n",
       "      <td>2</td>\n",
       "      <td>1800</td>\n",
       "      <td>150</td>\n",
       "      <td>81.628</td>\n",
       "      <td>6</td>\n",
       "      <td>46938</td>\n",
       "    </tr>\n",
       "    <tr>\n",
       "      <th>6</th>\n",
       "      <td>5</td>\n",
       "      <td>1</td>\n",
       "      <td>1115</td>\n",
       "      <td>15</td>\n",
       "      <td>8.017</td>\n",
       "      <td>6</td>\n",
       "      <td>46940</td>\n",
       "    </tr>\n",
       "    <tr>\n",
       "      <th>7</th>\n",
       "      <td>5</td>\n",
       "      <td>2</td>\n",
       "      <td>2330</td>\n",
       "      <td>10</td>\n",
       "      <td>8.017</td>\n",
       "      <td>6</td>\n",
       "      <td>46940</td>\n",
       "    </tr>\n",
       "    <tr>\n",
       "      <th>8</th>\n",
       "      <td>5</td>\n",
       "      <td>1</td>\n",
       "      <td>550</td>\n",
       "      <td>15</td>\n",
       "      <td>3.395</td>\n",
       "      <td>4</td>\n",
       "      <td>24626</td>\n",
       "    </tr>\n",
       "    <tr>\n",
       "      <th>...</th>\n",
       "      <td>...</td>\n",
       "      <td>...</td>\n",
       "      <td>...</td>\n",
       "      <td>...</td>\n",
       "      <td>...</td>\n",
       "      <td>...</td>\n",
       "      <td>...</td>\n",
       "    </tr>\n",
       "    <tr>\n",
       "      <th>923567</th>\n",
       "      <td>3</td>\n",
       "      <td>1</td>\n",
       "      <td>810</td>\n",
       "      <td>27</td>\n",
       "      <td>1.168</td>\n",
       "      <td>1</td>\n",
       "      <td>93638</td>\n",
       "    </tr>\n",
       "    <tr>\n",
       "      <th>923568</th>\n",
       "      <td>3</td>\n",
       "      <td>2</td>\n",
       "      <td>1320</td>\n",
       "      <td>8</td>\n",
       "      <td>0.238</td>\n",
       "      <td>1</td>\n",
       "      <td>93638</td>\n",
       "    </tr>\n",
       "    <tr>\n",
       "      <th>923569</th>\n",
       "      <td>3</td>\n",
       "      <td>3</td>\n",
       "      <td>1415</td>\n",
       "      <td>5</td>\n",
       "      <td>0.238</td>\n",
       "      <td>1</td>\n",
       "      <td>93638</td>\n",
       "    </tr>\n",
       "    <tr>\n",
       "      <th>923570</th>\n",
       "      <td>3</td>\n",
       "      <td>4</td>\n",
       "      <td>1820</td>\n",
       "      <td>25</td>\n",
       "      <td>0.867</td>\n",
       "      <td>1</td>\n",
       "      <td>93638</td>\n",
       "    </tr>\n",
       "    <tr>\n",
       "      <th>923571</th>\n",
       "      <td>3</td>\n",
       "      <td>5</td>\n",
       "      <td>1848</td>\n",
       "      <td>7</td>\n",
       "      <td>0.325</td>\n",
       "      <td>1</td>\n",
       "      <td>93638</td>\n",
       "    </tr>\n",
       "  </tbody>\n",
       "</table>\n",
       "<p>405590 rows × 7 columns</p>\n",
       "</div>"
      ],
      "text/plain": [
       "        TRAVDAY  TDTRPNUM  STRTTIME  TRVLCMIN  TRPMILES  TRPTRANS  CHAINID\n",
       "2             2         1       700       120    84.004         6    46938\n",
       "3             2         2      1800       150    81.628         6    46938\n",
       "6             5         1      1115        15     8.017         6    46940\n",
       "7             5         2      2330        10     8.017         6    46940\n",
       "8             5         1       550        15     3.395         4    24626\n",
       "...         ...       ...       ...       ...       ...       ...      ...\n",
       "923567        3         1       810        27     1.168         1    93638\n",
       "923568        3         2      1320         8     0.238         1    93638\n",
       "923569        3         3      1415         5     0.238         1    93638\n",
       "923570        3         4      1820        25     0.867         1    93638\n",
       "923571        3         5      1848         7     0.325         1    93638\n",
       "\n",
       "[405590 rows x 7 columns]"
      ]
     },
     "execution_count": 6,
     "metadata": {},
     "output_type": "execute_result"
    }
   ],
   "source": [
    "# Preview data that will be fed into model\n",
    "model_data_df = nhts_data\n",
    "model_data_df"
   ]
  },
  {
   "cell_type": "code",
   "execution_count": 7,
   "metadata": {},
   "outputs": [
    {
     "name": "stdout",
     "output_type": "stream",
     "text": [
      "23897\n",
      "3463\n",
      "378\n"
     ]
    }
   ],
   "source": [
    "# Remove chains that have more than 5 trips in them\n",
    "MAX_TIMESTEPS = 5\n",
    "long_chains = model_data_df[model_data_df['TDTRPNUM'] > MAX_TIMESTEPS][['CHAINID']].values.flatten()\n",
    "model_data_df = model_data_df[~model_data_df['CHAINID'].isin(long_chains)]\n",
    "print(len(pd.unique(long_chains)))\n",
    "\n",
    "## Remove outliers\n",
    "# Filter model data into train/test data\n",
    "chain_ids = pd.unique(model_data_df['CHAINID'])\n",
    "train_idx = round(len(chain_ids)*.9)\n",
    "train_ids = chain_ids[0:train_idx]\n",
    "test_ids = chain_ids[train_idx:len(chain_ids)]\n",
    "train_data_df = model_data_df[model_data_df['CHAINID'].isin(train_ids)]\n",
    "test_data_df = model_data_df[model_data_df['CHAINID'].isin(test_ids)]\n",
    "\n",
    "# Standardize the input data from -1 to 1 for numerical variables, remove outliers (x > 3 SD)\n",
    "scaler_train = skpre.StandardScaler()\n",
    "scaler_test = skpre.StandardScaler()\n",
    "train_data = scaler_train.fit_transform(train_data_df.values)\n",
    "test_data = scaler_test.fit_transform(test_data_df.values)\n",
    "\n",
    "# Remove outliers from dataset once for training data...\n",
    "outlier_indices = np.where(np.any(train_data > 3, axis=1))[0]\n",
    "outlier_chains = train_data_df.iloc[outlier_indices,:][['CHAINID']].values.flatten()\n",
    "train_data_df = train_data_df[~train_data_df['CHAINID'].isin(outlier_chains)]\n",
    "print(len(outlier_chains))\n",
    "\n",
    "# ...and again for testing data (keep the scalers separate)\n",
    "outlier_indices = np.where(np.any(test_data > 3, axis=1))[0]\n",
    "outlier_chains = test_data_df.iloc[outlier_indices,:][['CHAINID']].values.flatten()\n",
    "test_data_df = test_data_df[~test_data_df['CHAINID'].isin(outlier_chains)]\n",
    "print(len(outlier_chains))"
   ]
  },
  {
   "cell_type": "code",
   "execution_count": 57,
   "metadata": {},
   "outputs": [],
   "source": [
    "# Reshape the model data to a format that is usable by tensorflow: shape = (#samples, timestep size, #features)\n",
    "# TODO: Make sure this is working correctly\n",
    "train_samples = []\n",
    "chain_ids = pd.unique(train_data_df['CHAINID'])\n",
    "\n",
    "# This could be faster\n",
    "for chain_id in chain_ids:\n",
    "    data = train_data_df[train_data_df['CHAINID'] == chain_id].values\n",
    "    data = scaler_train.fit_transform(data).transpose()\n",
    "    data = keras.preprocessing.sequence.pad_sequences(data, MAX_TIMESTEPS, padding='post').transpose()\n",
    "    train_samples.append(data)\n",
    "\n",
    "# (samples, timesteps, features)\n",
    "train_data = np.array(train_samples)"
   ]
  },
  {
   "cell_type": "code",
   "execution_count": 58,
   "metadata": {},
   "outputs": [],
   "source": [
    "# Reshape the model data to a format that is usable by tensorflow\n",
    "test_samples = []\n",
    "chain_ids = pd.unique(test_data_df['CHAINID'])\n",
    "\n",
    "# This could be faster\n",
    "for chain_id in chain_ids:\n",
    "    data = test_data_df[test_data_df['CHAINID'] == chain_id].values\n",
    "    data = scaler_test.fit_transform(data).transpose()\n",
    "    data = keras.preprocessing.sequence.pad_sequences(data, MAX_TIMESTEPS, padding='post').transpose()\n",
    "    test_samples.append(data)\n",
    "\n",
    "# (samples, timesteps, features)\n",
    "test_data = np.array(test_samples)"
   ]
  },
  {
   "cell_type": "code",
   "execution_count": 59,
   "metadata": {},
   "outputs": [
    {
     "name": "stdout",
     "output_type": "stream",
     "text": [
      "(61963, 5, 7)\n",
      "(6904, 5, 7)\n"
     ]
    }
   ],
   "source": [
    "# shape = (#samples, timestep size, #features)\n",
    "print(train_data.shape)\n",
    "print(test_data.shape)"
   ]
  },
  {
   "cell_type": "markdown",
   "metadata": {},
   "source": [
    "## Set Parameters and Define Model"
   ]
  },
  {
   "cell_type": "code",
   "execution_count": 98,
   "metadata": {},
   "outputs": [],
   "source": [
    "# Timestep is a trip\n",
    "# Output of each timestep is departure time, duration, distance, mode, and purpose (dynamic)\n",
    "# Input of each timestep is person/hh variables, day of week, and previous timestep info (static + dynamic)\n",
    "\n",
    "# Hyperparameters\n",
    "BATCH_SIZE = 10\n",
    "EPOCHS = 5\n",
    "LEARN_RATE = 0.01\n",
    "RHO = 0.9\n",
    "MANIFEST_DIM = train_data.shape[2]"
   ]
  },
  {
   "cell_type": "code",
   "execution_count": 103,
   "metadata": {},
   "outputs": [
    {
     "name": "stdout",
     "output_type": "stream",
     "text": [
      "Model: \"functional_19\"\n",
      "_________________________________________________________________\n",
      "Layer (type)                 Output Shape              Param #   \n",
      "=================================================================\n",
      "input_28 (InputLayer)        [(None, 5, 7)]            0         \n",
      "_________________________________________________________________\n",
      "dense_39 (Dense)             (None, 5, 10)             80        \n",
      "_________________________________________________________________\n",
      "lstm_48 (LSTM)               (None, 5, 10)             840       \n",
      "_________________________________________________________________\n",
      "dense_40 (Dense)             (None, 5, 7)              77        \n",
      "=================================================================\n",
      "Total params: 997\n",
      "Trainable params: 997\n",
      "Non-trainable params: 0\n",
      "_________________________________________________________________\n"
     ]
    }
   ],
   "source": [
    "# LSTM layer requires inputs to be 3D tensor with shape [batch, timesteps, feature]\n",
    "inputs = keras.Input(shape=(MAX_TIMESTEPS, MANIFEST_DIM))\n",
    "dense = layers.Dense(10)(inputs)\n",
    "lstm = layers.LSTM(10, return_sequences=True)(dense)\n",
    "outputs = layers.Dense(MANIFEST_DIM)(lstm)\n",
    "\n",
    "# Define and print model\n",
    "model = keras.Model(inputs, outputs)\n",
    "model.summary()"
   ]
  },
  {
   "cell_type": "markdown",
   "metadata": {},
   "source": [
    "## Training"
   ]
  },
  {
   "cell_type": "code",
   "execution_count": 104,
   "metadata": {},
   "outputs": [
    {
     "name": "stdout",
     "output_type": "stream",
     "text": [
      "Epoch 1/5\n",
      "6197/6197 [==============================] - 28s 4ms/step - loss: 0.0015\n",
      "Epoch 2/5\n",
      "6197/6197 [==============================] - 26s 4ms/step - loss: 4.1532e-04\n",
      "Epoch 3/5\n",
      "6197/6197 [==============================] - 25s 4ms/step - loss: 3.0878e-04\n",
      "Epoch 4/5\n",
      "6197/6197 [==============================] - 26s 4ms/step - loss: 2.7703e-04\n",
      "Epoch 5/5\n",
      "6197/6197 [==============================] - 27s 4ms/step - loss: 2.5291e-04\n"
     ]
    }
   ],
   "source": [
    "# Compile and train the model\n",
    "model.compile(loss=\"mean_squared_error\", optimizer=keras.optimizers.RMSprop(learning_rate=LEARN_RATE, rho=RHO))\n",
    "history = model.fit(train_data, train_data, epochs=EPOCHS, batch_size=BATCH_SIZE)"
   ]
  },
  {
   "cell_type": "code",
   "execution_count": 105,
   "metadata": {},
   "outputs": [
    {
     "data": {
      "image/png": "[encoded data removed]",
      "text/plain": [
       "<Figure size 432x288 with 1 Axes>"
      ]
     },
     "metadata": {
      "needs_background": "light"
     },
     "output_type": "display_data"
    }
   ],
   "source": [
    "# Plot model loss/training progress\n",
    "plt.plot(history.history['loss'])\n",
    "plt.title(\"Training History\")\n",
    "plt.ylabel(\"Loss\")\n",
    "plt.xlabel(\"Epoch\")\n",
    "plt.legend([\"total\"], loc=\"upper right\")\n",
    "plt.show()"
   ]
  },
  {
   "cell_type": "code",
   "execution_count": null,
   "metadata": {},
   "outputs": [],
   "source": []
  },
  {
   "cell_type": "code",
   "execution_count": null,
   "metadata": {},
   "outputs": [],
   "source": []
  },
  {
   "cell_type": "markdown",
   "metadata": {},
   "source": [
    "## Testing"
   ]
  },
  {
   "cell_type": "code",
   "execution_count": null,
   "metadata": {},
   "outputs": [],
   "source": [
    "# Get latent vars from the encoder; feed to decoder and get sampled manifest variables\n",
    "z_mean, z_logvar, z = vae.encoder.predict(test_data[:,:MANIFEST_DIM])\n",
    "\n",
    "# Record the posterior trained distributions for z\n",
    "latent_means = []\n",
    "latent_vars = []\n",
    "\n",
    "# Determine the average values for the mean/logvariance of the latent variables\n",
    "for i in range(0, LATENT_DIM):\n",
    "    epsilon = np.random.normal(loc=0, scale=1, size=1000)\n",
    "    avg_mean = np.mean(z_mean[:,i])\n",
    "    latent_means.append(avg_mean)\n",
    "    avg_var = np.exp(np.mean(z_logvar[:,i]))\n",
    "    latent_vars.append(avg_var)\n",
    "    print(f\"Latent Variable: {i}\")\n",
    "    print(f\"Mean: {avg_mean}\")\n",
    "    print(f\"Variance: {np.exp(avg_var)}\\n\")\n",
    "    samples = avg_mean + (avg_var * epsilon)\n",
    "    plt.hist(samples, bins=50)\n",
    "    plt.show()"
   ]
  },
  {
   "cell_type": "code",
   "execution_count": null,
   "metadata": {},
   "outputs": [],
   "source": [
    "# Draw predictions from test data\n",
    "results = vae.predict(test_data)\n",
    "loss_num, loss_cat = get_reconstruction_loss(test_data, results, CAT_IDX, CAT_LENGTHS)\n",
    "print(f\"Numerical Variable Loss: {loss_num}\")\n",
    "print(f\"Categorical Variable Loss: {loss_cat}\")"
   ]
  },
  {
   "cell_type": "code",
   "execution_count": null,
   "metadata": {},
   "outputs": [],
   "source": [
    "# Transform numeric results back to real variable values\n",
    "results_num = scaler_pers.inverse_transform(results[0])\n",
    "results_df = pd.DataFrame(results_num)\n",
    "\n",
    "# Transform categorical results back to real variable values\n",
    "for x in results[1]:\n",
    "    result = np.argmax(x, axis=1) + 1\n",
    "    results_df[f\"{x}\"] = result\n",
    "\n",
    "# Add back original variables names to the results\n",
    "results_df.columns = VAR_NAMES"
   ]
  },
  {
   "cell_type": "code",
   "execution_count": null,
   "metadata": {},
   "outputs": [],
   "source": [
    "# Transform numeric test data back to real variable values\n",
    "test_data_num = scaler_pers.inverse_transform(test_data[:,:CAT_IDX])\n",
    "test_data_df = pd.DataFrame(test_data_num)\n",
    "\n",
    "# Transform categorical test data back to real variable values\n",
    "current = CAT_IDX\n",
    "for x in CAT_LENGTHS:\n",
    "    test_data_cat = test_data[:,current:(current + x)]\n",
    "    test_data_cat = np.argmax(test_data_cat, axis=1) + 1\n",
    "    test_data_df[f\"{x}\"] = test_data_cat\n",
    "    current += x\n",
    "\n",
    "# Add back original variables names to the test data\n",
    "test_data_df.columns = VAR_NAMES"
   ]
  },
  {
   "cell_type": "code",
   "execution_count": null,
   "metadata": {},
   "outputs": [],
   "source": [
    "# Show distributions of the resulting numerical variables\n",
    "for col_idx in range(0, CAT_IDX):\n",
    "    results_data_plt = results_df.iloc[:,col_idx]\n",
    "    test_data_plt = test_data_df.iloc[:,col_idx]\n",
    "\n",
    "    plt.hist(results_data_plt, bins=100)\n",
    "    plt.xlim(min(test_data_plt),max(test_data_plt))\n",
    "    plt.title(f\"var {col_idx} - reconstructed distribution\")\n",
    "    plt.show()\n",
    "\n",
    "    plt.hist(test_data_plt, bins=100)\n",
    "    plt.xlim(min(test_data_plt),max(test_data_plt))\n",
    "    plt.title(f\"var {col_idx} - prior distribution\")\n",
    "    plt.show()"
   ]
  },
  {
   "cell_type": "code",
   "execution_count": null,
   "metadata": {},
   "outputs": [],
   "source": [
    "# Show distributions of the resulting categorical variables\n",
    "for col_idx in range(CAT_IDX, VAR_DIM):\n",
    "    results_data_plt = results_df.iloc[:,col_idx]\n",
    "    test_data_plt = test_data_df.iloc[:,col_idx]\n",
    "    \n",
    "    plt.hist(results_data_plt)\n",
    "    plt.xlim(min(test_data_plt),max(test_data_plt))\n",
    "    plt.title(f\"var {col_idx} - reconstructed distribution\")\n",
    "    plt.show()\n",
    "    \n",
    "    plt.hist(test_data_plt)\n",
    "    plt.xlim(min(test_data_plt),max(test_data_plt))\n",
    "    plt.title(f\"var {col_idx} - prior distribution\")\n",
    "    plt.show()"
   ]
  },
  {
   "cell_type": "markdown",
   "metadata": {},
   "source": [
    "## Generating Synthetic Population"
   ]
  },
  {
   "cell_type": "code",
   "execution_count": null,
   "metadata": {},
   "outputs": [],
   "source": [
    "# Use list of households from the test data (in future can be generated with separate vae)\n",
    "x = pd.DataFrame(test_data[:,MANIFEST_DIM:]).reset_index(drop=True) # Scaled hh_input values\n",
    "y = model_data_df.iloc[train_idx:][['NP']].reset_index(drop=True) # Unscaled number of persons value\n",
    "z = pd.concat([x,y],axis=1)\n",
    "z.columns = ['HINCP','NP','VEH','SIZE']\n",
    "\n",
    "# Multiply the inputs by the number of persons per household (hh of size 3 becomes 3 rows with same scaled hh inputs)\n",
    "z = z.reindex(z.index.repeat(z['SIZE']))\n",
    "z = z[['HINCP','NP','VEH']].values\n",
    "\n",
    "# Generate random normal sample to represent each latent variable, for each row (different person per row)\n",
    "epsilon = np.random.normal(loc=0, scale=1, size=(len(z), LATENT_DIM))\n",
    "inputs = np.concatenate((epsilon, z), axis=-1)\n",
    "\n",
    "# Generate persons; each person has unique latent input, plus shared hh inputs with their household\n",
    "results = vae.decoder.predict(inputs)"
   ]
  },
  {
   "cell_type": "code",
   "execution_count": null,
   "metadata": {},
   "outputs": [],
   "source": [
    "# Transform numeric results back to real variable values\n",
    "results_num = scaler_pers.inverse_transform(results[0])\n",
    "results_df = pd.DataFrame(results_num)\n",
    "\n",
    "# Transform categorical results back to real variable values\n",
    "for x in results[1]:\n",
    "    result = np.argmax(x, axis=1) + 1\n",
    "    results_df[f\"{x}\"] = result\n",
    "\n",
    "# Add back original variables names to the results\n",
    "results_df.columns = VAR_NAMES\n",
    "results_df"
   ]
  },
  {
   "cell_type": "code",
   "execution_count": null,
   "metadata": {},
   "outputs": [],
   "source": [
    "# Show distributions of the resulting numerical variables\n",
    "for col_idx in range(0, CAT_IDX):\n",
    "    results_data_plt = results_df.iloc[:,col_idx]\n",
    "    test_data_plt = test_data_df.iloc[:,col_idx]\n",
    "\n",
    "    plt.hist(results_data_plt, bins=100)\n",
    "    plt.xlim(min(test_data_plt),max(test_data_plt))\n",
    "    plt.title(f\"var {col_idx} - reconstructed distribution\")\n",
    "    plt.show()\n",
    "\n",
    "    plt.hist(test_data_plt, bins=100)\n",
    "    plt.xlim(min(test_data_plt),max(test_data_plt))\n",
    "    plt.title(f\"var {col_idx} - prior distribution\")\n",
    "    plt.show()"
   ]
  },
  {
   "cell_type": "code",
   "execution_count": null,
   "metadata": {},
   "outputs": [],
   "source": [
    "# Show distributions of the resulting categorical variables\n",
    "for col_idx in range(CAT_IDX, VAR_DIM):\n",
    "    results_data_plt = results_df.iloc[:,col_idx]\n",
    "    test_data_plt = test_data_df.iloc[:,col_idx]\n",
    "    \n",
    "    plt.hist(results_data_plt)\n",
    "    plt.xlim(min(test_data_plt),max(test_data_plt))\n",
    "    plt.title(f\"var {col_idx} - reconstructed distribution\")\n",
    "    plt.show()\n",
    "    \n",
    "    plt.hist(test_data_plt)\n",
    "    plt.xlim(min(test_data_plt),max(test_data_plt))\n",
    "    plt.title(f\"var {col_idx} - prior distribution\")\n",
    "    plt.show()"
   ]
  }
 ],
 "metadata": {
  "kernelspec": {
   "display_name": "Python 3",
   "language": "python",
   "name": "python3"
  },
  "language_info": {
   "codemirror_mode": {
    "name": "ipython",
    "version": 3
   },
   "file_extension": ".py",
   "mimetype": "text/x-python",
   "name": "python",
   "nbconvert_exporter": "python",
   "pygments_lexer": "ipython3",
   "version": "3.8.3"
  }
 },
 "nbformat": 4,
 "nbformat_minor": 4
}
