{
 "cells": [
  {
   "cell_type": "markdown",
   "metadata": {},
   "source": [
    "## Import Libraries and Datasets"
   ]
  },
  {
   "cell_type": "code",
   "execution_count": 2,
   "metadata": {},
   "outputs": [],
   "source": [
    "import matplotlib.pyplot as plt\n",
    "import numpy as np\n",
    "import pandas as pd\n",
    "import sklearn.preprocessing as skpre\n",
    "import tensorflow as tf\n",
    "from tensorflow import keras\n",
    "from tensorflow.keras import layers"
   ]
  },
  {
   "cell_type": "code",
   "execution_count": 3,
   "metadata": {},
   "outputs": [],
   "source": [
    "# Load in the persons PUMS dataset for WA state\n",
    "t_df = pd.read_csv('data/NHTS/nhts_survey/trippub.csv')"
   ]
  },
  {
   "cell_type": "markdown",
   "metadata": {},
   "source": [
    "## Choose Variables and Preprocess"
   ]
  },
  {
   "cell_type": "code",
   "execution_count": 4,
   "metadata": {},
   "outputs": [
    {
     "data": {
      "text/html": [
       "<div>\n",
       "<style scoped>\n",
       "    .dataframe tbody tr th:only-of-type {\n",
       "        vertical-align: middle;\n",
       "    }\n",
       "\n",
       "    .dataframe tbody tr th {\n",
       "        vertical-align: top;\n",
       "    }\n",
       "\n",
       "    .dataframe thead th {\n",
       "        text-align: right;\n",
       "    }\n",
       "</style>\n",
       "<table border=\"1\" class=\"dataframe\">\n",
       "  <thead>\n",
       "    <tr style=\"text-align: right;\">\n",
       "      <th></th>\n",
       "      <th>HOUSEID</th>\n",
       "      <th>PERSONID</th>\n",
       "      <th>TDTRPNUM</th>\n",
       "      <th>STRTTIME</th>\n",
       "      <th>ENDTIME</th>\n",
       "      <th>TRVLCMIN</th>\n",
       "      <th>TRPMILES</th>\n",
       "      <th>TRPTRANS</th>\n",
       "      <th>TRPACCMP</th>\n",
       "      <th>TRPHHACC</th>\n",
       "      <th>...</th>\n",
       "      <th>OBHTNRNT</th>\n",
       "      <th>OBPPOPDN</th>\n",
       "      <th>OBRESDN</th>\n",
       "      <th>DTHTNRNT</th>\n",
       "      <th>DTPPOPDN</th>\n",
       "      <th>DTRESDN</th>\n",
       "      <th>DTEEMPDN</th>\n",
       "      <th>DBHTNRNT</th>\n",
       "      <th>DBPPOPDN</th>\n",
       "      <th>DBRESDN</th>\n",
       "    </tr>\n",
       "  </thead>\n",
       "  <tbody>\n",
       "    <tr>\n",
       "      <th>0</th>\n",
       "      <td>30000007</td>\n",
       "      <td>1</td>\n",
       "      <td>1</td>\n",
       "      <td>1000</td>\n",
       "      <td>1015</td>\n",
       "      <td>15</td>\n",
       "      <td>5.244</td>\n",
       "      <td>3</td>\n",
       "      <td>0</td>\n",
       "      <td>0</td>\n",
       "      <td>...</td>\n",
       "      <td>20</td>\n",
       "      <td>750</td>\n",
       "      <td>300</td>\n",
       "      <td>50</td>\n",
       "      <td>750</td>\n",
       "      <td>300</td>\n",
       "      <td>350</td>\n",
       "      <td>30</td>\n",
       "      <td>300</td>\n",
       "      <td>300</td>\n",
       "    </tr>\n",
       "    <tr>\n",
       "      <th>1</th>\n",
       "      <td>30000007</td>\n",
       "      <td>1</td>\n",
       "      <td>2</td>\n",
       "      <td>1510</td>\n",
       "      <td>1530</td>\n",
       "      <td>20</td>\n",
       "      <td>5.149</td>\n",
       "      <td>3</td>\n",
       "      <td>0</td>\n",
       "      <td>0</td>\n",
       "      <td>...</td>\n",
       "      <td>30</td>\n",
       "      <td>300</td>\n",
       "      <td>300</td>\n",
       "      <td>50</td>\n",
       "      <td>1500</td>\n",
       "      <td>750</td>\n",
       "      <td>750</td>\n",
       "      <td>20</td>\n",
       "      <td>750</td>\n",
       "      <td>300</td>\n",
       "    </tr>\n",
       "    <tr>\n",
       "      <th>2</th>\n",
       "      <td>30000007</td>\n",
       "      <td>2</td>\n",
       "      <td>1</td>\n",
       "      <td>700</td>\n",
       "      <td>900</td>\n",
       "      <td>120</td>\n",
       "      <td>84.004</td>\n",
       "      <td>6</td>\n",
       "      <td>0</td>\n",
       "      <td>0</td>\n",
       "      <td>...</td>\n",
       "      <td>40</td>\n",
       "      <td>1500</td>\n",
       "      <td>750</td>\n",
       "      <td>50</td>\n",
       "      <td>1500</td>\n",
       "      <td>750</td>\n",
       "      <td>750</td>\n",
       "      <td>20</td>\n",
       "      <td>750</td>\n",
       "      <td>300</td>\n",
       "    </tr>\n",
       "    <tr>\n",
       "      <th>3</th>\n",
       "      <td>30000007</td>\n",
       "      <td>2</td>\n",
       "      <td>2</td>\n",
       "      <td>1800</td>\n",
       "      <td>2030</td>\n",
       "      <td>150</td>\n",
       "      <td>81.628</td>\n",
       "      <td>6</td>\n",
       "      <td>0</td>\n",
       "      <td>0</td>\n",
       "      <td>...</td>\n",
       "      <td>20</td>\n",
       "      <td>750</td>\n",
       "      <td>300</td>\n",
       "      <td>40</td>\n",
       "      <td>1500</td>\n",
       "      <td>750</td>\n",
       "      <td>750</td>\n",
       "      <td>40</td>\n",
       "      <td>1500</td>\n",
       "      <td>750</td>\n",
       "    </tr>\n",
       "    <tr>\n",
       "      <th>4</th>\n",
       "      <td>30000007</td>\n",
       "      <td>3</td>\n",
       "      <td>1</td>\n",
       "      <td>845</td>\n",
       "      <td>900</td>\n",
       "      <td>15</td>\n",
       "      <td>2.250</td>\n",
       "      <td>3</td>\n",
       "      <td>0</td>\n",
       "      <td>0</td>\n",
       "      <td>...</td>\n",
       "      <td>20</td>\n",
       "      <td>750</td>\n",
       "      <td>300</td>\n",
       "      <td>50</td>\n",
       "      <td>750</td>\n",
       "      <td>300</td>\n",
       "      <td>350</td>\n",
       "      <td>60</td>\n",
       "      <td>750</td>\n",
       "      <td>300</td>\n",
       "    </tr>\n",
       "    <tr>\n",
       "      <th>...</th>\n",
       "      <td>...</td>\n",
       "      <td>...</td>\n",
       "      <td>...</td>\n",
       "      <td>...</td>\n",
       "      <td>...</td>\n",
       "      <td>...</td>\n",
       "      <td>...</td>\n",
       "      <td>...</td>\n",
       "      <td>...</td>\n",
       "      <td>...</td>\n",
       "      <td>...</td>\n",
       "      <td>...</td>\n",
       "      <td>...</td>\n",
       "      <td>...</td>\n",
       "      <td>...</td>\n",
       "      <td>...</td>\n",
       "      <td>...</td>\n",
       "      <td>...</td>\n",
       "      <td>...</td>\n",
       "      <td>...</td>\n",
       "      <td>...</td>\n",
       "    </tr>\n",
       "    <tr>\n",
       "      <th>923567</th>\n",
       "      <td>50515573</td>\n",
       "      <td>1</td>\n",
       "      <td>1</td>\n",
       "      <td>810</td>\n",
       "      <td>837</td>\n",
       "      <td>27</td>\n",
       "      <td>1.168</td>\n",
       "      <td>1</td>\n",
       "      <td>0</td>\n",
       "      <td>0</td>\n",
       "      <td>...</td>\n",
       "      <td>70</td>\n",
       "      <td>30000</td>\n",
       "      <td>17000</td>\n",
       "      <td>70</td>\n",
       "      <td>7000</td>\n",
       "      <td>7000</td>\n",
       "      <td>5000</td>\n",
       "      <td>80</td>\n",
       "      <td>17000</td>\n",
       "      <td>17000</td>\n",
       "    </tr>\n",
       "    <tr>\n",
       "      <th>923568</th>\n",
       "      <td>50515573</td>\n",
       "      <td>1</td>\n",
       "      <td>2</td>\n",
       "      <td>1320</td>\n",
       "      <td>1328</td>\n",
       "      <td>8</td>\n",
       "      <td>0.238</td>\n",
       "      <td>1</td>\n",
       "      <td>0</td>\n",
       "      <td>0</td>\n",
       "      <td>...</td>\n",
       "      <td>80</td>\n",
       "      <td>17000</td>\n",
       "      <td>17000</td>\n",
       "      <td>70</td>\n",
       "      <td>7000</td>\n",
       "      <td>7000</td>\n",
       "      <td>5000</td>\n",
       "      <td>60</td>\n",
       "      <td>3000</td>\n",
       "      <td>3000</td>\n",
       "    </tr>\n",
       "    <tr>\n",
       "      <th>923569</th>\n",
       "      <td>50515573</td>\n",
       "      <td>1</td>\n",
       "      <td>3</td>\n",
       "      <td>1415</td>\n",
       "      <td>1420</td>\n",
       "      <td>5</td>\n",
       "      <td>0.238</td>\n",
       "      <td>1</td>\n",
       "      <td>0</td>\n",
       "      <td>0</td>\n",
       "      <td>...</td>\n",
       "      <td>60</td>\n",
       "      <td>3000</td>\n",
       "      <td>3000</td>\n",
       "      <td>70</td>\n",
       "      <td>7000</td>\n",
       "      <td>7000</td>\n",
       "      <td>5000</td>\n",
       "      <td>80</td>\n",
       "      <td>17000</td>\n",
       "      <td>17000</td>\n",
       "    </tr>\n",
       "    <tr>\n",
       "      <th>923570</th>\n",
       "      <td>50515573</td>\n",
       "      <td>1</td>\n",
       "      <td>4</td>\n",
       "      <td>1820</td>\n",
       "      <td>1845</td>\n",
       "      <td>25</td>\n",
       "      <td>0.867</td>\n",
       "      <td>1</td>\n",
       "      <td>0</td>\n",
       "      <td>0</td>\n",
       "      <td>...</td>\n",
       "      <td>80</td>\n",
       "      <td>17000</td>\n",
       "      <td>17000</td>\n",
       "      <td>60</td>\n",
       "      <td>30000</td>\n",
       "      <td>30000</td>\n",
       "      <td>5000</td>\n",
       "      <td>70</td>\n",
       "      <td>30000</td>\n",
       "      <td>30000</td>\n",
       "    </tr>\n",
       "    <tr>\n",
       "      <th>923571</th>\n",
       "      <td>50515573</td>\n",
       "      <td>1</td>\n",
       "      <td>5</td>\n",
       "      <td>1848</td>\n",
       "      <td>1855</td>\n",
       "      <td>7</td>\n",
       "      <td>0.325</td>\n",
       "      <td>1</td>\n",
       "      <td>0</td>\n",
       "      <td>0</td>\n",
       "      <td>...</td>\n",
       "      <td>70</td>\n",
       "      <td>30000</td>\n",
       "      <td>30000</td>\n",
       "      <td>70</td>\n",
       "      <td>30000</td>\n",
       "      <td>30000</td>\n",
       "      <td>5000</td>\n",
       "      <td>70</td>\n",
       "      <td>30000</td>\n",
       "      <td>17000</td>\n",
       "    </tr>\n",
       "  </tbody>\n",
       "</table>\n",
       "<p>923572 rows × 115 columns</p>\n",
       "</div>"
      ],
      "text/plain": [
       "         HOUSEID  PERSONID  TDTRPNUM  STRTTIME  ENDTIME  TRVLCMIN  TRPMILES  \\\n",
       "0       30000007         1         1      1000     1015        15     5.244   \n",
       "1       30000007         1         2      1510     1530        20     5.149   \n",
       "2       30000007         2         1       700      900       120    84.004   \n",
       "3       30000007         2         2      1800     2030       150    81.628   \n",
       "4       30000007         3         1       845      900        15     2.250   \n",
       "...          ...       ...       ...       ...      ...       ...       ...   \n",
       "923567  50515573         1         1       810      837        27     1.168   \n",
       "923568  50515573         1         2      1320     1328         8     0.238   \n",
       "923569  50515573         1         3      1415     1420         5     0.238   \n",
       "923570  50515573         1         4      1820     1845        25     0.867   \n",
       "923571  50515573         1         5      1848     1855         7     0.325   \n",
       "\n",
       "        TRPTRANS  TRPACCMP  TRPHHACC  ...  OBHTNRNT  OBPPOPDN  OBRESDN  \\\n",
       "0              3         0         0  ...        20       750      300   \n",
       "1              3         0         0  ...        30       300      300   \n",
       "2              6         0         0  ...        40      1500      750   \n",
       "3              6         0         0  ...        20       750      300   \n",
       "4              3         0         0  ...        20       750      300   \n",
       "...          ...       ...       ...  ...       ...       ...      ...   \n",
       "923567         1         0         0  ...        70     30000    17000   \n",
       "923568         1         0         0  ...        80     17000    17000   \n",
       "923569         1         0         0  ...        60      3000     3000   \n",
       "923570         1         0         0  ...        80     17000    17000   \n",
       "923571         1         0         0  ...        70     30000    30000   \n",
       "\n",
       "        DTHTNRNT  DTPPOPDN  DTRESDN  DTEEMPDN  DBHTNRNT  DBPPOPDN  DBRESDN  \n",
       "0             50       750      300       350        30       300      300  \n",
       "1             50      1500      750       750        20       750      300  \n",
       "2             50      1500      750       750        20       750      300  \n",
       "3             40      1500      750       750        40      1500      750  \n",
       "4             50       750      300       350        60       750      300  \n",
       "...          ...       ...      ...       ...       ...       ...      ...  \n",
       "923567        70      7000     7000      5000        80     17000    17000  \n",
       "923568        70      7000     7000      5000        60      3000     3000  \n",
       "923569        70      7000     7000      5000        80     17000    17000  \n",
       "923570        60     30000    30000      5000        70     30000    30000  \n",
       "923571        70     30000    30000      5000        70     30000    17000  \n",
       "\n",
       "[923572 rows x 115 columns]"
      ]
     },
     "execution_count": 4,
     "metadata": {},
     "output_type": "execute_result"
    }
   ],
   "source": [
    "t_df"
   ]
  },
  {
   "cell_type": "code",
   "execution_count": null,
   "metadata": {},
   "outputs": [],
   "source": [
    "# Each input to training the model is a person's daily trip diary\n",
    "# Inputs; day of week, characteristics of person/hh\n",
    "# Outputs; trip purpose, mode, duration, distance\n",
    "# How to include Time of Day?\n",
    "# Timesteps could either be hours in the day, or trips in a chain?\n",
    "    # If a timestep is a trip, add the time of departure to the output variables\n",
    "    \n",
    "# Timestep is a trip\n",
    "# Each timestep has departure time, duration, distance, mode, and purpose (y)\n",
    "# Each trip has person/hh variables, day of week, and previous timestep info (x)"
   ]
  },
  {
   "cell_type": "code",
   "execution_count": null,
   "metadata": {},
   "outputs": [],
   "source": []
  },
  {
   "cell_type": "code",
   "execution_count": null,
   "metadata": {},
   "outputs": [],
   "source": []
  },
  {
   "cell_type": "code",
   "execution_count": 3,
   "metadata": {},
   "outputs": [
    {
     "name": "stdout",
     "output_type": "stream",
     "text": [
      "Dataset n=359075 pre-cleaning\n",
      "Dataset n=150203 post-cleaning\n"
     ]
    }
   ],
   "source": [
    "# Filter to desired variables (numeric then categorical)\n",
    "pums_data_p = p_df[['SERIALNO','AGEP','JWMNP','SCHL','PINCP','COW','SEX','MAR']]\n",
    "pums_data_h = h_df[['SERIALNO','NP','VEH','HINCP']]\n",
    "del p_df\n",
    "del h_df\n",
    "pums_data = pd.merge(pums_data_p, pums_data_h, on='SERIALNO')\n",
    "pums_data = pums_data.drop(labels=['SERIALNO'], axis=1)\n",
    "pums_data = pums_data[['AGEP','JWMNP','SCHL','PINCP','HINCP','COW','SEX','MAR','NP','VEH']]\n",
    "\n",
    "# Remove NA values and check n before/after\n",
    "print(f\"Dataset n={len(pums_data)} pre-cleaning\")\n",
    "pums_data = pums_data.dropna()\n",
    "print(f\"Dataset n={len(pums_data)} post-cleaning\")"
   ]
  },
  {
   "cell_type": "code",
   "execution_count": 4,
   "metadata": {},
   "outputs": [
    {
     "name": "stdout",
     "output_type": "stream",
     "text": [
      "Categorical variable class lengths: [8, 2, 5, 18, 7]\n"
     ]
    }
   ],
   "source": [
    "CAT_IDX = 5\n",
    "HH_IDX = [4,8,9]\n",
    "LEN_PERS = pums_data_p.shape[1] - 1\n",
    "LEN_HH = pums_data_h.shape[1] - 1\n",
    "VAR_DIM = pums_data.shape[1] #Length of all variables before OHE\n",
    "VAR_NAMES = pums_data.columns #Names of all variables before OHE\n",
    "\n",
    "# Split categorical data into OHE vars, save num classes per variable\n",
    "dummies_list = []\n",
    "for x in range(CAT_IDX, VAR_DIM):\n",
    "    dummies = pums_data.iloc[:,x]\n",
    "    dummies = pd.get_dummies(dummies, prefix=f\"{pums_data.columns[x]}_\")\n",
    "    dummies_list.append(dummies)\n",
    "CAT_LENGTHS = [x.shape[1] for x in dummies_list]\n",
    "print(f\"Categorical variable class lengths: {CAT_LENGTHS}\")"
   ]
  },
  {
   "cell_type": "code",
   "execution_count": 5,
   "metadata": {},
   "outputs": [
    {
     "data": {
      "text/html": [
       "<div>\n",
       "<style scoped>\n",
       "    .dataframe tbody tr th:only-of-type {\n",
       "        vertical-align: middle;\n",
       "    }\n",
       "\n",
       "    .dataframe tbody tr th {\n",
       "        vertical-align: top;\n",
       "    }\n",
       "\n",
       "    .dataframe thead th {\n",
       "        text-align: right;\n",
       "    }\n",
       "</style>\n",
       "<table border=\"1\" class=\"dataframe\">\n",
       "  <thead>\n",
       "    <tr style=\"text-align: right;\">\n",
       "      <th></th>\n",
       "      <th>AGEP</th>\n",
       "      <th>JWMNP</th>\n",
       "      <th>SCHL</th>\n",
       "      <th>PINCP</th>\n",
       "      <th>HINCP</th>\n",
       "      <th>COW__1.0</th>\n",
       "      <th>COW__2.0</th>\n",
       "      <th>COW__3.0</th>\n",
       "      <th>COW__4.0</th>\n",
       "      <th>COW__5.0</th>\n",
       "      <th>...</th>\n",
       "      <th>VEH__0.0</th>\n",
       "      <th>VEH__1.0</th>\n",
       "      <th>VEH__2.0</th>\n",
       "      <th>VEH__3.0</th>\n",
       "      <th>VEH__4.0</th>\n",
       "      <th>VEH__5.0</th>\n",
       "      <th>VEH__6.0</th>\n",
       "      <th>HINCP</th>\n",
       "      <th>NP</th>\n",
       "      <th>VEH</th>\n",
       "    </tr>\n",
       "  </thead>\n",
       "  <tbody>\n",
       "    <tr>\n",
       "      <th>4</th>\n",
       "      <td>52</td>\n",
       "      <td>70.0</td>\n",
       "      <td>21.0</td>\n",
       "      <td>160000.0</td>\n",
       "      <td>210500.0</td>\n",
       "      <td>1</td>\n",
       "      <td>0</td>\n",
       "      <td>0</td>\n",
       "      <td>0</td>\n",
       "      <td>0</td>\n",
       "      <td>...</td>\n",
       "      <td>0</td>\n",
       "      <td>0</td>\n",
       "      <td>0</td>\n",
       "      <td>1</td>\n",
       "      <td>0</td>\n",
       "      <td>0</td>\n",
       "      <td>0</td>\n",
       "      <td>210500.0</td>\n",
       "      <td>3</td>\n",
       "      <td>3.0</td>\n",
       "    </tr>\n",
       "    <tr>\n",
       "      <th>5</th>\n",
       "      <td>51</td>\n",
       "      <td>20.0</td>\n",
       "      <td>21.0</td>\n",
       "      <td>50000.0</td>\n",
       "      <td>210500.0</td>\n",
       "      <td>0</td>\n",
       "      <td>0</td>\n",
       "      <td>1</td>\n",
       "      <td>0</td>\n",
       "      <td>0</td>\n",
       "      <td>...</td>\n",
       "      <td>0</td>\n",
       "      <td>0</td>\n",
       "      <td>0</td>\n",
       "      <td>1</td>\n",
       "      <td>0</td>\n",
       "      <td>0</td>\n",
       "      <td>0</td>\n",
       "      <td>210500.0</td>\n",
       "      <td>3</td>\n",
       "      <td>3.0</td>\n",
       "    </tr>\n",
       "    <tr>\n",
       "      <th>7</th>\n",
       "      <td>59</td>\n",
       "      <td>30.0</td>\n",
       "      <td>19.0</td>\n",
       "      <td>26710.0</td>\n",
       "      <td>50310.0</td>\n",
       "      <td>0</td>\n",
       "      <td>0</td>\n",
       "      <td>1</td>\n",
       "      <td>0</td>\n",
       "      <td>0</td>\n",
       "      <td>...</td>\n",
       "      <td>0</td>\n",
       "      <td>0</td>\n",
       "      <td>0</td>\n",
       "      <td>1</td>\n",
       "      <td>0</td>\n",
       "      <td>0</td>\n",
       "      <td>0</td>\n",
       "      <td>50310.0</td>\n",
       "      <td>2</td>\n",
       "      <td>3.0</td>\n",
       "    </tr>\n",
       "    <tr>\n",
       "      <th>8</th>\n",
       "      <td>56</td>\n",
       "      <td>15.0</td>\n",
       "      <td>16.0</td>\n",
       "      <td>23600.0</td>\n",
       "      <td>50310.0</td>\n",
       "      <td>1</td>\n",
       "      <td>0</td>\n",
       "      <td>0</td>\n",
       "      <td>0</td>\n",
       "      <td>0</td>\n",
       "      <td>...</td>\n",
       "      <td>0</td>\n",
       "      <td>0</td>\n",
       "      <td>0</td>\n",
       "      <td>1</td>\n",
       "      <td>0</td>\n",
       "      <td>0</td>\n",
       "      <td>0</td>\n",
       "      <td>50310.0</td>\n",
       "      <td>2</td>\n",
       "      <td>3.0</td>\n",
       "    </tr>\n",
       "    <tr>\n",
       "      <th>9</th>\n",
       "      <td>40</td>\n",
       "      <td>5.0</td>\n",
       "      <td>5.0</td>\n",
       "      <td>10000.0</td>\n",
       "      <td>31200.0</td>\n",
       "      <td>1</td>\n",
       "      <td>0</td>\n",
       "      <td>0</td>\n",
       "      <td>0</td>\n",
       "      <td>0</td>\n",
       "      <td>...</td>\n",
       "      <td>1</td>\n",
       "      <td>0</td>\n",
       "      <td>0</td>\n",
       "      <td>0</td>\n",
       "      <td>0</td>\n",
       "      <td>0</td>\n",
       "      <td>0</td>\n",
       "      <td>31200.0</td>\n",
       "      <td>5</td>\n",
       "      <td>0.0</td>\n",
       "    </tr>\n",
       "    <tr>\n",
       "      <th>...</th>\n",
       "      <td>...</td>\n",
       "      <td>...</td>\n",
       "      <td>...</td>\n",
       "      <td>...</td>\n",
       "      <td>...</td>\n",
       "      <td>...</td>\n",
       "      <td>...</td>\n",
       "      <td>...</td>\n",
       "      <td>...</td>\n",
       "      <td>...</td>\n",
       "      <td>...</td>\n",
       "      <td>...</td>\n",
       "      <td>...</td>\n",
       "      <td>...</td>\n",
       "      <td>...</td>\n",
       "      <td>...</td>\n",
       "      <td>...</td>\n",
       "      <td>...</td>\n",
       "      <td>...</td>\n",
       "      <td>...</td>\n",
       "      <td>...</td>\n",
       "    </tr>\n",
       "    <tr>\n",
       "      <th>356007</th>\n",
       "      <td>37</td>\n",
       "      <td>50.0</td>\n",
       "      <td>21.0</td>\n",
       "      <td>55000.0</td>\n",
       "      <td>55000.0</td>\n",
       "      <td>1</td>\n",
       "      <td>0</td>\n",
       "      <td>0</td>\n",
       "      <td>0</td>\n",
       "      <td>0</td>\n",
       "      <td>...</td>\n",
       "      <td>0</td>\n",
       "      <td>0</td>\n",
       "      <td>1</td>\n",
       "      <td>0</td>\n",
       "      <td>0</td>\n",
       "      <td>0</td>\n",
       "      <td>0</td>\n",
       "      <td>55000.0</td>\n",
       "      <td>3</td>\n",
       "      <td>2.0</td>\n",
       "    </tr>\n",
       "    <tr>\n",
       "      <th>356010</th>\n",
       "      <td>33</td>\n",
       "      <td>65.0</td>\n",
       "      <td>18.0</td>\n",
       "      <td>90000.0</td>\n",
       "      <td>102000.0</td>\n",
       "      <td>1</td>\n",
       "      <td>0</td>\n",
       "      <td>0</td>\n",
       "      <td>0</td>\n",
       "      <td>0</td>\n",
       "      <td>...</td>\n",
       "      <td>0</td>\n",
       "      <td>0</td>\n",
       "      <td>1</td>\n",
       "      <td>0</td>\n",
       "      <td>0</td>\n",
       "      <td>0</td>\n",
       "      <td>0</td>\n",
       "      <td>102000.0</td>\n",
       "      <td>4</td>\n",
       "      <td>2.0</td>\n",
       "    </tr>\n",
       "    <tr>\n",
       "      <th>356013</th>\n",
       "      <td>48</td>\n",
       "      <td>60.0</td>\n",
       "      <td>18.0</td>\n",
       "      <td>48400.0</td>\n",
       "      <td>106400.0</td>\n",
       "      <td>1</td>\n",
       "      <td>0</td>\n",
       "      <td>0</td>\n",
       "      <td>0</td>\n",
       "      <td>0</td>\n",
       "      <td>...</td>\n",
       "      <td>0</td>\n",
       "      <td>0</td>\n",
       "      <td>0</td>\n",
       "      <td>0</td>\n",
       "      <td>1</td>\n",
       "      <td>0</td>\n",
       "      <td>0</td>\n",
       "      <td>106400.0</td>\n",
       "      <td>3</td>\n",
       "      <td>4.0</td>\n",
       "    </tr>\n",
       "    <tr>\n",
       "      <th>356014</th>\n",
       "      <td>49</td>\n",
       "      <td>30.0</td>\n",
       "      <td>19.0</td>\n",
       "      <td>49000.0</td>\n",
       "      <td>106400.0</td>\n",
       "      <td>1</td>\n",
       "      <td>0</td>\n",
       "      <td>0</td>\n",
       "      <td>0</td>\n",
       "      <td>0</td>\n",
       "      <td>...</td>\n",
       "      <td>0</td>\n",
       "      <td>0</td>\n",
       "      <td>0</td>\n",
       "      <td>0</td>\n",
       "      <td>1</td>\n",
       "      <td>0</td>\n",
       "      <td>0</td>\n",
       "      <td>106400.0</td>\n",
       "      <td>3</td>\n",
       "      <td>4.0</td>\n",
       "    </tr>\n",
       "    <tr>\n",
       "      <th>356015</th>\n",
       "      <td>17</td>\n",
       "      <td>20.0</td>\n",
       "      <td>14.0</td>\n",
       "      <td>9000.0</td>\n",
       "      <td>106400.0</td>\n",
       "      <td>1</td>\n",
       "      <td>0</td>\n",
       "      <td>0</td>\n",
       "      <td>0</td>\n",
       "      <td>0</td>\n",
       "      <td>...</td>\n",
       "      <td>0</td>\n",
       "      <td>0</td>\n",
       "      <td>0</td>\n",
       "      <td>0</td>\n",
       "      <td>1</td>\n",
       "      <td>0</td>\n",
       "      <td>0</td>\n",
       "      <td>106400.0</td>\n",
       "      <td>3</td>\n",
       "      <td>4.0</td>\n",
       "    </tr>\n",
       "  </tbody>\n",
       "</table>\n",
       "<p>150203 rows × 48 columns</p>\n",
       "</div>"
      ],
      "text/plain": [
       "        AGEP  JWMNP  SCHL     PINCP     HINCP  COW__1.0  COW__2.0  COW__3.0  \\\n",
       "4         52   70.0  21.0  160000.0  210500.0         1         0         0   \n",
       "5         51   20.0  21.0   50000.0  210500.0         0         0         1   \n",
       "7         59   30.0  19.0   26710.0   50310.0         0         0         1   \n",
       "8         56   15.0  16.0   23600.0   50310.0         1         0         0   \n",
       "9         40    5.0   5.0   10000.0   31200.0         1         0         0   \n",
       "...      ...    ...   ...       ...       ...       ...       ...       ...   \n",
       "356007    37   50.0  21.0   55000.0   55000.0         1         0         0   \n",
       "356010    33   65.0  18.0   90000.0  102000.0         1         0         0   \n",
       "356013    48   60.0  18.0   48400.0  106400.0         1         0         0   \n",
       "356014    49   30.0  19.0   49000.0  106400.0         1         0         0   \n",
       "356015    17   20.0  14.0    9000.0  106400.0         1         0         0   \n",
       "\n",
       "        COW__4.0  COW__5.0  ...  VEH__0.0  VEH__1.0  VEH__2.0  VEH__3.0  \\\n",
       "4              0         0  ...         0         0         0         1   \n",
       "5              0         0  ...         0         0         0         1   \n",
       "7              0         0  ...         0         0         0         1   \n",
       "8              0         0  ...         0         0         0         1   \n",
       "9              0         0  ...         1         0         0         0   \n",
       "...          ...       ...  ...       ...       ...       ...       ...   \n",
       "356007         0         0  ...         0         0         1         0   \n",
       "356010         0         0  ...         0         0         1         0   \n",
       "356013         0         0  ...         0         0         0         0   \n",
       "356014         0         0  ...         0         0         0         0   \n",
       "356015         0         0  ...         0         0         0         0   \n",
       "\n",
       "        VEH__4.0  VEH__5.0  VEH__6.0     HINCP  NP  VEH  \n",
       "4              0         0         0  210500.0   3  3.0  \n",
       "5              0         0         0  210500.0   3  3.0  \n",
       "7              0         0         0   50310.0   2  3.0  \n",
       "8              0         0         0   50310.0   2  3.0  \n",
       "9              0         0         0   31200.0   5  0.0  \n",
       "...          ...       ...       ...       ...  ..  ...  \n",
       "356007         0         0         0   55000.0   3  2.0  \n",
       "356010         0         0         0  102000.0   4  2.0  \n",
       "356013         1         0         0  106400.0   3  4.0  \n",
       "356014         1         0         0  106400.0   3  4.0  \n",
       "356015         1         0         0  106400.0   3  4.0  \n",
       "\n",
       "[150203 rows x 48 columns]"
      ]
     },
     "execution_count": 5,
     "metadata": {},
     "output_type": "execute_result"
    }
   ],
   "source": [
    "# Final data frame after encoding OHE\n",
    "model_data_df = pums_data.iloc[:,:CAT_IDX]\n",
    "for ohe_var in dummies_list:\n",
    "    model_data_df = pd.concat([model_data_df, ohe_var], axis=1)\n",
    "MANIFEST_DIM = model_data_df.shape[1]\n",
    "\n",
    "# Add columns for original household variables; these will be fed to decoder but not encoder\n",
    "model_data_df = pd.concat([model_data_df, pums_data.iloc[:,HH_IDX]], axis=1)\n",
    "\n",
    "# Preview data that will be fed into model\n",
    "model_data_df"
   ]
  },
  {
   "cell_type": "code",
   "execution_count": 6,
   "metadata": {},
   "outputs": [
    {
     "name": "stdout",
     "output_type": "stream",
     "text": [
      "Dataset n=150203 pre-numerical-outliers\n",
      "Dataset n=143451 post-numerical-outliers\n"
     ]
    }
   ],
   "source": [
    "# Standardize the input data from -1 to 1 for numerical variables\n",
    "scaler_pers = skpre.StandardScaler()\n",
    "scaler_hh = skpre.StandardScaler()\n",
    "model_data = model_data_df.values\n",
    "model_data[:,:CAT_IDX] = scaler_pers.fit_transform(model_data[:,:CAT_IDX])\n",
    "model_data[:,MANIFEST_DIM:] = scaler_hh.fit_transform(model_data[:,MANIFEST_DIM:])\n",
    "\n",
    "# Remove rows with numerical outliers (3 < standard deviations)\n",
    "print(f\"Dataset n={len(model_data)} pre-numerical-outliers\")\n",
    "outlier_row_indices = np.where(np.any(model_data[:,:CAT_IDX] > 3, axis=1))\n",
    "model_data = np.delete(model_data, (outlier_row_indices), axis=0)\n",
    "model_data_df = model_data_df.drop(model_data_df.index[outlier_row_indices])\n",
    "print(f\"Dataset n={len(model_data)} post-numerical-outliers\")\n",
    "\n",
    "# Separate into train/test data\n",
    "train_idx = round(len(model_data)*.9)\n",
    "train_data = model_data[0:train_idx,:]\n",
    "test_data = model_data[train_idx:len(model_data),:]"
   ]
  },
  {
   "cell_type": "markdown",
   "metadata": {},
   "source": [
    "## Set Parameters and Define Model"
   ]
  },
  {
   "cell_type": "code",
   "execution_count": 7,
   "metadata": {},
   "outputs": [],
   "source": [
    "# Hyperparameters\n",
    "BATCH_SIZE = 64\n",
    "EPOCHS = 100\n",
    "LEARN_RATE = 0.001\n",
    "RHO = 0.9\n",
    "LATENT_DIM = 5\n",
    "HIDDEN_DIM = 100\n",
    "KL_WEIGHT = 0.5"
   ]
  },
  {
   "cell_type": "code",
   "execution_count": 8,
   "metadata": {},
   "outputs": [],
   "source": [
    "# A layer that takes mean/variance as inputs and returns a random sample z\n",
    "class Sampling(layers.Layer):\n",
    "    def call(self, inputs):\n",
    "        z_mean, z_log_var = inputs\n",
    "        batch = tf.shape(z_mean)[0]\n",
    "        dim = tf.shape(z_mean)[1]\n",
    "        epsilon = tf.keras.backend.random_normal(shape=(batch, dim))\n",
    "        return z_mean + tf.exp(z_log_var) * epsilon"
   ]
  },
  {
   "cell_type": "code",
   "execution_count": 9,
   "metadata": {},
   "outputs": [
    {
     "name": "stdout",
     "output_type": "stream",
     "text": [
      "Model: \"encoder\"\n",
      "__________________________________________________________________________________________________\n",
      "Layer (type)                    Output Shape         Param #     Connected to                     \n",
      "==================================================================================================\n",
      "input_1 (InputLayer)            [(None, 45)]         0                                            \n",
      "__________________________________________________________________________________________________\n",
      "dense (Dense)                   (None, 100)          4600        input_1[0][0]                    \n",
      "__________________________________________________________________________________________________\n",
      "dense_1 (Dense)                 (None, 100)          10100       dense[0][0]                      \n",
      "__________________________________________________________________________________________________\n",
      "z_mean (Dense)                  (None, 5)            505         dense_1[0][0]                    \n",
      "__________________________________________________________________________________________________\n",
      "z_log_var (Dense)               (None, 5)            505         dense_1[0][0]                    \n",
      "__________________________________________________________________________________________________\n",
      "sampling (Sampling)             (None, 5)            0           z_mean[0][0]                     \n",
      "                                                                 z_log_var[0][0]                  \n",
      "==================================================================================================\n",
      "Total params: 15,710\n",
      "Trainable params: 15,710\n",
      "Non-trainable params: 0\n",
      "__________________________________________________________________________________________________\n"
     ]
    }
   ],
   "source": [
    "# Encoder\n",
    "encoder_inputs = keras.Input(shape=(MANIFEST_DIM,))\n",
    "encoder_x = layers.Dense(HIDDEN_DIM, activation=\"tanh\")(encoder_inputs)\n",
    "encoder_x = layers.Dense(HIDDEN_DIM, activation=\"tanh\")(encoder_x)\n",
    "z_mean = layers.Dense(LATENT_DIM, name=\"z_mean\")(encoder_x)\n",
    "z_log_var = layers.Dense(LATENT_DIM, name=\"z_log_var\")(encoder_x)\n",
    "z = Sampling()([z_mean, z_log_var])\n",
    "encoder = keras.Model(encoder_inputs, [z_mean, z_log_var, z], name=\"encoder\")\n",
    "encoder.summary()"
   ]
  },
  {
   "cell_type": "code",
   "execution_count": 10,
   "metadata": {},
   "outputs": [
    {
     "name": "stdout",
     "output_type": "stream",
     "text": [
      "Model: \"decoder\"\n",
      "__________________________________________________________________________________________________\n",
      "Layer (type)                    Output Shape         Param #     Connected to                     \n",
      "==================================================================================================\n",
      "input_2 (InputLayer)            [(None, 8)]          0                                            \n",
      "__________________________________________________________________________________________________\n",
      "dense_2 (Dense)                 (None, 100)          900         input_2[0][0]                    \n",
      "__________________________________________________________________________________________________\n",
      "dense_3 (Dense)                 (None, 100)          10100       dense_2[0][0]                    \n",
      "__________________________________________________________________________________________________\n",
      "dense_4 (Dense)                 (None, 5)            505         dense_3[0][0]                    \n",
      "__________________________________________________________________________________________________\n",
      "dense_5 (Dense)                 (None, 8)            808         dense_3[0][0]                    \n",
      "__________________________________________________________________________________________________\n",
      "dense_6 (Dense)                 (None, 2)            202         dense_3[0][0]                    \n",
      "__________________________________________________________________________________________________\n",
      "dense_7 (Dense)                 (None, 5)            505         dense_3[0][0]                    \n",
      "__________________________________________________________________________________________________\n",
      "dense_8 (Dense)                 (None, 18)           1818        dense_3[0][0]                    \n",
      "__________________________________________________________________________________________________\n",
      "dense_9 (Dense)                 (None, 7)            707         dense_3[0][0]                    \n",
      "==================================================================================================\n",
      "Total params: 15,545\n",
      "Trainable params: 15,545\n",
      "Non-trainable params: 0\n",
      "__________________________________________________________________________________________________\n"
     ]
    }
   ],
   "source": [
    "# Decoder\n",
    "decoder_inputs = keras.Input(shape=(LATENT_DIM + LEN_HH,))\n",
    "decoder_x = layers.Dense(HIDDEN_DIM, activation=\"tanh\")(decoder_inputs)\n",
    "decoder_x = layers.Dense(HIDDEN_DIM, activation=\"tanh\")(decoder_x)\n",
    "decoder_num_outputs = layers.Dense(CAT_IDX, activation=\"linear\")(decoder_x)\n",
    "decoder_cat_outputs = []\n",
    "for var_length in CAT_LENGTHS:\n",
    "    layer = layers.Dense(var_length, activation=\"softmax\")(decoder_x)\n",
    "    decoder_cat_outputs.append(layer)\n",
    "decoder = keras.Model(decoder_inputs, [decoder_num_outputs, decoder_cat_outputs], name=\"decoder\")\n",
    "decoder.summary()"
   ]
  },
  {
   "cell_type": "code",
   "execution_count": 11,
   "metadata": {},
   "outputs": [],
   "source": [
    "# Define custom loss function for combined numerical and categorical data\n",
    "def get_reconstruction_loss(data, reconstruction, CAT_IDX, CAT_LENGTHS):\n",
    "\n",
    "    # Mean squared error for numerical variables\n",
    "    data_num = data[:,:CAT_IDX]\n",
    "    reconstruction_num = reconstruction[0]\n",
    "    loss_num = keras.losses.mean_squared_error(data_num, reconstruction_num)\n",
    "    loss_num = tf.reduce_mean(loss_num)\n",
    "    \n",
    "    # Categorical cross entropy for categorical variables\n",
    "    loss_list = []\n",
    "    current = CAT_IDX\n",
    "    for i, x in enumerate(CAT_LENGTHS):\n",
    "        data_cat = data[:,current:(current + x)]\n",
    "        reconstruction_cat = reconstruction[1][i]\n",
    "        loss = keras.losses.categorical_crossentropy(data_cat, reconstruction_cat, from_logits=False)\n",
    "        loss = tf.reduce_mean(loss)\n",
    "        loss_list.append(loss)\n",
    "        current += x\n",
    "    loss_cat = tf.reduce_sum(loss_list)\n",
    "\n",
    "    # Return both losses; they are combined in the model\n",
    "    return (loss_num, loss_cat)\n",
    "\n",
    "def get_kl_loss(z_mean, z_log_var):\n",
    "    kl_loss = 1 + z_log_var - tf.square(z_mean) - tf.exp(z_log_var)\n",
    "    kl_loss = tf.reduce_mean(kl_loss)\n",
    "    kl_loss = -kl_loss\n",
    "    return kl_loss"
   ]
  },
  {
   "cell_type": "code",
   "execution_count": 12,
   "metadata": {},
   "outputs": [],
   "source": [
    "# Loss metric recorder\n",
    "loss_tracker = keras.metrics.Mean(name=\"loss\")\n",
    "\n",
    "# Variational Autoencoder\n",
    "class VAE(keras.Model):\n",
    "    def __init__(self, encoder, decoder, CAT_IDX, CAT_LENGTHS, **kwargs):\n",
    "        super(VAE, self).__init__(**kwargs)\n",
    "        self.encoder = encoder\n",
    "        self.decoder = decoder\n",
    "        self.CAT_IDX = CAT_IDX\n",
    "        self.CAT_LENGTHS = CAT_LENGTHS\n",
    "\n",
    "    def train_step(self, data):\n",
    "        if isinstance(data, tuple):\n",
    "            data = data[0]\n",
    "        with tf.GradientTape() as tape:\n",
    "            # Get latent vars from the encoder; feed to decoder and get sampled manifest variables\n",
    "            z_mean, z_log_var, z = encoder(data[:,:MANIFEST_DIM])\n",
    "            decoder_input = tf.concat([z, data[:,MANIFEST_DIM:]], axis=1)\n",
    "            reconstruction = decoder(decoder_input)\n",
    "\n",
    "            # Get loss between input values and reconstruction\n",
    "            reconstruction_loss_num, reconstruction_loss_cat = get_reconstruction_loss(\n",
    "                data,\n",
    "                reconstruction,\n",
    "                self.CAT_IDX,\n",
    "                self.CAT_LENGTHS\n",
    "            )\n",
    "            reconstruction_loss = tf.add(reconstruction_loss_num, reconstruction_loss_cat)\n",
    "\n",
    "            # Get Kullback Leidler loss between normal distribution and actual for latent variables\n",
    "            kl_loss = get_kl_loss(z_mean, z_log_var)\n",
    "            kl_loss = kl_loss * KL_WEIGHT\n",
    "\n",
    "            # Combine into single loss term\n",
    "            total_loss = reconstruction_loss + kl_loss\n",
    "\n",
    "        # Get new gradients given the loss and take another step (update weights)\n",
    "        grads = tape.gradient(total_loss, self.trainable_weights)\n",
    "        self.optimizer.apply_gradients(zip(grads, self.trainable_weights))\n",
    "\n",
    "        # Record the loss metrics\n",
    "        loss_tracker.update_state(total_loss)\n",
    "\n",
    "        return {\n",
    "            \"total_loss\": loss_tracker.result(),\n",
    "            \"reconstruction_loss\": reconstruction_loss,\n",
    "            \"reconstruction_loss_num\": reconstruction_loss_num,\n",
    "            \"reconstruction_loss_cat\": reconstruction_loss_cat,\n",
    "            \"kl_loss\": kl_loss,\n",
    "        }\n",
    "\n",
    "    def call(self, inputs):\n",
    "        z_mean, z_log_var, z = self.encoder(inputs[:,:MANIFEST_DIM])\n",
    "        decoder_input = tf.concat([z, inputs[:,MANIFEST_DIM:]], axis=1)\n",
    "        reconstruction = self.decoder(decoder_input)\n",
    "        return reconstruction\n",
    "\n",
    "    @property\n",
    "    def metrics(self):\n",
    "        return [loss_tracker]"
   ]
  },
  {
   "cell_type": "markdown",
   "metadata": {},
   "source": [
    "## Training"
   ]
  },
  {
   "cell_type": "code",
   "execution_count": 13,
   "metadata": {
    "scrolled": true
   },
   "outputs": [
    {
     "name": "stdout",
     "output_type": "stream",
     "text": [
      "Epoch 1/100\n",
      "2018/2018 [==============================] - 4s 2ms/step - total_loss: 2.6857 - reconstruction_loss: 1.1999 - reconstruction_loss_num: 0.4198 - reconstruction_loss_cat: 0.7801 - kl_loss: 0.6151\n",
      "Epoch 2/100\n",
      "2018/2018 [==============================] - 4s 2ms/step - total_loss: 1.0861 - reconstruction_loss: 0.4778 - reconstruction_loss_num: 0.3167 - reconstruction_loss_cat: 0.1611 - kl_loss: 0.5599\n",
      "Epoch 3/100\n",
      "2018/2018 [==============================] - 4s 2ms/step - total_loss: 0.9523 - reconstruction_loss: 0.3795 - reconstruction_loss_num: 0.2801 - reconstruction_loss_cat: 0.0994 - kl_loss: 0.5559\n",
      "Epoch 4/100\n",
      "2018/2018 [==============================] - 4s 2ms/step - total_loss: 0.8970 - reconstruction_loss: 0.3275 - reconstruction_loss_num: 0.2477 - reconstruction_loss_cat: 0.0798 - kl_loss: 0.5608\n",
      "Epoch 5/100\n",
      "2018/2018 [==============================] - 5s 2ms/step - total_loss: 0.8610 - reconstruction_loss: 0.2924 - reconstruction_loss_num: 0.2233 - reconstruction_loss_cat: 0.0690 - kl_loss: 0.5636\n",
      "Epoch 6/100\n",
      "2018/2018 [==============================] - 4s 2ms/step - total_loss: 0.8377 - reconstruction_loss: 0.2703 - reconstruction_loss_num: 0.2080 - reconstruction_loss_cat: 0.0623 - kl_loss: 0.5615\n",
      "Epoch 7/100\n",
      "2018/2018 [==============================] - 5s 2ms/step - total_loss: 0.8197 - reconstruction_loss: 0.2563 - reconstruction_loss_num: 0.1978 - reconstruction_loss_cat: 0.0585 - kl_loss: 0.5601\n",
      "Epoch 8/100\n",
      "2018/2018 [==============================] - 6s 3ms/step - total_loss: 0.8060 - reconstruction_loss: 0.2467 - reconstruction_loss_num: 0.1922 - reconstruction_loss_cat: 0.0545 - kl_loss: 0.5574\n",
      "Epoch 9/100\n",
      "2018/2018 [==============================] - 5s 2ms/step - total_loss: 0.7986 - reconstruction_loss: 0.2412 - reconstruction_loss_num: 0.1878 - reconstruction_loss_cat: 0.0534 - kl_loss: 0.5585\n",
      "Epoch 10/100\n",
      "2018/2018 [==============================] - 4s 2ms/step - total_loss: 0.7939 - reconstruction_loss: 0.2359 - reconstruction_loss_num: 0.1838 - reconstruction_loss_cat: 0.0521 - kl_loss: 0.5567\n",
      "Epoch 11/100\n",
      "2018/2018 [==============================] - 4s 2ms/step - total_loss: 0.7885 - reconstruction_loss: 0.2310 - reconstruction_loss_num: 0.1807 - reconstruction_loss_cat: 0.0504 - kl_loss: 0.5566\n",
      "Epoch 12/100\n",
      "2018/2018 [==============================] - 4s 2ms/step - total_loss: 0.7856 - reconstruction_loss: 0.2260 - reconstruction_loss_num: 0.1775 - reconstruction_loss_cat: 0.0485 - kl_loss: 0.5575\n",
      "Epoch 13/100\n",
      "2018/2018 [==============================] - 4s 2ms/step - total_loss: 0.7789 - reconstruction_loss: 0.2255 - reconstruction_loss_num: 0.1768 - reconstruction_loss_cat: 0.0487 - kl_loss: 0.5541\n",
      "Epoch 14/100\n",
      "2018/2018 [==============================] - 4s 2ms/step - total_loss: 0.7753 - reconstruction_loss: 0.2219 - reconstruction_loss_num: 0.1745 - reconstruction_loss_cat: 0.0474 - kl_loss: 0.5543\n",
      "Epoch 15/100\n",
      "2018/2018 [==============================] - 4s 2ms/step - total_loss: 0.7717 - reconstruction_loss: 0.2174 - reconstruction_loss_num: 0.1724 - reconstruction_loss_cat: 0.0450 - kl_loss: 0.5541\n",
      "Epoch 16/100\n",
      "2018/2018 [==============================] - 4s 2ms/step - total_loss: 0.7707 - reconstruction_loss: 0.2166 - reconstruction_loss_num: 0.1701 - reconstruction_loss_cat: 0.0465 - kl_loss: 0.5530\n",
      "Epoch 17/100\n",
      "2018/2018 [==============================] - 4s 2ms/step - total_loss: 0.7658 - reconstruction_loss: 0.2119 - reconstruction_loss_num: 0.1680 - reconstruction_loss_cat: 0.0439 - kl_loss: 0.5548\n",
      "Epoch 18/100\n",
      "2018/2018 [==============================] - 4s 2ms/step - total_loss: 0.7649 - reconstruction_loss: 0.2119 - reconstruction_loss_num: 0.1670 - reconstruction_loss_cat: 0.0449 - kl_loss: 0.5521\n",
      "Epoch 19/100\n",
      "2018/2018 [==============================] - 4s 2ms/step - total_loss: 0.7615 - reconstruction_loss: 0.2100 - reconstruction_loss_num: 0.1650 - reconstruction_loss_cat: 0.0450 - kl_loss: 0.5524\n",
      "Epoch 20/100\n",
      "2018/2018 [==============================] - 6s 3ms/step - total_loss: 0.7605 - reconstruction_loss: 0.2069 - reconstruction_loss_num: 0.1636 - reconstruction_loss_cat: 0.0433 - kl_loss: 0.5538\n",
      "Epoch 21/100\n",
      "2018/2018 [==============================] - 5s 2ms/step - total_loss: 0.7588 - reconstruction_loss: 0.2073 - reconstruction_loss_num: 0.1635 - reconstruction_loss_cat: 0.0438 - kl_loss: 0.5500\n",
      "Epoch 22/100\n",
      "2018/2018 [==============================] - 4s 2ms/step - total_loss: 0.7551 - reconstruction_loss: 0.2055 - reconstruction_loss_num: 0.1624 - reconstruction_loss_cat: 0.0431 - kl_loss: 0.5505\n",
      "Epoch 23/100\n",
      "2018/2018 [==============================] - 4s 2ms/step - total_loss: 0.7541 - reconstruction_loss: 0.2037 - reconstruction_loss_num: 0.1616 - reconstruction_loss_cat: 0.0421 - kl_loss: 0.5504\n",
      "Epoch 24/100\n",
      "2018/2018 [==============================] - 4s 2ms/step - total_loss: 0.7551 - reconstruction_loss: 0.2023 - reconstruction_loss_num: 0.1608 - reconstruction_loss_cat: 0.0415 - kl_loss: 0.5501\n",
      "Epoch 25/100\n",
      "2018/2018 [==============================] - 4s 2ms/step - total_loss: 0.7502 - reconstruction_loss: 0.2015 - reconstruction_loss_num: 0.1605 - reconstruction_loss_cat: 0.0411 - kl_loss: 0.5494\n",
      "Epoch 26/100\n",
      "2018/2018 [==============================] - 4s 2ms/step - total_loss: 0.7478 - reconstruction_loss: 0.2004 - reconstruction_loss_num: 0.1596 - reconstruction_loss_cat: 0.0408 - kl_loss: 0.5483\n",
      "Epoch 27/100\n",
      "2018/2018 [==============================] - 4s 2ms/step - total_loss: 0.7462 - reconstruction_loss: 0.1989 - reconstruction_loss_num: 0.1586 - reconstruction_loss_cat: 0.0403 - kl_loss: 0.5484\n",
      "Epoch 28/100\n",
      "2018/2018 [==============================] - 4s 2ms/step - total_loss: 0.7440 - reconstruction_loss: 0.1971 - reconstruction_loss_num: 0.1578 - reconstruction_loss_cat: 0.0393 - kl_loss: 0.5482\n",
      "Epoch 29/100\n",
      "2018/2018 [==============================] - 4s 2ms/step - total_loss: 0.7453 - reconstruction_loss: 0.1986 - reconstruction_loss_num: 0.1580 - reconstruction_loss_cat: 0.0406 - kl_loss: 0.5479\n",
      "Epoch 30/100\n",
      "2018/2018 [==============================] - 4s 2ms/step - total_loss: 0.7445 - reconstruction_loss: 0.1972 - reconstruction_loss_num: 0.1572 - reconstruction_loss_cat: 0.0400 - kl_loss: 0.5478\n",
      "Epoch 31/100\n",
      "2018/2018 [==============================] - 4s 2ms/step - total_loss: 0.7429 - reconstruction_loss: 0.1972 - reconstruction_loss_num: 0.1571 - reconstruction_loss_cat: 0.0401 - kl_loss: 0.5482\n",
      "Epoch 32/100\n",
      "2018/2018 [==============================] - 4s 2ms/step - total_loss: 0.7415 - reconstruction_loss: 0.1968 - reconstruction_loss_num: 0.1570 - reconstruction_loss_cat: 0.0398 - kl_loss: 0.5451\n",
      "Epoch 33/100\n",
      "2018/2018 [==============================] - 4s 2ms/step - total_loss: 0.7441 - reconstruction_loss: 0.1968 - reconstruction_loss_num: 0.1561 - reconstruction_loss_cat: 0.0407 - kl_loss: 0.5471\n",
      "Epoch 34/100\n",
      "2018/2018 [==============================] - 4s 2ms/step - total_loss: 0.7445 - reconstruction_loss: 0.1961 - reconstruction_loss_num: 0.1554 - reconstruction_loss_cat: 0.0407 - kl_loss: 0.5475\n",
      "Epoch 35/100\n",
      "2018/2018 [==============================] - 4s 2ms/step - total_loss: 0.7430 - reconstruction_loss: 0.1941 - reconstruction_loss_num: 0.1546 - reconstruction_loss_cat: 0.0395 - kl_loss: 0.5482\n",
      "Epoch 36/100\n",
      "2018/2018 [==============================] - 4s 2ms/step - total_loss: 0.7425 - reconstruction_loss: 0.1953 - reconstruction_loss_num: 0.1546 - reconstruction_loss_cat: 0.0407 - kl_loss: 0.5476\n",
      "Epoch 37/100\n",
      "2018/2018 [==============================] - 4s 2ms/step - total_loss: 0.7423 - reconstruction_loss: 0.1941 - reconstruction_loss_num: 0.1537 - reconstruction_loss_cat: 0.0404 - kl_loss: 0.5487\n",
      "Epoch 38/100\n",
      "2018/2018 [==============================] - 4s 2ms/step - total_loss: 0.7432 - reconstruction_loss: 0.1950 - reconstruction_loss_num: 0.1542 - reconstruction_loss_cat: 0.0407 - kl_loss: 0.5475\n",
      "Epoch 39/100\n",
      "2018/2018 [==============================] - 4s 2ms/step - total_loss: 0.7439 - reconstruction_loss: 0.1953 - reconstruction_loss_num: 0.1542 - reconstruction_loss_cat: 0.0411 - kl_loss: 0.5467\n",
      "Epoch 40/100\n",
      "2018/2018 [==============================] - 5s 2ms/step - total_loss: 0.7401 - reconstruction_loss: 0.1937 - reconstruction_loss_num: 0.1538 - reconstruction_loss_cat: 0.0399 - kl_loss: 0.5467\n",
      "Epoch 41/100\n",
      "2018/2018 [==============================] - 4s 2ms/step - total_loss: 0.7427 - reconstruction_loss: 0.1936 - reconstruction_loss_num: 0.1530 - reconstruction_loss_cat: 0.0406 - kl_loss: 0.5480\n",
      "Epoch 42/100\n",
      "2018/2018 [==============================] - 4s 2ms/step - total_loss: 0.7413 - reconstruction_loss: 0.1938 - reconstruction_loss_num: 0.1533 - reconstruction_loss_cat: 0.0405 - kl_loss: 0.5479\n",
      "Epoch 43/100\n",
      "2018/2018 [==============================] - 4s 2ms/step - total_loss: 0.7424 - reconstruction_loss: 0.1933 - reconstruction_loss_num: 0.1531 - reconstruction_loss_cat: 0.0403 - kl_loss: 0.5481\n",
      "Epoch 44/100\n",
      "2018/2018 [==============================] - 4s 2ms/step - total_loss: 0.7361 - reconstruction_loss: 0.1918 - reconstruction_loss_num: 0.1530 - reconstruction_loss_cat: 0.0388 - kl_loss: 0.5469\n",
      "Epoch 45/100\n",
      "2018/2018 [==============================] - 4s 2ms/step - total_loss: 0.7398 - reconstruction_loss: 0.1945 - reconstruction_loss_num: 0.1529 - reconstruction_loss_cat: 0.0416 - kl_loss: 0.5458\n",
      "Epoch 46/100\n",
      "2018/2018 [==============================] - 4s 2ms/step - total_loss: 0.7400 - reconstruction_loss: 0.1925 - reconstruction_loss_num: 0.1527 - reconstruction_loss_cat: 0.0398 - kl_loss: 0.5479\n",
      "Epoch 47/100\n",
      "2018/2018 [==============================] - 4s 2ms/step - total_loss: 0.7394 - reconstruction_loss: 0.1926 - reconstruction_loss_num: 0.1529 - reconstruction_loss_cat: 0.0397 - kl_loss: 0.5461\n",
      "Epoch 48/100\n",
      "2018/2018 [==============================] - 4s 2ms/step - total_loss: 0.7398 - reconstruction_loss: 0.1927 - reconstruction_loss_num: 0.1527 - reconstruction_loss_cat: 0.0400 - kl_loss: 0.5458\n",
      "Epoch 49/100\n",
      "2018/2018 [==============================] - 4s 2ms/step - total_loss: 0.7385 - reconstruction_loss: 0.1934 - reconstruction_loss_num: 0.1531 - reconstruction_loss_cat: 0.0403 - kl_loss: 0.5469\n",
      "Epoch 50/100\n",
      "2018/2018 [==============================] - 5s 2ms/step - total_loss: 0.7387 - reconstruction_loss: 0.1924 - reconstruction_loss_num: 0.1520 - reconstruction_loss_cat: 0.0404 - kl_loss: 0.5458\n",
      "Epoch 51/100\n",
      "2018/2018 [==============================] - 5s 2ms/step - total_loss: 0.7373 - reconstruction_loss: 0.1916 - reconstruction_loss_num: 0.1516 - reconstruction_loss_cat: 0.0399 - kl_loss: 0.5463\n",
      "Epoch 52/100\n",
      "2018/2018 [==============================] - 5s 2ms/step - total_loss: 0.7402 - reconstruction_loss: 0.1931 - reconstruction_loss_num: 0.1514 - reconstruction_loss_cat: 0.0417 - kl_loss: 0.5468\n",
      "Epoch 53/100\n",
      "2018/2018 [==============================] - 5s 2ms/step - total_loss: 0.7394 - reconstruction_loss: 0.1918 - reconstruction_loss_num: 0.1516 - reconstruction_loss_cat: 0.0402 - kl_loss: 0.5483\n",
      "Epoch 54/100\n",
      "2018/2018 [==============================] - 5s 2ms/step - total_loss: 0.7371 - reconstruction_loss: 0.1926 - reconstruction_loss_num: 0.1511 - reconstruction_loss_cat: 0.0415 - kl_loss: 0.5464\n",
      "Epoch 55/100\n",
      "2018/2018 [==============================] - 5s 2ms/step - total_loss: 0.7402 - reconstruction_loss: 0.1921 - reconstruction_loss_num: 0.1515 - reconstruction_loss_cat: 0.0406 - kl_loss: 0.5473\n",
      "Epoch 56/100\n",
      "2018/2018 [==============================] - 5s 2ms/step - total_loss: 0.7373 - reconstruction_loss: 0.1918 - reconstruction_loss_num: 0.1517 - reconstruction_loss_cat: 0.0401 - kl_loss: 0.5443\n",
      "Epoch 57/100\n",
      "2018/2018 [==============================] - 5s 2ms/step - total_loss: 0.7393 - reconstruction_loss: 0.1920 - reconstruction_loss_num: 0.1509 - reconstruction_loss_cat: 0.0411 - kl_loss: 0.5460\n",
      "Epoch 58/100\n",
      "2018/2018 [==============================] - 5s 2ms/step - total_loss: 0.7356 - reconstruction_loss: 0.1919 - reconstruction_loss_num: 0.1511 - reconstruction_loss_cat: 0.0407 - kl_loss: 0.5464\n",
      "Epoch 59/100\n",
      "2018/2018 [==============================] - 5s 2ms/step - total_loss: 0.7344 - reconstruction_loss: 0.1912 - reconstruction_loss_num: 0.1511 - reconstruction_loss_cat: 0.0401 - kl_loss: 0.5446\n",
      "Epoch 60/100\n",
      "2018/2018 [==============================] - 5s 2ms/step - total_loss: 0.7357 - reconstruction_loss: 0.1913 - reconstruction_loss_num: 0.1516 - reconstruction_loss_cat: 0.0397 - kl_loss: 0.5437\n",
      "Epoch 61/100\n",
      "2018/2018 [==============================] - 5s 2ms/step - total_loss: 0.7353 - reconstruction_loss: 0.1907 - reconstruction_loss_num: 0.1506 - reconstruction_loss_cat: 0.0401 - kl_loss: 0.5454\n",
      "Epoch 62/100\n",
      "2018/2018 [==============================] - 5s 2ms/step - total_loss: 0.7366 - reconstruction_loss: 0.1902 - reconstruction_loss_num: 0.1510 - reconstruction_loss_cat: 0.0392 - kl_loss: 0.5447\n",
      "Epoch 63/100\n",
      "2018/2018 [==============================] - 5s 2ms/step - total_loss: 0.7381 - reconstruction_loss: 0.1903 - reconstruction_loss_num: 0.1506 - reconstruction_loss_cat: 0.0397 - kl_loss: 0.5466\n",
      "Epoch 64/100\n",
      "2018/2018 [==============================] - 5s 2ms/step - total_loss: 0.7366 - reconstruction_loss: 0.1913 - reconstruction_loss_num: 0.1512 - reconstruction_loss_cat: 0.0402 - kl_loss: 0.5451\n",
      "Epoch 65/100\n",
      "2018/2018 [==============================] - 5s 2ms/step - total_loss: 0.7360 - reconstruction_loss: 0.1920 - reconstruction_loss_num: 0.1510 - reconstruction_loss_cat: 0.0410 - kl_loss: 0.5462\n",
      "Epoch 66/100\n",
      "2018/2018 [==============================] - 5s 2ms/step - total_loss: 0.7352 - reconstruction_loss: 0.1927 - reconstruction_loss_num: 0.1521 - reconstruction_loss_cat: 0.0406 - kl_loss: 0.5429\n",
      "Epoch 67/100\n",
      "2018/2018 [==============================] - 5s 2ms/step - total_loss: 0.7351 - reconstruction_loss: 0.1923 - reconstruction_loss_num: 0.1523 - reconstruction_loss_cat: 0.0400 - kl_loss: 0.5436\n",
      "Epoch 68/100\n",
      "2018/2018 [==============================] - 5s 2ms/step - total_loss: 0.7374 - reconstruction_loss: 0.1927 - reconstruction_loss_num: 0.1529 - reconstruction_loss_cat: 0.0397 - kl_loss: 0.5435\n",
      "Epoch 69/100\n",
      "2018/2018 [==============================] - 5s 2ms/step - total_loss: 0.7344 - reconstruction_loss: 0.1907 - reconstruction_loss_num: 0.1514 - reconstruction_loss_cat: 0.0393 - kl_loss: 0.5453\n",
      "Epoch 70/100\n",
      "2018/2018 [==============================] - 5s 2ms/step - total_loss: 0.7357 - reconstruction_loss: 0.1918 - reconstruction_loss_num: 0.1513 - reconstruction_loss_cat: 0.0405 - kl_loss: 0.5456\n",
      "Epoch 71/100\n",
      "2018/2018 [==============================] - 5s 2ms/step - total_loss: 0.7368 - reconstruction_loss: 0.1912 - reconstruction_loss_num: 0.1514 - reconstruction_loss_cat: 0.0398 - kl_loss: 0.5449\n",
      "Epoch 72/100\n",
      "2018/2018 [==============================] - 5s 2ms/step - total_loss: 0.7339 - reconstruction_loss: 0.1905 - reconstruction_loss_num: 0.1510 - reconstruction_loss_cat: 0.0395 - kl_loss: 0.5445\n",
      "Epoch 73/100\n",
      "2018/2018 [==============================] - 5s 2ms/step - total_loss: 0.7337 - reconstruction_loss: 0.1899 - reconstruction_loss_num: 0.1505 - reconstruction_loss_cat: 0.0394 - kl_loss: 0.5444\n",
      "Epoch 74/100\n",
      "2018/2018 [==============================] - 5s 2ms/step - total_loss: 0.7338 - reconstruction_loss: 0.1900 - reconstruction_loss_num: 0.1507 - reconstruction_loss_cat: 0.0393 - kl_loss: 0.5444\n",
      "Epoch 75/100\n",
      "2018/2018 [==============================] - 5s 3ms/step - total_loss: 0.7350 - reconstruction_loss: 0.1911 - reconstruction_loss_num: 0.1502 - reconstruction_loss_cat: 0.0409 - kl_loss: 0.5433\n",
      "Epoch 76/100\n",
      "2018/2018 [==============================] - 5s 2ms/step - total_loss: 0.7345 - reconstruction_loss: 0.1881 - reconstruction_loss_num: 0.1493 - reconstruction_loss_cat: 0.0389 - kl_loss: 0.5465\n",
      "Epoch 77/100\n",
      "2018/2018 [==============================] - 5s 2ms/step - total_loss: 0.7345 - reconstruction_loss: 0.1897 - reconstruction_loss_num: 0.1496 - reconstruction_loss_cat: 0.0401 - kl_loss: 0.5450\n",
      "Epoch 78/100\n",
      "2018/2018 [==============================] - 5s 2ms/step - total_loss: 0.7312 - reconstruction_loss: 0.1895 - reconstruction_loss_num: 0.1504 - reconstruction_loss_cat: 0.0391 - kl_loss: 0.5442\n",
      "Epoch 79/100\n"
     ]
    },
    {
     "name": "stdout",
     "output_type": "stream",
     "text": [
      "2018/2018 [==============================] - 5s 2ms/step - total_loss: 0.7347 - reconstruction_loss: 0.1898 - reconstruction_loss_num: 0.1498 - reconstruction_loss_cat: 0.0400 - kl_loss: 0.5457\n",
      "Epoch 80/100\n",
      "2018/2018 [==============================] - 5s 2ms/step - total_loss: 0.7319 - reconstruction_loss: 0.1888 - reconstruction_loss_num: 0.1494 - reconstruction_loss_cat: 0.0393 - kl_loss: 0.5444\n",
      "Epoch 81/100\n",
      "2018/2018 [==============================] - 5s 2ms/step - total_loss: 0.7340 - reconstruction_loss: 0.1898 - reconstruction_loss_num: 0.1500 - reconstruction_loss_cat: 0.0398 - kl_loss: 0.5451\n",
      "Epoch 82/100\n",
      "2018/2018 [==============================] - 5s 2ms/step - total_loss: 0.7336 - reconstruction_loss: 0.1878 - reconstruction_loss_num: 0.1486 - reconstruction_loss_cat: 0.0392 - kl_loss: 0.5474\n",
      "Epoch 83/100\n",
      "2018/2018 [==============================] - 5s 2ms/step - total_loss: 0.7328 - reconstruction_loss: 0.1907 - reconstruction_loss_num: 0.1504 - reconstruction_loss_cat: 0.0403 - kl_loss: 0.5442\n",
      "Epoch 84/100\n",
      "2018/2018 [==============================] - 5s 2ms/step - total_loss: 0.7349 - reconstruction_loss: 0.1896 - reconstruction_loss_num: 0.1497 - reconstruction_loss_cat: 0.0399 - kl_loss: 0.5458\n",
      "Epoch 85/100\n",
      "2018/2018 [==============================] - 5s 2ms/step - total_loss: 0.7376 - reconstruction_loss: 0.1903 - reconstruction_loss_num: 0.1507 - reconstruction_loss_cat: 0.0395 - kl_loss: 0.5456\n",
      "Epoch 86/100\n",
      "2018/2018 [==============================] - 5s 2ms/step - total_loss: 0.7347 - reconstruction_loss: 0.1903 - reconstruction_loss_num: 0.1504 - reconstruction_loss_cat: 0.0399 - kl_loss: 0.5465\n",
      "Epoch 87/100\n",
      "2018/2018 [==============================] - 5s 2ms/step - total_loss: 0.7396 - reconstruction_loss: 0.1912 - reconstruction_loss_num: 0.1514 - reconstruction_loss_cat: 0.0399 - kl_loss: 0.5453\n",
      "Epoch 88/100\n",
      "2018/2018 [==============================] - 5s 2ms/step - total_loss: 0.7378 - reconstruction_loss: 0.1896 - reconstruction_loss_num: 0.1501 - reconstruction_loss_cat: 0.0395 - kl_loss: 0.5476\n",
      "Epoch 89/100\n",
      "2018/2018 [==============================] - 5s 2ms/step - total_loss: 0.7380 - reconstruction_loss: 0.1904 - reconstruction_loss_num: 0.1503 - reconstruction_loss_cat: 0.0401 - kl_loss: 0.5463\n",
      "Epoch 90/100\n",
      "2018/2018 [==============================] - 5s 2ms/step - total_loss: 0.7370 - reconstruction_loss: 0.1909 - reconstruction_loss_num: 0.1506 - reconstruction_loss_cat: 0.0403 - kl_loss: 0.5460\n",
      "Epoch 91/100\n",
      "2018/2018 [==============================] - 5s 2ms/step - total_loss: 0.7384 - reconstruction_loss: 0.1900 - reconstruction_loss_num: 0.1500 - reconstruction_loss_cat: 0.0401 - kl_loss: 0.5465\n",
      "Epoch 92/100\n",
      "2018/2018 [==============================] - 5s 2ms/step - total_loss: 0.7356 - reconstruction_loss: 0.1902 - reconstruction_loss_num: 0.1509 - reconstruction_loss_cat: 0.0394 - kl_loss: 0.5457\n",
      "Epoch 93/100\n",
      "2018/2018 [==============================] - 5s 2ms/step - total_loss: 0.7325 - reconstruction_loss: 0.1894 - reconstruction_loss_num: 0.1506 - reconstruction_loss_cat: 0.0388 - kl_loss: 0.5454\n",
      "Epoch 94/100\n",
      "2018/2018 [==============================] - 5s 2ms/step - total_loss: 0.7329 - reconstruction_loss: 0.1899 - reconstruction_loss_num: 0.1500 - reconstruction_loss_cat: 0.0398 - kl_loss: 0.5457\n",
      "Epoch 95/100\n",
      "2018/2018 [==============================] - 5s 2ms/step - total_loss: 0.7388 - reconstruction_loss: 0.1912 - reconstruction_loss_num: 0.1495 - reconstruction_loss_cat: 0.0416 - kl_loss: 0.5475\n",
      "Epoch 96/100\n",
      "2018/2018 [==============================] - 5s 2ms/step - total_loss: 0.7344 - reconstruction_loss: 0.1912 - reconstruction_loss_num: 0.1505 - reconstruction_loss_cat: 0.0407 - kl_loss: 0.5449\n",
      "Epoch 97/100\n",
      "2018/2018 [==============================] - 5s 2ms/step - total_loss: 0.7361 - reconstruction_loss: 0.1920 - reconstruction_loss_num: 0.1514 - reconstruction_loss_cat: 0.0407 - kl_loss: 0.5435\n",
      "Epoch 98/100\n",
      "2018/2018 [==============================] - 5s 2ms/step - total_loss: 0.7373 - reconstruction_loss: 0.1931 - reconstruction_loss_num: 0.1519 - reconstruction_loss_cat: 0.0411 - kl_loss: 0.5436\n",
      "Epoch 99/100\n",
      "2018/2018 [==============================] - 5s 2ms/step - total_loss: 0.7356 - reconstruction_loss: 0.1915 - reconstruction_loss_num: 0.1512 - reconstruction_loss_cat: 0.0403 - kl_loss: 0.5441\n",
      "Epoch 100/100\n",
      "2018/2018 [==============================] - 5s 2ms/step - total_loss: 0.7340 - reconstruction_loss: 0.1911 - reconstruction_loss_num: 0.1513 - reconstruction_loss_cat: 0.0398 - kl_loss: 0.5438\n"
     ]
    }
   ],
   "source": [
    "# Train\n",
    "vae = VAE(encoder, decoder, CAT_IDX, CAT_LENGTHS)\n",
    "vae.compile(optimizer=keras.optimizers.RMSprop(learning_rate=LEARN_RATE, rho=RHO))\n",
    "history = vae.fit(train_data, epochs=EPOCHS, batch_size=BATCH_SIZE) #add callbacks=[callback] if debugging needed"
   ]
  },
  {
   "cell_type": "code",
   "execution_count": 14,
   "metadata": {},
   "outputs": [
    {
     "data": {
      "image/png": "[encoded data removed]",
      "text/plain": [
       "<Figure size 432x288 with 1 Axes>"
      ]
     },
     "metadata": {
      "needs_background": "light"
     },
     "output_type": "display_data"
    }
   ],
   "source": [
    "# Plot model loss/training progress\n",
    "plt.plot(history.history['total_loss'])\n",
    "plt.plot(history.history['reconstruction_loss_num'])\n",
    "plt.plot(history.history['reconstruction_loss_cat'])\n",
    "plt.plot(history.history['kl_loss'])\n",
    "plt.title(\"Training History\")\n",
    "plt.ylabel(\"Loss\")\n",
    "plt.xlabel(\"Epoch\")\n",
    "plt.legend([\"total\",\"rec_num\",\"rec_cat\",\"kl\"], loc=\"upper right\")\n",
    "plt.show()"
   ]
  },
  {
   "cell_type": "markdown",
   "metadata": {},
   "source": [
    "## Testing"
   ]
  },
  {
   "cell_type": "code",
   "execution_count": 15,
   "metadata": {},
   "outputs": [
    {
     "name": "stdout",
     "output_type": "stream",
     "text": [
      "Latent Variable: 0\n",
      "Mean: -0.010262775234878063\n",
      "Variance: 2.078308582305908\n",
      "\n"
     ]
    },
    {
     "data": {
      "image/png": "[encoded data removed]",
      "text/plain": [
       "<Figure size 432x288 with 1 Axes>"
      ]
     },
     "metadata": {
      "needs_background": "light"
     },
     "output_type": "display_data"
    },
    {
     "name": "stdout",
     "output_type": "stream",
     "text": [
      "Latent Variable: 1\n",
      "Mean: -0.016896111890673637\n",
      "Variance: 1.6647472381591797\n",
      "\n"
     ]
    },
    {
     "data": {
      "image/png": "[encoded data removed]",
      "text/plain": [
       "<Figure size 432x288 with 1 Axes>"
      ]
     },
     "metadata": {
      "needs_background": "light"
     },
     "output_type": "display_data"
    },
    {
     "name": "stdout",
     "output_type": "stream",
     "text": [
      "Latent Variable: 2\n",
      "Mean: -0.02865908294916153\n",
      "Variance: 1.1999683380126953\n",
      "\n"
     ]
    },
    {
     "data": {
      "image/png": "[encoded data removed]",
      "text/plain": [
       "<Figure size 432x288 with 1 Axes>"
      ]
     },
     "metadata": {
      "needs_background": "light"
     },
     "output_type": "display_data"
    },
    {
     "name": "stdout",
     "output_type": "stream",
     "text": [
      "Latent Variable: 3\n",
      "Mean: -0.00474289758130908\n",
      "Variance: 1.1453921794891357\n",
      "\n"
     ]
    },
    {
     "data": {
      "image/png": "[encoded data removed]",
      "text/plain": [
       "<Figure size 432x288 with 1 Axes>"
      ]
     },
     "metadata": {
      "needs_background": "light"
     },
     "output_type": "display_data"
    },
    {
     "name": "stdout",
     "output_type": "stream",
     "text": [
      "Latent Variable: 4\n",
      "Mean: 0.013821250759065151\n",
      "Variance: 1.1481074094772339\n",
      "\n"
     ]
    },
    {
     "data": {
      "image/png": "[encoded data removed]",
      "text/plain": [
       "<Figure size 432x288 with 1 Axes>"
      ]
     },
     "metadata": {
      "needs_background": "light"
     },
     "output_type": "display_data"
    }
   ],
   "source": [
    "# Get latent vars from the encoder; feed to decoder and get sampled manifest variables\n",
    "z_mean, z_logvar, z = vae.encoder.predict(test_data[:,:MANIFEST_DIM])\n",
    "\n",
    "# Record the posterior trained distributions for z\n",
    "latent_means = []\n",
    "latent_vars = []\n",
    "\n",
    "# Determine the average values for the mean/logvariance of the latent variables\n",
    "for i in range(0, LATENT_DIM):\n",
    "    epsilon = np.random.normal(loc=0, scale=1, size=1000)\n",
    "    avg_mean = np.mean(z_mean[:,i])\n",
    "    latent_means.append(avg_mean)\n",
    "    avg_var = np.exp(np.mean(z_logvar[:,i]))\n",
    "    latent_vars.append(avg_var)\n",
    "    print(f\"Latent Variable: {i}\")\n",
    "    print(f\"Mean: {avg_mean}\")\n",
    "    print(f\"Variance: {np.exp(avg_var)}\\n\")\n",
    "    samples = avg_mean + (avg_var * epsilon)\n",
    "    plt.hist(samples, bins=50)\n",
    "    plt.show()"
   ]
  },
  {
   "cell_type": "code",
   "execution_count": 16,
   "metadata": {},
   "outputs": [
    {
     "name": "stdout",
     "output_type": "stream",
     "text": [
      "Numerical Variable Loss: 0.16570168733596802\n",
      "Categorical Variable Loss: 0.04177572578191757\n"
     ]
    }
   ],
   "source": [
    "# Draw predictions from test data\n",
    "results = vae.predict(test_data)\n",
    "loss_num, loss_cat = get_reconstruction_loss(test_data, results, CAT_IDX, CAT_LENGTHS)\n",
    "print(f\"Numerical Variable Loss: {loss_num}\")\n",
    "print(f\"Categorical Variable Loss: {loss_cat}\")"
   ]
  },
  {
   "cell_type": "code",
   "execution_count": 17,
   "metadata": {},
   "outputs": [],
   "source": [
    "# Transform numeric results back to real variable values\n",
    "results_num = scaler_pers.inverse_transform(results[0])\n",
    "results_df = pd.DataFrame(results_num)\n",
    "\n",
    "# Transform categorical results back to real variable values\n",
    "for x in results[1]:\n",
    "    result = np.argmax(x, axis=1) + 1\n",
    "    results_df[f\"{x}\"] = result\n",
    "\n",
    "# Add back original variables names to the results\n",
    "results_df.columns = VAR_NAMES"
   ]
  },
  {
   "cell_type": "code",
   "execution_count": 18,
   "metadata": {},
   "outputs": [],
   "source": [
    "# Transform numeric test data back to real variable values\n",
    "test_data_num = scaler_pers.inverse_transform(test_data[:,:CAT_IDX])\n",
    "test_data_df = pd.DataFrame(test_data_num)\n",
    "\n",
    "# Transform categorical test data back to real variable values\n",
    "current = CAT_IDX\n",
    "for x in CAT_LENGTHS:\n",
    "    test_data_cat = test_data[:,current:(current + x)]\n",
    "    test_data_cat = np.argmax(test_data_cat, axis=1) + 1\n",
    "    test_data_df[f\"{x}\"] = test_data_cat\n",
    "    current += x\n",
    "\n",
    "# Add back original variables names to the test data\n",
    "test_data_df.columns = VAR_NAMES"
   ]
  },
  {
   "cell_type": "code",
   "execution_count": 19,
   "metadata": {},
   "outputs": [
    {
     "data": {
      "image/png": "[encoded data removed]",
      "text/plain": [
       "<Figure size 432x288 with 1 Axes>"
      ]
     },
     "metadata": {
      "needs_background": "light"
     },
     "output_type": "display_data"
    },
    {
     "data": {
      "image/png": "[encoded data removed]",
      "text/plain": [
       "<Figure size 432x288 with 1 Axes>"
      ]
     },
     "metadata": {
      "needs_background": "light"
     },
     "output_type": "display_data"
    },
    {
     "data": {
      "image/png": "[encoded data removed]",
      "text/plain": [
       "<Figure size 432x288 with 1 Axes>"
      ]
     },
     "metadata": {
      "needs_background": "light"
     },
     "output_type": "display_data"
    },
    {
     "data": {
      "image/png": "[encoded data removed]",
      "text/plain": [
       "<Figure size 432x288 with 1 Axes>"
      ]
     },
     "metadata": {
      "needs_background": "light"
     },
     "output_type": "display_data"
    },
    {
     "data": {
      "image/png": "[encoded data removed]",
      "text/plain": [
       "<Figure size 432x288 with 1 Axes>"
      ]
     },
     "metadata": {
      "needs_background": "light"
     },
     "output_type": "display_data"
    },
    {
     "data": {
      "image/png": "[encoded data removed]",
      "text/plain": [
       "<Figure size 432x288 with 1 Axes>"
      ]
     },
     "metadata": {
      "needs_background": "light"
     },
     "output_type": "display_data"
    },
    {
     "data": {
      "image/png": "[encoded data removed]",
      "text/plain": [
       "<Figure size 432x288 with 1 Axes>"
      ]
     },
     "metadata": {
      "needs_background": "light"
     },
     "output_type": "display_data"
    },
    {
     "data": {
      "image/png": "[encoded data removed]",
      "text/plain": [
       "<Figure size 432x288 with 1 Axes>"
      ]
     },
     "metadata": {
      "needs_background": "light"
     },
     "output_type": "display_data"
    },
    {
     "data": {
      "image/png": "[encoded data removed]",
      "text/plain": [
       "<Figure size 432x288 with 1 Axes>"
      ]
     },
     "metadata": {
      "needs_background": "light"
     },
     "output_type": "display_data"
    },
    {
     "data": {
      "image/png": "[encoded data removed]",
      "text/plain": [
       "<Figure size 432x288 with 1 Axes>"
      ]
     },
     "metadata": {
      "needs_background": "light"
     },
     "output_type": "display_data"
    }
   ],
   "source": [
    "# Show distributions of the resulting numerical variables\n",
    "for col_idx in range(0, CAT_IDX):\n",
    "    results_data_plt = results_df.iloc[:,col_idx]\n",
    "    test_data_plt = test_data_df.iloc[:,col_idx]\n",
    "\n",
    "    plt.hist(results_data_plt, bins=100)\n",
    "    plt.xlim(min(test_data_plt),max(test_data_plt))\n",
    "    plt.title(f\"var {col_idx} - reconstructed distribution\")\n",
    "    plt.show()\n",
    "\n",
    "    plt.hist(test_data_plt, bins=100)\n",
    "    plt.xlim(min(test_data_plt),max(test_data_plt))\n",
    "    plt.title(f\"var {col_idx} - prior distribution\")\n",
    "    plt.show()"
   ]
  },
  {
   "cell_type": "code",
   "execution_count": 20,
   "metadata": {},
   "outputs": [
    {
     "data": {
      "image/png": "[encoded data removed]",
      "text/plain": [
       "<Figure size 432x288 with 1 Axes>"
      ]
     },
     "metadata": {
      "needs_background": "light"
     },
     "output_type": "display_data"
    },
    {
     "data": {
      "image/png": "[encoded data removed]",
      "text/plain": [
       "<Figure size 432x288 with 1 Axes>"
      ]
     },
     "metadata": {
      "needs_background": "light"
     },
     "output_type": "display_data"
    },
    {
     "data": {
      "image/png": "[encoded data removed]",
      "text/plain": [
       "<Figure size 432x288 with 1 Axes>"
      ]
     },
     "metadata": {
      "needs_background": "light"
     },
     "output_type": "display_data"
    },
    {
     "data": {
      "image/png": "[encoded data removed]",
      "text/plain": [
       "<Figure size 432x288 with 1 Axes>"
      ]
     },
     "metadata": {
      "needs_background": "light"
     },
     "output_type": "display_data"
    },
    {
     "data": {
      "image/png": "[encoded data removed]",
      "text/plain": [
       "<Figure size 432x288 with 1 Axes>"
      ]
     },
     "metadata": {
      "needs_background": "light"
     },
     "output_type": "display_data"
    },
    {
     "data": {
      "image/png": "[encoded data removed]",
      "text/plain": [
       "<Figure size 432x288 with 1 Axes>"
      ]
     },
     "metadata": {
      "needs_background": "light"
     },
     "output_type": "display_data"
    },
    {
     "data": {
      "image/png": "[encoded data removed]",
      "text/plain": [
       "<Figure size 432x288 with 1 Axes>"
      ]
     },
     "metadata": {
      "needs_background": "light"
     },
     "output_type": "display_data"
    },
    {
     "data": {
      "image/png": "[encoded data removed]",
      "text/plain": [
       "<Figure size 432x288 with 1 Axes>"
      ]
     },
     "metadata": {
      "needs_background": "light"
     },
     "output_type": "display_data"
    },
    {
     "data": {
      "image/png": "[encoded data removed]",
      "text/plain": [
       "<Figure size 432x288 with 1 Axes>"
      ]
     },
     "metadata": {
      "needs_background": "light"
     },
     "output_type": "display_data"
    },
    {
     "data": {
      "image/png": "[encoded data removed]",
      "text/plain": [
       "<Figure size 432x288 with 1 Axes>"
      ]
     },
     "metadata": {
      "needs_background": "light"
     },
     "output_type": "display_data"
    }
   ],
   "source": [
    "# Show distributions of the resulting categorical variables\n",
    "for col_idx in range(CAT_IDX, VAR_DIM):\n",
    "    results_data_plt = results_df.iloc[:,col_idx]\n",
    "    test_data_plt = test_data_df.iloc[:,col_idx]\n",
    "    \n",
    "    plt.hist(results_data_plt)\n",
    "    plt.xlim(min(test_data_plt),max(test_data_plt))\n",
    "    plt.title(f\"var {col_idx} - reconstructed distribution\")\n",
    "    plt.show()\n",
    "    \n",
    "    plt.hist(test_data_plt)\n",
    "    plt.xlim(min(test_data_plt),max(test_data_plt))\n",
    "    plt.title(f\"var {col_idx} - prior distribution\")\n",
    "    plt.show()"
   ]
  },
  {
   "cell_type": "markdown",
   "metadata": {},
   "source": [
    "## Generating Synthetic Population"
   ]
  },
  {
   "cell_type": "code",
   "execution_count": 39,
   "metadata": {},
   "outputs": [],
   "source": [
    "# Use list of households from the test data (in future can be generated with separate vae)\n",
    "x = pd.DataFrame(test_data[:,MANIFEST_DIM:]).reset_index(drop=True) # Scaled hh_input values\n",
    "y = model_data_df.iloc[train_idx:][['NP']].reset_index(drop=True) # Unscaled number of persons value\n",
    "z = pd.concat([x,y],axis=1)\n",
    "z.columns = ['HINCP','NP','VEH','SIZE']\n",
    "\n",
    "# Multiply the inputs by the number of persons per household (hh of size 3 becomes 3 rows with same scaled hh inputs)\n",
    "z = z.reindex(z.index.repeat(z['SIZE']))\n",
    "z = z[['HINCP','NP','VEH']].values\n",
    "\n",
    "# Generate random normal sample to represent each latent variable, for each row (different person per row)\n",
    "epsilon = np.random.normal(loc=0, scale=1, size=(len(z), LATENT_DIM))\n",
    "inputs = np.concatenate((epsilon, z), axis=-1)\n",
    "\n",
    "# Generate persons; each person has unique latent input, plus shared hh inputs with their household\n",
    "results = vae.decoder.predict(inputs)"
   ]
  },
  {
   "cell_type": "code",
   "execution_count": 40,
   "metadata": {},
   "outputs": [
    {
     "data": {
      "text/html": [
       "<div>\n",
       "<style scoped>\n",
       "    .dataframe tbody tr th:only-of-type {\n",
       "        vertical-align: middle;\n",
       "    }\n",
       "\n",
       "    .dataframe tbody tr th {\n",
       "        vertical-align: top;\n",
       "    }\n",
       "\n",
       "    .dataframe thead th {\n",
       "        text-align: right;\n",
       "    }\n",
       "</style>\n",
       "<table border=\"1\" class=\"dataframe\">\n",
       "  <thead>\n",
       "    <tr style=\"text-align: right;\">\n",
       "      <th></th>\n",
       "      <th>AGEP</th>\n",
       "      <th>JWMNP</th>\n",
       "      <th>SCHL</th>\n",
       "      <th>PINCP</th>\n",
       "      <th>HINCP</th>\n",
       "      <th>COW</th>\n",
       "      <th>SEX</th>\n",
       "      <th>MAR</th>\n",
       "      <th>NP</th>\n",
       "      <th>VEH</th>\n",
       "    </tr>\n",
       "  </thead>\n",
       "  <tbody>\n",
       "    <tr>\n",
       "      <th>0</th>\n",
       "      <td>22.184366</td>\n",
       "      <td>12.563094</td>\n",
       "      <td>19.289490</td>\n",
       "      <td>25819.523438</td>\n",
       "      <td>206687.687500</td>\n",
       "      <td>1</td>\n",
       "      <td>1</td>\n",
       "      <td>5</td>\n",
       "      <td>6</td>\n",
       "      <td>6</td>\n",
       "    </tr>\n",
       "    <tr>\n",
       "      <th>1</th>\n",
       "      <td>25.869242</td>\n",
       "      <td>23.392912</td>\n",
       "      <td>18.471260</td>\n",
       "      <td>28489.958984</td>\n",
       "      <td>215014.843750</td>\n",
       "      <td>4</td>\n",
       "      <td>2</td>\n",
       "      <td>5</td>\n",
       "      <td>6</td>\n",
       "      <td>6</td>\n",
       "    </tr>\n",
       "    <tr>\n",
       "      <th>2</th>\n",
       "      <td>20.912548</td>\n",
       "      <td>55.934784</td>\n",
       "      <td>15.378498</td>\n",
       "      <td>11624.859375</td>\n",
       "      <td>188252.703125</td>\n",
       "      <td>1</td>\n",
       "      <td>2</td>\n",
       "      <td>5</td>\n",
       "      <td>6</td>\n",
       "      <td>6</td>\n",
       "    </tr>\n",
       "    <tr>\n",
       "      <th>3</th>\n",
       "      <td>35.682243</td>\n",
       "      <td>54.824001</td>\n",
       "      <td>17.041529</td>\n",
       "      <td>65325.105469</td>\n",
       "      <td>203596.234375</td>\n",
       "      <td>1</td>\n",
       "      <td>1</td>\n",
       "      <td>1</td>\n",
       "      <td>6</td>\n",
       "      <td>6</td>\n",
       "    </tr>\n",
       "    <tr>\n",
       "      <th>4</th>\n",
       "      <td>29.951828</td>\n",
       "      <td>13.869515</td>\n",
       "      <td>15.168503</td>\n",
       "      <td>33805.050781</td>\n",
       "      <td>191068.593750</td>\n",
       "      <td>1</td>\n",
       "      <td>2</td>\n",
       "      <td>1</td>\n",
       "      <td>6</td>\n",
       "      <td>6</td>\n",
       "    </tr>\n",
       "    <tr>\n",
       "      <th>...</th>\n",
       "      <td>...</td>\n",
       "      <td>...</td>\n",
       "      <td>...</td>\n",
       "      <td>...</td>\n",
       "      <td>...</td>\n",
       "      <td>...</td>\n",
       "      <td>...</td>\n",
       "      <td>...</td>\n",
       "      <td>...</td>\n",
       "      <td>...</td>\n",
       "    </tr>\n",
       "    <tr>\n",
       "      <th>43882</th>\n",
       "      <td>18.885315</td>\n",
       "      <td>22.078432</td>\n",
       "      <td>17.174356</td>\n",
       "      <td>10209.855469</td>\n",
       "      <td>102963.539062</td>\n",
       "      <td>1</td>\n",
       "      <td>2</td>\n",
       "      <td>5</td>\n",
       "      <td>3</td>\n",
       "      <td>5</td>\n",
       "    </tr>\n",
       "    <tr>\n",
       "      <th>43883</th>\n",
       "      <td>58.175762</td>\n",
       "      <td>81.087608</td>\n",
       "      <td>1.133883</td>\n",
       "      <td>53472.117188</td>\n",
       "      <td>100725.359375</td>\n",
       "      <td>1</td>\n",
       "      <td>1</td>\n",
       "      <td>1</td>\n",
       "      <td>2</td>\n",
       "      <td>5</td>\n",
       "    </tr>\n",
       "    <tr>\n",
       "      <th>43884</th>\n",
       "      <td>45.574383</td>\n",
       "      <td>7.921501</td>\n",
       "      <td>18.185543</td>\n",
       "      <td>52012.449219</td>\n",
       "      <td>105728.117188</td>\n",
       "      <td>4</td>\n",
       "      <td>1</td>\n",
       "      <td>1</td>\n",
       "      <td>3</td>\n",
       "      <td>5</td>\n",
       "    </tr>\n",
       "    <tr>\n",
       "      <th>43885</th>\n",
       "      <td>49.986221</td>\n",
       "      <td>16.393793</td>\n",
       "      <td>19.819967</td>\n",
       "      <td>66279.070312</td>\n",
       "      <td>103162.421875</td>\n",
       "      <td>1</td>\n",
       "      <td>1</td>\n",
       "      <td>1</td>\n",
       "      <td>3</td>\n",
       "      <td>5</td>\n",
       "    </tr>\n",
       "    <tr>\n",
       "      <th>43886</th>\n",
       "      <td>59.989185</td>\n",
       "      <td>80.672005</td>\n",
       "      <td>20.678503</td>\n",
       "      <td>51898.316406</td>\n",
       "      <td>104290.789062</td>\n",
       "      <td>4</td>\n",
       "      <td>2</td>\n",
       "      <td>1</td>\n",
       "      <td>3</td>\n",
       "      <td>5</td>\n",
       "    </tr>\n",
       "  </tbody>\n",
       "</table>\n",
       "<p>43887 rows × 10 columns</p>\n",
       "</div>"
      ],
      "text/plain": [
       "            AGEP      JWMNP       SCHL         PINCP          HINCP  COW  SEX  \\\n",
       "0      22.184366  12.563094  19.289490  25819.523438  206687.687500    1    1   \n",
       "1      25.869242  23.392912  18.471260  28489.958984  215014.843750    4    2   \n",
       "2      20.912548  55.934784  15.378498  11624.859375  188252.703125    1    2   \n",
       "3      35.682243  54.824001  17.041529  65325.105469  203596.234375    1    1   \n",
       "4      29.951828  13.869515  15.168503  33805.050781  191068.593750    1    2   \n",
       "...          ...        ...        ...           ...            ...  ...  ...   \n",
       "43882  18.885315  22.078432  17.174356  10209.855469  102963.539062    1    2   \n",
       "43883  58.175762  81.087608   1.133883  53472.117188  100725.359375    1    1   \n",
       "43884  45.574383   7.921501  18.185543  52012.449219  105728.117188    4    1   \n",
       "43885  49.986221  16.393793  19.819967  66279.070312  103162.421875    1    1   \n",
       "43886  59.989185  80.672005  20.678503  51898.316406  104290.789062    4    2   \n",
       "\n",
       "       MAR  NP  VEH  \n",
       "0        5   6    6  \n",
       "1        5   6    6  \n",
       "2        5   6    6  \n",
       "3        1   6    6  \n",
       "4        1   6    6  \n",
       "...    ...  ..  ...  \n",
       "43882    5   3    5  \n",
       "43883    1   2    5  \n",
       "43884    1   3    5  \n",
       "43885    1   3    5  \n",
       "43886    1   3    5  \n",
       "\n",
       "[43887 rows x 10 columns]"
      ]
     },
     "execution_count": 40,
     "metadata": {},
     "output_type": "execute_result"
    }
   ],
   "source": [
    "# Transform numeric results back to real variable values\n",
    "results_num = scaler_pers.inverse_transform(results[0])\n",
    "results_df = pd.DataFrame(results_num)\n",
    "\n",
    "# Transform categorical results back to real variable values\n",
    "for x in results[1]:\n",
    "    result = np.argmax(x, axis=1) + 1\n",
    "    results_df[f\"{x}\"] = result\n",
    "\n",
    "# Add back original variables names to the results\n",
    "results_df.columns = VAR_NAMES\n",
    "results_df"
   ]
  },
  {
   "cell_type": "code",
   "execution_count": 41,
   "metadata": {},
   "outputs": [
    {
     "data": {
      "image/png": "[encoded data removed]",
      "text/plain": [
       "<Figure size 432x288 with 1 Axes>"
      ]
     },
     "metadata": {
      "needs_background": "light"
     },
     "output_type": "display_data"
    },
    {
     "data": {
      "image/png": "[encoded data removed]",
      "text/plain": [
       "<Figure size 432x288 with 1 Axes>"
      ]
     },
     "metadata": {
      "needs_background": "light"
     },
     "output_type": "display_data"
    },
    {
     "data": {
      "image/png": "[encoded data removed]",
      "text/plain": [
       "<Figure size 432x288 with 1 Axes>"
      ]
     },
     "metadata": {
      "needs_background": "light"
     },
     "output_type": "display_data"
    },
    {
     "data": {
      "image/png": "[encoded data removed]",
      "text/plain": [
       "<Figure size 432x288 with 1 Axes>"
      ]
     },
     "metadata": {
      "needs_background": "light"
     },
     "output_type": "display_data"
    },
    {
     "data": {
      "image/png": "[encoded data removed]",
      "text/plain": [
       "<Figure size 432x288 with 1 Axes>"
      ]
     },
     "metadata": {
      "needs_background": "light"
     },
     "output_type": "display_data"
    },
    {
     "data": {
      "image/png": "[encoded data removed]",
      "text/plain": [
       "<Figure size 432x288 with 1 Axes>"
      ]
     },
     "metadata": {
      "needs_background": "light"
     },
     "output_type": "display_data"
    },
    {
     "data": {
      "image/png": "[encoded data removed]",
      "text/plain": [
       "<Figure size 432x288 with 1 Axes>"
      ]
     },
     "metadata": {
      "needs_background": "light"
     },
     "output_type": "display_data"
    },
    {
     "data": {
      "image/png": "[encoded data removed]",
      "text/plain": [
       "<Figure size 432x288 with 1 Axes>"
      ]
     },
     "metadata": {
      "needs_background": "light"
     },
     "output_type": "display_data"
    },
    {
     "data": {
      "image/png": "[encoded data removed]",
      "text/plain": [
       "<Figure size 432x288 with 1 Axes>"
      ]
     },
     "metadata": {
      "needs_background": "light"
     },
     "output_type": "display_data"
    },
    {
     "data": {
      "image/png": "[encoded data removed]",
      "text/plain": [
       "<Figure size 432x288 with 1 Axes>"
      ]
     },
     "metadata": {
      "needs_background": "light"
     },
     "output_type": "display_data"
    }
   ],
   "source": [
    "# Show distributions of the resulting numerical variables\n",
    "for col_idx in range(0, CAT_IDX):\n",
    "    results_data_plt = results_df.iloc[:,col_idx]\n",
    "    test_data_plt = test_data_df.iloc[:,col_idx]\n",
    "\n",
    "    plt.hist(results_data_plt, bins=100)\n",
    "    plt.xlim(min(test_data_plt),max(test_data_plt))\n",
    "    plt.title(f\"var {col_idx} - reconstructed distribution\")\n",
    "    plt.show()\n",
    "\n",
    "    plt.hist(test_data_plt, bins=100)\n",
    "    plt.xlim(min(test_data_plt),max(test_data_plt))\n",
    "    plt.title(f\"var {col_idx} - prior distribution\")\n",
    "    plt.show()"
   ]
  },
  {
   "cell_type": "code",
   "execution_count": 42,
   "metadata": {},
   "outputs": [
    {
     "data": {
      "image/png": "[encoded data removed]",
      "text/plain": [
       "<Figure size 432x288 with 1 Axes>"
      ]
     },
     "metadata": {
      "needs_background": "light"
     },
     "output_type": "display_data"
    },
    {
     "data": {
      "image/png": "[encoded data removed]",
      "text/plain": [
       "<Figure size 432x288 with 1 Axes>"
      ]
     },
     "metadata": {
      "needs_background": "light"
     },
     "output_type": "display_data"
    },
    {
     "data": {
      "image/png": "[encoded data removed]",
      "text/plain": [
       "<Figure size 432x288 with 1 Axes>"
      ]
     },
     "metadata": {
      "needs_background": "light"
     },
     "output_type": "display_data"
    },
    {
     "data": {
      "image/png": "[encoded data removed]",
      "text/plain": [
       "<Figure size 432x288 with 1 Axes>"
      ]
     },
     "metadata": {
      "needs_background": "light"
     },
     "output_type": "display_data"
    },
    {
     "data": {
      "image/png": "[encoded data removed]",
      "text/plain": [
       "<Figure size 432x288 with 1 Axes>"
      ]
     },
     "metadata": {
      "needs_background": "light"
     },
     "output_type": "display_data"
    },
    {
     "data": {
      "image/png": "[encoded data removed]",
      "text/plain": [
       "<Figure size 432x288 with 1 Axes>"
      ]
     },
     "metadata": {
      "needs_background": "light"
     },
     "output_type": "display_data"
    },
    {
     "data": {
      "image/png": "[encoded data removed]",
      "text/plain": [
       "<Figure size 432x288 with 1 Axes>"
      ]
     },
     "metadata": {
      "needs_background": "light"
     },
     "output_type": "display_data"
    },
    {
     "data": {
      "image/png": "[encoded data removed]",
      "text/plain": [
       "<Figure size 432x288 with 1 Axes>"
      ]
     },
     "metadata": {
      "needs_background": "light"
     },
     "output_type": "display_data"
    },
    {
     "data": {
      "image/png": "[encoded data removed]",
      "text/plain": [
       "<Figure size 432x288 with 1 Axes>"
      ]
     },
     "metadata": {
      "needs_background": "light"
     },
     "output_type": "display_data"
    },
    {
     "data": {
      "image/png": "[encoded data removed]",
      "text/plain": [
       "<Figure size 432x288 with 1 Axes>"
      ]
     },
     "metadata": {
      "needs_background": "light"
     },
     "output_type": "display_data"
    }
   ],
   "source": [
    "# Show distributions of the resulting categorical variables\n",
    "for col_idx in range(CAT_IDX, VAR_DIM):\n",
    "    results_data_plt = results_df.iloc[:,col_idx]\n",
    "    test_data_plt = test_data_df.iloc[:,col_idx]\n",
    "    \n",
    "    plt.hist(results_data_plt)\n",
    "    plt.xlim(min(test_data_plt),max(test_data_plt))\n",
    "    plt.title(f\"var {col_idx} - reconstructed distribution\")\n",
    "    plt.show()\n",
    "    \n",
    "    plt.hist(test_data_plt)\n",
    "    plt.xlim(min(test_data_plt),max(test_data_plt))\n",
    "    plt.title(f\"var {col_idx} - prior distribution\")\n",
    "    plt.show()"
   ]
  }
 ],
 "metadata": {
  "kernelspec": {
   "display_name": "Python 3",
   "language": "python",
   "name": "python3"
  },
  "language_info": {
   "codemirror_mode": {
    "name": "ipython",
    "version": 3
   },
   "file_extension": ".py",
   "mimetype": "text/x-python",
   "name": "python",
   "nbconvert_exporter": "python",
   "pygments_lexer": "ipython3",
   "version": "3.8.3"
  }
 },
 "nbformat": 4,
 "nbformat_minor": 4
}
